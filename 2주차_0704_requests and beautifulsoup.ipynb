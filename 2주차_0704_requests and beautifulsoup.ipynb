{
 "cells": [
  {
   "cell_type": "markdown",
   "id": "4d0713e1",
   "metadata": {},
   "source": [
    "# Requests and BeautifulSoup"
   ]
  },
  {
   "cell_type": "markdown",
   "id": "195fdd80",
   "metadata": {},
   "source": [
    "- requests로 데이터를 요청 후 BeautifulSoup으로 파싱"
   ]
  },
  {
   "cell_type": "code",
   "execution_count": 5,
   "id": "82a4e7ae",
   "metadata": {},
   "outputs": [],
   "source": [
    "from IPython.display import Image"
   ]
  },
  {
   "cell_type": "code",
   "execution_count": 6,
   "id": "c9c1d5f2",
   "metadata": {},
   "outputs": [],
   "source": [
    "import requests\n",
    "from bs4 import BeautifulSoup"
   ]
  },
  {
   "cell_type": "code",
   "execution_count": 7,
   "id": "247a21ac",
   "metadata": {},
   "outputs": [],
   "source": [
    "res = requests.get(\"https://www.naver.com/\")"
   ]
  },
  {
   "cell_type": "code",
   "execution_count": 8,
   "id": "22df83b6",
   "metadata": {},
   "outputs": [
    {
     "data": {
      "text/plain": [
       "'\\n<!doctype html>                          <html lang=\"ko\" data-dark=\"false\"> <head> <meta charset=\"utf-8\"> <title>NAVER</title> <meta http-equiv=\"X-UA-Compatible\" content=\"IE=edge\"> <meta name=\"viewport\" content=\"width=1190\"> <meta name=\"apple-mobile-web-app-title\" content=\"NAVER\"/> <meta name=\"robots\" content=\"index,nofollow\"/> <meta name=\"description\" content=\"네이버 메인에서 다양한 정보와 유용한 컨텐츠를 만나 보세요\"/> <meta property=\"og:title\" content=\"네이버\"> <meta property=\"og:url\" content=\"https://www.naver.com/\"> <meta property=\"og:image\" content=\"https://s.pstatic.net/static/www/mobile/edit/2016/0705/mobile_212852414260.png\"> <meta property=\"og:description\" content=\"네이버 메인에서 다양한 정보와 유용한 컨텐츠를 만나 보세요\"/> <meta name=\"twitter:card\" content=\"summary\"> <meta name=\"twitter:title\" content=\"\"> <meta name=\"twitter:url\" content=\"https://www.naver.com/\"> <meta name=\"twitter:image\" content=\"https://s.pstatic.net/static/www/mobile/edit/2016/0705/mobile_212852414260.png\"> <meta name=\"twitter:description\" content=\"네이버 메인에서 다양한 정보와 유용한 컨텐츠를 만나 보세요\"/>  <link rel=\"stylesheet\" href=\"https://pm.pstatic.net/dist/css/nmain.20220526.css\"> <link rel=\"stylesheet\" href=\"https://ssl.pstatic.net/sstatic/search/pc/css/sp_autocomplete_220526.css\"> <link rel=\"shortcut icon\" type=\"image/x-icon\" href=\"/favicon.ico?1\"/>  <link rel=\"apple-touch-icon\" sizes=\"114x114\" href=\"https://s.pstatic.net/static/www/u/2014/0328/mma_204243574.png\"/> <link rel=\"apple-touch-icon\" href=\"https://s.pstatic.net/static/www/u/2014/0328/mma_20432863.png\"/> <script>window.nmain=window.nmain||{},window.nmain.supportFlicking=!1;var nsc=\"navertop.v4\",ua=navigator.userAgent,useIeJSFlag=\"1\";window.nmain.isIE=\"0\"===useIeJSFlag,document.getElementsByTagName(\"html\")[0].setAttribute(\"data-useragent\",ua),window.nmain.isIE&&(Object.create=function(n){function t(){}return t.prototype=n,new t})</script> <script>var darkmode= false;window.naver_corp_da=window.naver_corp_da||{main:{}},window.naver_corp_da.main=window.naver_corp_da.main||{},window.naver_corp_da.main.darkmode=darkmode,window.gladsdk=window.gladsdk||{cmd:[]},window.gladsdk.cmd.push((function(){window.gladsdk.setHostMeta(\"theme\",darkmode?\"dark\":\"light\")})),window.ndpsdk=window.ndpsdk||{cmd:[],polyfill:{cmd:[]}},window.ndpsdk.cmd.push((function(){window.ndpsdk.setHostMeta(\"theme\",darkmode?\"dark\":\"light\")}))</script>  <script async src=\"https://ssl.pstatic.net/tveta/libs/glad/prod/gfp-core.js\"></script> <script async src=\"https://ssl.pstatic.net/tveta/libs/ndpsdk/prod/ndp-loader.js\"></script>  <script> window.nmain.gv = {  isLogin: false,\\nuseId: null,   daInfo: {\"BEAUTY\":{\"menu\":\"BEAUTY\",\"childMenu\":\"\",\"adType\":\"singleDom\",\"multiDomAdUrl\":\"\",\"multiDomUnit\":\"\",\"infoList\":[{\"adposId\":\"1000163\",\"singleDomAdUrl\":\"https://siape.veta.naver.com/fxshow\",\"param\":{\"da_dom_id\":\"p_main_beauty_1\",\"tb\":\"BEAUTY_1\",\"unit\":\"SU10595\",\"calp\":\"-\"},\"type\":{\"position\":\"abs\",\"positionIndex\":4,\"subject\":\"contents\"},\"dom\":null},{\"adposId\":\"1000164\",\"singleDomAdUrl\":\"https://siape.veta.naver.com/fxshow\",\"param\":{\"da_dom_id\":\"p_main_beauty_2\",\"tb\":\"BEAUTY_1\",\"unit\":\"SU10596\",\"calp\":\"-\"},\"type\":{\"position\":\"abs\",\"positionIndex\":8,\"subject\":\"contents\"},\"dom\":null}]},\"LIVING\":{\"menu\":\"LIVING\",\"childMenu\":\"\",\"adType\":\"singleDom\",\"multiDomAdUrl\":\"\",\"multiDomUnit\":\"\",\"infoList\":[{\"adposId\":\"1000183\",\"singleDomAdUrl\":\"https://siape.veta.naver.com/fxshow\",\"param\":{\"da_dom_id\":\"p_main_living_1\",\"tb\":\"LIVING_1\",\"unit\":\"SU10597\",\"calp\":\"-\"},\"type\":{\"position\":\"abs\",\"positionIndex\":4,\"subject\":\"contents\"},\"dom\":null},{\"adposId\":\"1000184\",\"singleDomAdUrl\":\"https://siape.veta.naver.com/fxshow\",\"param\":{\"da_dom_id\":\"p_main_living_2\",\"tb\":\"LIVING_1\",\"unit\":\"SU10606\",\"calp\":\"-\"},\"type\":{\"position\":\"abs\",\"positionIndex\":8,\"subject\":\"contents\"},\"dom\":null}]},\"LIVINGHOME\":{\"menu\":\"LIVINGHOME\",\"childMenu\":\"\",\"adType\":\"singleDom\",\"multiDomAdUrl\":\"\",\"multiDomUnit\":\"\",\"infoList\":[{\"adposId\":\"1000185\",\"singleDomAdUrl\":\"https://siape.veta.naver.com/fxshow\",\"param\":{\"da_dom_id\":\"p_main_livinghome_1\",\"tb\":\"LIVINGHOME_1\",\"unit\":\"SU10571\",\"calp\":\"-\"},\"type\":{\"position\":\"abs\",\"positionIndex\":4,\"subject\":\"contents\"},\"dom\":null},{\"adposId\":\"1000186\",\"singleDomAdUrl\":\"https://siape.veta.naver.com/fxshow\",\"param\":{\"da_dom_id\":\"p_main_livinghome_2\",\"tb\":\"LIVINGHOME_1\",\"unit\":\"SU10572\",\"calp\":\"-\"},\"type\":{\"position\":\"abs\",\"positionIndex\":8,\"subject\":\"contents\"},\"dom\":null}]}},\\nsvt: 20220704141800,\\n}; </script> <script> window.nmain.newsstand = {\\nrcode: \\'09230104\\',\\nnewsCastSubsInfo: \\'\\',\\nnewsStandSubsInfo: \\'\\'\\n};\\nwindow.etc = {  };\\nwindow.svr = \"<!--cweb25-->\"; </script> <script src=\"https://ssl.pstatic.net/tveta/libs/assets/js/pc/main/min/pc.veta.core.min.js\" defer=\"defer\"></script>   <script src=\"https://pm.pstatic.net/dist/js/external.2961eaa5.js?o=www\" type=\"text/javascript\" crossorigin=\"anonymous\" defer=\"defer\"></script> <script src=\"https://pm.pstatic.net/dist/js/preload.5fe99fda.js?o=www\" type=\"text/javascript\" crossorigin=\"anonymous\" defer=\"defer\"></script> <script src=\"https://pm.pstatic.net/dist/js/polyfill.f3c68d2d.js?o=www\" type=\"text/javascript\" crossorigin=\"anonymous\" defer=\"defer\"></script>  <script src=\"https://pm.pstatic.net/dist/js/vendors~more~nmain~notice~search~sidebar_notice.40da85e0.js?o=www\" type=\"text/javascript\" crossorigin=\"anonymous\" defer=\"defer\"></script>   <script src=\"https://pm.pstatic.net/dist/js/search.31110d72.js?o=www\" type=\"text/javascript\" crossorigin=\"anonymous\" defer=\"defer\"></script>  <script src=\"https://pm.pstatic.net/dist/js/vendors~more~nmain~sidebar_notice.7aad5e27.js?o=www\" type=\"text/javascript\" crossorigin=\"anonymous\" defer=\"defer\"></script> <script src=\"https://pm.pstatic.net/dist/js/nmain.00337bae.js?o=www\" type=\"text/javascript\" crossorigin=\"anonymous\" defer=\"defer\"></script> <style>:root{color-scheme:light}#_nx_kbd .setkorhelp a{display:none}</style> </head> <body> <div id=\"u_skip\"> <a href=\"#newsstand\"><span>뉴스스탠드 바로가기</span></a> <a href=\"#themecast\"><span>주제별캐스트 바로가기</span></a> <a href=\"#timesquare\"><span>타임스퀘어 바로가기</span></a> <a href=\"#shopcast\"><span>쇼핑캐스트 바로가기</span></a> <a href=\"#account\"><span>로그인 바로가기</span></a> </div> <div id=\"wrap\">         <style>._1syGnXOL{padding-right:18px;font-size:14px;line-height:0;letter-spacing:-.25px;color:#000}._1syGnXOL span,._1syGnXOL strong{line-height:49px}._1syGnXOL:before{display:inline-block;content:\"\";vertical-align:top;background-image:url(https://static-whale.pstatic.net/main/sprite-20220527@2x.png);background-repeat:no-repeat;background-size:141px 112px;width:18px;height:18px;margin:16px 8px 0 0;background-position:-98px 0}[data-useragent*=\"MSIE 8\"] ._1syGnXOL:before{background-image:url(https://static-whale.pstatic.net/main/sprite-20220527.png)}._1syGnXOL._3dsvmZg2:before{background-position:-47px -85px}._1syGnXOL._1NBFx1WK:before{width:20px;height:20px;margin:15px 8px 0 0;background-position:-21px -89px}._1syGnXOL._2mcQEKCd:before{width:22px;height:22px;margin:14px 7px 0 0;background-position:-47px -63px}._1syGnXOL._36slsKuJ:before{width:21px;height:49px;margin:0 14px 0 0;background-position:0 -63px}._1syGnXOL._3qlJVWzR:before{width:24px;height:49px;margin:0 10px 0 0;background-position:-117px 0}._1syGnXOL._3VkgqBXB:before{width:26px;height:49px;margin:0 10px 0 0;background-position:-116px -54px}._1syGnXOL._3di88A4c{padding-right:12px;font-size:17px}._1syGnXOL._3di88A4c:before{content:none}._1syGnXOL ._19K4X1CD{text-decoration:underline}._2aeXMlrb{display:inline-block;position:relative;font-size:12px;height:49px;width:78px;text-decoration:none;color:#fff;font-weight:700;letter-spacing:-.5px;vertical-align:top}._2aeXMlrb span{text-align:center;margin:9px 0;height:31px;display:block;line-height:31px;border-radius:15px}._2aeXMlrb span:before{display:inline-block;content:\"\";vertical-align:top;background-image:url(https://static-whale.pstatic.net/main/sprite-20220527@2x.png);background-repeat:no-repeat;background-size:141px 112px}[data-useragent*=\"MSIE 8\"] ._2aeXMlrb span:before{background-image:url(https://static-whale.pstatic.net/main/sprite-20220527.png)}._2aeXMlrb.BMgpjddw{font-size:11px;width:94px}._2aeXMlrb.BMgpjddw span:before{margin:9px 3px 0 0;width:17px;height:13px;background-position:-89px -63px}._3h-N8T9V{position:absolute;top:0;left:0;right:0;bottom:0;background:rgba(0,0,0,0)}._1KncATpM{display:inline-block;content:\"\";vertical-align:top;background-image:url(https://static-whale.pstatic.net/main/sprite-20220527@2x.png);background-repeat:no-repeat;background-size:141px 112px;margin-top:14px;float:left;width:98px;height:21px;background-position:0 -21px}[data-useragent*=\"MSIE 8\"] ._1KncATpM{background-image:url(https://static-whale.pstatic.net/main/sprite-20220527.png)}._1KncATpM._2v3uxv2x{background-position:0 0}._1KncATpM._1yl_Ow6o{background-position:0 -42px}._20PYt6lT{font-size:11px;height:49px;cursor:pointer;position:absolute;top:0;right:0;color:#666;opacity:.7}._20PYt6lT:after{width:15px;height:15px;margin-left:4px;background-position:-98px -33px;display:inline-block;content:\"\";vertical-align:top;background-image:url(https://static-whale.pstatic.net/main/sprite-20220527@2x.png);background-repeat:no-repeat;background-size:141px 112px}[data-useragent*=\"MSIE 8\"] ._20PYt6lT:after{background-image:url(https://static-whale.pstatic.net/main/sprite-20220527.png)}._20PYt6lT._39oMCV2N:after{background-position:-98px -18px}._20PYt6lT._3MOWOORv{color:#c3c2c2}._20PYt6lT._3MOWOORv:after{background-position:-80px -85px}._20PYt6lT._3wm5EzmJ{color:#fff}._20PYt6lT._3wm5EzmJ:after{background-position:-65px -85px}._1hiMWemA{height:49px}._1hiMWemA .tY_u8r23{position:relative;width:1130px;margin:0 auto}._1hiMWemA .tY_u8r23 a{text-decoration:none}._1hiMWemA._23U_6TM_{position:relative}._1hiMWemA._23U_6TM_:after{position:absolute;z-index:1;content:\"\";display:block;width:100%;height:1px;bottom:0;background-color:rgba(0,0,0,.050980392156862744)}</style>\\n<div\\nid=\"NM_TOP_BANNER\"\\ndata-clk-prefix=\"top\"\\nclass=\"_1hiMWemA\"\\nstyle=\"background-color: #fff7e1\"\\n>\\n<div class=\"tY_u8r23\">\\n<a\\nclass=\"_3h-N8T9V\"\\nhref=\"https://whale.naver.com/banner/details/security/?=main&wpid=RydDy7\"\\ndata-clk=\"dropbanner1a\"\\n></a\\n><span\\nclass=\"_1syGnXOL _3VkgqBXB\"\\ndata-clk=\"dropbanner1a\"\\nstyle=\"padding-right: 20px; font-size: 17px; color: black\"\\n><span>매일 쓰는 브라우저 보안이 걱정된다면, </span\\n><strong\\n>안전하고 빠른 최신 브라우저 웨일로 업데이트 하세요.</strong\\n></span\\n><a\\nhref=\"https://installer-whale.pstatic.net/downloads/banner/RydDy7/WhaleSetup.exe\"\\nclass=\"_2aeXMlrb BMgpjddw\"\\nid=\"NM_whale_download_btn\"\\ndata-clk=\"dropdownload1a\"\\n><span style=\"background-color: #0436c7\">다운로드</span></a\\n><button\\ntype=\"button\"\\ndata-ui-cookie-exp-days=\"3\"\\ndata-ui-cookie-key=\"NM_TOP_PROMOTION\"\\ndata-ui-cookie-value=\"1\"\\ndata-ui-hide-target=\"#NM_TOP_BANNER\"\\ndata-clk=\"dropclose1a\"\\nclass=\"_20PYt6lT _39oMCV2N\"\\n>\\n3일 동안 보지 않기\\n</button>\\n</div>\\n</div>\\n  <div id=\"header\" role=\"banner\">\\n\\n\\n\\n\\n\\n\\n\\n\\n<div class=\"special_bg\">\\n<div class=\"group_flex\">\\n<div class=\"logo_area\">\\n<h1 class=\"logo_default\">\\n<a href=\"/\" class=\"logo_naver\" data-clk=\"top.logo\"\\n><span class=\"blind\">네이버</span></a\\n>\\n</h1>\\n</div>\\n<div class=\"service_area\">\\n<a id=\"NM_set_home_btn\" href=\"https://help.naver.com/support/welcomePage/guide.help\" class=\"link_set\" data-clk=\"top.mkhome\">네이버를 시작페이지로</a>\\n<i class=\"sa_bar\"></i>\\n<a href=\"https://jr.naver.com\" class=\"link_jrnaver\" data-clk=\"top.jrnaver\"><i class=\"ico_jrnaver\"></i><span class=\"blind\">쥬니어네이버</span></a>\\n<a href=\"https://happybean.naver.com\" class=\"link_happybin\" data-clk=\"top.happybean\"><i class=\"ico_happybin\"></i><span class=\"blind\">해피빈</span></a>\\n</div>\\n\\n<div id=\"search\" class=\"search_area\" data-clk-prefix=\"sch\">\\n<form id=\"sform\" name=\"sform\" action=\"https://search.naver.com/search.naver\" method=\"get\" role=\"search\">\\n<fieldset>\\n<legend class=\"blind\">검색</legend>\\n<select id=\"where\" name=\"where\" title=\"검색 범위 선택\" class=\"blind\">\\n<option value=\"nexearch\" selected=\"selected\">통합검색</option><option value=\"post\">블로그</option><option value=\"cafeblog\">카페</option><option value=\"cafe\">- 카페명</option><option value=\"article\">- 카페글</option><option value=\"kin\">지식iN</option><option value=\"news\">뉴스</option><option value=\"web\">사이트</option><option value=\"category\">- 카테고리</option><option value=\"site\">- 사이트</option><option value=\"movie\">영화</option><option value=\"webkr\">웹문서</option><option value=\"dic\">사전</option><option value=\"100\">- 백과사전</option><option value=\"endic\">- 영어사전</option><option value=\"eedic\">- 영영사전</option><option value=\"krdic\">- 국어사전</option><option value=\"jpdic\">- 일본어사전</option><option value=\"hanja\">- 한자사전</option><option value=\"terms\">- 용어사전</option><option value=\"book\">책</option><option value=\"music\">음악</option><option value=\"doc\">전문자료</option><option value=\"shop\">쇼핑</option><option value=\"local\">지역</option><option value=\"video\">동영상</option><option value=\"image\">이미지</option><option value=\"mypc\">내PC</option><optgroup label=\"스마트 파인더\"><option value=\"movie\">영화</option><option value=\"auto\">자동차</option><option value=\"game\">게임</option><option value=\"health\">건강</option><option value=\"people\">인물</option></optgroup><optgroup label=\"네이버 랩\"><option>긍정부정검색</option></optgroup>\\n</select>\\n<input type=\"hidden\" id=\"sm\" name=\"sm\" value=\"top_hty\" />\\n<input type=\"hidden\" id=\"fbm\" name=\"fbm\" value=\"0\" />\\n<input type=\"hidden\" id=\"acr\" name=\"acr\" value=\"\" disabled=\"disabled\" />\\n<input type=\"hidden\" id=\"acq\" name=\"acq\" value=\"\" disabled=\"disabled\" />\\n<input type=\"hidden\" id=\"qdt\" name=\"qdt\" value=\"\" disabled=\"disabled\" />\\n<input type=\"hidden\" id=\"ie\" name=\"ie\" value=\"utf8\" />\\n<input type=\"hidden\" id=\"acir\" name=\"acir\" value=\"\" disabled=\"disabled\" />\\n<input type=\"hidden\" id=\"os\" name=\"os\" value=\"\" disabled=\"disabled\" />\\n<input type=\"hidden\" id=\"bid\" name=\"bid\" value=\"\" disabled=\"disabled\" />\\n<input type=\"hidden\" id=\"pkid\" name=\"pkid\" value=\"\" disabled=\"disabled\" />\\n<input type=\"hidden\" id=\"eid\" name=\"eid\" value=\"\" disabled=\"disabled\" />\\n<input type=\"hidden\" id=\"mra\" name=\"mra\" value=\"\" disabled=\"disabled\" />\\n\\n\\n\\n<div class=\"green_window\" style=\\'\\'>\\n<!-- [AU] data-atcmp-element 에 해당하는 attribute를 추가해주세요. -->\\n<input id=\"query\" name=\"query\" type=\"text\" title=\"검색어 입력\" maxlength=\"255\" class=\"input_text\" tabindex=\"1\" accesskey=\"s\" style=\"ime-mode:active;\" autocomplete=\"off\"  placeholder=\"검색어를 입력해 주세요.\" onclick=\"document.getElementById(\\'fbm\\').value=1;\" value=\"\" data-atcmp-element>\\n</div>\\n<button id=\"search_btn\" type=\"submit\" title=\"검색\" tabindex=\"3\" class=\"btn_submit\" onclick=\"window.nclick(this,\\'sch.action\\',\\'\\',\\'\\',event);\" style=\\'\\'>\\n<span class=\"blind\">검색</span>\\n<span class=\"ico_search_submit\"></span>\\n</button>\\n</fieldset>\\n</form>\\n<!-- 한글입력기 -->\\n<a href=\"#\" id=\"ke_kbd_btn\" role=\"button\" class=\"btn_keyboard\" onclick=\"return false;\"><span class=\"blind\">한글 입력기</span><span class=\"ico_keyboard\"></span></a>\\n<div id=\"_nx_kbd\" style=\"display:none;\"></div>\\n<div class=\"autocomplete\">\\n<!-- 자동완성 열린 경우 fold 클래스 추가, 딤드인 경우 dim 추가 -->\\n<a href=\"#\" role=\"button\" id=\"nautocomplete\" tabindex=\"2\" class=\"btn_arw _btn_arw fold\" aria-pressed=\"false\" data-atcmp-element><span class=\"blind\">자동완성 레이어</span><span class=\"ico_arr\"></span></a>\\n</div>\\n<!-- 자동완성레이어 -->\\n<div id=\"autoFrame\" class=\"reatcmp\" style=\"display: none;\">\\n<!-- [AU] data-atcmp-element attribute를 추가해주세요. -->\\n<div class=\"ly_atcmp\" data-atcmp-element>\\n<div class=\"api_atcmp_wrap\">\\n<!-- 최근검색어 -->\\n<!-- [AU] _recent_layer 클래스를 추가해주세요. -->\\n<div class=\"atcmp_fixer _recent_layer\" style=\"display:none;\">\\n<!-- [AU] _recent_header 클래스를 추가해주세요. -->\\n<div class=\"atcmp_header _recent_header\">\\n<strong class=\"tit\">최근검색어</strong>\\n<div class=\"option\">\\n<!-- [AU] _delAll 클래스를 추가해주세요. -->\\n<a role=\"button\" href=\"#\" class=\"item _delAll\" aria-pressed=\"false\">전체삭제</a>\\n</div>\\n</div>\\n<div class=\"atcmp_container\">\\n<!-- [AU] _recent 클래스를 추가해주세요. -->\\n<ul class=\"kwd_lst _recent\">\\n<!-- 최근검색어 템플릿 -->\\n<!-- [AU] _item 클래스를 추가해주세요. -->\\n<!-- [AU] data-template-type=\"history\" data-keyword=\"@in_txt@\" attribute를 추가해주세요. -->\\n<li class=\"item _item\" data-rank=\"@rank@\" data-template-type=\"history\" data-keyword=\"@in_txt@\">\\n<a href=\"#\" class=\"kwd\">\\n<span class=\"fix\"><span class=\"common_ico_kwd\"><i class=\"imsc ico_search\"></i></span><span>@txt@</span></span>\\n</a>\\n<span class=\"etc\">\\n<em class=\"date\">@date@.</em>\\n<!-- [AU] _del 클래스를 추가해주세요. -->\\n<a href=\"#\" role=\"button\" class=\"bt_item _del\" aria-pressed=\"false\"><i class=\"imsc ico_del\">삭제</i></a>\\n</span>\\n</li>\\n</ul>\\n<!-- [D] 검색어 저장 꺼진 경우 atcmp_fixer에 type_off 추가 -->\\n<!-- [AU] _offMsg 클래스를 추가해주세요. -->\\n<div class=\"kwd_info kwd_off _offMsg\" style=\"display: none;\">검색어 저장 기능이 꺼져 있습니다.<br><span class=\"kwd_dsc\">설정이 초기화 된다면 <a href=\"https://help.naver.com/support/alias/search/word/word_29.naver\" class=\"kwd_help\" data-clk=\"sly.help\" target=\"_blank\">도움말</a>을 확인해주세요.</span></div>\\n<!-- [D] 검색어 내역 없는 경우 atcmp_fixer에 type_off 추가 -->\\n<!-- [AU] _recentNone 클래스를 추가해주세요. -->\\n<div class=\"kwd_info kwd_none _recentNone\" style=\"display: none;\">최근 검색어 내역이 없습니다.<br><span class=\"kwd_dsc\">설정이 초기화 된다면 <a href=\"https://help.naver.com/support/alias/search/word/word_29.naver\" class=\"kwd_help\" data-clk=\"sly.help\" target=\"_blank\">도움말</a>을 확인해주세요.</span></div>\\n</div>\\n<div class=\"atcmp_footer\">\\n<span class=\"side_opt_area\">\\n<span class=\"opt_item\"><a href=\"https://help.naver.com/support/service/main.help?serviceNo=605&amp;categoryNo=1991\" data-clk=\"sly.help\" target=\"_blank\">도움말</a></span>\\n</span>\\n<span class=\"rside_opt_area\">\\n<span class=\"opt_item\">\\n<!-- [AU] _keywordOnOff 클래스를 추가해주세요. -->\\n<a href=\"#\" class=\"close _keywordOnOff\">자동저장 끄기</a>\\n</span>\\n</span>\\n</div>\\n</div>\\n<!-- 자동완성 -->\\n<!-- [AU] _atcmp_layer 클래스를 추가해주세요. -->\\n<div class=\"atcmp_fixer _atcmp_layer\" style=\"display:none;\">\\n<!-- [AU] _words 클래스를 추가해주세요. -->\\n<div class=\"atcmp_container _words\">\\n<!-- 정답형 템플릿 : 로또당첨번호 -->\\n<!-- [AU] _answer 클래스를 추가해주세요. -->\\n<!-- [AU] data-template-type=\"answer_3\" data-code=\"@code@\" data-keyword=\"@1@\" attribute를 추가해주세요. -->\\n<div class=\"atcmp_correct type_lotto _answer\" data-template-type=\"answer_3\" data-code=\"@code@\" data-keyword=\"@1@\">\\n<a href=\"#\" class=\"link_item\">\\n<span class=\"common_ico_kwd\"><i class=\"imsc ico_search\"></i></span>\\n<div class=\"dsc_area\">\\n<span class=\"tit\">@5@회차 당첨번호</span>\\n<span class=\"dsc\">\\n<span class=\"item\">추첨 @13@.</span><span class=\"item\">지급기한 1년</span>\\n</span>\\n</div>\\n<span class=\"etc_area\">\\n<span class=\"etc lotto\">\\n<em class=\"n@6@\">@6@</em><em class=\"n@7@\">@7@</em><em class=\"n@8@\">@8@</em><em class=\"n@9@\">@9@</em><em class=\"n@10@\">@10@</em><em class=\"n@11@\">@11@</em><em class=\"imsc_bf bonus n@12@\">@12@</em>\\n</span>\\n</span>\\n</a>\\n</div>\\n<!-- 정답형 템플릿 : 환율 -->\\n<!-- [AU] _answer 클래스를 추가해주세요. -->\\n<!-- [AU] data-template-type=\"answer_9\" data-code=\"@code@\" data-keyword=\"@1@\" attribute를 추가해주세요. -->\\n<div class=\"atcmp_correct type_exchange _answer\" data-template-type=\"answer_9\" data-code=\"@code@\" data-keyword=\"@1@\">\\n<!-- [D] 상승 up, 하락 down 추가 -->\\n<a href=\"#\" class=\"link_item @11@\">\\n<!-- [D] 국가별 class 가나다순\\nZAR 남아프리카 공화국\\nNPR 네팔\\nNOK 노르웨이\\nNZD 뉴질랜드\\nTWD 대만\\nDKK 덴마크\\nRUB 러시아\\nMOP 마카오\\nMYR 말레이시아\\nMXN 멕시코\\nMNT 몽골\\nUSD 미국\\nBHD 바레인\\nBDT 방글라데시\\nVND 베트남\\nBRL 브라질\\nSAR 사우디아라비아\\nSEK 스웨덴\\nCHF 스위스\\nSGD 싱가포르\\nAED 아랍에미리트\\nGBP 영국\\nEUR 유럽연합\\nILS 이스라엘\\nEGP 이집트\\nINR 인도\\nIDR 인도네시아\\nJPY 일본\\nCNY 중국\\nCZK 체코\\nCLP 칠레\\nKZT 카자흐스탄\\nQAR 카타르\\nCAD 캐나다\\nKWD 쿠웨이트\\nTHB 태국\\nTRY 터키\\nPKR 파키스탄\\nPLN 폴란드\\nPHP 필리핀\\nHUF 헝가리\\nAUD 호주\\nHKD 홍콩\\n-->\\n<span class=\"common_ico_kwd\"><i class=\"imsc ico @12@\">@14@</i></span>\\n<div class=\"dsc_area\">\\n<span class=\"tit\">@txt@<span class=\"sub\">@currency@</span></span>\\n<span class=\"dsc\">\\n<span class=\"item\"><i class=\"imsc ico_arr\"></i>@8@(@9@%)</span>\\n</span>\\n</div>\\n<span class=\"etc_area\">\\n<span class=\"etc\"><em class=\"num\">@6@</em>원</span>\\n</span>\\n</a>\\n</div>\\n<!-- 정답형 템플릿 : 날씨(국내11, 해외12) -->\\n<!-- [AU] _answer 클래스를 추가해주세요. -->\\n<!-- [AU] data-template-type=\"answer_11\" data-code=\"@code@\" data-keyword=\"@1@\" attribute를 추가해주세요. -->\\n<div class=\"atcmp_correct type_weather _answer\" data-template-type=\"answer_11\" data-code=\"@code@\" data-keyword=\"@1@\">\\n<!-- [D] 상승 up, 하락 down 추가 -->\\n<a href=\"#\" class=\"link_item @12@\">\\n<span class=\"common_ico_kwd\"><i class=\"imsc ico_search\"></i></span>\\n<div class=\"dsc_area\">\\n<span class=\"tit\">@txt@</span>\\n<span class=\"dsc\">\\n<span class=\"item\">@7@, @message@</span>\\n</span>\\n</div>\\n<span class=\"etc_area\">\\n<span class=\"etc\">\\n<!-- [D] 날씨별 class\\nico1 맑음(낮)\\nico2 맑음(밤)\\nico3 구름조금(낮)\\nico4 구름조금(밤)\\nico5 구름많음(낮)\\nico6 구름많음(밤)\\nico7 흐림\\nico8 약한비\\nico9 비\\nico10 강한비\\nico11 약한눈\\nico12 눈\\nico13 강한눈\\nico14 진눈깨비\\nico15 소나기\\nico16 안개\\nico17 소낙눈\\nico18 번개뇌우\\nico19 우박\\nico20 황사\\nico21 비또는눈\\nico22 가끔비\\nico23 가끔눈\\nico24 가끔비또는눈\\nico25 흐린후갬\\nico26 뇌우후갬\\nico27 비후갬\\nico28 눈후갬\\nico29 흐려져비\\nico30 흐려져눈\\n-->\\n<span class=\"ico_weather\"><i class=\"imsc ico ico@iconNo@\">@7@</i></span>\\n<em class=\"degree\">@8@<sup class=\"celsius\">°</sup></em>\\n</span>\\n</span>\\n</a>\\n</div>\\n<!-- 정답형 템플릿 : 사이트 바로가기 -->\\n<!-- [AU] _answer 클래스를 추가해주세요. -->\\n<!-- [AU] data-template-type=\"answer_17\" data-code=\"@code@\" data-keyword=\"@1@\" attribute를 추가해주세요. -->\\n<div class=\"atcmp_correct type_site _answer\" data-template-type=\"answer_17\" data-code=\"@code@\" data-keyword=\"@1@\">\\n<a href=\"@5@\" class=\"link_item\" target=\"_blank\">\\n<span class=\"common_ico_kwd\"><i class=\"imsc ico_url\"></i></span>\\n<div class=\"dsc_area\">\\n<span class=\"tit\">@txt@</span>\\n<span class=\"dsc\">\\n<span class=\"item\">@5@</span>\\n</span>\\n</div>\\n<span class=\"etc_area\">\\n<span class=\"etc\">바로가기</span>\\n</span>\\n</a>\\n</div>\\n<!-- [AU] _kwd_list 클래스를 추가해주세요. -->\\n<ul class=\"kwd_lst _kwd_list\">\\n<!-- [AU] 자동완성 검색어 템플릿 -->\\n<!-- [AU] _item 클래스를 추가해주세요. -->\\n<!-- [AU] data-rank=\"@rank@\" data-template-type=\"suggestion\" data-keyword=\"@in_txt@\" attribute를 추가해주세요. -->\\n<li class=\"item _item\" data-rank=\"@rank@\" data-template-type=\"suggestion\" data-keyword=\"@in_txt@\">\\n<a href=\"#\" class=\"kwd\">\\n<span class=\"fix\"><span class=\"common_ico_kwd\"><i class=\"imsc ico_search\"></i></span>@txt@</span>\\n</a>\\n<span class=\"etc\">\\n<a href=\"#\" role=\"button\" class=\"bt_item _add\" aria-pressed=\"false\"><i class=\"imsc ico_insert\">추가</i></a>\\n</span>\\n</li>\\n<!-- [AU] 최근검색어 템플릿 -->\\n<!-- [AU] _item 클래스를 추가해주세요. -->\\n<!-- [AU] data-rank=\"@rank@\" data-template-type=\"history\" data-keyword=\"@in_txt@\" attribute를 추가해주세요. -->\\n<li class=\"item has_correct _item\" data-rank=\"@rank@\" data-template-type=\"history\" data-keyword=\"@in_txt@\">\\n<a href=\"#\" class=\"kwd\">\\n<span class=\"fix\"><span class=\"common_ico_kwd\"><i class=\"imsc ico_search\"></i></span>@txt@</span>\\n</a>\\n<span class=\"etc\">\\n<!-- 최근검색어 있으면 날짜 표시 -->\\n<em class=\"date\">@date@.</em>\\n<a href=\"#\" role=\"button\" class=\"bt_item _add\" aria-pressed=\"false\"><i class=\"imsc ico_insert\">추가</i></a>\\n</span>\\n</li>\\n</ul>\\n<!-- [AU] 문맥검색 템플릿 -->\\n<!-- [AU] _item 클래스를 추가해주세요. -->\\n<!-- [AU] data-rank=\"@rank@\" data-template-type=\"intend\" data-keyword=\"@transQuery@\" attribute를 추가해주세요. -->\\n<li class=\"item has_correct _item\" data-rank=\"@rank@\" data-intend-rank=\"@intendRank@\" data-template-type=\"intend\" data-keyword=\"@transQuery@\">\\n<a href=\"#\" class=\"kwd\">\\n<span class=\"fix\"><span class=\"common_ico_kwd\"><i class=\"imsc ico_search\"></i></span>@query@ <span class=\"context\">@intend@</span></span>\\n</a>\\n<span class=\"etc\">\\n<a href=\"#\" role=\"button\" class=\"bt_item _add\" aria-pressed=\"false\"><i class=\"imsc ico_insert\">추가</i></a>\\n</span>\\n</li>\\n<!-- [D] 선거안내문구 -->\\n<!-- [AU] _alert 클래스를 추가해주세요. -->\\n<div class=\"atcmp_alert _alert\">\\n<div class=\"dsc_election\">\\n<p class=\"dsc\">\\n<i class=\"imsc ico_election\"></i><span class=\"_alert_passage\"></span>\\n</p>\\n<span class=\"dsc_inner\">\\n<!-- [AU] _alert_passage2 클래스를 추가해주세요. -->\\n<span class=\"_alert_passage2\"></span>\\n<!-- [AU] _alert_link 클래스를 추가해주세요. -->\\n<a href=\"#\" class=\"link _alert_link\" target=\"_blank\">자세히보기</a>\\n</span>\\n</div>\\n</div>\\n<!-- [AU] _plus 클래스를 추가해주세요. -->\\n<div class=\"atcmp_plus _plus\">\\n<div class=\"dsc_plus\">\\n<a href=\"https://help.naver.com/support/alias/search/word/word_16.naver\" class=\"link_dsc\" data-clk=\"sug.cxhelp\" target=\"_blank\">관심사를 반영한 컨텍스트 자동완성<i class=\"imsc ico_help\">도움말</i></a>\\n</div>\\n<div class=\"switch\">\\n<!-- [D] 선택시 aria-pressed=\"ture/false\" -->\\n<!-- [AU] _plus_btn 클래스를 추가해주세요. -->\\n<a role=\"button\" href=\"#\" class=\"bt_switch active _plus_btn\" aria-pressed=\"false\"><i class=\"imsc ico_option\">컨텍스트 자동완성</i></a>\\n</div>\\n<!-- [AU] _plus_layer 클래스를 추가해주세요. -->\\n<div class=\"layer_plus _plus_layer\">\\n<strong class=\"tit\">컨텍스트 자동완성</strong>\\n<!-- [AU] _plus_layer_isloggedin 클래스를 추가해주세요. -->\\n<!-- [AU] style=\"display:none\" 추가해주세요. -->\\n<div class=\"_plus_layer_isloggedin\" style=\"display:none\">\\n<p class=\"dsc\">ON/OFF 설정은<br>해당기기(브라우저)에 저장됩니다.</p>\\n<div class=\"btn_area\">\\n<a href=\"https://help.naver.com/support/alias/search/word/word_16.naver\" class=\"btn btn_view\" data-clk=\"sug.cxlink\" target=\"_blank\">자세히</a>\\n</div>\\n</div>\\n<!-- [AU] _plus_layer_isnotloggedin 클래스를 추가해주세요. -->\\n<!-- [AU] style=\"display:none\" 추가해주세요. -->\\n<div class=\"_plus_layer_isnotloggedin\" style=\"display:none\">\\n<p class=\"dsc\"><em class=\"txt\">동일한 시간대/연령/남녀별</em> 사용자 그룹의<br>관심사에 맞춰 자동완성을 제공합니다.</p>\\n<div class=\"btn_area\">\\n<a href=\"https://nid.naver.com/nidlogin.login\" class=\"btn btn_login\" data-clk=\"sug.cxlogin\">로그인</a>\\n<a href=\"https://help.naver.com/support/alias/search/word/word_16.naver\" class=\"btn btn_view\" data-clk=\"sug.cxlink\" target=\"_blank\">자세히</a>\\n</div>\\n</div>\\n<!-- [AU] _plus_layer_close 클래스를 추가해주세요. -->\\n<a href=\"#\" role=\"button\" class=\"btn_close _plus_layer_close\"><i class=\"imsc ico_close\">컨텍스트 자동완성 레이어 닫기</i></a>\\n</div>\\n</div>\\n</div>\\n<div class=\"atcmp_footer\">\\n<span class=\"side_opt_area\">\\n<span class=\"opt_item\"><a href=\"https://help.naver.com/support/service/main.help?serviceNo=605&categoryNo=1987\" data-clk=\"sug.help\" target=\"_blank\">도움말</a></span>\\n<span class=\"opt_item\"><a href=\"https://help.naver.com/support/contents/contents.help?serviceNo=605&categoryNo=18215\" class=\"report\" data-clk=\"sug.report\" target=\"_blank\">신고</a></span>\\n</span>\\n<span class=\"rside_opt_area\">\\n<span class=\"opt_item\">\\n<!-- [AU] _suggestOnOff 클래스를 추가해주세요. -->\\n<a href=\"#\" class=\"close _suggestOnOff\">자동완성 끄기</a>\\n</span>\\n</span>\\n</div>\\n</div>\\n</div>\\n</div>\\n</div>\\n</div>\\n\\n</div>\\n</div>\\n\\n<!--EMPTY-->\\n<div id=\"gnb\" role=\"navigation\">\\n<div id=\"NM_FAVORITE\" class=\"gnb_inner\">\\n<div class=\"group_nav\">\\n<ul class=\"list_nav type_fix\">\\n<li class=\"nav_item\">\\n<a href=\"https://mail.naver.com/\" class=\"nav\" data-clk=\"svc.mail\"><i class=\"ico_mail\"></i>메일</a>\\n</li>\\n<li class=\"nav_item\"><a href=\"https://section.cafe.naver.com/\" class=\"nav\" data-clk=\"svc.cafe\">카페</a></li>\\n<li class=\"nav_item\"><a href=\"https://section.blog.naver.com/\" class=\"nav\" data-clk=\"svc.blog\">블로그</a></li>\\n<li class=\"nav_item\"><a href=\"https://kin.naver.com/\" class=\"nav\" data-clk=\"svc.kin\">지식iN</a></li>\\n<li class=\"nav_item\"><a href=\"https://shopping.naver.com/\" class=\"nav shop\" data-clk=\"svc.shopping\"><span class=\"blind\">쇼핑</span></a></li>\\n<li class=\"nav_item\"><a href=\"https://shoppinglive.naver.com/home\" class=\"nav shoplive\"\\ndata-clk=\"svc.shoppinglive\"><span class=\"blind\">쇼핑LIVE</span></a></li>\\n<li class=\"nav_item\"><a href=\"https://order.pay.naver.com/home\" class=\"nav\" data-clk=\"svc.pay\">Pay</a></li>\\n<li class=\"nav_item\">\\n<a href=\"https://tv.naver.com/\" class=\"nav\" data-clk=\"svc.tvcast\"><i class=\"ico_tv\"></i>TV</a>\\n</li>\\n</ul>\\n<ul\\nclass=\"list_nav NM_FAVORITE_LIST\"\\n>\\n<li class=\"nav_item\"><a href=\"https://dict.naver.com/\" class=\"nav\" data-clk=\"svc.dic\">사전</a></li>\\n<li class=\"nav_item\"><a href=\"https://news.naver.com/\" class=\"nav\" data-clk=\"svc.news\">뉴스</a></li>\\n<li class=\"nav_item\"><a href=\"https://finance.naver.com/\" class=\"nav\" data-clk=\"svc.stock\">증권</a></li>\\n<li class=\"nav_item\"><a href=\"https://land.naver.com/\" class=\"nav\" data-clk=\"svc.land\">부동산</a></li>\\n<li class=\"nav_item\"><a href=\"https://map.naver.com/\" class=\"nav\" data-clk=\"svc.map\">지도</a></li>\\n<li class=\"nav_item\"><a href=\"https://vibe.naver.com/\" class=\"nav\" data-clk=\"svc.vibe\">VIBE</a></li>\\n<li class=\"nav_item\"><a href=\"https://book.naver.com/\" class=\"nav\" data-clk=\"svc.book\">책</a></li>\\n<li class=\"nav_item\"><a href=\"https://comic.naver.com/\" class=\"nav\" data-clk=\"svc.webtoon\">웹툰</a></li>\\n\\n</ul>\\n<ul class=\"list_nav type_empty\" style=\"display: none;\"></ul>\\n<a href=\"#\" role=\"button\" class=\"btn_more\" data-clk=\"svc.more\">더보기</a>\\n<div class=\"ly_btn_area\">\\n<a href=\"more.html\" class=\"btn NM_FAVORITE_ALL\" data-clk=\"map.svcmore\">서비스 전체보기</a>\\n<a href=\"#\" role=\"button\" class=\"btn btn_set\" data-clk=\"map.edit\">메뉴설정</a>\\n<a href=\"#\" role=\"button\" class=\"btn btn_reset\" data-clk=\"edt.reset\">초기화</a>\\n<a href=\"#\" role=\"button\" class=\"btn btn_save\" data-clk=\"edt.save\">저장</a>\\n</div>\\n</div>\\n<div id=\"NM_WEATHER\" class=\"group_weather\">\\n<div>\\n<a data-clk=\"squ.weat\" href=\"https://weather.naver.com/today/09230104\" class=\"weather_area ico_w07\">\\n<div class=\"current_box\">\\n<strong class=\"current\" aria-label=\"현재기온\">30.1°</strong><strong class=\"state\">흐림</strong>\\n</div>\\n<div class=\"degree_box\">\\n<span class=\"min\" aria-label=\"최저기온\">24.0°</span><span class=\"max\" aria-label=\"최고기온\">34.0°</span>\\n</div>\\n<span class=\"location\">전농동</span>\\n</a>\\n</div>\\n<div>\\n<a data-clk=\"squ.dust\" href=\"https://weather.naver.com/today/09230104\" class=\"air_area\">\\n<ul class=\"list_air\">\\n<li class=\"air_item\">미세<strong class=\"state state_good\">좋음</strong></li>\\n<li class=\"air_item\">초미세<strong class=\"state state_normal\">보통</strong></li>\\n</ul>\\n<span class=\"location\">전농동</span>\\n</a>\\n</div>\\n\\n</div>\\n</div>\\n<div class=\"ly_service\">\\n<div class=\"group_service NM_FAVORITE_ALL_LY\"></div>\\n<div class=\"group_service NM_FAVORITE_EDIT_LY\" style=\"display: none;\"></div>\\n</div>\\n</div>\\n</div>\\n <div id=\"container\" role=\"main\"> <div style=\"position:relative;width:1130px;margin:0 auto;z-index:11\"> <div id=\"da_top\"></div> <div id=\"da_expwide\"></div> </div> <div id=\"NM_INT_LEFT\" class=\"column_left\"> <div id=\"veta_top\"> <div id=\"veta_top_inner\" style=\"height:135px\"> </div> <span class=\"veta_bd_t\"></span> <span class=\"veta_bd_b\"></span> <span class=\"veta_bd_l\"></span> <span class=\"veta_bd_r\"></span> </div> <div id=\"newsstand\" class=\"sc_newscast\"> <h2 class=\"blind\">뉴스스탠드</h2> <div id=\"NM_NEWSSTAND_HEADER\" class=\"group_issue\" data-clk-prefix=\"ncy\"> <div class=\"issue_area\"> <a class=\"link_media\" href=\"https://news.naver.com/main/list.naver?mode=LPOD&mid=sec&sid1=001&sid2=140&oid=001&isYeonhapFlash=Y\" data-clk=\"newsflash\">연합뉴스</a> <div id=\"NM_ONELINE_ROLLING\" class=\"list_issue\" data-nm-ui=\"rolling\"> <div><a href=\"https://news.naver.com/main/list.naver?mode=LPOD&mid=sec&sid1=001&sid2=140&oid=001&isYeonhapFlash=Y&aid=0013287152\" class=\"issue\" data-clk=\"quickarticle\">여야, 원구성 협상 극적 타결…국회의장 \\'합의 선출\\'</a></div>\\n<div><a href=\"https://news.naver.com/main/list.naver?mode=LPOD&mid=sec&sid1=001&sid2=140&oid=001&isYeonhapFlash=Y&aid=0013287031\" class=\"issue\" data-clk=\"quickarticle\">김승희 \"억울하지만 제 책임\"…복지부 장관 후보자 또 사퇴</a></div>\\n<div><a href=\"https://news.naver.com/main/list.naver?mode=LPOD&mid=sec&sid1=001&sid2=140&oid=001&isYeonhapFlash=Y&aid=0013287040\" class=\"issue\" data-clk=\"quickarticle\">尹, 박순애·김승겸 재가…공정위원장 \\'연수원 동기\\' 송옥렬</a></div>\\n<div><a href=\"https://news.naver.com/main/list.naver?mode=LPOD&mid=sec&sid1=001&sid2=140&oid=001&isYeonhapFlash=Y&aid=0013286940\" class=\"issue\" data-clk=\"quickarticle\">\\'이준석 윤리위\\' 앞둔 폭풍전야 與…지지율 하락에도 갈등 일로</a></div>\\n<div><a href=\"https://news.naver.com/main/list.naver?mode=LPOD&mid=sec&sid1=001&sid2=140&oid=001&isYeonhapFlash=Y&aid=0013287032\" class=\"issue\" data-clk=\"quickarticle\">TK·고령층마저 이탈…尹지지율 \\'콘크리트\\'도 위험신호</a></div>\\n<div><a href=\"https://news.naver.com/main/list.naver?mode=LPOD&mid=sec&sid1=001&sid2=140&oid=001&isYeonhapFlash=Y&aid=0013287007\" class=\"issue\" data-clk=\"quickarticle\">\"현대차·기아 10개 모델, 독일 배기가스검사 불합격\"</a></div>\\n<div><a href=\"https://news.naver.com/main/list.naver?mode=LPOD&mid=sec&sid1=001&sid2=140&oid=001&isYeonhapFlash=Y&aid=0013287023\" class=\"issue\" data-clk=\"quickarticle\">삼성-LG전자, 갖은 악재 속 2분기 실적 선방한듯…하반기가 문제</a></div>\\n<div><a href=\"https://news.naver.com/main/list.naver?mode=LPOD&mid=sec&sid1=001&sid2=140&oid=001&isYeonhapFlash=Y&aid=0013287180\" class=\"issue\" data-clk=\"quickarticle\">오세훈표 복지실험 \\'안심소득\\' 11일 첫 지급…500가구 선정</a></div>\\n<div><a href=\"https://news.naver.com/main/list.naver?mode=LPOD&mid=sec&sid1=001&sid2=140&oid=001&isYeonhapFlash=Y&aid=0013286998\" class=\"issue\" data-clk=\"quickarticle\">2학기 학자금 대출금리 1.7%로 동결…6일부터 신청접수</a></div>\\n<div><a href=\"https://news.naver.com/main/list.naver?mode=LPOD&mid=sec&sid1=001&sid2=140&oid=001&isYeonhapFlash=Y&aid=0013287107\" class=\"issue\" data-clk=\"quickarticle\">리시찬스크 점령한 러, 돈바스 75% 확보…젤렌스키 \"되찾을 것\"</a></div> </div> </div> <div class=\"direct_area\"> <a href=\"http://news.naver.com/\" class=\"link_news\" data-clk=\"newshome\">뉴스홈</a>\\n<a href=\"http://entertain.naver.com/home\" class=\"link_direct\" data-clk=\"entertainment\">연예</a>\\n<a href=\"http://sports.news.naver.com/\" class=\"link_direct\" data-clk=\"sports\">스포츠</a>\\n<a href=\"http://news.naver.com/main/main.naver?mode=LSD&mid=shm&sid1=101\" class=\"link_direct\" data-clk=\"economy\">경제</a> </div> </div>        <div id=\"NM_NEWSSTAND_TITLE\" class=\"group_title\" data-clk-prefix=\"nsd\"> <a href=\"http://newsstand.naver.com/\" class=\"link_newsstand\" data-clk=\"title\" target=\"_blank\">뉴스스탠드</a> <div id=\"NM_NEWSSTAND_data_buttons\" class=\"sort_area\" role=\"tablist\">  <a href=\"#\" role=\"tab\" data-type=\"my\" data-clk=\"my\" class=\"btn_sort\" aria-controls=\"NM_NEWSSTAND_MY_LIST\" aria-selected=\"false\">구독한 언론사</a> <a href=\"#\" role=\"tab\" data-type=\"all\" data-clk=\"all\" class=\"btn_sort\" aria-controls=\"NM_NEWSSTAND_DEFAULT_THUMB\" aria-selected=\"true\">전체언론사</a>  </div> <div id=\"NM_NEWSSTAND_view_buttons\" class=\"set_area\" role=\"tablist\">  <a href=\"#\" role=\"tab\" data-type=\"list\" data-clk=\"articleview\" class=\"btn_set\" aria-controls=\"NM_NEWSSTAND_DEFAULT_LIST\" aria-selected=\"false\"> <i class=\"ico_list\"><span class=\"blind\">리스트형</span></i></a> <a href=\"#\" role=\"tab\" data-type=\"thumb\" data-clk=\"pressview\" class=\"btn_set\" aria-controls=\"NM_NEWSSTAND_DEFAULT_THUMB\" aria-selected=\"true\"> <i class=\"ico_tile\"><span class=\"blind\">썸네일형</span></i></a>  <a href=\"http://newsstand.naver.com/config.html\" class=\"btn_set\" data-clk=\"set\" target=\"_blank\"> <i class=\"ico_set\"><span class=\"blind\">설정</span></i></a> </div> </div> <div id=\"NM_NEWSSTAND_VIEW_CONTAINER\" style=\"position:relative\"> <div id=\"NM_NEWSSTAND_DEFAULT_LIST\" class=\"group_news\" role=\"tabpanel\" style=\"display:none\" data-clk-prefix=\"nsd_all\"> <a href=\"#\" role=\"button\" class=\"pm_btn_prev_l _NM_NEWSSTAND_LIST_prev_btn\" data-clk-custom=\"prev\"><i class=\"ico_btn\"><span class=\"blind\">이전</span></i></a> <a href=\"#\" role=\"button\" class=\"pm_btn_next_l _NM_NEWSSTAND_LIST_next_btn\" data-clk-custom=\"next\"><i class=\"ico_btn\"><span class=\"blind\">다음</span></i></a> <div class=\"list_view\"> <div class=\"option_area\"> <div class=\"list_option_wrap\"> <ul class=\"list_option\"> <li class=\"option_item\" data-cateid=\"ct2\"><a href=\"#\" class=\"option\" data-clk=\"daei\">종합/경제</a></li> <li class=\"option_item\" data-cateid=\"ct3\"><a href=\"#\" class=\"option\" data-clk=\"dtvcom\">방송/통신</a></li> <li class=\"option_item\" data-cateid=\"ct4\"><a href=\"#\" class=\"option\" data-clk=\"dit\">IT</a></li> <li class=\"option_item\" data-cateid=\"ct5\"><a href=\"#\" class=\"option\" data-clk=\"deng\">영자지</a></li> <li class=\"option_item\" data-cateid=\"ct6\"><a href=\"#\" class=\"option\" data-clk=\"dsporent\">스포츠/연예</a></li> <li class=\"option_item\" data-cateid=\"ct7\"><a href=\"#\" class=\"option\" data-clk=\"dmagtec\">매거진/전문지</a></li> <li class=\"option_item\" data-cateid=\"ct8\"><a href=\"#\" class=\"option\" data-clk=\"dloc\">지역</a></li> </ul> </div> </div> <div class=\"_NM_NEWSSTAND_ARTICLE_CONTAINER\" data-clk-sub=\"*a\"></div> </div> <div class=\"ly_popup NM_NEWSSTAND_POPUP NM_NEWSSTAND_invalid\" style=\"display:none\" data-clk-sub=\"*a\"> <a href=\"#\" role=\"button\" class=\"btn_close NM_NEWSSTAND_POPUP_CLOSE\"><i class=\"ico_close\"></i><span class=\"blind\">닫기</span></a> <p class=\"popup_msg\">해당 언론사 사정으로 접근이 제한됩니다.</p> <div class=\"popup_btn\"> <a href=\"#\" role=\"button\" class=\"btn_confirm NM_NEWSSTAND_POPUP_CLOSE\">확인</a> </div> </div> <div class=\"ly_popup NM_NEWSSTAND_POPUP NM_NEWSSTAND_undescribe_confirm\" style=\"display:none\" data-clk-sub=\"*a\"> <a href=\"#\" role=\"button\" class=\"btn_close NM_NEWSSTAND_POPUP_CLOSE\" data-clk=\"usclose\"><i class=\"ico_close\"></i><span class=\"blind\">닫기</span></a> <p class=\"popup_msg\"><strong class=\"NM_NEWSSTAND_POPUP_PNAME\"></strong>을(를)<br>구독해지 하시겠습니까?</p> <div class=\"popup_btn\"> <a href=\"#\" role=\"button\" class=\"btn_confirm NM_NEWSSTAND_POPUP_CONFIRM\" data-clk=\"usdone\">확인</a> <a href=\"#\" role=\"button\" class=\"btn_confirm NM_NEWSSTAND_POPUP_CLOSE\" data-clk=\"uscancel\">취소</a> </div> </div> <div class=\"ly_toast NM_NEWSSTAND_TOAST\" style=\"display:none\"> <p class=\"toast_msg\">구독한 언론사에 추가되었습니다.</p> </div> </div>   <div id=\"NM_NEWSSTAND_DEFAULT_THUMB\" class=\"group_news\" role=\"tabpanel\" style=\"display:block\" data-clk-prefix=\"nsd_all\"> <a href=\"#\" role=\"button\" class=\"pm_btn_prev_l _NM_UI_PAGE_PREV\" data-clk-custom=\"prev\"><i class=\"ico_btn\"><span class=\"blind\">이전</span></i></a> <a href=\"#\" role=\"button\" class=\"pm_btn_next_l _NM_UI_PAGE_NEXT\" data-clk-custom=\"next\"><i class=\"ico_btn\"><span class=\"blind\">다음</span></i></a> <div class=\"_NM_UI_PAGE_CONTAINER\" style=\"height:100%;overflow:hidden\" data-clk-sub=\"*p\">  <div style=\"width: 750px; float: left;\">\\n<div class=\"tile_view\">\\n<div class=\"frame_area\">\\n<i class=\"line to_right1\"></i>\\n<i class=\"line to_right2\"></i>\\n<i class=\"line to_right3\"></i>\\n<i class=\"line to_bottom1\"></i>\\n<i class=\"line to_bottom2\"></i>\\n<i class=\"line to_bottom3\"></i>\\n<i class=\"line to_bottom4\"></i>\\n<i class=\"line to_bottom5\"></i>\\n</div>\\n<div class=\"thumb_area\">\\n<div\\nclass=\"thumb_box _NM_NEWSSTAND_THUMB _NM_NEWSSTAND_THUMB_press_valid\"\\ndata-pid=\"139\"\\n>\\n<a href=\"#\" class=\"thumb\">\\n<img\\nsrc=\"https://s.pstatic.net/static/newsstand/2020/logo/light/0604/139.png\"\\nheight=\"20\"\\nalt=\"스포탈코리아\"\\nclass=\"news_logo\"\\n/>\\n<span class=\"thumb_dim\"></span\\n></a>\\n<div class=\"popup_wrap\">\\n<a\\nhref=\"#\"\\nrole=\"button\"\\nclass=\"btn_popup _NM_NEWSSTAND_THUMB_subscribe_press\"\\ndata-pid=\"139\"\\ndata-clk=\"sub\"\\n>구독</a\\n>\\n<a\\nhref=\"#\"\\nrole=\"button\"\\nclass=\"btn_popup _NM_NEWSSTAND_THUMB_unsubscribe_press\"\\ndata-pid=\"139\"\\ndata-clk=\"unsub\"\\n>해지</a\\n>\\n<a\\nhref=\"http://newsstand.naver.com/?list=&pcode=139\"\\ntarget=\"_blank\"\\nclass=\"btn_popup\"\\ndata-clk=\"logo\"\\ndata-pid=\"139\"\\n>기사보기</a\\n>\\n</div>\\n</div>\\n<div\\nclass=\"thumb_box _NM_NEWSSTAND_THUMB _NM_NEWSSTAND_THUMB_press_valid\"\\ndata-pid=\"002\"\\n>\\n<a href=\"#\" class=\"thumb\">\\n<img\\nsrc=\"https://s.pstatic.net/static/newsstand/2020/logo/light/0604/002.png\"\\nheight=\"20\"\\nalt=\"프레시안\"\\nclass=\"news_logo\"\\n/>\\n<span class=\"thumb_dim\"></span\\n></a>\\n<div class=\"popup_wrap\">\\n<a\\nhref=\"#\"\\nrole=\"button\"\\nclass=\"btn_popup _NM_NEWSSTAND_THUMB_subscribe_press\"\\ndata-pid=\"002\"\\ndata-clk=\"sub\"\\n>구독</a\\n>\\n<a\\nhref=\"#\"\\nrole=\"button\"\\nclass=\"btn_popup _NM_NEWSSTAND_THUMB_unsubscribe_press\"\\ndata-pid=\"002\"\\ndata-clk=\"unsub\"\\n>해지</a\\n>\\n<a\\nhref=\"http://newsstand.naver.com/?list=&pcode=002\"\\ntarget=\"_blank\"\\nclass=\"btn_popup\"\\ndata-clk=\"logo\"\\ndata-pid=\"002\"\\n>기사보기</a\\n>\\n</div>\\n</div>\\n<div\\nclass=\"thumb_box _NM_NEWSSTAND_THUMB _NM_NEWSSTAND_THUMB_press_valid\"\\ndata-pid=\"368\"\\n>\\n<a href=\"#\" class=\"thumb\">\\n<img\\nsrc=\"https://s.pstatic.net/static/newsstand/2020/logo/light/0604/368.png\"\\nheight=\"20\"\\nalt=\"데일리안\"\\nclass=\"news_logo\"\\n/>\\n<span class=\"thumb_dim\"></span\\n></a>\\n<div class=\"popup_wrap\">\\n<a\\nhref=\"#\"\\nrole=\"button\"\\nclass=\"btn_popup _NM_NEWSSTAND_THUMB_subscribe_press\"\\ndata-pid=\"368\"\\ndata-clk=\"sub\"\\n>구독</a\\n>\\n<a\\nhref=\"#\"\\nrole=\"button\"\\nclass=\"btn_popup _NM_NEWSSTAND_THUMB_unsubscribe_press\"\\ndata-pid=\"368\"\\ndata-clk=\"unsub\"\\n>해지</a\\n>\\n<a\\nhref=\"http://newsstand.naver.com/?list=&pcode=368\"\\ntarget=\"_blank\"\\nclass=\"btn_popup\"\\ndata-clk=\"logo\"\\ndata-pid=\"368\"\\n>기사보기</a\\n>\\n</div>\\n</div>\\n<div\\nclass=\"thumb_box _NM_NEWSSTAND_THUMB _NM_NEWSSTAND_THUMB_press_valid\"\\ndata-pid=\"092\"\\n>\\n<a href=\"#\" class=\"thumb\">\\n<img\\nsrc=\"https://s.pstatic.net/static/newsstand/2020/logo/light/0604/092.png\"\\nheight=\"20\"\\nalt=\"지디넷코리아\"\\nclass=\"news_logo\"\\n/>\\n<span class=\"thumb_dim\"></span\\n></a>\\n<div class=\"popup_wrap\">\\n<a\\nhref=\"#\"\\nrole=\"button\"\\nclass=\"btn_popup _NM_NEWSSTAND_THUMB_subscribe_press\"\\ndata-pid=\"092\"\\ndata-clk=\"sub\"\\n>구독</a\\n>\\n<a\\nhref=\"#\"\\nrole=\"button\"\\nclass=\"btn_popup _NM_NEWSSTAND_THUMB_unsubscribe_press\"\\ndata-pid=\"092\"\\ndata-clk=\"unsub\"\\n>해지</a\\n>\\n<a\\nhref=\"http://newsstand.naver.com/?list=&pcode=092\"\\ntarget=\"_blank\"\\nclass=\"btn_popup\"\\ndata-clk=\"logo\"\\ndata-pid=\"092\"\\n>기사보기</a\\n>\\n</div>\\n</div>\\n<div\\nclass=\"thumb_box _NM_NEWSSTAND_THUMB _NM_NEWSSTAND_THUMB_press_valid\"\\ndata-pid=\"076\"\\n>\\n<a href=\"#\" class=\"thumb\">\\n<img\\nsrc=\"https://s.pstatic.net/static/newsstand/2020/logo/light/0604/076.png\"\\nheight=\"20\"\\nalt=\"스포츠조선\"\\nclass=\"news_logo\"\\n/>\\n<span class=\"thumb_dim\"></span\\n></a>\\n<div class=\"popup_wrap\">\\n<a\\nhref=\"#\"\\nrole=\"button\"\\nclass=\"btn_popup _NM_NEWSSTAND_THUMB_subscribe_press\"\\ndata-pid=\"076\"\\ndata-clk=\"sub\"\\n>구독</a\\n>\\n<a\\nhref=\"#\"\\nrole=\"button\"\\nclass=\"btn_popup _NM_NEWSSTAND_THUMB_unsubscribe_press\"\\ndata-pid=\"076\"\\ndata-clk=\"unsub\"\\n>해지</a\\n>\\n<a\\nhref=\"http://newsstand.naver.com/?list=&pcode=076\"\\ntarget=\"_blank\"\\nclass=\"btn_popup\"\\ndata-clk=\"logo\"\\ndata-pid=\"076\"\\n>기사보기</a\\n>\\n</div>\\n</div>\\n<div\\nclass=\"thumb_box _NM_NEWSSTAND_THUMB _NM_NEWSSTAND_THUMB_press_valid\"\\ndata-pid=\"021\"\\n>\\n<a href=\"#\" class=\"thumb\">\\n<img\\nsrc=\"https://s.pstatic.net/static/newsstand/2020/logo/light/0604/021.png\"\\nheight=\"20\"\\nalt=\"문화일보\"\\nclass=\"news_logo\"\\n/>\\n<span class=\"thumb_dim\"></span\\n></a>\\n<div class=\"popup_wrap\">\\n<a\\nhref=\"#\"\\nrole=\"button\"\\nclass=\"btn_popup _NM_NEWSSTAND_THUMB_subscribe_press\"\\ndata-pid=\"021\"\\ndata-clk=\"sub\"\\n>구독</a\\n>\\n<a\\nhref=\"#\"\\nrole=\"button\"\\nclass=\"btn_popup _NM_NEWSSTAND_THUMB_unsubscribe_press\"\\ndata-pid=\"021\"\\ndata-clk=\"unsub\"\\n>해지</a\\n>\\n<a\\nhref=\"http://newsstand.naver.com/?list=&pcode=021\"\\ntarget=\"_blank\"\\nclass=\"btn_popup\"\\ndata-clk=\"logo\"\\ndata-pid=\"021\"\\n>기사보기</a\\n>\\n</div>\\n</div>\\n<div\\nclass=\"thumb_box _NM_NEWSSTAND_THUMB _NM_NEWSSTAND_THUMB_press_valid\"\\ndata-pid=\"073\"\\n>\\n<a href=\"#\" class=\"thumb\">\\n<img\\nsrc=\"https://s.pstatic.net/static/newsstand/up/2020/0708/nsd94830278.png\"\\nheight=\"20\"\\nalt=\"스포츠서울\"\\nclass=\"news_logo\"\\n/>\\n<span class=\"thumb_dim\"></span\\n></a>\\n<div class=\"popup_wrap\">\\n<a\\nhref=\"#\"\\nrole=\"button\"\\nclass=\"btn_popup _NM_NEWSSTAND_THUMB_subscribe_press\"\\ndata-pid=\"073\"\\ndata-clk=\"sub\"\\n>구독</a\\n>\\n<a\\nhref=\"#\"\\nrole=\"button\"\\nclass=\"btn_popup _NM_NEWSSTAND_THUMB_unsubscribe_press\"\\ndata-pid=\"073\"\\ndata-clk=\"unsub\"\\n>해지</a\\n>\\n<a\\nhref=\"http://newsstand.naver.com/?list=&pcode=073\"\\ntarget=\"_blank\"\\nclass=\"btn_popup\"\\ndata-clk=\"logo\"\\ndata-pid=\"073\"\\n>기사보기</a\\n>\\n</div>\\n</div>\\n<div\\nclass=\"thumb_box _NM_NEWSSTAND_THUMB _NM_NEWSSTAND_THUMB_press_valid\"\\ndata-pid=\"011\"\\n>\\n<a href=\"#\" class=\"thumb\">\\n<img\\nsrc=\"https://s.pstatic.net/static/newsstand/2019/logo/011.png\"\\nheight=\"20\"\\nalt=\"서울경제\"\\nclass=\"news_logo\"\\n/>\\n<span class=\"thumb_dim\"></span\\n></a>\\n<div class=\"popup_wrap\">\\n<a\\nhref=\"#\"\\nrole=\"button\"\\nclass=\"btn_popup _NM_NEWSSTAND_THUMB_subscribe_press\"\\ndata-pid=\"011\"\\ndata-clk=\"sub\"\\n>구독</a\\n>\\n<a\\nhref=\"#\"\\nrole=\"button\"\\nclass=\"btn_popup _NM_NEWSSTAND_THUMB_unsubscribe_press\"\\ndata-pid=\"011\"\\ndata-clk=\"unsub\"\\n>해지</a\\n>\\n<a\\nhref=\"http://newsstand.naver.com/?list=&pcode=011\"\\ntarget=\"_blank\"\\nclass=\"btn_popup\"\\ndata-clk=\"logo\"\\ndata-pid=\"011\"\\n>기사보기</a\\n>\\n</div>\\n</div>\\n<div\\nclass=\"thumb_box _NM_NEWSSTAND_THUMB _NM_NEWSSTAND_THUMB_press_valid\"\\ndata-pid=\"008\"\\n>\\n<a href=\"#\" class=\"thumb\">\\n<img\\nsrc=\"https://s.pstatic.net/static/newsstand/2020/logo/light/0604/008.png\"\\nheight=\"20\"\\nalt=\"머니투데이\"\\nclass=\"news_logo\"\\n/>\\n<span class=\"thumb_dim\"></span\\n></a>\\n<div class=\"popup_wrap\">\\n<a\\nhref=\"#\"\\nrole=\"button\"\\nclass=\"btn_popup _NM_NEWSSTAND_THUMB_subscribe_press\"\\ndata-pid=\"008\"\\ndata-clk=\"sub\"\\n>구독</a\\n>\\n<a\\nhref=\"#\"\\nrole=\"button\"\\nclass=\"btn_popup _NM_NEWSSTAND_THUMB_unsubscribe_press\"\\ndata-pid=\"008\"\\ndata-clk=\"unsub\"\\n>해지</a\\n>\\n<a\\nhref=\"http://newsstand.naver.com/?list=&pcode=008\"\\ntarget=\"_blank\"\\nclass=\"btn_popup\"\\ndata-clk=\"logo\"\\ndata-pid=\"008\"\\n>기사보기</a\\n>\\n</div>\\n</div>\\n<div\\nclass=\"thumb_box _NM_NEWSSTAND_THUMB _NM_NEWSSTAND_THUMB_press_valid\"\\ndata-pid=\"028\"\\n>\\n<a href=\"#\" class=\"thumb\">\\n<img\\nsrc=\"https://s.pstatic.net/static/newsstand/2020/logo/light/0604/028.png\"\\nheight=\"20\"\\nalt=\"한겨레\"\\nclass=\"news_logo\"\\n/>\\n<span class=\"thumb_dim\"></span\\n></a>\\n<div class=\"popup_wrap\">\\n<a\\nhref=\"#\"\\nrole=\"button\"\\nclass=\"btn_popup _NM_NEWSSTAND_THUMB_subscribe_press\"\\ndata-pid=\"028\"\\ndata-clk=\"sub\"\\n>구독</a\\n>\\n<a\\nhref=\"#\"\\nrole=\"button\"\\nclass=\"btn_popup _NM_NEWSSTAND_THUMB_unsubscribe_press\"\\ndata-pid=\"028\"\\ndata-clk=\"unsub\"\\n>해지</a\\n>\\n<a\\nhref=\"http://newsstand.naver.com/?list=&pcode=028\"\\ntarget=\"_blank\"\\nclass=\"btn_popup\"\\ndata-clk=\"logo\"\\ndata-pid=\"028\"\\n>기사보기</a\\n>\\n</div>\\n</div>\\n<div\\nclass=\"thumb_box _NM_NEWSSTAND_THUMB _NM_NEWSSTAND_THUMB_press_valid\"\\ndata-pid=\"047\"\\n>\\n<a href=\"#\" class=\"thumb\">\\n<img\\nsrc=\"https://s.pstatic.net/static/newsstand/2020/logo/light/0604/047.png\"\\nheight=\"20\"\\nalt=\"오마이뉴스\"\\nclass=\"news_logo\"\\n/>\\n<span class=\"thumb_dim\"></span\\n></a>\\n<div class=\"popup_wrap\">\\n<a\\nhref=\"#\"\\nrole=\"button\"\\nclass=\"btn_popup _NM_NEWSSTAND_THUMB_subscribe_press\"\\ndata-pid=\"047\"\\ndata-clk=\"sub\"\\n>구독</a\\n>\\n<a\\nhref=\"#\"\\nrole=\"button\"\\nclass=\"btn_popup _NM_NEWSSTAND_THUMB_unsubscribe_press\"\\ndata-pid=\"047\"\\ndata-clk=\"unsub\"\\n>해지</a\\n>\\n<a\\nhref=\"http://newsstand.naver.com/?list=&pcode=047\"\\ntarget=\"_blank\"\\nclass=\"btn_popup\"\\ndata-clk=\"logo\"\\ndata-pid=\"047\"\\n>기사보기</a\\n>\\n</div>\\n</div>\\n<div\\nclass=\"thumb_box _NM_NEWSSTAND_THUMB _NM_NEWSSTAND_THUMB_press_valid\"\\ndata-pid=\"277\"\\n>\\n<a href=\"#\" class=\"thumb\">\\n<img\\nsrc=\"https://s.pstatic.net/static/newsstand/2020/logo/light/0604/277.png\"\\nheight=\"20\"\\nalt=\"아시아경제\"\\nclass=\"news_logo\"\\n/>\\n<span class=\"thumb_dim\"></span\\n></a>\\n<div class=\"popup_wrap\">\\n<a\\nhref=\"#\"\\nrole=\"button\"\\nclass=\"btn_popup _NM_NEWSSTAND_THUMB_subscribe_press\"\\ndata-pid=\"277\"\\ndata-clk=\"sub\"\\n>구독</a\\n>\\n<a\\nhref=\"#\"\\nrole=\"button\"\\nclass=\"btn_popup _NM_NEWSSTAND_THUMB_unsubscribe_press\"\\ndata-pid=\"277\"\\ndata-clk=\"unsub\"\\n>해지</a\\n>\\n<a\\nhref=\"http://newsstand.naver.com/?list=&pcode=277\"\\ntarget=\"_blank\"\\nclass=\"btn_popup\"\\ndata-clk=\"logo\"\\ndata-pid=\"277\"\\n>기사보기</a\\n>\\n</div>\\n</div>\\n<div\\nclass=\"thumb_box _NM_NEWSSTAND_THUMB _NM_NEWSSTAND_THUMB_press_valid\"\\ndata-pid=\"215\"\\n>\\n<a href=\"#\" class=\"thumb\">\\n<img\\nsrc=\"https://s.pstatic.net/static/newsstand/2020/logo/light/0604/215.png\"\\nheight=\"20\"\\nalt=\"한국경제TV\"\\nclass=\"news_logo\"\\n/>\\n<span class=\"thumb_dim\"></span\\n></a>\\n<div class=\"popup_wrap\">\\n<a\\nhref=\"#\"\\nrole=\"button\"\\nclass=\"btn_popup _NM_NEWSSTAND_THUMB_subscribe_press\"\\ndata-pid=\"215\"\\ndata-clk=\"sub\"\\n>구독</a\\n>\\n<a\\nhref=\"#\"\\nrole=\"button\"\\nclass=\"btn_popup _NM_NEWSSTAND_THUMB_unsubscribe_press\"\\ndata-pid=\"215\"\\ndata-clk=\"unsub\"\\n>해지</a\\n>\\n<a\\nhref=\"http://newsstand.naver.com/?list=&pcode=215\"\\ntarget=\"_blank\"\\nclass=\"btn_popup\"\\ndata-clk=\"logo\"\\ndata-pid=\"215\"\\n>기사보기</a\\n>\\n</div>\\n</div>\\n<div\\nclass=\"thumb_box _NM_NEWSSTAND_THUMB _NM_NEWSSTAND_THUMB_press_valid\"\\ndata-pid=\"030\"\\n>\\n<a href=\"#\" class=\"thumb\">\\n<img\\nsrc=\"https://s.pstatic.net/static/newsstand/2020/logo/light/0604/030.png\"\\nheight=\"20\"\\nalt=\"전자신문\"\\nclass=\"news_logo\"\\n/>\\n<span class=\"thumb_dim\"></span\\n></a>\\n<div class=\"popup_wrap\">\\n<a\\nhref=\"#\"\\nrole=\"button\"\\nclass=\"btn_popup _NM_NEWSSTAND_THUMB_subscribe_press\"\\ndata-pid=\"030\"\\ndata-clk=\"sub\"\\n>구독</a\\n>\\n<a\\nhref=\"#\"\\nrole=\"button\"\\nclass=\"btn_popup _NM_NEWSSTAND_THUMB_unsubscribe_press\"\\ndata-pid=\"030\"\\ndata-clk=\"unsub\"\\n>해지</a\\n>\\n<a\\nhref=\"http://newsstand.naver.com/?list=&pcode=030\"\\ntarget=\"_blank\"\\nclass=\"btn_popup\"\\ndata-clk=\"logo\"\\ndata-pid=\"030\"\\n>기사보기</a\\n>\\n</div>\\n</div>\\n<div\\nclass=\"thumb_box _NM_NEWSSTAND_THUMB _NM_NEWSSTAND_THUMB_press_valid\"\\ndata-pid=\"006\"\\n>\\n<a href=\"#\" class=\"thumb\">\\n<img\\nsrc=\"https://s.pstatic.net/static/newsstand/2020/logo/light/0604/006.png\"\\nheight=\"20\"\\nalt=\"미디어오늘\"\\nclass=\"news_logo\"\\n/>\\n<span class=\"thumb_dim\"></span\\n></a>\\n<div class=\"popup_wrap\">\\n<a\\nhref=\"#\"\\nrole=\"button\"\\nclass=\"btn_popup _NM_NEWSSTAND_THUMB_subscribe_press\"\\ndata-pid=\"006\"\\ndata-clk=\"sub\"\\n>구독</a\\n>\\n<a\\nhref=\"#\"\\nrole=\"button\"\\nclass=\"btn_popup _NM_NEWSSTAND_THUMB_unsubscribe_press\"\\ndata-pid=\"006\"\\ndata-clk=\"unsub\"\\n>해지</a\\n>\\n<a\\nhref=\"http://newsstand.naver.com/?list=&pcode=006\"\\ntarget=\"_blank\"\\nclass=\"btn_popup\"\\ndata-clk=\"logo\"\\ndata-pid=\"006\"\\n>기사보기</a\\n>\\n</div>\\n</div>\\n<div\\nclass=\"thumb_box _NM_NEWSSTAND_THUMB _NM_NEWSSTAND_THUMB_press_valid\"\\ndata-pid=\"815\"\\n>\\n<a href=\"#\" class=\"thumb\">\\n<img\\nsrc=\"https://s.pstatic.net/static/newsstand/2020/logo/light/0604/815.png\"\\nheight=\"20\"\\nalt=\"법률방송뉴스\"\\nclass=\"news_logo\"\\n/>\\n<span class=\"thumb_dim\"></span\\n></a>\\n<div class=\"popup_wrap\">\\n<a\\nhref=\"#\"\\nrole=\"button\"\\nclass=\"btn_popup _NM_NEWSSTAND_THUMB_subscribe_press\"\\ndata-pid=\"815\"\\ndata-clk=\"sub\"\\n>구독</a\\n>\\n<a\\nhref=\"#\"\\nrole=\"button\"\\nclass=\"btn_popup _NM_NEWSSTAND_THUMB_unsubscribe_press\"\\ndata-pid=\"815\"\\ndata-clk=\"unsub\"\\n>해지</a\\n>\\n<a\\nhref=\"http://newsstand.naver.com/?list=&pcode=815\"\\ntarget=\"_blank\"\\nclass=\"btn_popup\"\\ndata-clk=\"logo\"\\ndata-pid=\"815\"\\n>기사보기</a\\n>\\n</div>\\n</div>\\n<div\\nclass=\"thumb_box _NM_NEWSSTAND_THUMB _NM_NEWSSTAND_THUMB_press_valid\"\\ndata-pid=\"361\"\\n>\\n<a href=\"#\" class=\"thumb\">\\n<img\\nsrc=\"https://s.pstatic.net/static/newsstand/2020/logo/light/0604/361.png\"\\nheight=\"20\"\\nalt=\"채널예스\"\\nclass=\"news_logo\"\\n/>\\n<span class=\"thumb_dim\"></span\\n></a>\\n<div class=\"popup_wrap\">\\n<a\\nhref=\"#\"\\nrole=\"button\"\\nclass=\"btn_popup _NM_NEWSSTAND_THUMB_subscribe_press\"\\ndata-pid=\"361\"\\ndata-clk=\"sub\"\\n>구독</a\\n>\\n<a\\nhref=\"#\"\\nrole=\"button\"\\nclass=\"btn_popup _NM_NEWSSTAND_THUMB_unsubscribe_press\"\\ndata-pid=\"361\"\\ndata-clk=\"unsub\"\\n>해지</a\\n>\\n<a\\nhref=\"http://newsstand.naver.com/?list=&pcode=361\"\\ntarget=\"_blank\"\\nclass=\"btn_popup\"\\ndata-clk=\"logo\"\\ndata-pid=\"361\"\\n>기사보기</a\\n>\\n</div>\\n</div>\\n<div\\nclass=\"thumb_box _NM_NEWSSTAND_THUMB _NM_NEWSSTAND_THUMB_press_valid\"\\ndata-pid=\"920\"\\n>\\n<a href=\"#\" class=\"thumb\">\\n<img\\nsrc=\"https://s.pstatic.net/static/newsstand/2020/logo/light/0604/920.png\"\\nheight=\"20\"\\nalt=\"아시아투데이\"\\nclass=\"news_logo\"\\n/>\\n<span class=\"thumb_dim\"></span\\n></a>\\n<div class=\"popup_wrap\">\\n<a\\nhref=\"#\"\\nrole=\"button\"\\nclass=\"btn_popup _NM_NEWSSTAND_THUMB_subscribe_press\"\\ndata-pid=\"920\"\\ndata-clk=\"sub\"\\n>구독</a\\n>\\n<a\\nhref=\"#\"\\nrole=\"button\"\\nclass=\"btn_popup _NM_NEWSSTAND_THUMB_unsubscribe_press\"\\ndata-pid=\"920\"\\ndata-clk=\"unsub\"\\n>해지</a\\n>\\n<a\\nhref=\"http://newsstand.naver.com/?list=&pcode=920\"\\ntarget=\"_blank\"\\nclass=\"btn_popup\"\\ndata-clk=\"logo\"\\ndata-pid=\"920\"\\n>기사보기</a\\n>\\n</div>\\n</div>\\n<div\\nclass=\"thumb_box _NM_NEWSSTAND_THUMB _NM_NEWSSTAND_THUMB_press_valid\"\\ndata-pid=\"940\"\\n>\\n<a href=\"#\" class=\"thumb\">\\n<img\\nsrc=\"https://s.pstatic.net/static/newsstand/up/2022/0328/nsd223244325.png\"\\nheight=\"20\"\\nalt=\"스포츠투데이\"\\nclass=\"news_logo\"\\n/>\\n<span class=\"thumb_dim\"></span\\n></a>\\n<div class=\"popup_wrap\">\\n<a\\nhref=\"#\"\\nrole=\"button\"\\nclass=\"btn_popup _NM_NEWSSTAND_THUMB_subscribe_press\"\\ndata-pid=\"940\"\\ndata-clk=\"sub\"\\n>구독</a\\n>\\n<a\\nhref=\"#\"\\nrole=\"button\"\\nclass=\"btn_popup _NM_NEWSSTAND_THUMB_unsubscribe_press\"\\ndata-pid=\"940\"\\ndata-clk=\"unsub\"\\n>해지</a\\n>\\n<a\\nhref=\"http://newsstand.naver.com/?list=&pcode=940\"\\ntarget=\"_blank\"\\nclass=\"btn_popup\"\\ndata-clk=\"logo\"\\ndata-pid=\"940\"\\n>기사보기</a\\n>\\n</div>\\n</div>\\n<div\\nclass=\"thumb_box _NM_NEWSSTAND_THUMB _NM_NEWSSTAND_THUMB_press_valid\"\\ndata-pid=\"997\"\\n>\\n<a href=\"#\" class=\"thumb\">\\n<img\\nsrc=\"https://s.pstatic.net/static/newsstand/up/2022/0405/nsd15024245.png\"\\nheight=\"20\"\\nalt=\"뉴스펭귄\"\\nclass=\"news_logo\"\\n/>\\n<span class=\"thumb_dim\"></span\\n></a>\\n<div class=\"popup_wrap\">\\n<a\\nhref=\"#\"\\nrole=\"button\"\\nclass=\"btn_popup _NM_NEWSSTAND_THUMB_subscribe_press\"\\ndata-pid=\"997\"\\ndata-clk=\"sub\"\\n>구독</a\\n>\\n<a\\nhref=\"#\"\\nrole=\"button\"\\nclass=\"btn_popup _NM_NEWSSTAND_THUMB_unsubscribe_press\"\\ndata-pid=\"997\"\\ndata-clk=\"unsub\"\\n>해지</a\\n>\\n<a\\nhref=\"http://newsstand.naver.com/?list=&pcode=997\"\\ntarget=\"_blank\"\\nclass=\"btn_popup\"\\ndata-clk=\"logo\"\\ndata-pid=\"997\"\\n>기사보기</a\\n>\\n</div>\\n</div>\\n<div\\nclass=\"thumb_box _NM_NEWSSTAND_THUMB _NM_NEWSSTAND_THUMB_press_valid\"\\ndata-pid=\"988\"\\n>\\n<a href=\"#\" class=\"thumb\">\\n<img\\nsrc=\"https://s.pstatic.net/static/newsstand/2020/logo/light/0604/988.png\"\\nheight=\"20\"\\nalt=\"이웃집과학자\"\\nclass=\"news_logo\"\\n/>\\n<span class=\"thumb_dim\"></span\\n></a>\\n<div class=\"popup_wrap\">\\n<a\\nhref=\"#\"\\nrole=\"button\"\\nclass=\"btn_popup _NM_NEWSSTAND_THUMB_subscribe_press\"\\ndata-pid=\"988\"\\ndata-clk=\"sub\"\\n>구독</a\\n>\\n<a\\nhref=\"#\"\\nrole=\"button\"\\nclass=\"btn_popup _NM_NEWSSTAND_THUMB_unsubscribe_press\"\\ndata-pid=\"988\"\\ndata-clk=\"unsub\"\\n>해지</a\\n>\\n<a\\nhref=\"http://newsstand.naver.com/?list=&pcode=988\"\\ntarget=\"_blank\"\\nclass=\"btn_popup\"\\ndata-clk=\"logo\"\\ndata-pid=\"988\"\\n>기사보기</a\\n>\\n</div>\\n</div>\\n<div\\nclass=\"thumb_box _NM_NEWSSTAND_THUMB _NM_NEWSSTAND_THUMB_press_valid\"\\ndata-pid=\"944\"\\n>\\n<a href=\"#\" class=\"thumb\">\\n<img\\nsrc=\"https://s.pstatic.net/static/newsstand/2020/logo/light/0604/944.png\"\\nheight=\"20\"\\nalt=\"나우뉴스\"\\nclass=\"news_logo\"\\n/>\\n<span class=\"thumb_dim\"></span\\n></a>\\n<div class=\"popup_wrap\">\\n<a\\nhref=\"#\"\\nrole=\"button\"\\nclass=\"btn_popup _NM_NEWSSTAND_THUMB_subscribe_press\"\\ndata-pid=\"944\"\\ndata-clk=\"sub\"\\n>구독</a\\n>\\n<a\\nhref=\"#\"\\nrole=\"button\"\\nclass=\"btn_popup _NM_NEWSSTAND_THUMB_unsubscribe_press\"\\ndata-pid=\"944\"\\ndata-clk=\"unsub\"\\n>해지</a\\n>\\n<a\\nhref=\"http://newsstand.naver.com/?list=&pcode=944\"\\ntarget=\"_blank\"\\nclass=\"btn_popup\"\\ndata-clk=\"logo\"\\ndata-pid=\"944\"\\n>기사보기</a\\n>\\n</div>\\n</div>\\n<div\\nclass=\"thumb_box _NM_NEWSSTAND_THUMB _NM_NEWSSTAND_THUMB_press_valid\"\\ndata-pid=\"810\"\\n>\\n<a href=\"#\" class=\"thumb\">\\n<img\\nsrc=\"https://s.pstatic.net/static/newsstand/up/2021/0316/nsd103953129.png\"\\nheight=\"20\"\\nalt=\"신아일보\"\\nclass=\"news_logo\"\\n/>\\n<span class=\"thumb_dim\"></span\\n></a>\\n<div class=\"popup_wrap\">\\n<a\\nhref=\"#\"\\nrole=\"button\"\\nclass=\"btn_popup _NM_NEWSSTAND_THUMB_subscribe_press\"\\ndata-pid=\"810\"\\ndata-clk=\"sub\"\\n>구독</a\\n>\\n<a\\nhref=\"#\"\\nrole=\"button\"\\nclass=\"btn_popup _NM_NEWSSTAND_THUMB_unsubscribe_press\"\\ndata-pid=\"810\"\\ndata-clk=\"unsub\"\\n>해지</a\\n>\\n<a\\nhref=\"http://newsstand.naver.com/?list=&pcode=810\"\\ntarget=\"_blank\"\\nclass=\"btn_popup\"\\ndata-clk=\"logo\"\\ndata-pid=\"810\"\\n>기사보기</a\\n>\\n</div>\\n</div>\\n<div\\nclass=\"thumb_box _NM_NEWSSTAND_THUMB _NM_NEWSSTAND_THUMB_press_valid\"\\ndata-pid=\"993\"\\n>\\n<a href=\"#\" class=\"thumb\">\\n<img\\nsrc=\"https://s.pstatic.net/static/newsstand/2020/logo/light/0604/993.png\"\\nheight=\"20\"\\nalt=\"허프포스트코리아\"\\nclass=\"news_logo\"\\n/>\\n<span class=\"thumb_dim\"></span\\n></a>\\n<div class=\"popup_wrap\">\\n<a\\nhref=\"#\"\\nrole=\"button\"\\nclass=\"btn_popup _NM_NEWSSTAND_THUMB_subscribe_press\"\\ndata-pid=\"993\"\\ndata-clk=\"sub\"\\n>구독</a\\n>\\n<a\\nhref=\"#\"\\nrole=\"button\"\\nclass=\"btn_popup _NM_NEWSSTAND_THUMB_unsubscribe_press\"\\ndata-pid=\"993\"\\ndata-clk=\"unsub\"\\n>해지</a\\n>\\n<a\\nhref=\"http://newsstand.naver.com/?list=&pcode=993\"\\ntarget=\"_blank\"\\nclass=\"btn_popup\"\\ndata-clk=\"logo\"\\ndata-pid=\"993\"\\n>기사보기</a\\n>\\n</div>\\n</div>\\n</div>\\n</div>\\n</div>\\n  </div> <div class=\"ly_popup NM_NEWSSTAND_POPUP NM_NEWSSTAND_invalid\" style=\"display:none\"> <a href=\"#\" role=\"button\" class=\"btn_close NM_NEWSSTAND_POPUP_CLOSE\"><i class=\"ico_close\"></i><span class=\"blind\">닫기</span></a> <p class=\"popup_msg\">해당 언론사 사정으로 접근이 제한됩니다.</p> <div class=\"popup_btn\"> <a href=\"#\" role=\"button\" class=\"btn_confirm NM_NEWSSTAND_POPUP_CLOSE\">확인</a> </div> </div> <div class=\"ly_popup NM_NEWSSTAND_POPUP NM_NEWSSTAND_undescribe_confirm\" style=\"display:none\" data-clk-sub=\"*a\"> <a href=\"#\" role=\"button\" class=\"btn_close NM_NEWSSTAND_POPUP_CLOSE\" data-clk=\"usclose\"><i class=\"ico_close\"></i><span class=\"blind\">닫기</span></a> <p class=\"popup_msg\"><strong class=\"NM_NEWSSTAND_POPUP_PNAME\"></strong>을(를)<br/>구독해지 하시겠습니까?</p> <div class=\"popup_btn\"> <a href=\"#\" role=\"button\" class=\"btn_confirm NM_NEWSSTAND_POPUP_CONFIRM\" data-clk=\"usdone\">확인</a> <a href=\"#\" role=\"button\" class=\"btn_confirm NM_NEWSSTAND_POPUP_CLOSE\" data-clk=\"uscancel\">취소</a> </div> </div> <div class=\"ly_toast NM_NEWSSTAND_TOAST\" style=\"display:none\"> <p class=\"toast_msg\">구독한 언론사에 추가되었습니다.</p> </div> </div> <div id=\"NM_NEWSSTAND_MY_LIST\" class=\"group_news\" role=\"tabpanel\" style=\"display:none\" data-clk-prefix=\"nsd_myn\"> <a href=\"#\" role=\"button\" class=\"pm_btn_prev_l _NM_NEWSSTAND_LIST_prev_btn\" data-clk-custom=\"prev\"><i class=\"ico_btn\"></i><span class=\"blind\">이전</span></a> <a href=\"#\" role=\"button\" class=\"pm_btn_next_l _NM_NEWSSTAND_LIST_next_btn\" data-clk-custom=\"next\"><i class=\"ico_btn\"></i><span class=\"blind\">다음</span><span class=\"blind\">다음</span></a> <div class=\"list_view\"> <div class=\"option_area\"> <div class=\"list_option_wrap\"> <ul class=\"list_option _NM_NEWSSTAND_MY_presslist\"> <!-- nvpaperlist:empty --> </ul> </div> </div> <div class=\"_NM_NEWSSTAND_ARTICLE_CONTAINER\" data-clk-sub=\"*a\">  </div> </div> <div class=\"ly_popup NM_NEWSSTAND_POPUP NM_NEWSSTAND_invalid\" style=\"display:none\"> <a href=\"#\" role=\"button\" class=\"btn_close NM_NEWSSTAND_POPUP_CLOSE\"><i class=\"ico_close\"></i><span class=\"blind\">닫기</span></a> <p class=\"popup_msg\">해당 언론사 사정으로 접근이 일시 제한됩니다.</p> <div class=\"popup_btn\"> <a href=\"#\" role=\"button\" class=\"btn_confirm NM_NEWSSTAND_POPUP_CLOSE\">확인</a> </div> </div> <div class=\"ly_popup NM_NEWSSTAND_POPUP NM_NEWSSTAND_undescribe_confirm\" style=\"display:none\" data-clk-sub=\"*a\"> <a href=\"#\" role=\"button\" class=\"btn_close NM_NEWSSTAND_POPUP_CLOSE\" data-clk=\"usclose\"><i class=\"ico_close\"></i><span class=\"blind\">닫기</span></a> <p class=\"popup_msg\"><strong class=\"NM_NEWSSTAND_POPUP_PNAME\"></strong>을(를)<br>구독해지 하시겠습니까?</p> <div class=\"popup_btn\"> <a href=\"#\" role=\"button\" class=\"btn_confirm NM_NEWSSTAND_POPUP_CONFIRM\" data-clk=\"usdone\">확인</a> <a href=\"#\" role=\"button\" class=\"btn_confirm NM_NEWSSTAND_POPUP_CLOSE\" data-clk=\"uscancel\">취소</a> </div> </div> </div> <div id=\"NM_NEWSSTAND_MY_THUMB\" class=\"group_news\" role=\"tabpanel\" style=\"display:none\" data-clk-prefix=\"nsd_myn\"> <a href=\"#\" role=\"button\" class=\"pm_btn_prev_l _NM_UI_PAGE_PREV\" data-clk-custom=\"prev\"><i class=\"ico_btn\"><span class=\"blind\">이전</span></i></a> <a href=\"#\" role=\"button\" class=\"pm_btn_next_l _NM_UI_PAGE_NEXT\" data-clk-custom=\"next\"><i class=\"ico_btn\"><span class=\"blind\">다음</span></i></a> <div class=\"_NM_UI_PAGE_CONTAINER\" data-clk-sub=\"*p\"></div> <div class=\"ly_popup NM_NEWSSTAND_POPUP NM_NEWSSTAND_invalid\" style=\"display:none\"> <a href=\"#\" role=\"button\" class=\"btn_close NM_NEWSSTAND_POPUP_CLOSE\"><i class=\"ico_close\"></i><span class=\"blind\">닫기</span></a> <p class=\"popup_msg\">해당 언론사 사정으로 접근이 제한됩니다.</p> <div class=\"popup_btn\"> <a href=\"#\" role=\"button\" class=\"btn_confirm NM_NEWSSTAND_POPUP_CLOSE\">확인</a> </div> </div> <div class=\"ly_popup NM_NEWSSTAND_POPUP NM_NEWSSTAND_undescribe_confirm\" style=\"display:none\" data-clk-sub=\"*a\"> <a href=\"#\" role=\"button\" class=\"btn_close NM_NEWSSTAND_POPUP_CLOSE\" data-clk=\"usclose\"><i class=\"ico_close\"></i><span class=\"blind\">닫기</span></a> <p class=\"popup_msg\"><strong class=\"NM_NEWSSTAND_POPUP_PNAME\"></strong>을(를)<br>구독해지 하시겠습니까?</p> <div class=\"popup_btn\"> <a href=\"#\" role=\"button\" class=\"btn_confirm NM_NEWSSTAND_POPUP_CONFIRM\" data-clk=\"usdone\">확인</a> <a href=\"#\" role=\"button\" class=\"btn_confirm NM_NEWSSTAND_POPUP_CLOSE\" data-clk=\"uscancel\">취소</a> </div> </div> </div> <div id=\"NM_NEWSSTAND_MY_EMPTY\" class=\"group_news\" role=\"tabpanel\" style=\"display:none\"> <div class=\"error_view\"> <div class=\"error_area\"> <strong class=\"error_msg\">구독한 언론사가 없습니다.</strong> <p class=\"dsc_msg\">언론사 구독 설정에서 관심있는 언론사를 구독하시면<br>언론사가 직접 편집한 뉴스들을 네이버 홈에서 바로 보실 수 있습니다.</p> <a href=\"http://newsstand.naver.com/config.html\" class=\"link_redirect\" target=\"_blank\">언론사 구독 설정하기</a> </div> </div> </div> </div> </div> <!-- EMPTY -->  <div id=\"NM_THEMECAST_CONTENTS_CONTAINER\"> <div id=\"themecast\" class=\"sc_themecast id_livinghome\" >\\n\\t<h2 class=\"blind\">주제별 캐스트</h2>\\n\\t<div class=\"theme_head\">\\n\\t\\t<div class=\"group_title\">\\n\\t<div class=\"title_area\">\\n\\t\\t<strong class=\"title\">오늘 읽을만한 글</strong><span class=\"dsc\">주제별로 분류된 다양한 글 모음</span>\\n\\t</div>\\n\\t<div class=\"info_area\">\\n\\t\\t\\n\\t\\t\\t<span class=\"info\"><strong class=\"new\">674</strong> 개의 글</span>\\n\\t\\t\\n\\t\\t<a id=\"NM_THEME_EDIT_SET\" href=\"#\" role=\"button\" class=\"btn_set\" data-clk=\"tca.like\">관심주제 설정</a>\\n\\t</div>\\n</div>\\n<div id=\"NM_THEME_CATE_GROUPS\" class=\"group_category\" data-demo-key=\"default\">\\n\\t<div class=\"main_category\">\\n\\t\\t<a href=\"#\" role=\"button\" class=\"pm_btn_prev NM_THEME_PREV\" data-clk=\"tct.prev\" style=\"display: none;\">\\n\\t\\t\\t<i class=\"ico_btn\"><span class=\"blind\">이전</span></i>\\n\\t\\t</a>\\n\\t\\t<a href=\"#\" role=\"button\" class=\"pm_btn_next NM_THEME_NEXT\" data-clk=\"tct.next\" style=\"display: none;\">\\n\\t\\t\\t<i class=\"ico_btn\"><span class=\"blind\">다음</span></i>\\n\\t\\t</a>\\n\\t\\t<div class=\"list_category_wrap\">\\n\\t\\t\\t<ul id=\"NM_THEME_CATE_LIST\" class=\"list_category\" role=\"tablist\" data-index=\"0\">\\n\\t\\t\\t\\t\\n\\t\\t\\t\\t\\t<li class=\"category_item\" role=\"presentation\">\\n\\t\\t\\t\\t\\t\\t\\n\\t\\t\\t\\t\\t\\t\\n\\t\\t\\t\\t\\t\\t<a href=\"#\" role=\"tab\" class=\"_NM_THEME_CATE tab id_enter\"\\n\\t\\t\\t\\t\\t\\t   aria-selected=\"false\"\\n\\t\\t\\t\\t\\t\\t   aria-controls=\"NM_THEME_CONTAINER\"\\n\\t\\t\\t\\t\\t\\t   data-clk=\"tct.tvc\" data-panel-code=\"ENTER\">엔터</a>\\n\\t\\t\\t\\t\\t</li>\\n\\t\\t\\t\\t\\n\\t\\t\\t\\t\\t<li class=\"category_item\" role=\"presentation\">\\n\\t\\t\\t\\t\\t\\t\\n\\t\\t\\t\\t\\t\\t\\n\\t\\t\\t\\t\\t\\t<a href=\"#\" role=\"tab\" class=\"_NM_THEME_CATE tab id_sports\"\\n\\t\\t\\t\\t\\t\\t   aria-selected=\"false\"\\n\\t\\t\\t\\t\\t\\t   aria-controls=\"NM_THEME_CONTAINER\"\\n\\t\\t\\t\\t\\t\\t   data-clk=\"tct.spo\" data-panel-code=\"SPORTS\">스포츠</a>\\n\\t\\t\\t\\t\\t</li>\\n\\t\\t\\t\\t\\n\\t\\t\\t\\t\\t<li class=\"category_item\" role=\"presentation\">\\n\\t\\t\\t\\t\\t\\t\\n\\t\\t\\t\\t\\t\\t\\n\\t\\t\\t\\t\\t\\t<a href=\"#\" role=\"tab\" class=\"_NM_THEME_CATE tab id_cargame\"\\n\\t\\t\\t\\t\\t\\t   aria-selected=\"false\"\\n\\t\\t\\t\\t\\t\\t   aria-controls=\"NM_THEME_CONTAINER\"\\n\\t\\t\\t\\t\\t\\t   data-clk=\"tct.aut\" data-panel-code=\"CARGAME\">자동차</a>\\n\\t\\t\\t\\t\\t</li>\\n\\t\\t\\t\\t\\n\\t\\t\\t\\t\\t<li class=\"category_item\" role=\"presentation\">\\n\\t\\t\\t\\t\\t\\t\\n\\t\\t\\t\\t\\t\\t\\n\\t\\t\\t\\t\\t\\t<a href=\"#\" role=\"tab\" class=\"_NM_THEME_CATE tab id_bboom\"\\n\\t\\t\\t\\t\\t\\t   aria-selected=\"false\"\\n\\t\\t\\t\\t\\t\\t   aria-controls=\"NM_THEME_CONTAINER\"\\n\\t\\t\\t\\t\\t\\t   data-clk=\"tct.web\" data-panel-code=\"BBOOM\">웹툰</a>\\n\\t\\t\\t\\t\\t</li>\\n\\t\\t\\t\\t\\n\\t\\t\\t\\t\\t<li class=\"category_item\" role=\"presentation\">\\n\\t\\t\\t\\t\\t\\t\\n\\t\\t\\t\\t\\t\\t\\n\\t\\t\\t\\t\\t\\t<a href=\"#\" role=\"tab\" class=\"_NM_THEME_CATE tab id_finance\"\\n\\t\\t\\t\\t\\t\\t   aria-selected=\"false\"\\n\\t\\t\\t\\t\\t\\t   aria-controls=\"NM_THEME_CONTAINER\"\\n\\t\\t\\t\\t\\t\\t   data-clk=\"tct.fin\" data-panel-code=\"FINANCE\">경제M</a>\\n\\t\\t\\t\\t\\t</li>\\n\\t\\t\\t\\t\\n\\t\\t\\t\\t\\t<li class=\"category_item\" role=\"presentation\">\\n\\t\\t\\t\\t\\t\\t\\n\\t\\t\\t\\t\\t\\t\\n\\t\\t\\t\\t\\t\\t<a href=\"#\" role=\"tab\" class=\"_NM_THEME_CATE tab id_myfeed\"\\n\\t\\t\\t\\t\\t\\t   aria-selected=\"false\"\\n\\t\\t\\t\\t\\t\\t   aria-controls=\"NM_THEME_CONTAINER\"\\n\\t\\t\\t\\t\\t\\t   data-clk=\"tct.sub\" data-panel-code=\"MYFEED\">추천<span class=\\'ico_middot\\'></span>구독</a>\\n\\t\\t\\t\\t\\t</li>\\n\\t\\t\\t\\t\\n\\t\\t\\t\\t\\t<li class=\"category_item\" role=\"presentation\">\\n\\t\\t\\t\\t\\t\\t\\n\\t\\t\\t\\t\\t\\t\\n\\t\\t\\t\\t\\t\\t<a href=\"#\" role=\"tab\" class=\"_NM_THEME_CATE tab id_living\"\\n\\t\\t\\t\\t\\t\\t   aria-selected=\"false\"\\n\\t\\t\\t\\t\\t\\t   aria-controls=\"NM_THEME_CONTAINER\"\\n\\t\\t\\t\\t\\t\\t   data-clk=\"tct.fod\" data-panel-code=\"LIVING\">레시피</a>\\n\\t\\t\\t\\t\\t</li>\\n\\t\\t\\t\\t\\n\\t\\t\\t\\t\\t<li class=\"category_item\" role=\"presentation\">\\n\\t\\t\\t\\t\\t\\t\\n\\t\\t\\t\\t\\t\\t\\n\\t\\t\\t\\t\\t\\t<a href=\"#\" role=\"tab\" class=\"_NM_THEME_CATE tab id_livinghome\"\\n\\t\\t\\t\\t\\t\\t   aria-selected=\"true\"\\n\\t\\t\\t\\t\\t\\t   aria-controls=\"NM_THEME_CONTAINER\"\\n\\t\\t\\t\\t\\t\\t   data-clk=\"tct.lif\" data-panel-code=\"LIVINGHOME\">리빙</a>\\n\\t\\t\\t\\t\\t</li>\\n\\t\\t\\t\\t\\n\\t\\t\\t\\t\\t<li class=\"category_item\" role=\"presentation\">\\n\\t\\t\\t\\t\\t\\t\\n\\t\\t\\t\\t\\t\\t\\n\\t\\t\\t\\t\\t\\t<a href=\"#\" role=\"tab\" class=\"_NM_THEME_CATE tab id_culture\"\\n\\t\\t\\t\\t\\t\\t   aria-selected=\"false\"\\n\\t\\t\\t\\t\\t\\t   aria-controls=\"NM_THEME_CONTAINER\"\\n\\t\\t\\t\\t\\t\\t   data-clk=\"tct.bok\" data-panel-code=\"CULTURE\">책방</a>\\n\\t\\t\\t\\t\\t</li>\\n\\t\\t\\t\\t\\n\\t\\t\\t\\t\\t<li class=\"category_item\" role=\"presentation\">\\n\\t\\t\\t\\t\\t\\t\\n\\t\\t\\t\\t\\t\\t\\n\\t\\t\\t\\t\\t\\t<a href=\"#\" role=\"tab\" class=\"_NM_THEME_CATE tab id_beauty\"\\n\\t\\t\\t\\t\\t\\t   aria-selected=\"false\"\\n\\t\\t\\t\\t\\t\\t   aria-controls=\"NM_THEME_CONTAINER\"\\n\\t\\t\\t\\t\\t\\t   data-clk=\"tct.bty\" data-panel-code=\"BEAUTY\">패션뷰티</a>\\n\\t\\t\\t\\t\\t</li>\\n\\t\\t\\t\\t\\n\\t\\t\\t</ul>\\n\\t\\t</div>\\n\\t</div>\\n</div>\\n\\n\\t</div>\\n\\t<div id=\"NM_THEME_CONTAINER\" class=\"theme_cont\" role=\"tabpanel\" data-panel-code=\"LIVINGHOME\" data-parent-code=\"\">\\n\\t\\t\\n<div class=\"group_theme\" data-block-id=\"\" data-block-code=\"PC-THEME-LIVINGHOME-MOBILE-RANKING-DEFAULT-0\" data-block-type=\"MATERIALS\" data-template-code=\"MOBILE-RANKING-LIST\"\\n\\n\\t data-da=\"container\"\\n\\t data-index=\"\"\\n     data-page=\"1\"\\n\\t >\\n\\n\\t<div class=\"list_theme_wrap\">\\n\\t\\t<ul class=\"list_theme\">\\n\\t\\t\\t\\n\\t\\t\\t\\t<li class=\"theme_item\" data-gdid=\"62bfbeff5d5e6b557363d207\" data-da-position=\"true\">\\n\\t\\t\\t\\t\\t<a href=\"https://blog.naver.com/p07201214/222795577328\" class=\"theme_thumb\" data-clk=\"tcc_lif.list1cont1\" target=\"_blank\">\\n\\t\\t\\t\\t\\t\\t<img src=\"https://s.pstatic.net/dthumb.phinf/?src&#x3D;%22https%3A%2F%2Fs.pstatic.net%2Fshop.phinf%2F20220702_262%2F1656733365536ep209_JPEG%2F750_13.jpg%22&amp;type&#x3D;nf340_228\" data-src=\"https://s.pstatic.net/dthumb.phinf/?src&#x3D;%22https%3A%2F%2Fs.pstatic.net%2Fshop.phinf%2F20220702_262%2F1656733365536ep209_JPEG%2F750_13.jpg%22&amp;type&#x3D;nf340_228\" alt=\"아기가 있는 집, 거실 \" width=\"170\" height=\"114\" onerror=\"this.outerHTML=\\'<span class=\\\\\\'pm_noimg\\\\\\'><span class=\\\\\\'noimg_text\\\\\\'>이미지 준비중</span></span>\\'\">\\n\\t\\t\\t\\t\\t\\t<span class=\"thumb_bd\"></span>\\n                        \\n\\t\\t\\t\\t\\t</a>\\n\\t\\t\\t\\t\\t<a href=\"https://blog.naver.com/p07201214/222795577328\" class=\"theme_info\" data-clk=\"tcc_lif.list1cont1\" target=\"_blank\">\\n\\t\\t\\t\\t\\t\\t<em class=\"theme_category\"> 리빙</em>\\n\\t\\t\\t\\t\\t\\t<strong class=\"title elss\">아기가 있는 집, 거실 </strong>\\n                        <p class=\"desc\">아기가 있는 집의 변화는 끝이 없다. 불과 몇개월 사이에 달라지는 아가의 성장은 너무나 놀랍다. 심지어 몇일 사이에도 진화하는 모습에 놀라고 있는 16개월 촉촉이가 있는 우리집 🏡 https://www.instagram.com/reel/CdmmpXyJW06/?igshid&#x3D;YmMyMTA2M2Y&#x3D; 인스타에 남겨둔 릴스 ㅎㅎ 더 넣고 싶은 사진은 많지만 우리집</p>\\n\\t\\t\\t\\t\\t\\t<div class=\"source_box\">\\n\\t\\t\\t\\t\\t\\t\\t<span class=\"date\">3일 전</span>\\n\\t\\t\\t\\t\\t\\t\\t<span class=\"source\">\\n                                \\n                                <span class=\"source_inner\">촉촉엔젤</span>\\n                            </span>\\n\\t\\t\\t\\t\\t\\t</div>\\n\\t\\t\\t\\t\\t</a>\\n\\t\\t\\t\\t</li>\\n\\t\\t\\t\\n\\t\\t\\t\\t<li class=\"theme_item\" data-gdid=\"62c1a21a5d5e6b557363d263\" data-da-position=\"true\">\\n\\t\\t\\t\\t\\t<a href=\"https://blog.naver.com/lovejgs2a/222792671088\" class=\"theme_thumb\" data-clk=\"tcc_lif.list1cont2\" target=\"_blank\">\\n\\t\\t\\t\\t\\t\\t<img src=\"https://s.pstatic.net/dthumb.phinf/?src&#x3D;%22https%3A%2F%2Fs.pstatic.net%2Fshop.phinf%2F20220629_131%2F1656501956531wION1_JPEG%2F336_6.jpg%22&amp;type&#x3D;nf340_228\" data-src=\"https://s.pstatic.net/dthumb.phinf/?src&#x3D;%22https%3A%2F%2Fs.pstatic.net%2Fshop.phinf%2F20220629_131%2F1656501956531wION1_JPEG%2F336_6.jpg%22&amp;type&#x3D;nf340_228\" alt=\"수면에만 집중할 수 있도록, 인테리어 소품을 줄인 안방 \" width=\"170\" height=\"114\" onerror=\"this.outerHTML=\\'<span class=\\\\\\'pm_noimg\\\\\\'><span class=\\\\\\'noimg_text\\\\\\'>이미지 준비중</span></span>\\'\">\\n\\t\\t\\t\\t\\t\\t<span class=\"thumb_bd\"></span>\\n                        \\n\\t\\t\\t\\t\\t</a>\\n\\t\\t\\t\\t\\t<a href=\"https://blog.naver.com/lovejgs2a/222792671088\" class=\"theme_info\" data-clk=\"tcc_lif.list1cont2\" target=\"_blank\">\\n\\t\\t\\t\\t\\t\\t<em class=\"theme_category\"> 리빙</em>\\n\\t\\t\\t\\t\\t\\t<strong class=\"title elss\">수면에만 집중할 수 있도록, 인테리어 소품을 줄인 안방 </strong>\\n                        <p class=\"desc\">지난번엔 너무 숙취얘기만 쓴 것 같아서 다시 제대로 기록해보는 우리집 안방. 아시는분들은 아시겠지만 우리집에서 안방은 ‘회복실’로 불린다. 안방을 회복실이라고 부르게 된 이유는 정말 잠이 잘 오는 방이어서 한숨 푹 자고 나면 회복되는 기분이 든다. 몇 번 자고 간 친구들은 &#x27;잠맛집’ 이라고 말할 정도 ㅎㅎ 안방은 최대한 수면에만 집중하는 공간으로 만들고 싶</p>\\n\\t\\t\\t\\t\\t\\t<div class=\"source_box\">\\n\\t\\t\\t\\t\\t\\t\\t<span class=\"date\">5일 전</span>\\n\\t\\t\\t\\t\\t\\t\\t<span class=\"source\">\\n                                \\n                                <span class=\"source_inner\">됴미</span>\\n                            </span>\\n\\t\\t\\t\\t\\t\\t</div>\\n\\t\\t\\t\\t\\t</a>\\n\\t\\t\\t\\t</li>\\n\\t\\t\\t\\n\\t\\t\\t\\t<li class=\"theme_item\" data-gdid=\"62bfbeff5d5e6b557363d209\" data-da-position=\"true\">\\n\\t\\t\\t\\t\\t<a href=\"https://post.naver.com/viewer/postView.naver?volumeNo&#x3D;33772986&amp;memberNo&#x3D;24659848\" class=\"theme_thumb\" data-clk=\"tcc_lif.list1cont3\" target=\"_blank\">\\n\\t\\t\\t\\t\\t\\t<img src=\"https://s.pstatic.net/dthumb.phinf/?src&#x3D;%22https%3A%2F%2Fs.pstatic.net%2Fshop.phinf%2F20220703_104%2F1656857014243XGktP_JPEG%2F336_2.jpg%22&amp;type&#x3D;nf340_228\" data-src=\"https://s.pstatic.net/dthumb.phinf/?src&#x3D;%22https%3A%2F%2Fs.pstatic.net%2Fshop.phinf%2F20220703_104%2F1656857014243XGktP_JPEG%2F336_2.jpg%22&amp;type&#x3D;nf340_228\" alt=\"길쭉한 모양의 대지, 단점을 장점으로 바꾼 단독주택\" width=\"170\" height=\"114\" onerror=\"this.outerHTML=\\'<span class=\\\\\\'pm_noimg\\\\\\'><span class=\\\\\\'noimg_text\\\\\\'>이미지 준비중</span></span>\\'\">\\n\\t\\t\\t\\t\\t\\t<span class=\"thumb_bd\"></span>\\n                        \\n\\t\\t\\t\\t\\t</a>\\n\\t\\t\\t\\t\\t<a href=\"https://post.naver.com/viewer/postView.naver?volumeNo&#x3D;33772986&amp;memberNo&#x3D;24659848\" class=\"theme_info\" data-clk=\"tcc_lif.list1cont3\" target=\"_blank\">\\n\\t\\t\\t\\t\\t\\t<em class=\"theme_category\"> 리빙</em>\\n\\t\\t\\t\\t\\t\\t<strong class=\"title elss\">길쭉한 모양의 대지, 단점을 장점으로 바꾼 단독주택</strong>\\n                        <p class=\"desc\">전문가란 특정 분야에 넓은 경험과 깊은 식견을 갖춘 사람을 일컫는 말이다. 하지만 때때로 이러한 전문성은 불통의 원인이 되기도 한다. 자신이 가진 지식이 누구나 아는 상식이라고 간주할 때 이런 문제가 발생한다. 이를 ‘지식인의 저주’라고 한다. 즉, 전문가는 일반의 눈높이를 망각할 때 독선적이거나 소통에 실패할 가능성이 높다. 활성리 </p>\\n\\t\\t\\t\\t\\t\\t<div class=\"source_box\">\\n\\t\\t\\t\\t\\t\\t\\t<span class=\"date\">3일 전</span>\\n\\t\\t\\t\\t\\t\\t\\t<span class=\"source\">\\n                                \\n                                <span class=\"source_inner\">전원주택라이프</span>\\n                            </span>\\n\\t\\t\\t\\t\\t\\t</div>\\n\\t\\t\\t\\t\\t</a>\\n\\t\\t\\t\\t</li>\\n\\t\\t\\t\\n\\t\\t\\t\\t<li class=\"theme_item\" data-gdid=\"62bc2b3f6152d317516b89b4\" data-da-position=\"true\">\\n\\t\\t\\t\\t\\t<a href=\"https://blog.naver.com/pumpkin_sw/222791695425\" class=\"theme_thumb\" data-clk=\"tcc_lif.list1cont4\" target=\"_blank\">\\n\\t\\t\\t\\t\\t\\t<img src=\"https://s.pstatic.net/dthumb.phinf/?src&#x3D;%22https%3A%2F%2Fs.pstatic.net%2Fshop.phinf%2F20220629_284%2F1656499006885yfO4P_JPEG%2FD6C2CE72-254A-473A-AACE-8231D318C338.jpg%22&amp;type&#x3D;nf340_228\" data-src=\"https://s.pstatic.net/dthumb.phinf/?src&#x3D;%22https%3A%2F%2Fs.pstatic.net%2Fshop.phinf%2F20220629_284%2F1656499006885yfO4P_JPEG%2FD6C2CE72-254A-473A-AACE-8231D318C338.jpg%22&amp;type&#x3D;nf340_228\" alt=\"환경을 생각하는 똑똑한 살림\" width=\"170\" height=\"114\" onerror=\"this.outerHTML=\\'<span class=\\\\\\'pm_noimg\\\\\\'><span class=\\\\\\'noimg_text\\\\\\'>이미지 준비중</span></span>\\'\">\\n\\t\\t\\t\\t\\t\\t<span class=\"thumb_bd\"></span>\\n                        \\n\\t\\t\\t\\t\\t</a>\\n\\t\\t\\t\\t\\t<a href=\"https://blog.naver.com/pumpkin_sw/222791695425\" class=\"theme_info\" data-clk=\"tcc_lif.list1cont4\" target=\"_blank\">\\n\\t\\t\\t\\t\\t\\t<em class=\"theme_category\"> 리빙</em>\\n\\t\\t\\t\\t\\t\\t<strong class=\"title elss\">환경을 생각하는 똑똑한 살림</strong>\\n                        <p class=\"desc\">올해는 유난히 더위가 빨리 찾아온 것 같아요. 저는 지금 살고 있는 집에서 두 번째 여름을 맞이하고 있는데요. 이 곳에 이사오면서 부터 환경에 대한 관심이 많아져 꾸준히 제로웨이스트를 실천하고 있어요. 오늘은 그 동안 사용해 왔던 제로웨이스트 제품 중에서 잘 쓰고 있는 몇 가지를 소개해볼까 해요. 오늘 소개하는 제품은 1년 이상 쓴 제품도 있고, 올해 쓰기</p>\\n\\t\\t\\t\\t\\t\\t<div class=\"source_box\">\\n\\t\\t\\t\\t\\t\\t\\t<span class=\"date\">6일 전</span>\\n\\t\\t\\t\\t\\t\\t\\t<span class=\"source\">\\n                                \\n                                <span class=\"source_inner\">Aanon</span>\\n                            </span>\\n\\t\\t\\t\\t\\t\\t</div>\\n\\t\\t\\t\\t\\t</a>\\n\\t\\t\\t\\t</li>\\n\\t\\t\\t\\n\\t\\t</ul>\\n\\t</div>\\n</div>\\n<div class=\"group_theme\" data-block-id=\"\" data-block-code=\"PC-THEME-LIVINGHOME-MOBILE-RANKING-DEFAULT-1\" data-block-type=\"MATERIALS\" data-template-code=\"MOBILE-RANKING-LIST\"\\n\\n\\t data-da=\"container\"\\n\\t data-index=\"\"\\n     data-page=\"1\"\\n\\t >\\n\\n\\t<div class=\"list_theme_wrap\">\\n\\t\\t<ul class=\"list_theme\">\\n\\t\\t\\t\\n\\t\\t\\t\\t<li class=\"theme_item\" data-gdid=\"62bc2b3f6152d317516b89b6\" data-da-position=\"true\">\\n\\t\\t\\t\\t\\t<a href=\"https://blog.naver.com/shinbi_bangb2/222749368105\" class=\"theme_thumb\" data-clk=\"tcc_lif.list2cont1\" target=\"_blank\">\\n\\t\\t\\t\\t\\t\\t<img src=\"https://s.pstatic.net/dthumb.phinf/?src&#x3D;%22https%3A%2F%2Fs.pstatic.net%2Fshop.phinf%2F20220630_224%2F16565726262368HW3q_JPEG%2Fqdw.jpg%22&amp;type&#x3D;nf340_228\" data-src=\"https://s.pstatic.net/dthumb.phinf/?src&#x3D;%22https%3A%2F%2Fs.pstatic.net%2Fshop.phinf%2F20220630_224%2F16565726262368HW3q_JPEG%2Fqdw.jpg%22&amp;type&#x3D;nf340_228\" alt=\"화려할수록 귀여워요, 여름 비즈 팔찌 만들기 \" width=\"170\" height=\"114\" onerror=\"this.outerHTML=\\'<span class=\\\\\\'pm_noimg\\\\\\'><span class=\\\\\\'noimg_text\\\\\\'>이미지 준비중</span></span>\\'\">\\n\\t\\t\\t\\t\\t\\t<span class=\"thumb_bd\"></span>\\n                        \\n\\t\\t\\t\\t\\t</a>\\n\\t\\t\\t\\t\\t<a href=\"https://blog.naver.com/shinbi_bangb2/222749368105\" class=\"theme_info\" data-clk=\"tcc_lif.list2cont1\" target=\"_blank\">\\n\\t\\t\\t\\t\\t\\t<em class=\"theme_category\"> 리빙</em>\\n\\t\\t\\t\\t\\t\\t<strong class=\"title elss\">화려할수록 귀여워요, 여름 비즈 팔찌 만들기 </strong>\\n                        <p class=\"desc\">오랜만에 언니들 만나러 가는데 빈손으로 가기 심심해서 저번에 비즈 사논게 생각나서 비즈팔찌를 만들어 봤어요 ٩(✿∂‿∂✿)۶ 팔찌라서 줄은 우레탄줄을 사용했습니다. 우레탄줄은 이렇게 쭉쭉 늘어나요. 이렇게도 껴보고 저렇게도 껴보고 하면서 이렇게 알록달록하게 완성했어요ㅎㅎ 꽃 알파벳 비즈는 필요한 알파벳이 부족해서 원형 야광 알파벳 비즈로 이니셜을 만들었어.</p>\\n\\t\\t\\t\\t\\t\\t<div class=\"source_box\">\\n\\t\\t\\t\\t\\t\\t\\t<span class=\"date\">3주일 전</span>\\n\\t\\t\\t\\t\\t\\t\\t<span class=\"source\">\\n                                \\n                                <span class=\"source_inner\">방비</span>\\n                            </span>\\n\\t\\t\\t\\t\\t\\t</div>\\n\\t\\t\\t\\t\\t</a>\\n\\t\\t\\t\\t</li>\\n\\t\\t\\t\\n\\t\\t\\t\\t<li class=\"theme_item\" data-gdid=\"a21f60a2-f745-4abd-b694-2b2ea367b921-b186a1b0-b166-43bf-8197-20b482af305b\" data-da-position=\"true\">\\n\\t\\t\\t\\t\\t<a href=\"https://blog.naver.com/qpplm5018/222796364127\" class=\"theme_thumb\" data-clk=\"tcc_lif.list2cont2\" target=\"_blank\">\\n\\t\\t\\t\\t\\t\\t<img src=\"https://s.pstatic.net/dthumb.phinf/?src&#x3D;%22https%3A%2F%2Fs.pstatic.net%2Fshop.phinf%2F20220702_152%2F1656732102524lTS2B_JPEG%2F750_35.jpg%22&amp;type&#x3D;nf340_228\" data-src=\"https://s.pstatic.net/dthumb.phinf/?src&#x3D;%22https%3A%2F%2Fs.pstatic.net%2Fshop.phinf%2F20220702_152%2F1656732102524lTS2B_JPEG%2F750_35.jpg%22&amp;type&#x3D;nf340_228\" alt=\"살면서 하는 주방 리모델링\" width=\"170\" height=\"114\" onerror=\"this.outerHTML=\\'<span class=\\\\\\'pm_noimg\\\\\\'><span class=\\\\\\'noimg_text\\\\\\'>이미지 준비중</span></span>\\'\">\\n\\t\\t\\t\\t\\t\\t<span class=\"thumb_bd\"></span>\\n                        \\n\\t\\t\\t\\t\\t</a>\\n\\t\\t\\t\\t\\t<a href=\"https://blog.naver.com/qpplm5018/222796364127\" class=\"theme_info\" data-clk=\"tcc_lif.list2cont2\" target=\"_blank\">\\n\\t\\t\\t\\t\\t\\t<em class=\"theme_category\"> 리빙</em>\\n\\t\\t\\t\\t\\t\\t<strong class=\"title elss\">살면서 하는 주방 리모델링</strong>\\n                        <p class=\"desc\">리모델링을 하기로 마음먹고 업체 선정부터 시작해서 여러 번의 미팅 끝에 드디어 잡힌 공사 일정🙋🏻♀️ 우리가 계약한 업체는 인테리어 전문이 아닌 주방 싱크대 전문 업체였고, 막상 공사를 진행해 보니 불편하고 답답한 점이 많았다. 진행과정이 모두 맘에 들지는 않았지만 그래도 어쨌든 큰 문제 없이 공사는 잘 마무리됐기에 이 정도면 꽤 만족하는 리모델링이다.</p>\\n\\t\\t\\t\\t\\t\\t<div class=\"source_box\">\\n\\t\\t\\t\\t\\t\\t\\t<span class=\"date\">2일 전</span>\\n\\t\\t\\t\\t\\t\\t\\t<span class=\"source\">\\n                                \\n                                <span class=\"source_inner\">감자룸</span>\\n                            </span>\\n\\t\\t\\t\\t\\t\\t</div>\\n\\t\\t\\t\\t\\t</a>\\n\\t\\t\\t\\t</li>\\n\\t\\t\\t\\n\\t\\t\\t\\t<li class=\"theme_item\" data-gdid=\"83b223d2-23d3-48d5-899a-ca66c0675731-3d618c84-ffdc-45cb-9a43-19f25e3f063d\" data-da-position=\"true\">\\n\\t\\t\\t\\t\\t<a href=\"https://blog.naver.com/nuurui/222788244387\" class=\"theme_thumb\" data-clk=\"tcc_lif.list2cont3\" target=\"_blank\">\\n\\t\\t\\t\\t\\t\\t<img src=\"https://s.pstatic.net/dthumb.phinf/?src&#x3D;%22https%3A%2F%2Fs.pstatic.net%2Fshop.phinf%2F20220702_285%2F1656767525566Im2fN_JPEG%2F336_4.jpg%22&amp;type&#x3D;nf340_228\" data-src=\"https://s.pstatic.net/dthumb.phinf/?src&#x3D;%22https%3A%2F%2Fs.pstatic.net%2Fshop.phinf%2F20220702_285%2F1656767525566Im2fN_JPEG%2F336_4.jpg%22&amp;type&#x3D;nf340_228\" alt=\"우리 집은 거의 식물원, 장마철 식친자 라이프 #플랜테리어\" width=\"170\" height=\"114\" onerror=\"this.outerHTML=\\'<span class=\\\\\\'pm_noimg\\\\\\'><span class=\\\\\\'noimg_text\\\\\\'>이미지 준비중</span></span>\\'\">\\n\\t\\t\\t\\t\\t\\t<span class=\"thumb_bd\"></span>\\n                        \\n\\t\\t\\t\\t\\t</a>\\n\\t\\t\\t\\t\\t<a href=\"https://blog.naver.com/nuurui/222788244387\" class=\"theme_info\" data-clk=\"tcc_lif.list2cont3\" target=\"_blank\">\\n\\t\\t\\t\\t\\t\\t<em class=\"theme_category\"> 리빙</em>\\n\\t\\t\\t\\t\\t\\t<strong class=\"title elss\">우리 집은 거의 식물원, 장마철 식친자 라이프 #플랜테리어</strong>\\n                        <p class=\"desc\">요즘 친구랑 식물에 미친사람이라고 “식친자” 라는 말을 쓰는데 딱인 듯 장마철이라 집 습도계 습도가 70퍼를 찍었는데 ‘아 습하다 제습기 켜야지’ 가 아니라 “오??식물 겁나 잘 자라겠는데? 개꿀” 이러고 그대로 습한대로 두고 밖에 나간다. 나가는 길에, 플라스틱 통 하나 밖에 내어두고 빗물 받는 것은 잊지않기! 빗물이 식물들에게는 보약이라고 한다 *수돗물</p>\\n\\t\\t\\t\\t\\t\\t<div class=\"source_box\">\\n\\t\\t\\t\\t\\t\\t\\t<span class=\"date\">1주일 전</span>\\n\\t\\t\\t\\t\\t\\t\\t<span class=\"source\">\\n                                \\n                                <span class=\"source_inner\">newuri</span>\\n                            </span>\\n\\t\\t\\t\\t\\t\\t</div>\\n\\t\\t\\t\\t\\t</a>\\n\\t\\t\\t\\t</li>\\n\\t\\t\\t\\n\\t\\t\\t\\t<li class=\"theme_item\" data-gdid=\"cdfa62d0-13c7-4222-a5d7-0bd6489a6c53-5f8fccf2-d90f-4a6f-a77b-c20b1a05f19c\" data-da-position=\"true\">\\n\\t\\t\\t\\t\\t<a href=\"https://post.naver.com/viewer/postView.naver?volumeNo&#x3D;34054862&amp;memberNo&#x3D;29772279\" class=\"theme_thumb\" data-clk=\"tcc_lif.list2cont4\" target=\"_blank\">\\n\\t\\t\\t\\t\\t\\t<img src=\"https://s.pstatic.net/dthumb.phinf/?src&#x3D;%22https%3A%2F%2Fs.pstatic.net%2Fshop.phinf%2F20220702_226%2F1656732128267QdTeb_JPEG%2F336_40.jpg%22&amp;type&#x3D;nf340_228\" data-src=\"https://s.pstatic.net/dthumb.phinf/?src&#x3D;%22https%3A%2F%2Fs.pstatic.net%2Fshop.phinf%2F20220702_226%2F1656732128267QdTeb_JPEG%2F336_40.jpg%22&amp;type&#x3D;nf340_228\" alt=\"완벽한 사생활 보호, 밝은 채광을 확보한 숲세권 전원주택 \" width=\"170\" height=\"114\" onerror=\"this.outerHTML=\\'<span class=\\\\\\'pm_noimg\\\\\\'><span class=\\\\\\'noimg_text\\\\\\'>이미지 준비중</span></span>\\'\">\\n\\t\\t\\t\\t\\t\\t<span class=\"thumb_bd\"></span>\\n                        \\n\\t\\t\\t\\t\\t</a>\\n\\t\\t\\t\\t\\t<a href=\"https://post.naver.com/viewer/postView.naver?volumeNo&#x3D;34054862&amp;memberNo&#x3D;29772279\" class=\"theme_info\" data-clk=\"tcc_lif.list2cont4\" target=\"_blank\">\\n\\t\\t\\t\\t\\t\\t<em class=\"theme_category\"> 리빙</em>\\n\\t\\t\\t\\t\\t\\t<strong class=\"title elss\">완벽한 사생활 보호, 밝은 채광을 확보한 숲세권 전원주택 </strong>\\n                        <p class=\"desc\">천혜의\\xa0자연경관\\xa0남양주\\xa0숲세권이\\xa0이마에\\xa0걸려\\xa0있는\\xa0이\\xa0집은\\xa0컬러\\xa0사용을\\xa0최대한\\xa0절제함으로써\\xa0잘\\xa0가꾸어진\\xa0조경과\\xa0함께\\xa0외부\\xa0풍광에\\xa0모던하게\\xa0녹아드는\\xa0건축물이다.필지의\\xa0다각도\\xa0면을\\xa0활용한\\xa0배치\\xa0및\\xa0형태로\\xa0주방\\xa0옆\\xa0부분의\\xa0외부\\xa0활용도를\\xa0높이기\\xa0위해\\xa0서쪽과\\xa0북쪽으로\\xa0배치한\\xa0것이\\xa0포인트다.\\xa0서쪽의\\xa0농지와\\xa0분리하면서\\xa0창호를\\xa0설치하지\\xa0않음으로써\\xa0사생활보호에\\xa0신경을\\xa0썼다</p>\\n\\t\\t\\t\\t\\t\\t<div class=\"source_box\">\\n\\t\\t\\t\\t\\t\\t\\t<span class=\"date\">3일 전</span>\\n\\t\\t\\t\\t\\t\\t\\t<span class=\"source\">\\n                                \\n                                <span class=\"source_inner\">나무신문</span>\\n                            </span>\\n\\t\\t\\t\\t\\t\\t</div>\\n\\t\\t\\t\\t\\t</a>\\n\\t\\t\\t\\t</li>\\n\\t\\t\\t\\n\\t\\t</ul>\\n\\t</div>\\n</div>\\n<div class=\"group_theme _NM_API_UI\" data-ui-circular=\"false\" data-block-id=\"5edf1cb2d6902f284e3b826d\" data-block-code=\"\" data-block-type=\"BLOCKS\" data-template-code=\"FLICKING-IMAGE3\"\\n\\n    >\\n    <div class=\"theme_title\">\\n        <a href=\"https://happybean.naver.com/\" class=\"title\" target=\"_blank\"\\n            data-clk=\"tcc_lif.happytitle\">오늘 가장 따뜻한 클릭</a>\\n    </div>\\n    <div class=\" media_view_wrap type_flick\">\\n        <a href=\"#\" role=\"button\" class=\"pm_btn_prev _NM_UI_PAGE_PREV\" data-clk=\"tcc_lif.happypre\"><i\\n                class=\"ico_btn\"><span class=\"blind\">이전</span></i></a>\\n        <a href=\"#\" role=\"button\" class=\"pm_btn_next _NM_UI_PAGE_NEXT\" data-clk=\"tcc_lif.happynext\"><i\\n                class=\"ico_btn\"><span class=\"blind\">다음</span></i></a>\\n        <div class=\"_NM_UI_PAGE_CONTAINER\" style=\"overflow: hidden; height: 240px;\">\\n            \\n            <div style=\"width:750px\">\\n                <div class=\"media_view\">\\n                    \\n                    <a href=\"https://happybean.naver.com/fundings/detail/F566?p&#x3D;p&amp;s&#x3D;nmlp\" target=\"_blank\" class=\"media_area\" data-gdid=\"F566\"\\n                        data-clk=\"tcc_lif.happycon1\">\\n                        <div class=\"media_thumb\">\\n                            <img src=\"https://happybean-phinf.pstatic.net/20220630_284/1656578262724WytNw_JPEG/EBB0B1ECB0A98.jpg?type&#x3D;f464_260\" alt=\"\" width=\"232\" height=\"130\" onerror=\"this.outerHTML=\\'<span class=\\\\\\'pm_noimg\\\\\\'><span class=\\\\\\'noimg_text\\\\\\'>이미지 준비중</span></span>\\'\">\\n                            <span class=\"thumb_bd\"></span>\\n                            <em class=\"theme_badge\"><span class=\"badge_inner\">펀딩</span></em>\\n                        </div>\\n                        <div class=\"media_info\">\\n                            <div class=\"info_box\">\\n                                <strong class=\"title\">자투리 원단을 활용하여 만든 업사이클링 가방</strong>\\n                                <div class=\"source_wrap\">\\n                                    <span class=\"dsc\"><em class=\"theme_hl\">251%</em> 달성</span>\\n                                    <span class=\"source\"><span class=\"source_inner\">에코파티메아리</span></span>\\n                                </div>\\n                            </div>\\n                        </div>\\n                    </a>\\n                    \\n                    <a href=\"https://happybean.naver.com/fundings/detail/F557?p&#x3D;p&amp;s&#x3D;nmlp\" target=\"_blank\" class=\"media_area\" data-gdid=\"F557\"\\n                        data-clk=\"tcc_lif.happycon2\">\\n                        <div class=\"media_thumb\">\\n                            <img src=\"https://happybean-phinf.pstatic.net/20220620_250/1655690872971Xu6IU_JPEG/%A6%E1%B5%E1_th.jpg?type&#x3D;f464_260\" alt=\"\" width=\"232\" height=\"130\" onerror=\"this.outerHTML=\\'<span class=\\\\\\'pm_noimg\\\\\\'><span class=\\\\\\'noimg_text\\\\\\'>이미지 준비중</span></span>\\'\">\\n                            <span class=\"thumb_bd\"></span>\\n                            <em class=\"theme_badge\"><span class=\"badge_inner\">펀딩</span></em>\\n                        </div>\\n                        <div class=\"media_info\">\\n                            <div class=\"info_box\">\\n                                <strong class=\"title\">유기동물을 돕는 제주 댕냥이 장난감</strong>\\n                                <div class=\"source_wrap\">\\n                                    <span class=\"dsc\"><em class=\"theme_hl\">701%</em> 달성</span>\\n                                    <span class=\"source\"><span class=\"source_inner\">레미투미</span></span>\\n                                </div>\\n                            </div>\\n                        </div>\\n                    </a>\\n                    \\n                    <a href=\"https://happybean.naver.com/donations/H000000185115?p&#x3D;p&amp;s&#x3D;nmlp\" target=\"_blank\" class=\"media_area\" data-gdid=\"H000000185115\"\\n                        data-clk=\"tcc_lif.happycon3\">\\n                        <div class=\"media_thumb\">\\n                            <img src=\"https://happybean-phinf.pstatic.net/20220621_212/16558081838589spzK_JPEG/thumb.jpg?type&#x3D;f464_260\" alt=\"\" width=\"232\" height=\"130\" onerror=\"this.outerHTML=\\'<span class=\\\\\\'pm_noimg\\\\\\'><span class=\\\\\\'noimg_text\\\\\\'>이미지 준비중</span></span>\\'\">\\n                            <span class=\"thumb_bd\"></span>\\n                            <em class=\"theme_badge\"><span class=\"badge_inner\">기부</span></em>\\n                        </div>\\n                        <div class=\"media_info\">\\n                            <div class=\"info_box\">\\n                                <strong class=\"title\">6.25 참전용사의 용기와 희생을 잊지 않겠습니다</strong>\\n                                <div class=\"source_wrap\">\\n                                    <span class=\"dsc\"><em class=\"theme_hl\">30,279,400원</em> 기부</span>\\n                                    <span class=\"source\"><span class=\"source_inner\">한국해비타트</span></span>\\n                                </div>\\n                            </div>\\n                        </div>\\n                    </a>\\n                    \\n                </div>\\n            </div>\\n            \\n            <div style=\"width:750px\">\\n                <div class=\"media_view\">\\n                    \\n                    <a href=\"https://happybean.naver.com/fundings/detail/F553?p&#x3D;p&amp;s&#x3D;nmlp\" target=\"_blank\" class=\"media_area\" data-gdid=\"F553\"\\n                        data-clk=\"tcc_lif.happycon4\">\\n                        <div class=\"media_thumb\">\\n                            <img src=\"https://happybean-phinf.pstatic.net/20220607_198/1654588894846Gr8Sx_JPEG/%B8%EB%A4%EC11.jpg?type&#x3D;f464_260\" alt=\"\" width=\"232\" height=\"130\" onerror=\"this.outerHTML=\\'<span class=\\\\\\'pm_noimg\\\\\\'><span class=\\\\\\'noimg_text\\\\\\'>이미지 준비중</span></span>\\'\">\\n                            <span class=\"thumb_bd\"></span>\\n                            <em class=\"theme_badge\"><span class=\"badge_inner\">펀딩</span></em>\\n                        </div>\\n                        <div class=\"media_info\">\\n                            <div class=\"info_box\">\\n                                <strong class=\"title\">나무 한 그루를 심는 우드 카빙 세트</strong>\\n                                <div class=\"source_wrap\">\\n                                    <span class=\"dsc\"><em class=\"theme_hl\">167%</em> 달성</span>\\n                                    <span class=\"source\"><span class=\"source_inner\">리바치 인터내셔날</span></span>\\n                                </div>\\n                            </div>\\n                        </div>\\n                    </a>\\n                    \\n                    <a href=\"https://happybean.naver.com/fundings/detail/F561?p&#x3D;p&amp;s&#x3D;nmlp\" target=\"_blank\" class=\"media_area\" data-gdid=\"F561\"\\n                        data-clk=\"tcc_lif.happycon5\">\\n                        <div class=\"media_thumb\">\\n                            <img src=\"https://happybean-phinf.pstatic.net/20220615_56/1655257088922QBkvg_JPEG/mm%27.jpg?type&#x3D;f464_260\" alt=\"\" width=\"232\" height=\"130\" onerror=\"this.outerHTML=\\'<span class=\\\\\\'pm_noimg\\\\\\'><span class=\\\\\\'noimg_text\\\\\\'>이미지 준비중</span></span>\\'\">\\n                            <span class=\"thumb_bd\"></span>\\n                            <em class=\"theme_badge\"><span class=\"badge_inner\">펀딩</span></em>\\n                        </div>\\n                        <div class=\"media_info\">\\n                            <div class=\"info_box\">\\n                                <strong class=\"title\">평창 청정 목장에서 온 요거트와 치즈</strong>\\n                                <div class=\"source_wrap\">\\n                                    <span class=\"dsc\"><em class=\"theme_hl\">368%</em> 달성</span>\\n                                    <span class=\"source\"><span class=\"source_inner\">보배목장</span></span>\\n                                </div>\\n                            </div>\\n                        </div>\\n                    </a>\\n                    \\n                    <a href=\"https://happybean.naver.com/donations/H000000185096?p&#x3D;p&amp;s&#x3D;nmlp\" target=\"_blank\" class=\"media_area\" data-gdid=\"H000000185096\"\\n                        data-clk=\"tcc_lif.happycon6\">\\n                        <div class=\"media_thumb\">\\n                            <img src=\"https://happybean-phinf.pstatic.net/20220620_249/1655696585130RzuOC_JPEG/re_HB_WF1497210_20220317_MDA_Giulio-dAdamo_088.jpg?type&#x3D;f464_260\" alt=\"\" width=\"232\" height=\"130\" onerror=\"this.outerHTML=\\'<span class=\\\\\\'pm_noimg\\\\\\'><span class=\\\\\\'noimg_text\\\\\\'>이미지 준비중</span></span>\\'\">\\n                            <span class=\"thumb_bd\"></span>\\n                            <em class=\"theme_badge\"><span class=\"badge_inner\">기부</span></em>\\n                        </div>\\n                        <div class=\"media_info\">\\n                            <div class=\"info_box\">\\n                                <strong class=\"title\">계속되는 전쟁, 우크라이나를 기억해주세요</strong>\\n                                <div class=\"source_wrap\">\\n                                    <span class=\"dsc\"><em class=\"theme_hl\">14,379,500원</em> 기부</span>\\n                                    <span class=\"source\"><span class=\"source_inner\">유엔세계식량계획 WFP</span></span>\\n                                </div>\\n                            </div>\\n                        </div>\\n                    </a>\\n                    \\n                </div>\\n            </div>\\n            \\n        </div>\\n    </div>\\n</div>\\n\\n<div class=\"group_theme\" data-block-id=\"\" data-block-code=\"PC-THEME-LIVINGHOME-MOBILE-RANKING-DEFAULT-2\" data-block-type=\"MATERIALS\" data-template-code=\"MOBILE-RANKING-LIST\"\\n\\n\\t data-da=\"container\"\\n\\t data-index=\"\"\\n     data-page=\"2\"\\n\\t style=\"display:none\">\\n\\n\\t<div class=\"list_theme_wrap\">\\n\\t\\t<ul class=\"list_theme\">\\n\\t\\t\\t\\n\\t\\t\\t\\t<li class=\"theme_item\" data-gdid=\"033153b4-5235-402b-8fe9-c1f23f300766-9ed56072-5e22-4cde-b265-f89a47b816ae\" data-da-position=\"true\">\\n\\t\\t\\t\\t\\t<a href=\"https://post.naver.com/viewer/postView.naver?volumeNo&#x3D;33960408&amp;memberNo&#x3D;35665182\" class=\"theme_thumb\" data-clk=\"tcc_lif.list3cont1\" target=\"_blank\">\\n\\t\\t\\t\\t\\t\\t<img  data-src=\"https://s.pstatic.net/dthumb.phinf/?src&#x3D;%22https%3A%2F%2Fs.pstatic.net%2Fshop.phinf%2F20220701_87%2F1656683956529WGMqG_JPEG%2F336_47.jpg%22&amp;type&#x3D;nf340_228\" alt=\"테이블을 내리면 평상, 낮잠을 즐길 수 있는 거실\" width=\"170\" height=\"114\" onerror=\"this.outerHTML=\\'<span class=\\\\\\'pm_noimg\\\\\\'><span class=\\\\\\'noimg_text\\\\\\'>이미지 준비중</span></span>\\'\">\\n\\t\\t\\t\\t\\t\\t<span class=\"thumb_bd\"></span>\\n                        \\n\\t\\t\\t\\t\\t</a>\\n\\t\\t\\t\\t\\t<a href=\"https://post.naver.com/viewer/postView.naver?volumeNo&#x3D;33960408&amp;memberNo&#x3D;35665182\" class=\"theme_info\" data-clk=\"tcc_lif.list3cont1\" target=\"_blank\">\\n\\t\\t\\t\\t\\t\\t<em class=\"theme_category\"> 리빙</em>\\n\\t\\t\\t\\t\\t\\t<strong class=\"title elss\">테이블을 내리면 평상, 낮잠을 즐길 수 있는 거실</strong>\\n                        <p class=\"desc\">동갑내기 부부와 가을에 태어난 아기가 함께 사는 이곳은 &#x27;정갈함&#x27;을 콘셉트로 장식적인 요소를 최소화했다. 오래 머물러도 질리지 않는 집을 꿈꾸며 머물가 부부는 여백의 미가 더해진 미니멀 구조의 인테리어를 탄생시켰다. 31평 오래된 아파트의 좁은 주방을 다이내믹하게 변화시킨 데에는 남편의 아이디어가 한몫했다. 집안 살림을 돌보고 정리정돈하는 재미에 빠진 아내</p>\\n\\t\\t\\t\\t\\t\\t<div class=\"source_box\">\\n\\t\\t\\t\\t\\t\\t\\t<span class=\"date\">2주일 전</span>\\n\\t\\t\\t\\t\\t\\t\\t<span class=\"source\">\\n                                \\n                                <span class=\"source_inner\">아이엑스디자인</span>\\n                            </span>\\n\\t\\t\\t\\t\\t\\t</div>\\n\\t\\t\\t\\t\\t</a>\\n\\t\\t\\t\\t</li>\\n\\t\\t\\t\\n\\t\\t\\t\\t<li class=\"theme_item\" data-gdid=\"7a3aa15f-7d87-480d-819e-b62d0896152e-4ef45388-7c70-49ba-8ce5-d5e281b75f76\" data-da-position=\"true\">\\n\\t\\t\\t\\t\\t<a href=\"https://blog.naver.com/carrym_m/222791746220\" class=\"theme_thumb\" data-clk=\"tcc_lif.list3cont2\" target=\"_blank\">\\n\\t\\t\\t\\t\\t\\t<img  data-src=\"https://s.pstatic.net/dthumb.phinf/?src&#x3D;%22https%3A%2F%2Fs.pstatic.net%2Fshop.phinf%2F20220701_217%2F1656686425676u9CqT_JPEG%2F336_0.jpg%22&amp;type&#x3D;nf340_228\" alt=\"햇살 강한 여름, 시원한 공간 만들기 #못안쓰고블라인드달기 \" width=\"170\" height=\"114\" onerror=\"this.outerHTML=\\'<span class=\\\\\\'pm_noimg\\\\\\'><span class=\\\\\\'noimg_text\\\\\\'>이미지 준비중</span></span>\\'\">\\n\\t\\t\\t\\t\\t\\t<span class=\"thumb_bd\"></span>\\n                        \\n\\t\\t\\t\\t\\t</a>\\n\\t\\t\\t\\t\\t<a href=\"https://blog.naver.com/carrym_m/222791746220\" class=\"theme_info\" data-clk=\"tcc_lif.list3cont2\" target=\"_blank\">\\n\\t\\t\\t\\t\\t\\t<em class=\"theme_category\"> 리빙</em>\\n\\t\\t\\t\\t\\t\\t<strong class=\"title elss\">햇살 강한 여름, 시원한 공간 만들기 #못안쓰고블라인드달기 </strong>\\n                        <p class=\"desc\">안녕하세요~! 집을 가만히 두지 못하는 한 여성이 여기 있습니다 제 집은 동쪽으로 창문이 있는데 한쪽은 패브릭 포스터, 다른 한쪽은 블라인드로 가려두고 생활 중이었어요 그러던 중 요즘 들어서 날이 더워지니 아침 일찍부터 햇살이 너무 강하게 들어와서 안 그래도 얕게 자는 제가 더 수면의 질이 떨어지고 아침부터 방이 달궈지는 느낌이라 햇빛을 완전히 차단해야겠다</p>\\n\\t\\t\\t\\t\\t\\t<div class=\"source_box\">\\n\\t\\t\\t\\t\\t\\t\\t<span class=\"date\">6일 전</span>\\n\\t\\t\\t\\t\\t\\t\\t<span class=\"source\">\\n                                \\n                                <span class=\"source_inner\">희요</span>\\n                            </span>\\n\\t\\t\\t\\t\\t\\t</div>\\n\\t\\t\\t\\t\\t</a>\\n\\t\\t\\t\\t</li>\\n\\t\\t\\t\\n\\t\\t\\t\\t<li class=\"theme_item\" data-gdid=\"26ef632d-1af2-4bf1-ac44-448f13728bed-ccea14a1-40cd-41f2-8ead-2a93651b403a\" data-da-position=\"true\">\\n\\t\\t\\t\\t\\t<a href=\"https://blog.naver.com/jfit0516/222791479405\" class=\"theme_thumb\" data-clk=\"tcc_lif.list3cont3\" target=\"_blank\">\\n\\t\\t\\t\\t\\t\\t<img  data-src=\"https://s.pstatic.net/dthumb.phinf/?src&#x3D;%22https%3A%2F%2Fs.pstatic.net%2Fshop.phinf%2F20220630_141%2F1656595902002JiS0x_JPEG%2F750_6.jpg%22&amp;type&#x3D;nf340_228\" alt=\"24평 신혼집, 최대한 넓어 보이게\" width=\"170\" height=\"114\" onerror=\"this.outerHTML=\\'<span class=\\\\\\'pm_noimg\\\\\\'><span class=\\\\\\'noimg_text\\\\\\'>이미지 준비중</span></span>\\'\">\\n\\t\\t\\t\\t\\t\\t<span class=\"thumb_bd\"></span>\\n                        \\n\\t\\t\\t\\t\\t</a>\\n\\t\\t\\t\\t\\t<a href=\"https://blog.naver.com/jfit0516/222791479405\" class=\"theme_info\" data-clk=\"tcc_lif.list3cont3\" target=\"_blank\">\\n\\t\\t\\t\\t\\t\\t<em class=\"theme_category\"> 리빙</em>\\n\\t\\t\\t\\t\\t\\t<strong class=\"title elss\">24평 신혼집, 최대한 넓어 보이게</strong>\\n                        <p class=\"desc\">24평 신혼집 인테리어 #화이트우드 #미니멀 #조명맛집 주말 동안 아워플레이스에 올릴 사진을 준비하고 글을 수정했다. 작업을 마치고 나니 잠자고 있는 사진이 아깝다는 생각이 들어 오늘은 생활리뷰로 우리집 온라인 집들이를 해보려고 한다. 우리집은 05년에 준공한 전형적인 구축 24평으로 방3, 화2 구조다. 도면상으로는 발코니가 4개나 있지만 거실과 작은방 </p>\\n\\t\\t\\t\\t\\t\\t<div class=\"source_box\">\\n\\t\\t\\t\\t\\t\\t\\t<span class=\"date\">6일 전</span>\\n\\t\\t\\t\\t\\t\\t\\t<span class=\"source\">\\n                                \\n                                <span class=\"source_inner\">빵떡이네</span>\\n                            </span>\\n\\t\\t\\t\\t\\t\\t</div>\\n\\t\\t\\t\\t\\t</a>\\n\\t\\t\\t\\t</li>\\n\\t\\t\\t\\n\\t\\t\\t\\t<li class=\"theme_item\" data-gdid=\"4eb22cd6-91aa-48a2-9d20-ef1cc6eee704-ad8c6eaa-0099-47b0-854f-4240ec9132ad\" data-da-position=\"true\">\\n\\t\\t\\t\\t\\t<a href=\"https://post.naver.com/viewer/postView.naver?memberNo&#x3D;954004&amp;volumeNo&#x3D;33979319\" class=\"theme_thumb\" data-clk=\"tcc_lif.list3cont4\" target=\"_blank\">\\n\\t\\t\\t\\t\\t\\t<img  data-src=\"https://s.pstatic.net/dthumb.phinf/?src&#x3D;%22https%3A%2F%2Fs.pstatic.net%2Fshop.phinf%2F20220630_257%2F1656595831315SnmW7_JPEG%2F336_55.jpg%22&amp;type&#x3D;nf340_228\" alt=\"건축가가 짓고 사는 집, 골목 풍경과 어울리는 도심주택 \" width=\"170\" height=\"114\" onerror=\"this.outerHTML=\\'<span class=\\\\\\'pm_noimg\\\\\\'><span class=\\\\\\'noimg_text\\\\\\'>이미지 준비중</span></span>\\'\">\\n\\t\\t\\t\\t\\t\\t<span class=\"thumb_bd\"></span>\\n                        \\n\\t\\t\\t\\t\\t</a>\\n\\t\\t\\t\\t\\t<a href=\"https://post.naver.com/viewer/postView.naver?memberNo&#x3D;954004&amp;volumeNo&#x3D;33979319\" class=\"theme_info\" data-clk=\"tcc_lif.list3cont4\" target=\"_blank\">\\n\\t\\t\\t\\t\\t\\t<em class=\"theme_category\"> 리빙</em>\\n\\t\\t\\t\\t\\t\\t<strong class=\"title elss\">건축가가 짓고 사는 집, 골목 풍경과 어울리는 도심주택 </strong>\\n                        <p class=\"desc\">6월호 특집- 건축가×건축家 ② 쌍문동 OpAD家(오파드가)가족의 취향과 건축가로서의 스타일을 유지하고, 좋아하는 골목 풍경을 배려하며 일터와 집, 그리고 임대세대까지 알차게 채워 넣은 집. 어느 건축가만의 도심 주택을 만난다. ‘소장님은 어디 사세요?’ 미팅을 하다 듣곤 하는 기대감 어린 질문에 ‘</p>\\n\\t\\t\\t\\t\\t\\t<div class=\"source_box\">\\n\\t\\t\\t\\t\\t\\t\\t<span class=\"date\">2주일 전</span>\\n\\t\\t\\t\\t\\t\\t\\t<span class=\"source\">\\n                                \\n                                <span class=\"source_inner\">월간 전원속의 내집</span>\\n                            </span>\\n\\t\\t\\t\\t\\t\\t</div>\\n\\t\\t\\t\\t\\t</a>\\n\\t\\t\\t\\t</li>\\n\\t\\t\\t\\n\\t\\t\\t\\t<li class=\"theme_item\" data-gdid=\"36cf4ea5-ead2-4d09-93a5-70690abcf3ea-18ec3266-e9cb-4fc6-8c2f-45394db3ccee\" data-da-position=\"true\">\\n\\t\\t\\t\\t\\t<a href=\"https://blog.naver.com/zhdvkx0927/222790683605\" class=\"theme_thumb\" data-clk=\"tcc_lif.list3cont5\" target=\"_blank\">\\n\\t\\t\\t\\t\\t\\t<img  data-src=\"https://s.pstatic.net/dthumb.phinf/?src&#x3D;%22https%3A%2F%2Fs.pstatic.net%2Fshop.phinf%2F20220627_258%2F1656338301116VBDXE_JPEG%2F336_1.jpg%22&amp;type&#x3D;nf340_228\" alt=\"좁은 베란다 활용하기, 정원도 홈카페도 될 수 있어요 \" width=\"170\" height=\"114\" onerror=\"this.outerHTML=\\'<span class=\\\\\\'pm_noimg\\\\\\'><span class=\\\\\\'noimg_text\\\\\\'>이미지 준비중</span></span>\\'\">\\n\\t\\t\\t\\t\\t\\t<span class=\"thumb_bd\"></span>\\n                        \\n\\t\\t\\t\\t\\t</a>\\n\\t\\t\\t\\t\\t<a href=\"https://blog.naver.com/zhdvkx0927/222790683605\" class=\"theme_info\" data-clk=\"tcc_lif.list3cont5\" target=\"_blank\">\\n\\t\\t\\t\\t\\t\\t<em class=\"theme_category\"> 리빙</em>\\n\\t\\t\\t\\t\\t\\t<strong class=\"title elss\">좁은 베란다 활용하기, 정원도 홈카페도 될 수 있어요 </strong>\\n                        <p class=\"desc\">오늘 포스팅은 나만의 시크릿 공간, 인테리어 공사 없이 꾸며본 안방 보일러실 겸 베란다를 소개해 드릴게요 #베란다인테리어 #베란다꾸미기 #좁은베란다인테리어 #보일러실인테리어 #베란다홈카페 #베란다정원 #베란다작업실 좁은 베란다 인테리어(좁은 베란다 꾸미기) 저희 집 안방 보일러실 겸 베란다는 한평도 안되는 공간 이이예요 왼쪽에는 보일러가 있고 오른쪽으로는 </p>\\n\\t\\t\\t\\t\\t\\t<div class=\"source_box\">\\n\\t\\t\\t\\t\\t\\t\\t<span class=\"date\">1주일 전</span>\\n\\t\\t\\t\\t\\t\\t\\t<span class=\"source\">\\n                                \\n                                <span class=\"source_inner\">초화화</span>\\n                            </span>\\n\\t\\t\\t\\t\\t\\t</div>\\n\\t\\t\\t\\t\\t</a>\\n\\t\\t\\t\\t</li>\\n\\t\\t\\t\\n\\t\\t</ul>\\n\\t</div>\\n</div>\\n<div class=\"group_theme\" data-block-id=\"\" data-block-code=\"PC-THEME-LIVINGHOME-MOBILE-RANKING-DEFAULT-3\" data-block-type=\"MATERIALS\" data-template-code=\"MOBILE-RANKING-LIST\"\\n\\n\\t data-da=\"container\"\\n\\t data-index=\"\"\\n     data-page=\"2\"\\n\\t style=\"display:none\">\\n\\n\\t<div class=\"list_theme_wrap\">\\n\\t\\t<ul class=\"list_theme\">\\n\\t\\t\\t\\n\\t\\t\\t\\t<li class=\"theme_item\" data-gdid=\"62bf0c68b93bbe556c6917e8\" data-da-position=\"true\">\\n\\t\\t\\t\\t\\t<a href=\"https://blog.naver.com/living_food/222796312677\" class=\"theme_thumb\" data-clk=\"tcc_lif.list4cont1\" target=\"_blank\">\\n\\t\\t\\t\\t\\t\\t<img  data-src=\"https://s.pstatic.net/dthumb.phinf/?src&#x3D;%22https%3A%2F%2Fs.pstatic.net%2Fshop.phinf%2F20220702_105%2F1656687622515hX4K9_JPEG%2F%25B8%25AE%25BA%25F9%25C6%25C7%25B9%25E8%25B3%25CA_2.jpg%22&amp;type&#x3D;nf340_228\" alt=\"우리 집을 소개하면 공간마다 홈스타일링 지원금을!\" width=\"170\" height=\"114\" onerror=\"this.outerHTML=\\'<span class=\\\\\\'pm_noimg\\\\\\'><span class=\\\\\\'noimg_text\\\\\\'>이미지 준비중</span></span>\\'\">\\n\\t\\t\\t\\t\\t\\t<span class=\"thumb_bd\"></span>\\n                        \\n\\t\\t\\t\\t\\t</a>\\n\\t\\t\\t\\t\\t<a href=\"https://blog.naver.com/living_food/222796312677\" class=\"theme_info\" data-clk=\"tcc_lif.list4cont1\" target=\"_blank\">\\n\\t\\t\\t\\t\\t\\t<em class=\"theme_category\"> 리빙</em>\\n\\t\\t\\t\\t\\t\\t<strong class=\"title elss\">우리 집을 소개하면 공간마다 홈스타일링 지원금을!</strong>\\n                        <p class=\"desc\">■ 이벤트 진행 기간 기간 : 2022. 07.01 - 2022.07.31 발표 : 2022. 08.16 ■ 혜택 7월의 공간 100P!CK 우리 집 여러 공간이 선정될 수 있습니다 선정된 공간마다 홈스타일링 지원금 네이버페이 3만 포인트 최우수 공간에는 네이버페이 20만 포인트 - 메인 노출 여부와 관계 없이 공간100P!CK 에 선정될 수 있습니다. -</p>\\n\\t\\t\\t\\t\\t\\t<div class=\"source_box\">\\n\\t\\t\\t\\t\\t\\t\\t<span class=\"date\">2일 전</span>\\n\\t\\t\\t\\t\\t\\t\\t<span class=\"source\">\\n                                \\n                                <span class=\"source_inner\">리빙N레시피</span>\\n                            </span>\\n\\t\\t\\t\\t\\t\\t</div>\\n\\t\\t\\t\\t\\t</a>\\n\\t\\t\\t\\t</li>\\n\\t\\t\\t\\n\\t\\t\\t\\t<li class=\"theme_item\" data-gdid=\"62bf0c485d5e6b557363d1e8-06fac530-d793-4dfc-bfb0-0afe45ca8335\" data-da-position=\"true\">\\n\\t\\t\\t\\t\\t<a href=\"https://blog.naver.com/living_food/222795582310\" class=\"theme_thumb\" data-clk=\"tcc_lif.list4cont2\" target=\"_blank\">\\n\\t\\t\\t\\t\\t\\t<img  data-src=\"https://s.pstatic.net/dthumb.phinf/?src&#x3D;%22https%3A%2F%2Fs.pstatic.net%2Fshop.phinf%2F20220701_282%2F1656601988137CG7W5_PNG%2F336_6.PNG%22&amp;type&#x3D;nf340_228\" alt=\"살림 고수님, 꿀팁 노하우를 알려주세요\" width=\"170\" height=\"114\" onerror=\"this.outerHTML=\\'<span class=\\\\\\'pm_noimg\\\\\\'><span class=\\\\\\'noimg_text\\\\\\'>이미지 준비중</span></span>\\'\">\\n\\t\\t\\t\\t\\t\\t<span class=\"thumb_bd\"></span>\\n                        \\n\\t\\t\\t\\t\\t</a>\\n\\t\\t\\t\\t\\t<a href=\"https://blog.naver.com/living_food/222795582310\" class=\"theme_info\" data-clk=\"tcc_lif.list4cont2\" target=\"_blank\">\\n\\t\\t\\t\\t\\t\\t<em class=\"theme_category\"> 리빙</em>\\n\\t\\t\\t\\t\\t\\t<strong class=\"title elss\">살림 고수님, 꿀팁 노하우를 알려주세요</strong>\\n                        <p class=\"desc\">네이버 리빙과 함께하는 메인 도전 리빙&amp;레시피와 이웃 추가하고 블로그 혹은 포스팅 url을 비공개 댓글로 남겨주세요. 말머리에 [살림] [취미] 를 붙여 주시고, 포스팅의 간략한 내용 설명도 부탁드릴게요. 살림 추천 키워드 #여름살림 #살림노하우 #살림꿀팁 #창틀청소법 #세탁법 #베이킹소다활용법 #주방정리 #수납노하우 #팬트리정리 #천연세제만들기 #친환경살</p>\\n\\t\\t\\t\\t\\t\\t<div class=\"source_box\">\\n\\t\\t\\t\\t\\t\\t\\t<span class=\"date\">3일 전</span>\\n\\t\\t\\t\\t\\t\\t\\t<span class=\"source\">\\n                                \\n                                <span class=\"source_inner\">리빙N레시피</span>\\n                            </span>\\n\\t\\t\\t\\t\\t\\t</div>\\n\\t\\t\\t\\t\\t</a>\\n\\t\\t\\t\\t</li>\\n\\t\\t\\t\\n\\t\\t\\t\\t<li class=\"theme_item\" data-gdid=\"62bc29a326189317588b1626-50906894-9ad0-464c-8cbb-d18acbb9f858\" data-da-position=\"true\">\\n\\t\\t\\t\\t\\t<a href=\"https://blog.naver.com/house_bonjour/222789476673\" class=\"theme_thumb\" data-clk=\"tcc_lif.list4cont3\" target=\"_blank\">\\n\\t\\t\\t\\t\\t\\t<img  data-src=\"https://s.pstatic.net/dthumb.phinf/?src&#x3D;%22https%3A%2F%2Fs.pstatic.net%2Fshop.phinf%2F20220629_28%2F1656498594928sBQVk_JPEG%2F90.jpg%22&amp;type&#x3D;nf340_228\" alt=\"압축봉으로 서랍장 정리하기\" width=\"170\" height=\"114\" onerror=\"this.outerHTML=\\'<span class=\\\\\\'pm_noimg\\\\\\'><span class=\\\\\\'noimg_text\\\\\\'>이미지 준비중</span></span>\\'\">\\n\\t\\t\\t\\t\\t\\t<span class=\"thumb_bd\"></span>\\n                        \\n\\t\\t\\t\\t\\t</a>\\n\\t\\t\\t\\t\\t<a href=\"https://blog.naver.com/house_bonjour/222789476673\" class=\"theme_info\" data-clk=\"tcc_lif.list4cont3\" target=\"_blank\">\\n\\t\\t\\t\\t\\t\\t<em class=\"theme_category\"> 리빙</em>\\n\\t\\t\\t\\t\\t\\t<strong class=\"title elss\">압축봉으로 서랍장 정리하기</strong>\\n                        <p class=\"desc\">이번주는 &#x27;수납장 정리&#x27;라 언급해두고 어떤 수납장을 정리하면 좋을지 한참 고민을 했었다. 이유인 즉슨... 우리집에 수납장이 너무나도 많기 때문에😅 이무튼 이번주 정리 스팟은 옷 서랍장 그런데 이제 압축봉을 곁들인 1주 1정리 ☑️ 옷 서랍장 정리 ☑️ 압축봉 활용 ☑️ 수건정리 팁 글.사진 봉주르하우스 / 옷 서랍장 현황 파악하기 우리집에는 공간마다 수</p>\\n\\t\\t\\t\\t\\t\\t<div class=\"source_box\">\\n\\t\\t\\t\\t\\t\\t\\t<span class=\"date\">1주일 전</span>\\n\\t\\t\\t\\t\\t\\t\\t<span class=\"source\">\\n                                \\n                                <span class=\"source_inner\">봉주르하우스</span>\\n                            </span>\\n\\t\\t\\t\\t\\t\\t</div>\\n\\t\\t\\t\\t\\t</a>\\n\\t\\t\\t\\t</li>\\n\\t\\t\\t\\n\\t\\t\\t\\t<li class=\"theme_item\" data-gdid=\"62bc29a326189317588b1627-cf46d1bd-6fcd-4eae-a991-a832af093910\" data-da-position=\"true\">\\n\\t\\t\\t\\t\\t<a href=\"https://blog.naver.com/kgy44/222792409500\" class=\"theme_thumb\" data-clk=\"tcc_lif.list4cont4\" target=\"_blank\">\\n\\t\\t\\t\\t\\t\\t<img  data-src=\"https://s.pstatic.net/dthumb.phinf/?src&#x3D;%22https%3A%2F%2Fs.pstatic.net%2Fshop.phinf%2F20220702_217%2F1656764159708ArO1D_JPEG%2F336_3.jpg%22&amp;type&#x3D;nf340_228\" alt=\"주방에서 잘 사용하고 있는 내돈내산 살림잇템 \" width=\"170\" height=\"114\" onerror=\"this.outerHTML=\\'<span class=\\\\\\'pm_noimg\\\\\\'><span class=\\\\\\'noimg_text\\\\\\'>이미지 준비중</span></span>\\'\">\\n\\t\\t\\t\\t\\t\\t<span class=\"thumb_bd\"></span>\\n                        \\n\\t\\t\\t\\t\\t</a>\\n\\t\\t\\t\\t\\t<a href=\"https://blog.naver.com/kgy44/222792409500\" class=\"theme_info\" data-clk=\"tcc_lif.list4cont4\" target=\"_blank\">\\n\\t\\t\\t\\t\\t\\t<em class=\"theme_category\"> 리빙</em>\\n\\t\\t\\t\\t\\t\\t<strong class=\"title elss\">주방에서 잘 사용하고 있는 내돈내산 살림잇템 </strong>\\n                        <p class=\"desc\">감사나무입니다~ 어제 오늘 바람이 엄청 많이 부는 날이에요. 비도 오락가락해서 습도도 높아 더 더운것 같고 굽굽한 느낌이고요. 오늘은 주방에서 잘 사용하고 있는 물건들을 소개해 볼께요. 첫번째 휴대용 해충킬러에요. 요즘 여름이 되고나니 날파리가 많이 날아 다니지 않나요? 그리고 날파리 어떻게 잡고 계신가요? 손으로도 잡아보고 살충제를 뿌리기도 하는데 집안에</p>\\n\\t\\t\\t\\t\\t\\t<div class=\"source_box\">\\n\\t\\t\\t\\t\\t\\t\\t<span class=\"date\">5일 전</span>\\n\\t\\t\\t\\t\\t\\t\\t<span class=\"source\">\\n                                \\n                                <span class=\"source_inner\">감사나무</span>\\n                            </span>\\n\\t\\t\\t\\t\\t\\t</div>\\n\\t\\t\\t\\t\\t</a>\\n\\t\\t\\t\\t</li>\\n\\t\\t\\t\\n\\t\\t\\t\\t<li class=\"theme_item\" data-gdid=\"62bc29a326189317588b1628-e8acc31d-7a66-4528-b050-59b797ae3f3a\" data-da-position=\"true\">\\n\\t\\t\\t\\t\\t<a href=\"https://blog.naver.com/kind11mom/222771441335\" class=\"theme_thumb\" data-clk=\"tcc_lif.list4cont5\" target=\"_blank\">\\n\\t\\t\\t\\t\\t\\t<img  data-src=\"https://s.pstatic.net/dthumb.phinf/?src&#x3D;%22https%3A%2F%2Fs.pstatic.net%2Fshop.phinf%2F20220701_24%2F1656656094893KCsGF_JPEG%2Fef.jpg%22&amp;type&#x3D;nf340_228\" alt=\"칸칸 나뉘는 아코디언 카드 지갑 만들기 #퀼트\" width=\"170\" height=\"114\" onerror=\"this.outerHTML=\\'<span class=\\\\\\'pm_noimg\\\\\\'><span class=\\\\\\'noimg_text\\\\\\'>이미지 준비중</span></span>\\'\">\\n\\t\\t\\t\\t\\t\\t<span class=\"thumb_bd\"></span>\\n                        \\n\\t\\t\\t\\t\\t</a>\\n\\t\\t\\t\\t\\t<a href=\"https://blog.naver.com/kind11mom/222771441335\" class=\"theme_info\" data-clk=\"tcc_lif.list4cont5\" target=\"_blank\">\\n\\t\\t\\t\\t\\t\\t<em class=\"theme_category\"> 리빙</em>\\n\\t\\t\\t\\t\\t\\t<strong class=\"title elss\">칸칸 나뉘는 아코디언 카드 지갑 만들기 #퀼트</strong>\\n                        <p class=\"desc\">동네모임에서 함께 만들었어요 (완성못하신 분 참고하세요) #칸칸카드지갑_만들기 과정을 남겨 보아요~ 실크심지를 붙이고 패턴을 그려줍니다~~ (☆창구멍표시☆) 창구멍을 남기고 빙둘러 박음질이나 홈질합니다 바느질 후 겉감쪽으로 시접을 보내면서 다림질합니다 뒤집어서 다림질 한번 더 합니다 양옆을 제외하고 윗쪽 아랫쪽 스티치 넣어요~~ (양옆은 합체시 해 줄꺼에요</p>\\n\\t\\t\\t\\t\\t\\t<div class=\"source_box\">\\n\\t\\t\\t\\t\\t\\t\\t<span class=\"date\">2주일 전</span>\\n\\t\\t\\t\\t\\t\\t\\t<span class=\"source\">\\n                                \\n                                <span class=\"source_inner\">나무</span>\\n                            </span>\\n\\t\\t\\t\\t\\t\\t</div>\\n\\t\\t\\t\\t\\t</a>\\n\\t\\t\\t\\t</li>\\n\\t\\t\\t\\n\\t\\t</ul>\\n\\t</div>\\n</div>\\n<div class=\"group_theme\" data-block-id=\"\" data-block-code=\"PC-THEME-LIVINGHOME-MOBILE-RANKING-DEFAULT-4\" data-block-type=\"MATERIALS\" data-template-code=\"MOBILE-RANKING-LIST\"\\n\\n\\t data-da=\"container\"\\n\\t data-index=\"\"\\n     data-page=\"3\"\\n\\t style=\"display:none\">\\n\\n\\t<div class=\"list_theme_wrap\">\\n\\t\\t<ul class=\"list_theme\">\\n\\t\\t\\t\\n\\t\\t\\t\\t<li class=\"theme_item\" data-gdid=\"62bc6a62d8fba0174ad6cba1\" data-da-position=\"true\">\\n\\t\\t\\t\\t\\t<a href=\"https://blog.naver.com/interlyj/222792811524\" class=\"theme_thumb\" data-clk=\"tcc_lif.list5cont1\" target=\"_blank\">\\n\\t\\t\\t\\t\\t\\t<img  data-src=\"https://s.pstatic.net/dthumb.phinf/?src&#x3D;%22https%3A%2F%2Fs.pstatic.net%2Fshop.phinf%2F20220629_161%2F1656514125745gLKNI_JPEG%2F750_2.jpg%22&amp;type&#x3D;nf340_228\" alt=\"숲집 랜선 집들이, 1층 \" width=\"170\" height=\"114\" onerror=\"this.outerHTML=\\'<span class=\\\\\\'pm_noimg\\\\\\'><span class=\\\\\\'noimg_text\\\\\\'>이미지 준비중</span></span>\\'\">\\n\\t\\t\\t\\t\\t\\t<span class=\"thumb_bd\"></span>\\n                        \\n\\t\\t\\t\\t\\t</a>\\n\\t\\t\\t\\t\\t<a href=\"https://blog.naver.com/interlyj/222792811524\" class=\"theme_info\" data-clk=\"tcc_lif.list5cont1\" target=\"_blank\">\\n\\t\\t\\t\\t\\t\\t<em class=\"theme_category\"> 리빙</em>\\n\\t\\t\\t\\t\\t\\t<strong class=\"title elss\">숲집 랜선 집들이, 1층 </strong>\\n                        <p class=\"desc\">안녕하세요. 장마가 시작해서인지 후덥지근하고 끈적끈적 날씨가 사람을 금방 지치게 하는 요즘입니다. 집을 지은지는 3년 정도 되었는데, 당시 블로그에는 시공 사진만 날짜별로 업로드만 하였고 최근에서야 그동안 나의 숲집 건축에 대한 기록들을 정리해서 예비 건축주들에게 도움이 될만한 블로그를 만들자고 시작한 게 불과 몇 달 전인데 많은 분들이 관심을 가져주시네요</p>\\n\\t\\t\\t\\t\\t\\t<div class=\"source_box\">\\n\\t\\t\\t\\t\\t\\t\\t<span class=\"date\">5일 전</span>\\n\\t\\t\\t\\t\\t\\t\\t<span class=\"source\">\\n                                \\n                                <span class=\"source_inner\">유레카</span>\\n                            </span>\\n\\t\\t\\t\\t\\t\\t</div>\\n\\t\\t\\t\\t\\t</a>\\n\\t\\t\\t\\t</li>\\n\\t\\t\\t\\n\\t\\t\\t\\t<li class=\"theme_item\" data-gdid=\"62bc6a62d8fba0174ad6cba2\" data-da-position=\"true\">\\n\\t\\t\\t\\t\\t<a href=\"https://blog.naver.com/ensk0914/222724594411\" class=\"theme_thumb\" data-clk=\"tcc_lif.list5cont2\" target=\"_blank\">\\n\\t\\t\\t\\t\\t\\t<img  data-src=\"https://s.pstatic.net/dthumb.phinf/?src&#x3D;%22https%3A%2F%2Fs.pstatic.net%2Fshop.phinf%2F20220629_291%2F1656502148770VT0Iy_JPEG%2F336_38.jpg%22&amp;type&#x3D;nf340_228\" alt=\"셀프도배로 유럽 에어비앤비 느낌 내기 #붙이는벽지 \" width=\"170\" height=\"114\" onerror=\"this.outerHTML=\\'<span class=\\\\\\'pm_noimg\\\\\\'><span class=\\\\\\'noimg_text\\\\\\'>이미지 준비중</span></span>\\'\">\\n\\t\\t\\t\\t\\t\\t<span class=\"thumb_bd\"></span>\\n                        \\n\\t\\t\\t\\t\\t</a>\\n\\t\\t\\t\\t\\t<a href=\"https://blog.naver.com/ensk0914/222724594411\" class=\"theme_info\" data-clk=\"tcc_lif.list5cont2\" target=\"_blank\">\\n\\t\\t\\t\\t\\t\\t<em class=\"theme_category\"> 리빙</em>\\n\\t\\t\\t\\t\\t\\t<strong class=\"title elss\">셀프도배로 유럽 에어비앤비 느낌 내기 #붙이는벽지 </strong>\\n                        <p class=\"desc\">님두라 여자 혼자 셀프 도배한 썰 푼다 ㅋ 평소에 전 핀터레스트로 인테리어 구경하는걸 굉장히 좋아하는데욤,, 실현 가능한 선에서 맘에 드는 인테리어가 있음 시도해보기도 하고 등등등 구경하다보면 시간도 훌쩍 지나가고 세상엔 왜이렇게 예쁜것들이 많을까요 BEFORE 침대 오른쪽 벽 침대 쪽 (그레이 포인트 벽지) 침대 왼쪽 무튼 처음 이사오면서 포인트 벽지로 </p>\\n\\t\\t\\t\\t\\t\\t<div class=\"source_box\">\\n\\t\\t\\t\\t\\t\\t\\t<span class=\"date\">1개월 전</span>\\n\\t\\t\\t\\t\\t\\t\\t<span class=\"source\">\\n                                \\n                                <span class=\"source_inner\">두나</span>\\n                            </span>\\n\\t\\t\\t\\t\\t\\t</div>\\n\\t\\t\\t\\t\\t</a>\\n\\t\\t\\t\\t</li>\\n\\t\\t\\t\\n\\t\\t\\t\\t<li class=\"theme_item\" data-gdid=\"62bc6a62d8fba0174ad6cba3-632a0d1b-1d4a-4eec-af79-8282b19cf43f\" data-da-position=\"true\">\\n\\t\\t\\t\\t\\t<a href=\"https://blog.naver.com/date907/222786975343\" class=\"theme_thumb\" data-clk=\"tcc_lif.list5cont3\" target=\"_blank\">\\n\\t\\t\\t\\t\\t\\t<img  data-src=\"https://s.pstatic.net/dthumb.phinf/?src&#x3D;%22https%3A%2F%2Fs.pstatic.net%2Fshop.phinf%2F20220630_101%2F1656515243034KAmMo_JPEG%2F336_3.jpg%22&amp;type&#x3D;nf340_228\" alt=\"감성과 효율성을 다 잡은 홈오피스+데스크테리어 아이템\" width=\"170\" height=\"114\" onerror=\"this.outerHTML=\\'<span class=\\\\\\'pm_noimg\\\\\\'><span class=\\\\\\'noimg_text\\\\\\'>이미지 준비중</span></span>\\'\">\\n\\t\\t\\t\\t\\t\\t<span class=\"thumb_bd\"></span>\\n                        \\n\\t\\t\\t\\t\\t</a>\\n\\t\\t\\t\\t\\t<a href=\"https://blog.naver.com/date907/222786975343\" class=\"theme_info\" data-clk=\"tcc_lif.list5cont3\" target=\"_blank\">\\n\\t\\t\\t\\t\\t\\t<em class=\"theme_category\"> 리빙</em>\\n\\t\\t\\t\\t\\t\\t<strong class=\"title elss\">감성과 효율성을 다 잡은 홈오피스+데스크테리어 아이템</strong>\\n                        <p class=\"desc\">인테리어 감성과 업무 효율성 다 잡은 데스크테리어 소개 @sora.oneday #온라인집들이 #랜선집들이 #서재인테리어 #홈오피스인테리어 안녕하세요! 정말 오랜만에 업데이트하는 글이네요 :) 오늘은 그동안 기록해보지 않았던 우리집 홈오피스 공간을 소개해보려해요! 여기는 코로나로 인하여 재택근무가 확산되던 시기에 만든 공간이에요. 이제 재택근무는 끝나버리고 </p>\\n\\t\\t\\t\\t\\t\\t<div class=\"source_box\">\\n\\t\\t\\t\\t\\t\\t\\t<span class=\"date\">1주일 전</span>\\n\\t\\t\\t\\t\\t\\t\\t<span class=\"source\">\\n                                \\n                                <span class=\"source_inner\">sora</span>\\n                            </span>\\n\\t\\t\\t\\t\\t\\t</div>\\n\\t\\t\\t\\t\\t</a>\\n\\t\\t\\t\\t</li>\\n\\t\\t\\t\\n\\t\\t\\t\\t<li class=\"theme_item\" data-gdid=\"62bbf7eb6152d317516b74f8\" data-da-position=\"true\">\\n\\t\\t\\t\\t\\t<a href=\"https://blog.naver.com/mrslou/222775769557\" class=\"theme_thumb\" data-clk=\"tcc_lif.list5cont4\" target=\"_blank\">\\n\\t\\t\\t\\t\\t\\t<img  data-src=\"https://s.pstatic.net/dthumb.phinf/?src&#x3D;%22https%3A%2F%2Fs.pstatic.net%2Fshop.phinf%2F20220629_48%2F1656486036944Fl6IG_JPEG%2F%25B9%25AB%25B7%25E1%25C3%25BC%25C7%25E8_%2528%25C0%25CF%25BF%25E4%25C0%25CF%2529.jpg%22&amp;type&#x3D;nf340_228\" alt=\"토퍼, 모션 매트리스 체험단\" width=\"170\" height=\"114\" onerror=\"this.outerHTML=\\'<span class=\\\\\\'pm_noimg\\\\\\'><span class=\\\\\\'noimg_text\\\\\\'>이미지 준비중</span></span>\\'\">\\n\\t\\t\\t\\t\\t\\t<span class=\"thumb_bd\"></span>\\n                        \\n\\t\\t\\t\\t\\t</a>\\n\\t\\t\\t\\t\\t<a href=\"https://blog.naver.com/mrslou/222775769557\" class=\"theme_info\" data-clk=\"tcc_lif.list5cont4\" target=\"_blank\">\\n\\t\\t\\t\\t\\t\\t<em class=\"theme_category\"> 리빙</em>\\n\\t\\t\\t\\t\\t\\t<strong class=\"title elss\">토퍼, 모션 매트리스 체험단</strong>\\n                        <p class=\"desc\">올해도 역대급 더위가 예상되면서 집에서 시원하게 휴가를 즐기기 위해 #홈캉스 계획하고 계신 분들 많으시죠?🌊 여름 홈캉스의 완성은 편안한 침대! 즐거운 홈캉스를 보내시길 바라는 마음으로 수면 전문 브랜드 &#x27;슬로우베드 (SLOU BED)&#x27;가 체험단 이벤트를 준비했습니다. Option 1 뒹굴뒹굴 침대 위 여름 피서엔 슬로우베드 모션 매트리스 때로는 침대처럼</p>\\n\\t\\t\\t\\t\\t\\t<div class=\"source_box\">\\n\\t\\t\\t\\t\\t\\t\\t<span class=\"date\">2주일 전</span>\\n\\t\\t\\t\\t\\t\\t\\t<span class=\"source\">\\n                                \\n                                <span class=\"source_inner\">슬로우베드</span>\\n                            </span>\\n\\t\\t\\t\\t\\t\\t</div>\\n\\t\\t\\t\\t\\t</a>\\n\\t\\t\\t\\t</li>\\n\\t\\t\\t\\n\\t\\t\\t\\t<li class=\"theme_item\" data-gdid=\"62bbf7eb6152d317516b74f9-13da740e-e998-4963-943f-5e81384268da\" data-da-position=\"true\">\\n\\t\\t\\t\\t\\t<a href=\"https://blog.naver.com/living_food/222795579831\" class=\"theme_thumb\" data-clk=\"tcc_lif.list5cont5\" target=\"_blank\">\\n\\t\\t\\t\\t\\t\\t<img  data-src=\"https://s.pstatic.net/dthumb.phinf/?src&#x3D;%22https%3A%2F%2Fs.pstatic.net%2Fshop.phinf%2F20220701_222%2F1656601612277T6d8k_JPEG%2F336_0.jpg%22&amp;type&#x3D;nf340_228\" alt=\"자랑하고 싶은 살림잇템, 리빙잇템이 있다면!\" width=\"170\" height=\"114\" onerror=\"this.outerHTML=\\'<span class=\\\\\\'pm_noimg\\\\\\'><span class=\\\\\\'noimg_text\\\\\\'>이미지 준비중</span></span>\\'\">\\n\\t\\t\\t\\t\\t\\t<span class=\"thumb_bd\"></span>\\n                        \\n\\t\\t\\t\\t\\t</a>\\n\\t\\t\\t\\t\\t<a href=\"https://blog.naver.com/living_food/222795579831\" class=\"theme_info\" data-clk=\"tcc_lif.list5cont5\" target=\"_blank\">\\n\\t\\t\\t\\t\\t\\t<em class=\"theme_category\"> 리빙</em>\\n\\t\\t\\t\\t\\t\\t<strong class=\"title elss\">자랑하고 싶은 살림잇템, 리빙잇템이 있다면!</strong>\\n                        <p class=\"desc\">이건 정말 잘 샀는데! 자랑하고 싶은 #내돈내산잇템 을 소개해주세요 잇템은 3개 이상 / 대가성 리뷰 불가 #자랑하고싶은살림아이템5 #내가사고내가쓴후기 #내가산후기 #살림리뷰 #살림잇템 #살림템 #주방잇템 #조리도구 #최애프라이팬 #그릇수집 #그릇장정리 #빈티지수집 #티도구 #커트러리 #키친패브릭 #인테리어소품 #집꾸미기아이템 &amp; more 참여 방법 네이버</p>\\n\\t\\t\\t\\t\\t\\t<div class=\"source_box\">\\n\\t\\t\\t\\t\\t\\t\\t<span class=\"date\">3일 전</span>\\n\\t\\t\\t\\t\\t\\t\\t<span class=\"source\">\\n                                \\n                                <span class=\"source_inner\">리빙N레시피</span>\\n                            </span>\\n\\t\\t\\t\\t\\t\\t</div>\\n\\t\\t\\t\\t\\t</a>\\n\\t\\t\\t\\t</li>\\n\\t\\t\\t\\n\\t\\t</ul>\\n\\t</div>\\n</div>\\n<div class=\"group_theme\" data-block-id=\"\" data-block-code=\"PC-THEME-LIVINGHOME-MOBILE-RANKING-DEFAULT-5\" data-block-type=\"MATERIALS\" data-template-code=\"MOBILE-RANKING-LIST\"\\n\\n\\t data-da=\"container\"\\n\\t data-index=\"\"\\n     data-page=\"3\"\\n\\t style=\"display:none\">\\n\\n\\t<div class=\"list_theme_wrap\">\\n\\t\\t<ul class=\"list_theme\">\\n\\t\\t\\t\\n\\t\\t\\t\\t<li class=\"theme_item\" data-gdid=\"62bc284ab93bbe556c68d90b-7b484cf3-a85d-4631-a22c-490fdb03b40e\" data-da-position=\"true\">\\n\\t\\t\\t\\t\\t<a href=\"https://blog.naver.com/jinju2056/222792194050\" class=\"theme_thumb\" data-clk=\"tcc_lif.list6cont1\" target=\"_blank\">\\n\\t\\t\\t\\t\\t\\t<img  data-src=\"https://s.pstatic.net/dthumb.phinf/?src&#x3D;%22https%3A%2F%2Fs.pstatic.net%2Fshop.phinf%2F20220701_81%2F1656685115953j1Qwx_JPEG%2F750_2.jpg%22&amp;type&#x3D;nf340_228\" alt=\"살림이 편해지는 리빙템 6\" width=\"170\" height=\"114\" onerror=\"this.outerHTML=\\'<span class=\\\\\\'pm_noimg\\\\\\'><span class=\\\\\\'noimg_text\\\\\\'>이미지 준비중</span></span>\\'\">\\n\\t\\t\\t\\t\\t\\t<span class=\"thumb_bd\"></span>\\n                        \\n\\t\\t\\t\\t\\t</a>\\n\\t\\t\\t\\t\\t<a href=\"https://blog.naver.com/jinju2056/222792194050\" class=\"theme_info\" data-clk=\"tcc_lif.list6cont1\" target=\"_blank\">\\n\\t\\t\\t\\t\\t\\t<em class=\"theme_category\"> 리빙</em>\\n\\t\\t\\t\\t\\t\\t<strong class=\"title elss\">살림이 편해지는 리빙템 6</strong>\\n                        <p class=\"desc\">프로 살림꾼이고 싶은 초보 새댁은 작은 물건 하나를 사더라도 디자인과 실용성, 두 가지를 모두 만족해야 지갑을 엽니다 😌 오늘은 그런 내가 최근에 직접 써본 주방 인테리어 소품들 중 정말 사길 잘했다고 생각하는 리빙템, 예쁘면서 편리하기까지 한 잇템 6가지를 소개해드릴 예정 :) 모두 내돈내산이니 편하게 봐주세요 ! 😊 주방 인테리어 소품 / 살림이 편</p>\\n\\t\\t\\t\\t\\t\\t<div class=\"source_box\">\\n\\t\\t\\t\\t\\t\\t\\t<span class=\"date\">5일 전</span>\\n\\t\\t\\t\\t\\t\\t\\t<span class=\"source\">\\n                                \\n                                <span class=\"source_inner\">토심</span>\\n                            </span>\\n\\t\\t\\t\\t\\t\\t</div>\\n\\t\\t\\t\\t\\t</a>\\n\\t\\t\\t\\t</li>\\n\\t\\t\\t\\n\\t\\t\\t\\t<li class=\"theme_item\" data-gdid=\"62bc284ab93bbe556c68d90c-4205ded2-ba8a-439c-8b2d-2b6837723c40\" data-da-position=\"true\">\\n\\t\\t\\t\\t\\t<a href=\"https://blog.naver.com/treessy/222775331627\" class=\"theme_thumb\" data-clk=\"tcc_lif.list6cont2\" target=\"_blank\">\\n\\t\\t\\t\\t\\t\\t<img  data-src=\"https://s.pstatic.net/dthumb.phinf/?src&#x3D;%22https%3A%2F%2Fs.pstatic.net%2Fshop.phinf%2F20220630_173%2F1656572546118RtHlJ_JPEG%2F1655278391518.jpg%22&amp;type&#x3D;nf340_228\" alt=\"여러모로 쓰이는 좁은 커튼,  햇빛 가리개 만들기 \" width=\"170\" height=\"114\" onerror=\"this.outerHTML=\\'<span class=\\\\\\'pm_noimg\\\\\\'><span class=\\\\\\'noimg_text\\\\\\'>이미지 준비중</span></span>\\'\">\\n\\t\\t\\t\\t\\t\\t<span class=\"thumb_bd\"></span>\\n                        \\n\\t\\t\\t\\t\\t</a>\\n\\t\\t\\t\\t\\t<a href=\"https://blog.naver.com/treessy/222775331627\" class=\"theme_info\" data-clk=\"tcc_lif.list6cont2\" target=\"_blank\">\\n\\t\\t\\t\\t\\t\\t<em class=\"theme_category\"> 리빙</em>\\n\\t\\t\\t\\t\\t\\t<strong class=\"title elss\">여러모로 쓰이는 좁은 커튼,  햇빛 가리개 만들기 </strong>\\n                        <p class=\"desc\">저희 가족은 차탈 일이 많습니다. 아이들 피부가 신경 쓰이더라구요 차량에 자체적으로 달려있는 가림막은 구멍이 송송나서 어쩐지 아쉽고 미싱돌릴줄 아는사람이니 하나쯤 만들면 되죠 ㅋㅋ 차량용 커튼 같이한번 만들어 볼까요? 직선만 하면 되는 부분이라 손바느질도 할만 하겠어요^^ 최종 사이즈는 70*50입니다. 세단인 낮은 차량용은 길이 -10cm 해도 좋을 것 </p>\\n\\t\\t\\t\\t\\t\\t<div class=\"source_box\">\\n\\t\\t\\t\\t\\t\\t\\t<span class=\"date\">2주일 전</span>\\n\\t\\t\\t\\t\\t\\t\\t<span class=\"source\">\\n                                \\n                                <span class=\"source_inner\">서둥이</span>\\n                            </span>\\n\\t\\t\\t\\t\\t\\t</div>\\n\\t\\t\\t\\t\\t</a>\\n\\t\\t\\t\\t</li>\\n\\t\\t\\t\\n\\t\\t\\t\\t<li class=\"theme_item\" data-gdid=\"62bc284ab93bbe556c68d90d-a17a80f8-d848-46ec-9baa-15b2ad98deaf\" data-da-position=\"true\">\\n\\t\\t\\t\\t\\t<a href=\"https://blog.naver.com/qazx7777/222794002747\" class=\"theme_thumb\" data-clk=\"tcc_lif.list6cont3\" target=\"_blank\">\\n\\t\\t\\t\\t\\t\\t<img  data-src=\"https://s.pstatic.net/dthumb.phinf/?src&#x3D;%22https%3A%2F%2Fs.pstatic.net%2Fshop.phinf%2F20220701_34%2F1656684669423YjuoV_JPEG%2F336_3.jpg%22&amp;type&#x3D;nf340_228\" alt=\"날파리 없애는 방법 4가지, 가장 효과 있는 레시피는? \" width=\"170\" height=\"114\" onerror=\"this.outerHTML=\\'<span class=\\\\\\'pm_noimg\\\\\\'><span class=\\\\\\'noimg_text\\\\\\'>이미지 준비중</span></span>\\'\">\\n\\t\\t\\t\\t\\t\\t<span class=\"thumb_bd\"></span>\\n                        \\n\\t\\t\\t\\t\\t</a>\\n\\t\\t\\t\\t\\t<a href=\"https://blog.naver.com/qazx7777/222794002747\" class=\"theme_info\" data-clk=\"tcc_lif.list6cont3\" target=\"_blank\">\\n\\t\\t\\t\\t\\t\\t<em class=\"theme_category\"> 리빙</em>\\n\\t\\t\\t\\t\\t\\t<strong class=\"title elss\">날파리 없애는 방법 4가지, 가장 효과 있는 레시피는? </strong>\\n                        <p class=\"desc\">장마에 습하고 꿉꿉한 데다가 초파리 날파리마저 기성을 부리는 여름이에요 시중에서 판매하는 초파리 트랩을 사서 사용해 보았는데 별 효과를 못 봤어요 집에 날파리, 초파리가 생겼다면 간단히 있는 재료들로 트랩을 만들어 여름철 골칫덩이 없애는 법 알아볼게요 초파리 생기는 이유 초파리는 기온이 높으면서 습한 환경에 빠르게 번식하는데요 열린 문틈이나 방충망, 샷시 </p>\\n\\t\\t\\t\\t\\t\\t<div class=\"source_box\">\\n\\t\\t\\t\\t\\t\\t\\t<span class=\"date\">4일 전</span>\\n\\t\\t\\t\\t\\t\\t\\t<span class=\"source\">\\n                                \\n                                <span class=\"source_inner\">들꽃사랑</span>\\n                            </span>\\n\\t\\t\\t\\t\\t\\t</div>\\n\\t\\t\\t\\t\\t</a>\\n\\t\\t\\t\\t</li>\\n\\t\\t\\t\\n\\t\\t\\t\\t<li class=\"theme_item\" data-gdid=\"12a939d0-0169-4873-bf50-0de20d9dce91-6430db3a-7c42-4905-9b0e-00a3f8de4214\" data-da-position=\"true\">\\n\\t\\t\\t\\t\\t<a href=\"https://blog.naver.com/tnflek3108/222749261359\" class=\"theme_thumb\" data-clk=\"tcc_lif.list6cont4\" target=\"_blank\">\\n\\t\\t\\t\\t\\t\\t<img  data-src=\"https://s.pstatic.net/dthumb.phinf/?src&#x3D;%22https%3A%2F%2Fs.pstatic.net%2Fshop.phinf%2F20220627_169%2F1656263398187WmRpv_JPEG%2F750_2.jpg%22&amp;type&#x3D;nf340_228\" alt=\"감성 듬뿍! 주방 공사 후기 \" width=\"170\" height=\"114\" onerror=\"this.outerHTML=\\'<span class=\\\\\\'pm_noimg\\\\\\'><span class=\\\\\\'noimg_text\\\\\\'>이미지 준비중</span></span>\\'\">\\n\\t\\t\\t\\t\\t\\t<span class=\"thumb_bd\"></span>\\n                        \\n\\t\\t\\t\\t\\t</a>\\n\\t\\t\\t\\t\\t<a href=\"https://blog.naver.com/tnflek3108/222749261359\" class=\"theme_info\" data-clk=\"tcc_lif.list6cont4\" target=\"_blank\">\\n\\t\\t\\t\\t\\t\\t<em class=\"theme_category\"> 리빙</em>\\n\\t\\t\\t\\t\\t\\t<strong class=\"title elss\">감성 듬뿍! 주방 공사 후기 </strong>\\n                        <p class=\"desc\">20평대 아파트 주방 인테리어 욕심도 많고, 탈도 많았던 주방 인테리어 후기. 아마 가장 할말이 많은 공간...... 맛보기용 비포/애프터 원하는 컨셉을 잡기위해 여러 인테리어 매체들과 핀터레스트 등등 엄청난 사진들을 서치했다. 그 중에 내눈에 계속 들어왔던, 나의 취향 월넛톤의 하부장과 화이트 상부장 ! 오크 우드보단 월넛처럼 어두운톤을 더 선호했던지라 </p>\\n\\t\\t\\t\\t\\t\\t<div class=\"source_box\">\\n\\t\\t\\t\\t\\t\\t\\t<span class=\"date\">1개월 전</span>\\n\\t\\t\\t\\t\\t\\t\\t<span class=\"source\">\\n                                \\n                                <span class=\"source_inner\">오구</span>\\n                            </span>\\n\\t\\t\\t\\t\\t\\t</div>\\n\\t\\t\\t\\t\\t</a>\\n\\t\\t\\t\\t</li>\\n\\t\\t\\t\\n\\t\\t\\t\\t<li class=\"theme_item\" data-gdid=\"93d66f9d-81c8-4430-ad45-fc00550ee4e3-75d6b295-91f2-4855-af85-469d39136673\" data-da-position=\"true\">\\n\\t\\t\\t\\t\\t<a href=\"https://post.naver.com/viewer/postView.naver?memberNo&#x3D;8639988&amp;volumeNo&#x3D;33996852\" class=\"theme_thumb\" data-clk=\"tcc_lif.list6cont5\" target=\"_blank\">\\n\\t\\t\\t\\t\\t\\t<img  data-src=\"https://s.pstatic.net/dthumb.phinf/?src&#x3D;%22https%3A%2F%2Fs.pstatic.net%2Fshop.phinf%2F20220628_47%2F1656425260221EYBsI_JPEG%2F336_66.jpg%22&amp;type&#x3D;nf340_228\" alt=\"호두나무 색감으로 채운 집, 건축업 부부의 랜선집들이\" width=\"170\" height=\"114\" onerror=\"this.outerHTML=\\'<span class=\\\\\\'pm_noimg\\\\\\'><span class=\\\\\\'noimg_text\\\\\\'>이미지 준비중</span></span>\\'\">\\n\\t\\t\\t\\t\\t\\t<span class=\"thumb_bd\"></span>\\n                        \\n\\t\\t\\t\\t\\t</a>\\n\\t\\t\\t\\t\\t<a href=\"https://post.naver.com/viewer/postView.naver?memberNo&#x3D;8639988&amp;volumeNo&#x3D;33996852\" class=\"theme_info\" data-clk=\"tcc_lif.list6cont5\" target=\"_blank\">\\n\\t\\t\\t\\t\\t\\t<em class=\"theme_category\"> 리빙</em>\\n\\t\\t\\t\\t\\t\\t<strong class=\"title elss\">호두나무 색감으로 채운 집, 건축업 부부의 랜선집들이</strong>\\n                        <p class=\"desc\">까사 노체(Casa noce)는 호두나무집이라는 의미로, 목공을 배우며 호두나무 색감에 반해 메인 아트월과 창틀을 월넛으로 만든 건축 관련 업무와 MD로 활동하는 부부의 집입니다.우리 부부는 성가대 활동을 하면서 만났습니다. 둘 다 음악에 지대한 관심을 가졌고, 음악 듣기를 워낙 좋아해서 신혼 초에는 매달 음악회에 참석했습니다. 아이가 태어나</p>\\n\\t\\t\\t\\t\\t\\t<div class=\"source_box\">\\n\\t\\t\\t\\t\\t\\t\\t<span class=\"date\">1주일 전</span>\\n\\t\\t\\t\\t\\t\\t\\t<span class=\"source\">\\n                                \\n                                <span class=\"source_inner\">인터스타일 매거진</span>\\n                            </span>\\n\\t\\t\\t\\t\\t\\t</div>\\n\\t\\t\\t\\t\\t</a>\\n\\t\\t\\t\\t</li>\\n\\t\\t\\t\\n\\t\\t</ul>\\n\\t</div>\\n</div>\\n\\n\\n\\n\\n\\t<div class=\"btn_more_wrap\">\\n\\t\\t<button type=\"button\" class=\"btn_more\" data-clk-custom=\"tcc_lif.more\" data-next-page=\"2\"><i class=\"ico_more\"></i>새로운 글 더보기</button>\\n\\t</div>\\n\\n\\n<div class=\"NM_THEME_META\" style=\"display: none\" data-panel-code=\"LIVINGHOME\" data-parent-code=\"\"></div>\\n\\n\\t</div>\\n</div>\\n </div> </div> <div id=\"NM_INT_RIGHT\" class=\"column_right\"> <div class=\"column_fix_wrap\"> <div id=\"da_brand\"></div> \\n\\n\\n\\n\\n\\n<div id=\"account\" class=\"sc_login\">\\n<h2 class=\"blind\">Sign in</h2>\\n<p class=\"login_msg\">Connect with people</p>\\n<a href=\"https://nid.naver.com/nidlogin.login?mode=form&url=https%3A%2F%2Fwww.naver.com\" class=\"link_login\" data-clk=\"log_off.login\"><i class=\"ico_naver\"><span class=\"blind\">NAVER</span></i>Sign in</a>\\n<div class=\"sub_area\">\\n<div class=\"look_box\">\\n<a href=\"https://nid.naver.com/user/help.nhn?todo=idinquiry\" class=\"link_look\" data-clk=\"log_off.searchid\">Forgot Username</a>\\n<a href=\"https://nid.naver.com/nidreminder.form\" class=\"link_look\" data-clk=\"log_off.searchpass\">Password</a>\\n</div>\\n<a href=\"https://nid.naver.com/nidregister.form?url=https%3A%2F%2Fwww.naver.com\" class=\"link_join\" data-clk=\"log_off.registration\">Sign up</a>\\n</div>\\n</div>\\n\\n\\n\\n <div id=\"timesquare\" class=\"sc_timesquare\"> <h2 class=\"blind\">타임스퀘어</h2> <div class=\"card_wrap\">\\n<div class=\"card_nav\">\\n<a href=\"#\" role=\"button\" class=\"btn_nav btn_prev\" data-clk=\"squ.pre\"><span class=\"blind\">이전</span></a>\\n<a href=\"#\" role=\"button\" class=\"btn_nav btn_next\" data-clk=\"squ.next\"><span class=\"blind\">다음</span></a>\\n</div>\\n<div id=\"NM_TS_ROLLING_WRAP\" style=\"height: 100%;\">\\n<div>\\n<a href=\"https://search.naver.com/search.naver?sm=top_hty&amp;fbm=0&amp;ie=utf8&amp;query=%EC%BD%94%EB%A1%9C%EB%82%9819\" class=\"card_news\" data-clk=\"squ.line3\"><i class=\"news_badge\">이슈</i><span class=\"news\">코로나바이러스감염증-19 현황</span></a>\\n</div>\\n<div>\\n<a href=\"https://finance.naver.com/sise/sise_index.nhn?code=KOSPI\" class=\"card_stock \" data-clk=\"squ.kospi\">\\n<strong class=\"stock_title\">증시</strong>\\n<div class=\"stock_box\">\\n<em class=\"name\">코스피</em>\\n<strong class=\"current\">2,282.80</strong>\\n<span class=\"rate rate_down\"><span class=\"blind\">하락</span>22.62 -0.98%</span>\\n</div>\\n</a>\\n</div>\\n<div>\\n<a href=\"https://finance.naver.com/sise/sise_index.nhn?code=KOSDAQ\" class=\"card_stock \" data-clk=\"squ.kosdaq\">\\n<strong class=\"stock_title\">증시</strong>\\n<div class=\"stock_box\">\\n<em class=\"name\">코스닥</em>\\n<strong class=\"current\">716.16</strong>\\n<span class=\"rate rate_down\"><span class=\"blind\">하락</span>13.32 -1.83%</span>\\n</div>\\n</a>\\n</div>\\n<div>\\n<a href=\"https://finance.naver.com/marketindex/exchangeDetail.nhn?marketindexCd=FX_USDKRW\" class=\"card_stock type_exchange\" data-clk=\"squ.usd\">\\n<strong class=\"stock_title\">환율</strong>\\n<div class=\"stock_box\">\\n<em class=\"name\">USD</em>\\n<strong class=\"current\">1,297.80</strong>\\n<span class=\"rate rate_down\"><span class=\"blind\">하락</span>0.20 -0.02%</span>\\n</div>\\n</a>\\n</div>\\n</div>\\n</div> <!-- EMPTY --> </div> <div id=\"veta_branding\"> <span class=\"blind\"> <script id=\"veta_service_check\"></script> </span> <div id=\"veta_branding_inner\" style=\"width:350px;height:200px\"> </div> <span class=\"veta_bd_t\"></span> <span class=\"veta_bd_b\"></span> <span class=\"veta_bd_l\"></span> <span class=\"veta_bd_r\"></span> </div> <div id=\"shopcast\" class=\"sc_shopcast\"> <iframe id=\"shopcast_iframe\" data-iframe-src=\"/shoppingbox/shoppingboxnew/main.nhn?mode=plusdeal&domain=N\" title=\"쇼핑캐스트\" width=\"350\" height=\"1809\" marginheight=\"0\" marginwidth=\"0\" scrolling=\"no\" frameborder=\"0\"></iframe> </div> </div> </div> <a id=\"NM_scroll_top_btn\" href=\"#wrap\" class=\"content_top\"><span class=\"blind\">TOP</span></a> <button id=\"NM_darkmode_btn\" type=\"button\" role=\"button\" class=\"btn_theme\" aria-pressed=\"false\"  > <span class=\"blind\">라이트 모드로 보기</span> </button> </div> <div id=\"footer\" role=\"contentinfo\"> <div class=\"footer_inner\"> <div id=\"NM-FOOTER-AD\" class=\"banner_area\"> <div class=\"da_box_wrap\"> <div id=\"da_public_left\"> </div> <div id=\"da_public_right\"> </div> <div id=\"veta_time2\"> </div> </div> </div> <div class=\"notice_area\" data-clk-prefix=\"ntc\"> <div class=\"notice_box\"> <h3 class=\"title\"><a href=\"https://www.naver.com/NOTICE\">공지사항</a> </h3> <a data-clk=\"notice\" href=\"https://www.naver.com/NOTICE/wwwpc/3199\" class=\"notice_msg\" >\\n이제 로컬 스마트블록 추천 결과로 더욱 다양한 장소를 발견해 보세요.\\n</a> </div> <a href=\"more.html\" class=\"link_all\" data-clk=\"svcmap\">서비스 전체보기</a> </div> <div class=\"aside_area\"> <div class=\"partner_box_wrap\"> <div class=\"partner_box\" data-clk-prefix=\"crt\"> <h3 class=\"title\">Creators</h3> <a href=\"https://www.navercorp.com/service/creators\" class=\"link_partner\" data-clk=\"creator\">크리에이터</a> <a href=\"https://www.navercorp.com/service/business\" class=\"link_partner\" data-clk=\"smbusiness\">스몰비즈니스</a> </div> <div class=\"partner_box\" data-clk-prefix=\"crt\"> <h3 class=\"title\">Partners</h3> <a href=\"https://campaign.naver.com/smefullcare/online/\" class=\"link_partner\" data-clk=\"sme\">SME 풀케어 시스템</a> <a href=\"https://business.naver.com/service.html\" class=\"link_partner\" data-clk=\"service\">비즈니스 · 광고</a> <a href=\"https://sell.storefarm.naver.com/#/home/about\" class=\"link_partner\" data-clk=\"store\">스토어 개설</a> <a href=\"https://smartplace.naver.com\" class=\"link_partner\" data-clk=\"place\">지역업체 등록</a> <a href=\"https://expert.naver.com/expert/introduction?tab=guide#join\" class=\"link_partner\" data-clk=\"expert\">엑스퍼트 등록</a> </div> <div class=\"partner_box\" data-clk-prefix=\"crt\"> <h3 class=\"title\">Developers</h3> <a href=\"https://developers.naver.com\" class=\"link_partner\" data-clk=\"center\">네이버 개발자 센터</a> <a href=\"https://developers.naver.com/docs/common/openapiguide/#/apilist.md\" class=\"link_partner\" data-clk=\"openapi\">오픈 API</a> <a href=\"https://naver.github.io\" class=\"link_partner\" data-clk=\"opensource\">오픈소스</a> <a href=\"https://d2.naver.com\" class=\"link_partner\" data-clk=\"d2\">네이버 D2</a> <a href=\"http://d2startup.com\" class=\"link_partner\" data-clk=\"naverD2SF\">네이버 D2SF</a> <a href=\"https://www.naverlabs.com\" class=\"link_partner\" data-clk=\"labs\">네이버 랩스</a> </div> </div> <div class=\"service_box_wrap\"> <div class=\"service_box\" data-clk-prefix=\"wbd\"> <a href=\"http://whale.naver.com/\" class=\"service_logo\" data-clk=\"bt\"> <img src=\"data:image/png;base64,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\" alt=\"웨일\" width=\"48\" height=\"48\"> </a> <div class=\"service_info\"> <strong class=\"title\">웨일 브라우저</strong> <a href=\"http://whale.naver.com/\" class=\"dsc\" data-clk=\"bt\">다운받기</a> </div> </div> <div class=\"service_box\" data-clk-prefix=\"prj\"> <a href=\"https://search.naver.com/search.naver?where=nexearch&sm=top_hty&fbm=1&ie=utf8&query=%ED%94%84%EB%A1%9C%EC%A0%9D%ED%8A%B8%EA%BD%83\" class=\"service_logo\" data-clk=\"link\"> <img src=\"data:image/png;base64,iVBORw0KGgoAAAANSUhEUgAAAF4AAABkCAMAAAA47XeXAAAAgVBMVEUAAADN5PdGm99Gm99Gm99Gm99Gm95Gm99Gm99Gm99Gm99Gm99Gm99Gm99Gm99Gm99Gm99Gm99Gm99Gm99Gm99Gm99Gm99Gmt9Gm99Gm99Gm99Gm95Gm99Gm99Gm95Gm99Hm99Gm99Gm9/////3+/5cp+LO5PfR5/fO5fdcp+P7/f/zv5GhAAAAInRSTlMA/v7vH9u5qJNgGwb6l8a9uqF9WFUyLxYMCtbVmLCwe4OCj8gzEgAAA0NJREFUaN7NmmFz4iAQhkkwMTHGWrWtWvWuq8mF+/8/8Ey2nb0OhSwQZnw+MHQ7pbjAy2s2gsuiLPJMLpcyy4tyISZltnmHbxw3MzEVr/MUNNL5q5iCt2ccXCN9fhPB7CQYkTsRRlWDlboSAexzGCHfC28OKxhldfDOzBMwePLNTw0sauHFFphshQcLCUwkaQRfXYBPSkrEUBdv3jezcXXhw1ciUhc+fCUidQlH7qzqEk5d2dQlnHxvU5dwVgdXdSGclaiGyamt6hLO1qIu4ZASzcFE092SBprk1jagulvXAAw/qb5N7m176xQYmOPoLymYaK/X65/PNhlagE6LGUhfRM8FjNzuf/73//bHmInzoJEpjMyeWpp9RzGz/PT6+QvMNO2Q+67PPeYZY5h7jDVg5OM+/BGikd13JfDAj/Ad1WLMyEyUwKPT00ypN1GKAljQJtFiFgqRe86eYhbWIvPPPR5d+9pKiIgUwKNJdHXBvW9jyRye1EWLWYfnJcd141Byspizz7gbUyWDuqiW0v15D9g3ZgF86JwyKUgUHJaATUmS5rsEdkkTZLjZS8Alw+skFr8Nl6H6uosShaKOp3Zo+/jgFTDe+wcSfv0yFGfQaLX7tDO0reXOPRuMCG4Q11Y3IiYblWgzS7R+h31qdRtlGB7zikeUckz+AB3a8FuMqD7Cd2nhUHLOEIkLubQIkEuLxIdwEwUy3HyXxsbgPMJcGuGox+TSIugxuTQ+KHIaAS5N92eIIuMT5tJoPfHy5q9yKoXLelLuKRri0mjMQdhwTPw6Sv8pzKXhFyhNilEwkSCXRrnAnaPnJdyl0UrqXircpeHVglnv+62K4NJo3lFcGmWd79KO7OQoXAE8XNO6tIQGxj7fpfHTwk8RubQLWEGvgTNGKzj01fixunCMCCYcvSSlaFwUyKVx86J3bczpUR3zimq1LqdosAUbJF54ar+uk5Gju436mPTk8ZAXFdO93HRYTesUVgf3B+y0XdxLfdVputmfKp/iBtNjyl3c0kzUwtJIWewIPvAL9LOyWLsV9WAps3VRzh6hJBm3oOqsRKfHLGYzS/GP+iLBuBKdqkd+iWPkFZTHf4Em4us/uhI5qss/6zK5u8+AXpwAAAAASUVORK5CYII=\" alt=\"꽃\" width=\"47\" height=\"50\"> </a> <div class=\"service_info\"> <strong class=\"title\">프로젝트 꽃</strong> <a href=\"https://search.naver.com/search.naver?where=nexearch&sm=top_hty&fbm=1&ie=utf8&query=%ED%94%84%EB%A1%9C%EC%A0%9D%ED%8A%B8%EA%BD%83\" class=\"dsc\" data-clk=\"link\">바로가기</a> </div> </div> </div> </div> <div class=\"corp_area\" data-clk-prefix=\"plc\"> <h3 class=\"blind\">네이버 정책 및 약관</h3> <ul class=\"list_corp\"> <li class=\"corp_item\"><a href=\"https://www.navercorp.com\" data-clk=\"intronhn\">회사소개</a></li> <li class=\"corp_item\"><a href=\"https://recruit.navercorp.com/\" data-clk=\"recruit\">인재채용</a></li> <li class=\"corp_item\"><a href=\"https://www.navercorp.com/naver/proposalGuide\" data-clk=\"contact\">제휴제안</a></li> <li class=\"corp_item\"><a href=\"/policy/service.html\" data-clk=\"service\">이용약관</a></li> <li class=\"corp_item\"><a href=\"/policy/privacy.html\" data-clk=\"privacy\"><strong>개인정보처리방침</strong></a></li> <li class=\"corp_item\"><a href=\"/policy/youthpolicy.html\" data-clk=\"youth\">청소년보호정책</a></li> <li class=\"corp_item\"><a href=\"/policy/spamcheck.html\" data-clk=\"policy\">네이버 정책</a></li> <li class=\"corp_item\"><a href=\"https://help.naver.com/\" data-clk=\"helpcenter\">고객센터</a></li> </ul> <address class=\"addr\"><a href=\"https://www.navercorp.com\" target=\"_blank\" data-clk=\"nhn\">ⓒ NAVER Corp.</a></address> </div> </div> </div> </div> <div id=\"adscript\" style=\"display:none\"></div> </body> </html>\\n'"
      ]
     },
     "execution_count": 8,
     "metadata": {},
     "output_type": "execute_result"
    }
   ],
   "source": [
    "res.text"
   ]
  },
  {
   "cell_type": "markdown",
   "id": "8e7c8616",
   "metadata": {},
   "source": [
    "- BeautifulSoup을 통해서 원하는 text만 가져오려고 함."
   ]
  },
  {
   "cell_type": "markdown",
   "id": "7c7aabec",
   "metadata": {},
   "source": [
    "## request"
   ]
  },
  {
   "cell_type": "code",
   "execution_count": 10,
   "id": "db402ef2",
   "metadata": {},
   "outputs": [],
   "source": [
    "res = requests.get('https://www.python.org/')"
   ]
  },
  {
   "cell_type": "code",
   "execution_count": 11,
   "id": "04cc456f",
   "metadata": {},
   "outputs": [
    {
     "data": {
      "text/plain": [
       "'<!doctype html>\\n<!--[if lt IE 7]>   <html class=\"no-js ie6 lt-ie7 lt-ie8 lt-ie9\">   <![endif]-->\\n<!--[if IE 7]>      <html class=\"no-js ie7 lt-ie8 lt-ie9\">          <![endif]-->\\n<!--[if IE 8]>      <html class=\"no-js ie8 lt-ie9\">                 <![endif]-->\\n<!--[if gt IE 8]><!--><html class=\"no-js\" lang=\"en\" dir=\"ltr\">  <!--<![endif]-->\\n\\n<head>\\n    <meta charset=\"utf-8\">\\n    <meta http-equiv=\"X-UA-Compatible\" content=\"IE=edge\">\\n\\n    <link rel=\"prefetch\" href=\"//ajax.googleapis.com/ajax/libs/jquery/1.8.2/jquery.min.js\">\\n    <link rel=\"prefetch\" href=\"//ajax.googleapis.com/ajax/libs/jqueryui/1.12.1/jquery-ui.min.js\">\\n\\n    <meta name=\"application-name\" content=\"Python.org\">\\n    <meta name=\"msapplication-tooltip\" content=\"The official home of the Python Programming Language\">\\n    <meta name=\"apple-mobile-web-app-title\" content=\"Python.org\">\\n    <meta name=\"apple-mobile-web-app-capable\" content=\"yes\">\\n    <meta name=\"apple-mobile-web-app-status-bar-style\" content=\"black\">\\n\\n    <meta name=\"viewport\" content=\"width=device-width, initial-scale=1.0\">\\n    <meta name=\"HandheldFriendly\" content=\"True\">\\n    <meta name=\"format-detection\" content=\"telephone=no\">\\n    <meta http-equiv=\"cleartype\" content=\"on\">\\n    <meta http-equiv=\"imagetoolbar\" content=\"false\">\\n\\n    <script async\\n            src=\"https://media.ethicalads.io/media/client/v1.4.0/ethicalads.min.js\"\\n            integrity=\"sha256-U3hKDidudIaxBDEzwGJApJgPEf2mWk6cfMWghrAa6i0= sha384-UcmsCqcNRSLW/dV3Lo1oCi2/VaurXbib6p4HyUEOeIa/4OpsrnucrugAefzVZJfI sha512-q4t1L4xEjGV2R4hzqCa41P8jrgFUS8xTb8rdNv4FGvw7FpydVj/kkxBJHOiaoxHa8olCcx1Slk9K+3sNbsM4ug==\"\\n            crossorigin=\"anonymous\"\\n    ></script>\\n    <script src=\"/static/js/libs/modernizr.js\"></script>\\n\\n    <link href=\"/static/stylesheets/style.a193d3b62d35.css\" rel=\"stylesheet\" type=\"text/css\" media=\"all\" title=\"default\" />\\n    <link href=\"/static/stylesheets/mq.f9187444a4a1.css\" rel=\"stylesheet\" type=\"text/css\" media=\"not print, braille, embossed, speech, tty\" />\\n    \\n\\n    <!--[if (lte IE 8)&(!IEMobile)]>\\n    <link href=\"/static/stylesheets/no-mq.bf0c425cdb73.css\" rel=\"stylesheet\" type=\"text/css\" media=\"screen\" />\\n    \\n    \\n    <![endif]-->\\n    <link rel=\"stylesheet\" href=\"//ajax.googleapis.com/ajax/libs/jqueryui/1.12.1/themes/smoothness/jquery-ui.css\">\\n\\n    \\n    <link rel=\"icon\" type=\"image/x-icon\" href=\"/static/favicon.ico\">\\n    <link rel=\"apple-touch-icon-precomposed\" sizes=\"144x144\" href=\"/static/apple-touch-icon-144x144-precomposed.png\">\\n    <link rel=\"apple-touch-icon-precomposed\" sizes=\"114x114\" href=\"/static/apple-touch-icon-114x114-precomposed.png\">\\n    <link rel=\"apple-touch-icon-precomposed\" sizes=\"72x72\" href=\"/static/apple-touch-icon-72x72-precomposed.png\">\\n    <link rel=\"apple-touch-icon-precomposed\" href=\"/static/apple-touch-icon-precomposed.png\">\\n    <link rel=\"apple-touch-icon\" href=\"/static/apple-touch-icon-precomposed.png\">\\n\\n    \\n    <meta name=\"msapplication-TileImage\" content=\"/static/metro-icon-144x144-precomposed.png\"><!-- white shape -->\\n    <meta name=\"msapplication-TileColor\" content=\"#3673a5\"><!-- python blue -->\\n    <meta name=\"msapplication-navbutton-color\" content=\"#3673a5\">\\n\\n    <title>Welcome to Python.org</title>\\n\\n    <meta name=\"description\" content=\"The official home of the Python Programming Language\">\\n    <meta name=\"keywords\" content=\"Python programming language object oriented web free open source software license documentation download community\">\\n\\n    \\n    <meta property=\"og:type\" content=\"website\">\\n    <meta property=\"og:site_name\" content=\"Python.org\">\\n    <meta property=\"og:title\" content=\"Welcome to Python.org\">\\n    <meta property=\"og:description\" content=\"The official home of the Python Programming Language\">\\n    \\n    <meta property=\"og:image\" content=\"https://www.python.org/static/opengraph-icon-200x200.png\">\\n    <meta property=\"og:image:secure_url\" content=\"https://www.python.org/static/opengraph-icon-200x200.png\">\\n    \\n    <meta property=\"og:url\" content=\"https://www.python.org/\">\\n\\n    <link rel=\"author\" href=\"/static/humans.txt\">\\n\\n    <link rel=\"alternate\" type=\"application/rss+xml\" title=\"Python Enhancement Proposals\"\\n          href=\"https://www.python.org/dev/peps/peps.rss/\">\\n    <link rel=\"alternate\" type=\"application/rss+xml\" title=\"Python Job Opportunities\"\\n          href=\"https://www.python.org/jobs/feed/rss/\">\\n    <link rel=\"alternate\" type=\"application/rss+xml\" title=\"Python Software Foundation News\"\\n          href=\"https://feeds.feedburner.com/PythonSoftwareFoundationNews\">\\n    <link rel=\"alternate\" type=\"application/rss+xml\" title=\"Python Insider\"\\n          href=\"https://feeds.feedburner.com/PythonInsider\">\\n\\n    \\n\\n    \\n    <script type=\"application/ld+json\">\\n     {\\n       \"@context\": \"https://schema.org\",\\n       \"@type\": \"WebSite\",\\n       \"url\": \"https://www.python.org/\",\\n       \"potentialAction\": {\\n         \"@type\": \"SearchAction\",\\n         \"target\": \"https://www.python.org/search/?q={search_term_string}\",\\n         \"query-input\": \"required name=search_term_string\"\\n       }\\n     }\\n    </script>\\n\\n    \\n    <script type=\"text/javascript\">\\n    var _gaq = _gaq || [];\\n    _gaq.push([\\'_setAccount\\', \\'UA-39055973-1\\']);\\n    _gaq.push([\\'_trackPageview\\']);\\n\\n    (function() {\\n        var ga = document.createElement(\\'script\\'); ga.type = \\'text/javascript\\'; ga.async = true;\\n        ga.src = (\\'https:\\' == document.location.protocol ? \\'https://ssl\\' : \\'http://www\\') + \\'.google-analytics.com/ga.js\\';\\n        var s = document.getElementsByTagName(\\'script\\')[0]; s.parentNode.insertBefore(ga, s);\\n    })();\\n    </script>\\n    \\n</head>\\n\\n<body class=\"python home\" id=\"homepage\">\\n\\n    <div id=\"touchnav-wrapper\">\\n\\n        <div id=\"nojs\" class=\"do-not-print\">\\n            <p><strong>Notice:</strong> While JavaScript is not essential for this website, your interaction with the content will be limited. Please turn JavaScript on for the full experience. </p>\\n        </div>\\n\\n        <!--[if lte IE 8]>\\n        <div id=\"oldie-warning\" class=\"do-not-print\">\\n            <p>\\n                <strong>Notice:</strong> Your browser is <em>ancient</em>. Please\\n                <a href=\"http://browsehappy.com/\">upgrade to a different browser</a> to experience a better web.\\n            </p>\\n        </div>\\n        <![endif]-->\\n\\n        <!-- Sister Site Links -->\\n        <div id=\"top\" class=\"top-bar do-not-print\">\\n\\n            <nav class=\"meta-navigation container\" role=\"navigation\">\\n\\n                \\n                <div class=\"skip-link screen-reader-text\">\\n                    <a href=\"#content\" title=\"Skip to content\">Skip to content</a>\\n                </div>\\n\\n                \\n                <a id=\"close-python-network\" class=\"jump-link\" href=\"#python-network\" aria-hidden=\"true\">\\n                    <span aria-hidden=\"true\" class=\"icon-arrow-down\"><span>&#9660;</span></span> Close\\n                </a>\\n\\n                \\n\\n<ul class=\"menu\" role=\"tree\">\\n    \\n    <li class=\"python-meta current_item selectedcurrent_branch selected\">\\n        <a href=\"/\" title=\"The Python Programming Language\" class=\"current_item selectedcurrent_branch selected\">Python</a>\\n    </li>\\n    \\n    <li class=\"psf-meta \">\\n        <a href=\"/psf-landing/\" title=\"The Python Software Foundation\" >PSF</a>\\n    </li>\\n    \\n    <li class=\"docs-meta \">\\n        <a href=\"https://docs.python.org\" title=\"Python Documentation\" >Docs</a>\\n    </li>\\n    \\n    <li class=\"pypi-meta \">\\n        <a href=\"https://pypi.org/\" title=\"Python Package Index\" >PyPI</a>\\n    </li>\\n    \\n    <li class=\"jobs-meta \">\\n        <a href=\"/jobs/\" title=\"Python Job Board\" >Jobs</a>\\n    </li>\\n    \\n    <li class=\"shop-meta \">\\n        <a href=\"/community-landing/\"  >Community</a>\\n    </li>\\n    \\n</ul>\\n\\n\\n                <a id=\"python-network\" class=\"jump-link\" href=\"#top\" aria-hidden=\"true\">\\n                    <span aria-hidden=\"true\" class=\"icon-arrow-up\"><span>&#9650;</span></span> The Python Network\\n                </a>\\n\\n            </nav>\\n\\n        </div>\\n\\n        <!-- Header elements -->\\n        <header class=\"main-header\" role=\"banner\">\\n            <div class=\"container\">\\n\\n                <h1 class=\"site-headline\">\\n                    <a href=\"/\"><img class=\"python-logo\" src=\"/static/img/python-logo.png\" alt=\"python&trade;\"></a>\\n                </h1>\\n\\n                <div class=\"options-bar-container do-not-print\">\\n                    <a href=\"https://psfmember.org/civicrm/contribute/transact?reset=1&id=2\" class=\"donate-button\">Donate</a>\\n                    <div class=\"options-bar\">\\n                        \\n                        <a id=\"site-map-link\" class=\"jump-to-menu\" href=\"#site-map\"><span class=\"menu-icon\">&equiv;</span> Menu</a><form class=\"search-the-site\" action=\"/search/\" method=\"get\">\\n                            <fieldset title=\"Search Python.org\">\\n\\n                                <span aria-hidden=\"true\" class=\"icon-search\"></span>\\n\\n                                <label class=\"screen-reader-text\" for=\"id-search-field\">Search This Site</label>\\n                                <input id=\"id-search-field\" name=\"q\" type=\"search\" role=\"textbox\" class=\"search-field\" placeholder=\"Search\" value=\"\" tabindex=\"1\">\\n\\n                                <button type=\"submit\" name=\"submit\" id=\"submit\" class=\"search-button\" title=\"Submit this Search\" tabindex=\"3\">\\n                                    GO\\n                                </button>\\n\\n                                \\n                                <!--[if IE]><input type=\"text\" style=\"display: none;\" disabled=\"disabled\" size=\"1\" tabindex=\"4\"><![endif]-->\\n\\n                            </fieldset>\\n                        </form><span class=\"breaker\"></span><div class=\"adjust-font-size\" aria-hidden=\"true\">\\n                            <ul class=\"navigation menu\" aria-label=\"Adjust Text Size on Page\">\\n                                <li class=\"tier-1 last\" aria-haspopup=\"true\">\\n                                    <a href=\"#\" class=\"action-trigger\"><strong><small>A</small> A</strong></a>\\n                                    <ul class=\"subnav menu\">\\n                                        <li class=\"tier-2 element-1\" role=\"treeitem\"><a class=\"text-shrink\" title=\"Make Text Smaller\" href=\"javascript:;\">Smaller</a></li>\\n                                        <li class=\"tier-2 element-2\" role=\"treeitem\"><a class=\"text-grow\" title=\"Make Text Larger\" href=\"javascript:;\">Larger</a></li>\\n                                        <li class=\"tier-2 element-3\" role=\"treeitem\"><a class=\"text-reset\" title=\"Reset any font size changes I have made\" href=\"javascript:;\">Reset</a></li>\\n                                    </ul>\\n                                </li>\\n                            </ul>\\n                        </div><div class=\"winkwink-nudgenudge\">\\n                            <ul class=\"navigation menu\" aria-label=\"Social Media Navigation\">\\n                                <li class=\"tier-1 last\" aria-haspopup=\"true\">\\n                                    <a href=\"#\" class=\"action-trigger\">Socialize</a>\\n                                    <ul class=\"subnav menu\">\\n                                        <li class=\"tier-2 element-1\" role=\"treeitem\"><a href=\"https://www.facebook.com/pythonlang?fref=ts\"><span aria-hidden=\"true\" class=\"icon-facebook\"></span>Facebook</a></li>\\n                                        <li class=\"tier-2 element-2\" role=\"treeitem\"><a href=\"https://twitter.com/ThePSF\"><span aria-hidden=\"true\" class=\"icon-twitter\"></span>Twitter</a></li>\\n                                        <li class=\"tier-2 element-3\" role=\"treeitem\"><a href=\"/community/irc/\"><span aria-hidden=\"true\" class=\"icon-freenode\"></span>Chat on IRC</a></li>\\n                                    </ul>\\n                                </li>\\n                            </ul>\\n                        </div>\\n                        <span data-html-include=\"/authenticated\"></span>\\n                    </div><!-- end options-bar -->\\n                </div>\\n\\n                <nav id=\"mainnav\" class=\"python-navigation main-navigation do-not-print\" role=\"navigation\">\\n                    \\n                        \\n<ul class=\"navigation menu\" role=\"menubar\" aria-label=\"Main Navigation\">\\n  \\n    \\n    \\n    <li id=\"about\" class=\"tier-1 element-1  \" aria-haspopup=\"true\">\\n        <a href=\"/about/\" title=\"\" class=\"\">About</a>\\n        \\n            \\n\\n<ul class=\"subnav menu\" role=\"menu\" aria-hidden=\"true\">\\n    \\n        <li class=\"tier-2 element-1\" role=\"treeitem\"><a href=\"/about/apps/\" title=\"\">Applications</a></li>\\n    \\n        <li class=\"tier-2 element-2\" role=\"treeitem\"><a href=\"/about/quotes/\" title=\"\">Quotes</a></li>\\n    \\n        <li class=\"tier-2 element-3\" role=\"treeitem\"><a href=\"/about/gettingstarted/\" title=\"\">Getting Started</a></li>\\n    \\n        <li class=\"tier-2 element-4\" role=\"treeitem\"><a href=\"/about/help/\" title=\"\">Help</a></li>\\n    \\n        <li class=\"tier-2 element-5\" role=\"treeitem\"><a href=\"http://brochure.getpython.info/\" title=\"\">Python Brochure</a></li>\\n    \\n</ul>\\n\\n        \\n    </li>\\n    \\n    \\n    \\n    <li id=\"downloads\" class=\"tier-1 element-2  \" aria-haspopup=\"true\">\\n        <a href=\"/downloads/\" title=\"\" class=\"\">Downloads</a>\\n        \\n            \\n\\n<ul class=\"subnav menu\" role=\"menu\" aria-hidden=\"true\">\\n    \\n        <li class=\"tier-2 element-1\" role=\"treeitem\"><a href=\"/downloads/\" title=\"\">All releases</a></li>\\n    \\n        <li class=\"tier-2 element-2\" role=\"treeitem\"><a href=\"/downloads/source/\" title=\"\">Source code</a></li>\\n    \\n        <li class=\"tier-2 element-3\" role=\"treeitem\"><a href=\"/downloads/windows/\" title=\"\">Windows</a></li>\\n    \\n        <li class=\"tier-2 element-4\" role=\"treeitem\"><a href=\"/downloads/macos/\" title=\"\">macOS</a></li>\\n    \\n        <li class=\"tier-2 element-5\" role=\"treeitem\"><a href=\"/download/other/\" title=\"\">Other Platforms</a></li>\\n    \\n        <li class=\"tier-2 element-6\" role=\"treeitem\"><a href=\"https://docs.python.org/3/license.html\" title=\"\">License</a></li>\\n    \\n        <li class=\"tier-2 element-7\" role=\"treeitem\"><a href=\"/download/alternatives\" title=\"\">Alternative Implementations</a></li>\\n    \\n</ul>\\n\\n        \\n    </li>\\n    \\n    \\n    \\n    <li id=\"documentation\" class=\"tier-1 element-3  \" aria-haspopup=\"true\">\\n        <a href=\"/doc/\" title=\"\" class=\"\">Documentation</a>\\n        \\n            \\n\\n<ul class=\"subnav menu\" role=\"menu\" aria-hidden=\"true\">\\n    \\n        <li class=\"tier-2 element-1\" role=\"treeitem\"><a href=\"/doc/\" title=\"\">Docs</a></li>\\n    \\n        <li class=\"tier-2 element-2\" role=\"treeitem\"><a href=\"/doc/av\" title=\"\">Audio/Visual Talks</a></li>\\n    \\n        <li class=\"tier-2 element-3\" role=\"treeitem\"><a href=\"https://wiki.python.org/moin/BeginnersGuide\" title=\"\">Beginner&#39;s Guide</a></li>\\n    \\n        <li class=\"tier-2 element-4\" role=\"treeitem\"><a href=\"https://devguide.python.org/\" title=\"\">Developer&#39;s Guide</a></li>\\n    \\n        <li class=\"tier-2 element-5\" role=\"treeitem\"><a href=\"https://docs.python.org/faq/\" title=\"\">FAQ</a></li>\\n    \\n        <li class=\"tier-2 element-6\" role=\"treeitem\"><a href=\"http://wiki.python.org/moin/Languages\" title=\"\">Non-English Docs</a></li>\\n    \\n        <li class=\"tier-2 element-7\" role=\"treeitem\"><a href=\"http://python.org/dev/peps/\" title=\"\">PEP Index</a></li>\\n    \\n        <li class=\"tier-2 element-8\" role=\"treeitem\"><a href=\"https://wiki.python.org/moin/PythonBooks\" title=\"\">Python Books</a></li>\\n    \\n        <li class=\"tier-2 element-9\" role=\"treeitem\"><a href=\"/doc/essays/\" title=\"\">Python Essays</a></li>\\n    \\n</ul>\\n\\n        \\n    </li>\\n    \\n    \\n    \\n    <li id=\"community\" class=\"tier-1 element-4  \" aria-haspopup=\"true\">\\n        <a href=\"/community/\" title=\"\" class=\"\">Community</a>\\n        \\n            \\n\\n<ul class=\"subnav menu\" role=\"menu\" aria-hidden=\"true\">\\n    \\n        <li class=\"tier-2 element-1\" role=\"treeitem\"><a href=\"/community/diversity/\" title=\"\">Diversity</a></li>\\n    \\n        <li class=\"tier-2 element-2\" role=\"treeitem\"><a href=\"/community/lists/\" title=\"\">Mailing Lists</a></li>\\n    \\n        <li class=\"tier-2 element-3\" role=\"treeitem\"><a href=\"/community/irc/\" title=\"\">IRC</a></li>\\n    \\n        <li class=\"tier-2 element-4\" role=\"treeitem\"><a href=\"/community/forums/\" title=\"\">Forums</a></li>\\n    \\n        <li class=\"tier-2 element-5\" role=\"treeitem\"><a href=\"/psf/annual-report/2021/\" title=\"\">PSF Annual Impact Report</a></li>\\n    \\n        <li class=\"tier-2 element-6\" role=\"treeitem\"><a href=\"/community/workshops/\" title=\"\">Python Conferences</a></li>\\n    \\n        <li class=\"tier-2 element-7\" role=\"treeitem\"><a href=\"/community/sigs/\" title=\"\">Special Interest Groups</a></li>\\n    \\n        <li class=\"tier-2 element-8\" role=\"treeitem\"><a href=\"/community/logos/\" title=\"\">Python Logo</a></li>\\n    \\n        <li class=\"tier-2 element-9\" role=\"treeitem\"><a href=\"https://wiki.python.org/moin/\" title=\"\">Python Wiki</a></li>\\n    \\n        <li class=\"tier-2 element-10\" role=\"treeitem\"><a href=\"/community/merchandise/\" title=\"\">Merchandise</a></li>\\n    \\n        <li class=\"tier-2 element-11\" role=\"treeitem\"><a href=\"/community/awards\" title=\"\">Community Awards</a></li>\\n    \\n        <li class=\"tier-2 element-12\" role=\"treeitem\"><a href=\"/psf/conduct/\" title=\"\">Code of Conduct</a></li>\\n    \\n        <li class=\"tier-2 element-13\" role=\"treeitem\"><a href=\"/psf/get-involved/\" title=\"\">Get Involved</a></li>\\n    \\n        <li class=\"tier-2 element-14\" role=\"treeitem\"><a href=\"/psf/community-stories/\" title=\"\">Shared Stories</a></li>\\n    \\n</ul>\\n\\n        \\n    </li>\\n    \\n    \\n    \\n    <li id=\"success-stories\" class=\"tier-1 element-5  \" aria-haspopup=\"true\">\\n        <a href=\"/success-stories/\" title=\"success-stories\" class=\"\">Success Stories</a>\\n        \\n            \\n\\n<ul class=\"subnav menu\" role=\"menu\" aria-hidden=\"true\">\\n    \\n        <li class=\"tier-2 element-1\" role=\"treeitem\"><a href=\"/success-stories/category/arts/\" title=\"\">Arts</a></li>\\n    \\n        <li class=\"tier-2 element-2\" role=\"treeitem\"><a href=\"/success-stories/category/business/\" title=\"\">Business</a></li>\\n    \\n        <li class=\"tier-2 element-3\" role=\"treeitem\"><a href=\"/success-stories/category/education/\" title=\"\">Education</a></li>\\n    \\n        <li class=\"tier-2 element-4\" role=\"treeitem\"><a href=\"/success-stories/category/engineering/\" title=\"\">Engineering</a></li>\\n    \\n        <li class=\"tier-2 element-5\" role=\"treeitem\"><a href=\"/success-stories/category/government/\" title=\"\">Government</a></li>\\n    \\n        <li class=\"tier-2 element-6\" role=\"treeitem\"><a href=\"/success-stories/category/scientific/\" title=\"\">Scientific</a></li>\\n    \\n        <li class=\"tier-2 element-7\" role=\"treeitem\"><a href=\"/success-stories/category/software-development/\" title=\"\">Software Development</a></li>\\n    \\n</ul>\\n\\n        \\n    </li>\\n    \\n    \\n    \\n    <li id=\"news\" class=\"tier-1 element-6  \" aria-haspopup=\"true\">\\n        <a href=\"/blogs/\" title=\"News from around the Python world\" class=\"\">News</a>\\n        \\n            \\n\\n<ul class=\"subnav menu\" role=\"menu\" aria-hidden=\"true\">\\n    \\n        <li class=\"tier-2 element-1\" role=\"treeitem\"><a href=\"/blogs/\" title=\"Python Insider Blog Posts\">Python News</a></li>\\n    \\n        <li class=\"tier-2 element-2\" role=\"treeitem\"><a href=\"/psf/newsletter/\" title=\"Python Software Foundation Newsletter\">PSF Newsletter</a></li>\\n    \\n        <li class=\"tier-2 element-3\" role=\"treeitem\"><a href=\"http://planetpython.org/\" title=\"Planet Python\">Community News</a></li>\\n    \\n        <li class=\"tier-2 element-4\" role=\"treeitem\"><a href=\"http://pyfound.blogspot.com/\" title=\"PSF Blog\">PSF News</a></li>\\n    \\n        <li class=\"tier-2 element-5\" role=\"treeitem\"><a href=\"http://pycon.blogspot.com/\" title=\"PyCon Blog\">PyCon News</a></li>\\n    \\n</ul>\\n\\n        \\n    </li>\\n    \\n    \\n    \\n    <li id=\"events\" class=\"tier-1 element-7  \" aria-haspopup=\"true\">\\n        <a href=\"/events/\" title=\"\" class=\"\">Events</a>\\n        \\n            \\n\\n<ul class=\"subnav menu\" role=\"menu\" aria-hidden=\"true\">\\n    \\n        <li class=\"tier-2 element-1\" role=\"treeitem\"><a href=\"/events/python-events/\" title=\"\">Python Events</a></li>\\n    \\n        <li class=\"tier-2 element-2\" role=\"treeitem\"><a href=\"/events/python-user-group/\" title=\"\">User Group Events</a></li>\\n    \\n        <li class=\"tier-2 element-3\" role=\"treeitem\"><a href=\"/events/python-events/past/\" title=\"\">Python Events Archive</a></li>\\n    \\n        <li class=\"tier-2 element-4\" role=\"treeitem\"><a href=\"/events/python-user-group/past/\" title=\"\">User Group Events Archive</a></li>\\n    \\n        <li class=\"tier-2 element-5\" role=\"treeitem\"><a href=\"https://wiki.python.org/moin/PythonEventsCalendar#Submitting_an_Event\" title=\"\">Submit an Event</a></li>\\n    \\n</ul>\\n\\n        \\n    </li>\\n    \\n    \\n    \\n    \\n  \\n</ul>\\n\\n                    \\n                </nav>\\n\\n                <div class=\"header-banner \"> <!-- for optional \"do-not-print\" class -->\\n                    \\n        <div id=\"dive-into-python\" class=\"flex-slideshow slideshow\">\\n\\n            <ul class=\"launch-shell menu\" id=\"launch-shell\">\\n                <li>\\n                    <a class=\"button prompt\" id=\"start-shell\" data-shell-container=\"#dive-into-python\" href=\"/shell/\">&gt;_\\n                        <span class=\"message\">Launch Interactive Shell</span>\\n                    </a>\\n                </li>\\n            </ul>\\n\\n            <ul class=\"slides menu\">\\n                \\n                <li>\\n                    <div class=\"slide-code\"><pre><code><span class=\"comment\"># Python 3: Fibonacci series up to n</span>\\r\\n>>> def fib(n):\\r\\n>>>     a, b = 0, 1\\r\\n>>>     while a &lt; n:\\r\\n>>>         print(a, end=\\' \\')\\r\\n>>>         a, b = b, a+b\\r\\n>>>     print()\\r\\n>>> fib(1000)\\r\\n<span class=\"output\">0 1 1 2 3 5 8 13 21 34 55 89 144 233 377 610 987</span></code></pre></div>\\n                    <div class=\"slide-copy\"><h1>Functions Defined</h1>\\r\\n<p>The core of extensible programming is defining functions. Python allows mandatory and optional arguments, keyword arguments, and even arbitrary argument lists. <a href=\"//docs.python.org/3/tutorial/controlflow.html#defining-functions\">More about defining functions in Python&nbsp;3</a></p></div>\\n                </li>\\n                \\n                <li>\\n                    <div class=\"slide-code\"><pre><code><span class=\"comment\"># Python 3: List comprehensions</span>\\r\\n>>> fruits = [\\'Banana\\', \\'Apple\\', \\'Lime\\']\\r\\n>>> loud_fruits = [fruit.upper() for fruit in fruits]\\r\\n>>> print(loud_fruits)\\r\\n<span class=\"output\">[\\'BANANA\\', \\'APPLE\\', \\'LIME\\']</span>\\r\\n\\r\\n<span class=\"comment\"># List and the enumerate function</span>\\r\\n>>> list(enumerate(fruits))\\r\\n<span class=\"output\">[(0, \\'Banana\\'), (1, \\'Apple\\'), (2, \\'Lime\\')]</span></code></pre></div>\\n                    <div class=\"slide-copy\"><h1>Compound Data Types</h1>\\r\\n<p>Lists (known as arrays in other languages) are one of the compound data types that Python understands. Lists can be indexed, sliced and manipulated with other built-in functions. <a href=\"//docs.python.org/3/tutorial/introduction.html#lists\">More about lists in Python&nbsp;3</a></p></div>\\n                </li>\\n                \\n                <li>\\n                    <div class=\"slide-code\"><pre><code><span class=\"comment\"># Python 3: Simple arithmetic</span>\\r\\n>>> 1 / 2\\r\\n<span class=\"output\">0.5</span>\\r\\n>>> 2 ** 3\\r\\n<span class=\"output\">8</span>\\r\\n>>> 17 / 3  <span class=\"comment\"># classic division returns a float</span>\\r\\n<span class=\"output\">5.666666666666667</span>\\r\\n>>> 17 // 3  <span class=\"comment\"># floor division</span>\\r\\n<span class=\"output\">5</span></code></pre></div>\\n                    <div class=\"slide-copy\"><h1>Intuitive Interpretation</h1>\\r\\n<p>Calculations are simple with Python, and expression syntax is straightforward: the operators <code>+</code>, <code>-</code>, <code>*</code> and <code>/</code> work as expected; parentheses <code>()</code> can be used for grouping. <a href=\"http://docs.python.org/3/tutorial/introduction.html#using-python-as-a-calculator\">More about simple math functions in Python&nbsp;3</a>.</p></div>\\n                </li>\\n                \\n                <li>\\n                    <div class=\"slide-code\"><pre><code><span class=\"comment\"># Python 3: Simple output (with Unicode)</span>\\r\\n>>> print(\"Hello, I\\'m Python!\")\\r\\n<span class=\"output\">Hello, I\\'m Python!</span>\\r\\n\\r\\n<span class=\"comment\"># Input, assignment</span>\\r\\n>>> name = input(\\'What is your name?\\\\n\\')\\r\\n>>> print(\\'Hi, %s.\\' % name)\\r\\n<span class=\"output\">What is your name?\\r\\nPython\\r\\nHi, Python.</span></code></pre></div>\\n                    <div class=\"slide-copy\"><h1>Quick &amp; Easy to Learn</h1>\\r\\n<p>Experienced programmers in any other language can pick up Python very quickly, and beginners find the clean syntax and indentation structure easy to learn. <a href=\"//docs.python.org/3/tutorial/\">Whet your appetite</a> with our Python&nbsp;3 overview.</p>\\r\\n                   </div>\\n                </li>\\n                \\n                <li>\\n                    <div class=\"slide-code\"><pre><code><span class=\"comment\"># For loop on a list</span>\\r\\n>>> numbers = [2, 4, 6, 8]\\r\\n>>> product = 1\\r\\n>>> for number in numbers:\\r\\n...    product = product * number\\r\\n... \\r\\n>>> print(\\'The product is:\\', product)\\r\\n<span class=\"output\">The product is: 384</span></code></pre></div>\\n                    <div class=\"slide-copy\"><h1>All the Flow You&rsquo;d Expect</h1>\\r\\n<p>Python knows the usual control flow statements that other languages speak &mdash; <code>if</code>, <code>for</code>, <code>while</code> and <code>range</code> &mdash; with some of its own twists, of course. <a href=\"//docs.python.org/3/tutorial/controlflow.html\">More control flow tools in Python&nbsp;3</a></p></div>\\n                </li>\\n                \\n            </ul>\\n        </div>\\n\\n\\n                </div>\\n\\n                \\n        <div class=\"introduction\">\\n            <p>Python is a programming language that lets you work quickly <span class=\"breaker\"></span>and integrate systems more effectively. <a class=\"readmore\" href=\"/doc/\">Learn More</a></p>\\n        </div>\\n\\n\\n             </div><!-- end .container -->\\n        </header>\\n\\n        <div id=\"content\" class=\"content-wrapper\">\\n            <!-- Main Content Column -->\\n            <div class=\"container\">\\n\\n                <section class=\"main-content \" role=\"main\">\\n\\n                    \\n                    \\n\\n                    \\n\\n                    \\n\\n                \\n\\n                <div class=\"row\">\\n\\n                    <div class=\"small-widget get-started-widget\">\\n                        <h2 class=\"widget-title\"><span aria-hidden=\"true\" class=\"icon-get-started\"></span>Get Started</h2>\\r\\n<p>Whether you\\'re new to programming or an experienced developer, it\\'s easy to learn and use Python.</p>\\r\\n<p><a href=\"/about/gettingstarted/\">Start with our Beginner&rsquo;s Guide</a></p>\\n                    </div>\\n\\n                    <div class=\"small-widget download-widget\">\\n                        <h2 class=\"widget-title\"><span aria-hidden=\"true\" class=\"icon-download\"></span>Download</h2>\\n<p>Python source code and installers are available for download for all versions!</p>\\n<p>Latest: <a href=\"/downloads/release/python-3105/\">Python 3.10.5</a></p>\\n                    </div>\\n\\n                    <div class=\"small-widget documentation-widget\">\\n                        <h2 class=\"widget-title\"><span aria-hidden=\"true\" class=\"icon-documentation\"></span>Docs</h2>\\r\\n<p>Documentation for Python\\'s standard library, along with tutorials and guides, are available online.</p>\\r\\n<p><a href=\"https://docs.python.org\">docs.python.org</a></p>\\n                    </div>\\n\\n                    <div class=\"small-widget jobs-widget last\">\\n                        <h2 class=\"widget-title\"><span aria-hidden=\"true\" class=\"icon-jobs\"></span>Jobs</h2>\\r\\n<p>Looking for work or have a Python related position that you\\'re trying to hire for? Our <strong>relaunched community-run job board</strong> is the place to go.</p>\\r\\n<p><a href=\"//jobs.python.org\">jobs.python.org</a></p>\\n                    </div>\\n\\n                </div>\\n\\n                <div class=\"list-widgets row\">\\n\\n                    <div class=\"medium-widget blog-widget\">\\n                        \\n                        <div class=\"shrubbery\">\\n                        \\n                            <h2 class=\"widget-title\"><span aria-hidden=\"true\" class=\"icon-news\"></span>Latest News</h2>\\n                            <p class=\"give-me-more\"><a href=\"https://blog.python.org\" title=\"More News\">More</a></p>\\n                            \\n                            <ul class=\"menu\">\\n                                \\n                                \\n                                <li>\\n<time datetime=\"2022-07-01T13:31:00.000004+00:00\"><span class=\"say-no-more\">2022-</span>07-01</time>\\n <a href=\"http://pyfound.blogspot.com/2022/07/board-election-results-for-2022.html\">Board Election Results for 2022!</a></li>\\n                                \\n                                <li>\\n<time datetime=\"2022-06-19T12:04:00.000006+00:00\"><span class=\"say-no-more\">2022-</span>06-19</time>\\n <a href=\"http://pyfound.blogspot.com/2022/06/the-psf-board-election-is-open.html\">The PSF Board Election is Open!</a></li>\\n                                \\n                                <li>\\n<time datetime=\"2022-06-09T18:02:00.000003+00:00\"><span class=\"say-no-more\">2022-</span>06-09</time>\\n <a href=\"http://pyfound.blogspot.com/2022/06/annual-report-2021.html\">The PSF&#39;s 2021 Annual Report</a></li>\\n                                \\n                                <li>\\n<time datetime=\"2022-06-08T15:25:00.000002+00:00\"><span class=\"say-no-more\">2022-</span>06-08</time>\\n <a href=\"http://pyfound.blogspot.com/2022/06/pycon-us-successful-return-to-in-person.html\">PyCon US: Successful Return to In-Person in 2022</a></li>\\n                                \\n                                <li>\\n<time datetime=\"2022-06-07T12:00:00.000001+00:00\"><span class=\"say-no-more\">2022-</span>06-07</time>\\n <a href=\"http://pyfound.blogspot.com/2022/06/welcome-chloe-gerhardson-to-psf-staff.html\">Welcome Chloe Gerhardson to the PSF staff!</a></li>\\n                                \\n                            </ul>\\n                        </div><!-- end .shrubbery -->\\n\\n                    </div>\\n\\n                    <div class=\"medium-widget event-widget last\">\\n                        \\n                        <div class=\"shrubbery\">\\n                        \\n                            <h2 class=\"widget-title\"><span aria-hidden=\"true\" class=\"icon-calendar\"></span>Upcoming Events</h2>\\n                            <p class=\"give-me-more\"><a href=\"/events/calendars/\" title=\"More Events\">More</a></p>\\n                            \\n                            <ul class=\"menu\">\\n                                \\n                                \\n                                \\n                                <li>\\n<time datetime=\"2022-07-09T00:00:00+00:00\"><span class=\"say-no-more\">2022-</span>07-09</time>\\n <a href=\"/events/python-events/1267/\">PyCon Colombia 2022</a></li>\\n                                \\n                                \\n                                \\n                                <li>\\n<time datetime=\"2022-07-11T00:00:00+00:00\"><span class=\"say-no-more\">2022-</span>07-11</time>\\n <a href=\"/events/python-events/989/\">EuroPython 2022</a></li>\\n                                \\n                                \\n                                \\n                                <li>\\n<time datetime=\"2022-07-11T00:00:00+00:00\"><span class=\"say-no-more\">2022-</span>07-11</time>\\n <a href=\"/events/python-user-group/1277/\">Building Scalable Web Apps with Python</a></li>\\n                                \\n                                \\n                                \\n                                <li>\\n<time datetime=\"2022-08-15T00:00:00+00:00\"><span class=\"say-no-more\">2022-</span>08-15</time>\\n <a href=\"/events/python-user-group/1310/\">Fundamentals of Machine Learning with Python</a></li>\\n                                \\n                                \\n                                \\n                                <li>\\n<time datetime=\"2022-08-19T00:00:00+00:00\"><span class=\"say-no-more\">2022-</span>08-19</time>\\n <a href=\"/events/python-events/1092/\">Kiwi PyCon XI</a></li>\\n                                \\n                                \\n                            </ul>\\n                        </div>\\n\\n                    </div>\\n\\n                </div>\\n\\n                <div class=\"row\">\\n\\n                    <div class=\"medium-widget success-stories-widget\">\\n                        \\n\\n\\n\\n                        <div class=\"shrubbery\">\\n                            \\n\\n                            <h2 class=\"widget-title\"><span aria-hidden=\"true\" class=\"icon-success-stories\"></span>Success Stories</h2>\\n                            <p class=\"give-me-more\"><a href=\"/success-stories/\" title=\"More Success Stories\">More</a></p>\\n\\n                            \\n                            <div class=\"success-story-item\" id=\"success-story-930\">\\n\\n                            <blockquote>\\n                                <a href=\"/success-stories/python-for-financial-machine-learning-at-union-investment/\">Python and its broad variety of libraries are very well suited to develop customized machine learning tools which tackle the complex challenges posed by financial time series.</a>\\n                            </blockquote>\\n\\n                            <table cellpadding=\"0\" cellspacing=\"0\" border=\"0\" width=\"100%\" class=\"quote-from\">\\n                                <tbody>\\n                                    <tr>\\n                                        \\n                                        <td><p><a href=\"/success-stories/python-for-financial-machine-learning-at-union-investment/\">Python for Financial Machine Learning at Union Investment</a> <em>by Dr. Christian Mandery and Nikolas Gerlich</em></p></td>\\n                                    </tr>\\n                                </tbody>\\n                            </table>\\n                            </div>\\n                            \\n\\n                        </div><!-- end .shrubbery -->\\n\\n                    </div>\\n\\n                    <div class=\"medium-widget applications-widget last\">\\n                        <div class=\"shrubbery\">\\n                            <h2 class=\"widget-title\"><span aria-hidden=\"true\" class=\"icon-python\"></span>Use Python for&hellip;</h2>\\r\\n<p class=\"give-me-more\"><a href=\"/about/apps\" title=\"More Applications\">More</a></p>\\r\\n\\r\\n<ul class=\"menu\">\\r\\n    <li><b>Web Development</b>:\\r\\n        <span class=\"tag-wrapper\"><a class=\"tag\" href=\"http://www.djangoproject.com/\">Django</a>, <a class=\"tag\" href=\"http://www.pylonsproject.org/\">Pyramid</a>, <a class=\"tag\" href=\"http://bottlepy.org\">Bottle</a>, <a class=\"tag\" href=\"http://tornadoweb.org\">Tornado</a>, <a href=\"http://flask.pocoo.org/\" class=\"tag\">Flask</a>, <a class=\"tag\" href=\"http://www.web2py.com/\">web2py</a></span></li>\\r\\n    <li><b>GUI Development</b>:\\r\\n        <span class=\"tag-wrapper\"><a class=\"tag\" href=\"http://wiki.python.org/moin/TkInter\">tkInter</a>, <a class=\"tag\" href=\"https://wiki.gnome.org/Projects/PyGObject\">PyGObject</a>, <a class=\"tag\" href=\"http://www.riverbankcomputing.co.uk/software/pyqt/intro\">PyQt</a>, <a class=\"tag\" href=\"https://wiki.qt.io/PySide\">PySide</a>, <a class=\"tag\" href=\"https://kivy.org/\">Kivy</a>, <a class=\"tag\" href=\"http://www.wxpython.org/\">wxPython</a></span></li>\\r\\n    <li><b>Scientific and Numeric</b>:\\r\\n        <span class=\"tag-wrapper\">\\r\\n<a class=\"tag\" href=\"http://www.scipy.org\">SciPy</a>, <a class=\"tag\" href=\"http://pandas.pydata.org/\">Pandas</a>, <a href=\"http://ipython.org\" class=\"tag\">IPython</a></span></li>\\r\\n    <li><b>Software Development</b>:\\r\\n        <span class=\"tag-wrapper\"><a class=\"tag\" href=\"http://buildbot.net/\">Buildbot</a>, <a class=\"tag\" href=\"http://trac.edgewall.org/\">Trac</a>, <a class=\"tag\" href=\"http://roundup.sourceforge.net/\">Roundup</a></span></li>\\r\\n    <li><b>System Administration</b>:\\r\\n        <span class=\"tag-wrapper\"><a class=\"tag\" href=\"http://www.ansible.com\">Ansible</a>, <a class=\"tag\" href=\"https://saltproject.io\">Salt</a>, <a class=\"tag\" href=\"https://www.openstack.org\">OpenStack</a>, <a class=\"tag\" href=\"https://xon.sh\">xonsh</a></span></li>\\r\\n</ul>\\n                        </div><!-- end .shrubbery -->\\n                    </div>\\n\\n                </div>\\n\\n                \\n                <div class=\"pep-widget\">\\n\\n                    <h2 class=\"widget-title\">\\n                        <span class=\"prompt\">&gt;&gt;&gt;</span> <a href=\"/dev/peps/\">Python Enhancement Proposals<span class=\"say-no-more\"> (PEPs)</span></a>: The future of Python<span class=\"say-no-more\"> is discussed here.</span>\\n                        <a aria-hidden=\"true\" class=\"rss-link\" href=\"/dev/peps/peps.rss\"><span class=\"icon-feed\"></span> RSS</a>\\n                    </h2>\\n\\n\\n                    \\n                    \\n                </div>\\n\\n                                <div class=\"psf-widget\">\\n\\n                    <div class=\"python-logo\"></div>\\n                    \\n                    <h2 class=\"widget-title\">\\r\\n    <span class=\"prompt\">&gt;&gt;&gt;</span> <a href=\"/psf/\">Python Software Foundation</a>\\r\\n</h2>\\r\\n<p>The mission of the Python Software Foundation is to promote, protect, and advance the Python programming language, and to support and facilitate the growth of a diverse and international community of Python programmers. <a class=\"readmore\" href=\"/psf/\">Learn more</a> </p>\\r\\n<p class=\"click-these\">\\r\\n    <a class=\"button\" href=\"/users/membership/\">Become a Member</a>\\r\\n    <a class=\"button\" href=\"/psf/donations/\">Donate to the PSF</a>\\r\\n</p>\\n                </div>\\n\\n\\n\\n\\n                </section>\\n\\n                \\n                \\n\\n                \\n                \\n\\n\\n            </div><!-- end .container -->\\n        </div><!-- end #content .content-wrapper -->\\n\\n        <!-- Footer and social media list -->\\n        \\n        <footer id=\"site-map\" class=\"main-footer\" role=\"contentinfo\">\\n            <div class=\"main-footer-links\">\\n                <div class=\"container\">\\n\\n                    \\n                    <a id=\"back-to-top-1\" class=\"jump-link\" href=\"#python-network\"><span aria-hidden=\"true\" class=\"icon-arrow-up\"><span>&#9650;</span></span> Back to Top</a>\\n\\n                    \\n\\n<ul class=\"sitemap navigation menu do-not-print\" role=\"tree\" id=\"container\">\\n    \\n    <li class=\"tier-1 element-1\">\\n        <a href=\"/about/\" >About</a>\\n        \\n            \\n\\n<ul class=\"subnav menu\">\\n    \\n        <li class=\"tier-2 element-1\" role=\"treeitem\"><a href=\"/about/apps/\" title=\"\">Applications</a></li>\\n    \\n        <li class=\"tier-2 element-2\" role=\"treeitem\"><a href=\"/about/quotes/\" title=\"\">Quotes</a></li>\\n    \\n        <li class=\"tier-2 element-3\" role=\"treeitem\"><a href=\"/about/gettingstarted/\" title=\"\">Getting Started</a></li>\\n    \\n        <li class=\"tier-2 element-4\" role=\"treeitem\"><a href=\"/about/help/\" title=\"\">Help</a></li>\\n    \\n        <li class=\"tier-2 element-5\" role=\"treeitem\"><a href=\"http://brochure.getpython.info/\" title=\"\">Python Brochure</a></li>\\n    \\n</ul>\\n\\n        \\n    </li>\\n    \\n    <li class=\"tier-1 element-2\">\\n        <a href=\"/downloads/\" >Downloads</a>\\n        \\n            \\n\\n<ul class=\"subnav menu\">\\n    \\n        <li class=\"tier-2 element-1\" role=\"treeitem\"><a href=\"/downloads/\" title=\"\">All releases</a></li>\\n    \\n        <li class=\"tier-2 element-2\" role=\"treeitem\"><a href=\"/downloads/source/\" title=\"\">Source code</a></li>\\n    \\n        <li class=\"tier-2 element-3\" role=\"treeitem\"><a href=\"/downloads/windows/\" title=\"\">Windows</a></li>\\n    \\n        <li class=\"tier-2 element-4\" role=\"treeitem\"><a href=\"/downloads/macos/\" title=\"\">macOS</a></li>\\n    \\n        <li class=\"tier-2 element-5\" role=\"treeitem\"><a href=\"/download/other/\" title=\"\">Other Platforms</a></li>\\n    \\n        <li class=\"tier-2 element-6\" role=\"treeitem\"><a href=\"https://docs.python.org/3/license.html\" title=\"\">License</a></li>\\n    \\n        <li class=\"tier-2 element-7\" role=\"treeitem\"><a href=\"/download/alternatives\" title=\"\">Alternative Implementations</a></li>\\n    \\n</ul>\\n\\n        \\n    </li>\\n    \\n    <li class=\"tier-1 element-3\">\\n        <a href=\"/doc/\" >Documentation</a>\\n        \\n            \\n\\n<ul class=\"subnav menu\">\\n    \\n        <li class=\"tier-2 element-1\" role=\"treeitem\"><a href=\"/doc/\" title=\"\">Docs</a></li>\\n    \\n        <li class=\"tier-2 element-2\" role=\"treeitem\"><a href=\"/doc/av\" title=\"\">Audio/Visual Talks</a></li>\\n    \\n        <li class=\"tier-2 element-3\" role=\"treeitem\"><a href=\"https://wiki.python.org/moin/BeginnersGuide\" title=\"\">Beginner&#39;s Guide</a></li>\\n    \\n        <li class=\"tier-2 element-4\" role=\"treeitem\"><a href=\"https://devguide.python.org/\" title=\"\">Developer&#39;s Guide</a></li>\\n    \\n        <li class=\"tier-2 element-5\" role=\"treeitem\"><a href=\"https://docs.python.org/faq/\" title=\"\">FAQ</a></li>\\n    \\n        <li class=\"tier-2 element-6\" role=\"treeitem\"><a href=\"http://wiki.python.org/moin/Languages\" title=\"\">Non-English Docs</a></li>\\n    \\n        <li class=\"tier-2 element-7\" role=\"treeitem\"><a href=\"http://python.org/dev/peps/\" title=\"\">PEP Index</a></li>\\n    \\n        <li class=\"tier-2 element-8\" role=\"treeitem\"><a href=\"https://wiki.python.org/moin/PythonBooks\" title=\"\">Python Books</a></li>\\n    \\n        <li class=\"tier-2 element-9\" role=\"treeitem\"><a href=\"/doc/essays/\" title=\"\">Python Essays</a></li>\\n    \\n</ul>\\n\\n        \\n    </li>\\n    \\n    <li class=\"tier-1 element-4\">\\n        <a href=\"/community/\" >Community</a>\\n        \\n            \\n\\n<ul class=\"subnav menu\">\\n    \\n        <li class=\"tier-2 element-1\" role=\"treeitem\"><a href=\"/community/diversity/\" title=\"\">Diversity</a></li>\\n    \\n        <li class=\"tier-2 element-2\" role=\"treeitem\"><a href=\"/community/lists/\" title=\"\">Mailing Lists</a></li>\\n    \\n        <li class=\"tier-2 element-3\" role=\"treeitem\"><a href=\"/community/irc/\" title=\"\">IRC</a></li>\\n    \\n        <li class=\"tier-2 element-4\" role=\"treeitem\"><a href=\"/community/forums/\" title=\"\">Forums</a></li>\\n    \\n        <li class=\"tier-2 element-5\" role=\"treeitem\"><a href=\"/psf/annual-report/2021/\" title=\"\">PSF Annual Impact Report</a></li>\\n    \\n        <li class=\"tier-2 element-6\" role=\"treeitem\"><a href=\"/community/workshops/\" title=\"\">Python Conferences</a></li>\\n    \\n        <li class=\"tier-2 element-7\" role=\"treeitem\"><a href=\"/community/sigs/\" title=\"\">Special Interest Groups</a></li>\\n    \\n        <li class=\"tier-2 element-8\" role=\"treeitem\"><a href=\"/community/logos/\" title=\"\">Python Logo</a></li>\\n    \\n        <li class=\"tier-2 element-9\" role=\"treeitem\"><a href=\"https://wiki.python.org/moin/\" title=\"\">Python Wiki</a></li>\\n    \\n        <li class=\"tier-2 element-10\" role=\"treeitem\"><a href=\"/community/merchandise/\" title=\"\">Merchandise</a></li>\\n    \\n        <li class=\"tier-2 element-11\" role=\"treeitem\"><a href=\"/community/awards\" title=\"\">Community Awards</a></li>\\n    \\n        <li class=\"tier-2 element-12\" role=\"treeitem\"><a href=\"/psf/conduct/\" title=\"\">Code of Conduct</a></li>\\n    \\n        <li class=\"tier-2 element-13\" role=\"treeitem\"><a href=\"/psf/get-involved/\" title=\"\">Get Involved</a></li>\\n    \\n        <li class=\"tier-2 element-14\" role=\"treeitem\"><a href=\"/psf/community-stories/\" title=\"\">Shared Stories</a></li>\\n    \\n</ul>\\n\\n        \\n    </li>\\n    \\n    <li class=\"tier-1 element-5\">\\n        <a href=\"/success-stories/\" title=\"success-stories\">Success Stories</a>\\n        \\n            \\n\\n<ul class=\"subnav menu\">\\n    \\n        <li class=\"tier-2 element-1\" role=\"treeitem\"><a href=\"/success-stories/category/arts/\" title=\"\">Arts</a></li>\\n    \\n        <li class=\"tier-2 element-2\" role=\"treeitem\"><a href=\"/success-stories/category/business/\" title=\"\">Business</a></li>\\n    \\n        <li class=\"tier-2 element-3\" role=\"treeitem\"><a href=\"/success-stories/category/education/\" title=\"\">Education</a></li>\\n    \\n        <li class=\"tier-2 element-4\" role=\"treeitem\"><a href=\"/success-stories/category/engineering/\" title=\"\">Engineering</a></li>\\n    \\n        <li class=\"tier-2 element-5\" role=\"treeitem\"><a href=\"/success-stories/category/government/\" title=\"\">Government</a></li>\\n    \\n        <li class=\"tier-2 element-6\" role=\"treeitem\"><a href=\"/success-stories/category/scientific/\" title=\"\">Scientific</a></li>\\n    \\n        <li class=\"tier-2 element-7\" role=\"treeitem\"><a href=\"/success-stories/category/software-development/\" title=\"\">Software Development</a></li>\\n    \\n</ul>\\n\\n        \\n    </li>\\n    \\n    <li class=\"tier-1 element-6\">\\n        <a href=\"/blogs/\" title=\"News from around the Python world\">News</a>\\n        \\n            \\n\\n<ul class=\"subnav menu\">\\n    \\n        <li class=\"tier-2 element-1\" role=\"treeitem\"><a href=\"/blogs/\" title=\"Python Insider Blog Posts\">Python News</a></li>\\n    \\n        <li class=\"tier-2 element-2\" role=\"treeitem\"><a href=\"/psf/newsletter/\" title=\"Python Software Foundation Newsletter\">PSF Newsletter</a></li>\\n    \\n        <li class=\"tier-2 element-3\" role=\"treeitem\"><a href=\"http://planetpython.org/\" title=\"Planet Python\">Community News</a></li>\\n    \\n        <li class=\"tier-2 element-4\" role=\"treeitem\"><a href=\"http://pyfound.blogspot.com/\" title=\"PSF Blog\">PSF News</a></li>\\n    \\n        <li class=\"tier-2 element-5\" role=\"treeitem\"><a href=\"http://pycon.blogspot.com/\" title=\"PyCon Blog\">PyCon News</a></li>\\n    \\n</ul>\\n\\n        \\n    </li>\\n    \\n    <li class=\"tier-1 element-7\">\\n        <a href=\"/events/\" >Events</a>\\n        \\n            \\n\\n<ul class=\"subnav menu\">\\n    \\n        <li class=\"tier-2 element-1\" role=\"treeitem\"><a href=\"/events/python-events/\" title=\"\">Python Events</a></li>\\n    \\n        <li class=\"tier-2 element-2\" role=\"treeitem\"><a href=\"/events/python-user-group/\" title=\"\">User Group Events</a></li>\\n    \\n        <li class=\"tier-2 element-3\" role=\"treeitem\"><a href=\"/events/python-events/past/\" title=\"\">Python Events Archive</a></li>\\n    \\n        <li class=\"tier-2 element-4\" role=\"treeitem\"><a href=\"/events/python-user-group/past/\" title=\"\">User Group Events Archive</a></li>\\n    \\n        <li class=\"tier-2 element-5\" role=\"treeitem\"><a href=\"https://wiki.python.org/moin/PythonEventsCalendar#Submitting_an_Event\" title=\"\">Submit an Event</a></li>\\n    \\n</ul>\\n\\n        \\n    </li>\\n    \\n    <li class=\"tier-1 element-8\">\\n        <a href=\"/dev/\" >Contributing</a>\\n        \\n            \\n\\n<ul class=\"subnav menu\">\\n    \\n        <li class=\"tier-2 element-1\" role=\"treeitem\"><a href=\"https://devguide.python.org/\" title=\"\">Developer&#39;s Guide</a></li>\\n    \\n        <li class=\"tier-2 element-2\" role=\"treeitem\"><a href=\"https://bugs.python.org/\" title=\"\">Issue Tracker</a></li>\\n    \\n        <li class=\"tier-2 element-3\" role=\"treeitem\"><a href=\"https://mail.python.org/mailman/listinfo/python-dev\" title=\"\">python-dev list</a></li>\\n    \\n        <li class=\"tier-2 element-4\" role=\"treeitem\"><a href=\"/dev/core-mentorship/\" title=\"\">Core Mentorship</a></li>\\n    \\n        <li class=\"tier-2 element-5\" role=\"treeitem\"><a href=\"/dev/security/\" title=\"\">Report a Security Issue</a></li>\\n    \\n</ul>\\n\\n        \\n    </li>\\n    \\n</ul>\\n\\n\\n                    <a id=\"back-to-top-2\" class=\"jump-link\" href=\"#python-network\"><span aria-hidden=\"true\" class=\"icon-arrow-up\"><span>&#9650;</span></span> Back to Top</a>\\n                    \\n\\n                </div><!-- end .container -->\\n            </div> <!-- end .main-footer-links -->\\n\\n            <div class=\"site-base\">\\n                <div class=\"container\">\\n                    \\n                    <ul class=\"footer-links navigation menu do-not-print\" role=\"tree\">\\n                        <li class=\"tier-1 element-1\"><a href=\"/about/help/\">Help &amp; <span class=\"say-no-more\">General</span> Contact</a></li>\\n                        <li class=\"tier-1 element-2\"><a href=\"/community/diversity/\">Diversity <span class=\"say-no-more\">Initiatives</span></a></li>\\n                        <li class=\"tier-1 element-3\"><a href=\"https://github.com/python/pythondotorg/issues\">Submit Website Bug</a></li>\\n                        <li class=\"tier-1 element-4\">\\n                            <a href=\"https://status.python.org/\">Status <span class=\"python-status-indicator-default\" id=\"python-status-indicator\"></span></a>\\n                        </li>\\n                    </ul>\\n\\n                    <div class=\"copyright\">\\n                        <p><small>\\n                            <span class=\"pre\">Copyright &copy;2001-2022.</span>\\n                            &nbsp;<span class=\"pre\"><a href=\"/psf-landing/\">Python Software Foundation</a></span>\\n                            &nbsp;<span class=\"pre\"><a href=\"/about/legal/\">Legal Statements</a></span>\\n                            &nbsp;<span class=\"pre\"><a href=\"/privacy/\">Privacy Policy</a></span>\\n                            &nbsp;<span class=\"pre\"><a href=\"/psf/sponsorship/sponsors/#heroku\">Powered by Heroku</a></span>\\n                        </small></p>\\n                    </div>\\n\\n                </div><!-- end .container -->\\n            </div><!-- end .site-base -->\\n\\n        </footer>\\n        \\n\\n    </div><!-- end #touchnav-wrapper -->\\n\\n    \\n    <script src=\"//ajax.googleapis.com/ajax/libs/jquery/1.8.2/jquery.min.js\"></script>\\n    <script>window.jQuery || document.write(\\'<script src=\"/static/js/libs/jquery-1.8.2.min.js\"><\\\\/script>\\')</script>\\n    <script src=\"//ajax.googleapis.com/ajax/libs/jqueryui/1.12.1/jquery-ui.min.js\"></script>\\n    <script>window.jQuery || document.write(\\'<script src=\"/static/js/libs/jquery-ui-1.12.1.min.js\"><\\\\/script>\\')</script>\\n\\n    <script src=\"/static/js/libs/masonry.pkgd.min.js\"></script>\\n    <script src=\"/static/js/libs/html-includes.js\"></script>\\n\\n    <script type=\"text/javascript\" src=\"/static/js/main-min.dd72c1659644.js\" charset=\"utf-8\"></script>\\n    \\n\\n    <!--[if lte IE 7]>\\n    <script type=\"text/javascript\" src=\"/static/js/plugins/IE8-min.8af6e26c7a3b.js\" charset=\"utf-8\"></script>\\n    \\n    \\n    <![endif]-->\\n\\n    <!--[if lte IE 8]>\\n    <script type=\"text/javascript\" src=\"/static/js/plugins/getComputedStyle-min.d41d8cd98f00.js\" charset=\"utf-8\"></script>\\n    \\n    \\n    <![endif]-->\\n\\n    \\n\\n    \\n    \\n\\n</body>\\n</html>\\n'"
      ]
     },
     "execution_count": 11,
     "metadata": {},
     "output_type": "execute_result"
    }
   ],
   "source": [
    "res.text"
   ]
  },
  {
   "cell_type": "code",
   "execution_count": 12,
   "id": "8e86ddba",
   "metadata": {},
   "outputs": [
    {
     "data": {
      "text/plain": [
       "200"
      ]
     },
     "execution_count": 12,
     "metadata": {},
     "output_type": "execute_result"
    }
   ],
   "source": [
    "res.status_code"
   ]
  },
  {
   "cell_type": "code",
   "execution_count": 13,
   "id": "707b38de",
   "metadata": {},
   "outputs": [
    {
     "data": {
      "text/plain": [
       "True"
      ]
     },
     "execution_count": 13,
     "metadata": {},
     "output_type": "execute_result"
    }
   ],
   "source": [
    "res.ok"
   ]
  },
  {
   "cell_type": "markdown",
   "id": "0429a9fa",
   "metadata": {},
   "source": [
    "### requests 옵션"
   ]
  },
  {
   "cell_type": "code",
   "execution_count": 14,
   "id": "3b15e757",
   "metadata": {},
   "outputs": [
    {
     "data": {
      "text/plain": [
       "True"
      ]
     },
     "execution_count": 14,
     "metadata": {},
     "output_type": "execute_result"
    }
   ],
   "source": [
    "res = requests.get('https://www.python.org/', timeout = 1)\n",
    "res.ok"
   ]
  },
  {
   "cell_type": "code",
   "execution_count": 17,
   "id": "e20f5a80",
   "metadata": {},
   "outputs": [
    {
     "ename": "ConnectTimeout",
     "evalue": "HTTPSConnectionPool(host='www.python.org', port=443): Max retries exceeded with url: / (Caused by ConnectTimeoutError(<urllib3.connection.HTTPSConnection object at 0x107aef700>, 'Connection to www.python.org timed out. (connect timeout=0.001)'))",
     "output_type": "error",
     "traceback": [
      "\u001b[0;31m---------------------------------------------------------------------------\u001b[0m",
      "\u001b[0;31mtimeout\u001b[0m                                   Traceback (most recent call last)",
      "File \u001b[0;32m/opt/homebrew/lib/python3.9/site-packages/urllib3/connection.py:174\u001b[0m, in \u001b[0;36mHTTPConnection._new_conn\u001b[0;34m(self)\u001b[0m\n\u001b[1;32m    173\u001b[0m \u001b[38;5;28;01mtry\u001b[39;00m:\n\u001b[0;32m--> 174\u001b[0m     conn \u001b[38;5;241m=\u001b[39m \u001b[43mconnection\u001b[49m\u001b[38;5;241;43m.\u001b[39;49m\u001b[43mcreate_connection\u001b[49m\u001b[43m(\u001b[49m\n\u001b[1;32m    175\u001b[0m \u001b[43m        \u001b[49m\u001b[43m(\u001b[49m\u001b[38;5;28;43mself\u001b[39;49m\u001b[38;5;241;43m.\u001b[39;49m\u001b[43m_dns_host\u001b[49m\u001b[43m,\u001b[49m\u001b[43m \u001b[49m\u001b[38;5;28;43mself\u001b[39;49m\u001b[38;5;241;43m.\u001b[39;49m\u001b[43mport\u001b[49m\u001b[43m)\u001b[49m\u001b[43m,\u001b[49m\u001b[43m \u001b[49m\u001b[38;5;28;43mself\u001b[39;49m\u001b[38;5;241;43m.\u001b[39;49m\u001b[43mtimeout\u001b[49m\u001b[43m,\u001b[49m\u001b[43m \u001b[49m\u001b[38;5;241;43m*\u001b[39;49m\u001b[38;5;241;43m*\u001b[39;49m\u001b[43mextra_kw\u001b[49m\n\u001b[1;32m    176\u001b[0m \u001b[43m    \u001b[49m\u001b[43m)\u001b[49m\n\u001b[1;32m    178\u001b[0m \u001b[38;5;28;01mexcept\u001b[39;00m SocketTimeout:\n",
      "File \u001b[0;32m/opt/homebrew/lib/python3.9/site-packages/urllib3/util/connection.py:95\u001b[0m, in \u001b[0;36mcreate_connection\u001b[0;34m(address, timeout, source_address, socket_options)\u001b[0m\n\u001b[1;32m     94\u001b[0m \u001b[38;5;28;01mif\u001b[39;00m err \u001b[38;5;129;01mis\u001b[39;00m \u001b[38;5;129;01mnot\u001b[39;00m \u001b[38;5;28;01mNone\u001b[39;00m:\n\u001b[0;32m---> 95\u001b[0m     \u001b[38;5;28;01mraise\u001b[39;00m err\n\u001b[1;32m     97\u001b[0m \u001b[38;5;28;01mraise\u001b[39;00m socket\u001b[38;5;241m.\u001b[39merror(\u001b[38;5;124m\"\u001b[39m\u001b[38;5;124mgetaddrinfo returns an empty list\u001b[39m\u001b[38;5;124m\"\u001b[39m)\n",
      "File \u001b[0;32m/opt/homebrew/lib/python3.9/site-packages/urllib3/util/connection.py:85\u001b[0m, in \u001b[0;36mcreate_connection\u001b[0;34m(address, timeout, source_address, socket_options)\u001b[0m\n\u001b[1;32m     84\u001b[0m     sock\u001b[38;5;241m.\u001b[39mbind(source_address)\n\u001b[0;32m---> 85\u001b[0m \u001b[43msock\u001b[49m\u001b[38;5;241;43m.\u001b[39;49m\u001b[43mconnect\u001b[49m\u001b[43m(\u001b[49m\u001b[43msa\u001b[49m\u001b[43m)\u001b[49m\n\u001b[1;32m     86\u001b[0m \u001b[38;5;28;01mreturn\u001b[39;00m sock\n",
      "\u001b[0;31mtimeout\u001b[0m: timed out",
      "\nDuring handling of the above exception, another exception occurred:\n",
      "\u001b[0;31mConnectTimeoutError\u001b[0m                       Traceback (most recent call last)",
      "File \u001b[0;32m/opt/homebrew/lib/python3.9/site-packages/urllib3/connectionpool.py:703\u001b[0m, in \u001b[0;36mHTTPConnectionPool.urlopen\u001b[0;34m(self, method, url, body, headers, retries, redirect, assert_same_host, timeout, pool_timeout, release_conn, chunked, body_pos, **response_kw)\u001b[0m\n\u001b[1;32m    702\u001b[0m \u001b[38;5;66;03m# Make the request on the httplib connection object.\u001b[39;00m\n\u001b[0;32m--> 703\u001b[0m httplib_response \u001b[38;5;241m=\u001b[39m \u001b[38;5;28;43mself\u001b[39;49m\u001b[38;5;241;43m.\u001b[39;49m\u001b[43m_make_request\u001b[49m\u001b[43m(\u001b[49m\n\u001b[1;32m    704\u001b[0m \u001b[43m    \u001b[49m\u001b[43mconn\u001b[49m\u001b[43m,\u001b[49m\n\u001b[1;32m    705\u001b[0m \u001b[43m    \u001b[49m\u001b[43mmethod\u001b[49m\u001b[43m,\u001b[49m\n\u001b[1;32m    706\u001b[0m \u001b[43m    \u001b[49m\u001b[43murl\u001b[49m\u001b[43m,\u001b[49m\n\u001b[1;32m    707\u001b[0m \u001b[43m    \u001b[49m\u001b[43mtimeout\u001b[49m\u001b[38;5;241;43m=\u001b[39;49m\u001b[43mtimeout_obj\u001b[49m\u001b[43m,\u001b[49m\n\u001b[1;32m    708\u001b[0m \u001b[43m    \u001b[49m\u001b[43mbody\u001b[49m\u001b[38;5;241;43m=\u001b[39;49m\u001b[43mbody\u001b[49m\u001b[43m,\u001b[49m\n\u001b[1;32m    709\u001b[0m \u001b[43m    \u001b[49m\u001b[43mheaders\u001b[49m\u001b[38;5;241;43m=\u001b[39;49m\u001b[43mheaders\u001b[49m\u001b[43m,\u001b[49m\n\u001b[1;32m    710\u001b[0m \u001b[43m    \u001b[49m\u001b[43mchunked\u001b[49m\u001b[38;5;241;43m=\u001b[39;49m\u001b[43mchunked\u001b[49m\u001b[43m,\u001b[49m\n\u001b[1;32m    711\u001b[0m \u001b[43m\u001b[49m\u001b[43m)\u001b[49m\n\u001b[1;32m    713\u001b[0m \u001b[38;5;66;03m# If we're going to release the connection in ``finally:``, then\u001b[39;00m\n\u001b[1;32m    714\u001b[0m \u001b[38;5;66;03m# the response doesn't need to know about the connection. Otherwise\u001b[39;00m\n\u001b[1;32m    715\u001b[0m \u001b[38;5;66;03m# it will also try to release it and we'll have a double-release\u001b[39;00m\n\u001b[1;32m    716\u001b[0m \u001b[38;5;66;03m# mess.\u001b[39;00m\n",
      "File \u001b[0;32m/opt/homebrew/lib/python3.9/site-packages/urllib3/connectionpool.py:386\u001b[0m, in \u001b[0;36mHTTPConnectionPool._make_request\u001b[0;34m(self, conn, method, url, timeout, chunked, **httplib_request_kw)\u001b[0m\n\u001b[1;32m    385\u001b[0m \u001b[38;5;28;01mtry\u001b[39;00m:\n\u001b[0;32m--> 386\u001b[0m     \u001b[38;5;28;43mself\u001b[39;49m\u001b[38;5;241;43m.\u001b[39;49m\u001b[43m_validate_conn\u001b[49m\u001b[43m(\u001b[49m\u001b[43mconn\u001b[49m\u001b[43m)\u001b[49m\n\u001b[1;32m    387\u001b[0m \u001b[38;5;28;01mexcept\u001b[39;00m (SocketTimeout, BaseSSLError) \u001b[38;5;28;01mas\u001b[39;00m e:\n\u001b[1;32m    388\u001b[0m     \u001b[38;5;66;03m# Py2 raises this as a BaseSSLError, Py3 raises it as socket timeout.\u001b[39;00m\n",
      "File \u001b[0;32m/opt/homebrew/lib/python3.9/site-packages/urllib3/connectionpool.py:1040\u001b[0m, in \u001b[0;36mHTTPSConnectionPool._validate_conn\u001b[0;34m(self, conn)\u001b[0m\n\u001b[1;32m   1039\u001b[0m \u001b[38;5;28;01mif\u001b[39;00m \u001b[38;5;129;01mnot\u001b[39;00m \u001b[38;5;28mgetattr\u001b[39m(conn, \u001b[38;5;124m\"\u001b[39m\u001b[38;5;124msock\u001b[39m\u001b[38;5;124m\"\u001b[39m, \u001b[38;5;28;01mNone\u001b[39;00m):  \u001b[38;5;66;03m# AppEngine might not have  `.sock`\u001b[39;00m\n\u001b[0;32m-> 1040\u001b[0m     \u001b[43mconn\u001b[49m\u001b[38;5;241;43m.\u001b[39;49m\u001b[43mconnect\u001b[49m\u001b[43m(\u001b[49m\u001b[43m)\u001b[49m\n\u001b[1;32m   1042\u001b[0m \u001b[38;5;28;01mif\u001b[39;00m \u001b[38;5;129;01mnot\u001b[39;00m conn\u001b[38;5;241m.\u001b[39mis_verified:\n",
      "File \u001b[0;32m/opt/homebrew/lib/python3.9/site-packages/urllib3/connection.py:358\u001b[0m, in \u001b[0;36mHTTPSConnection.connect\u001b[0;34m(self)\u001b[0m\n\u001b[1;32m    356\u001b[0m \u001b[38;5;28;01mdef\u001b[39;00m \u001b[38;5;21mconnect\u001b[39m(\u001b[38;5;28mself\u001b[39m):\n\u001b[1;32m    357\u001b[0m     \u001b[38;5;66;03m# Add certificate verification\u001b[39;00m\n\u001b[0;32m--> 358\u001b[0m     \u001b[38;5;28mself\u001b[39m\u001b[38;5;241m.\u001b[39msock \u001b[38;5;241m=\u001b[39m conn \u001b[38;5;241m=\u001b[39m \u001b[38;5;28;43mself\u001b[39;49m\u001b[38;5;241;43m.\u001b[39;49m\u001b[43m_new_conn\u001b[49m\u001b[43m(\u001b[49m\u001b[43m)\u001b[49m\n\u001b[1;32m    359\u001b[0m     hostname \u001b[38;5;241m=\u001b[39m \u001b[38;5;28mself\u001b[39m\u001b[38;5;241m.\u001b[39mhost\n",
      "File \u001b[0;32m/opt/homebrew/lib/python3.9/site-packages/urllib3/connection.py:179\u001b[0m, in \u001b[0;36mHTTPConnection._new_conn\u001b[0;34m(self)\u001b[0m\n\u001b[1;32m    178\u001b[0m \u001b[38;5;28;01mexcept\u001b[39;00m SocketTimeout:\n\u001b[0;32m--> 179\u001b[0m     \u001b[38;5;28;01mraise\u001b[39;00m ConnectTimeoutError(\n\u001b[1;32m    180\u001b[0m         \u001b[38;5;28mself\u001b[39m,\n\u001b[1;32m    181\u001b[0m         \u001b[38;5;124m\"\u001b[39m\u001b[38;5;124mConnection to \u001b[39m\u001b[38;5;132;01m%s\u001b[39;00m\u001b[38;5;124m timed out. (connect timeout=\u001b[39m\u001b[38;5;132;01m%s\u001b[39;00m\u001b[38;5;124m)\u001b[39m\u001b[38;5;124m\"\u001b[39m\n\u001b[1;32m    182\u001b[0m         \u001b[38;5;241m%\u001b[39m (\u001b[38;5;28mself\u001b[39m\u001b[38;5;241m.\u001b[39mhost, \u001b[38;5;28mself\u001b[39m\u001b[38;5;241m.\u001b[39mtimeout),\n\u001b[1;32m    183\u001b[0m     )\n\u001b[1;32m    185\u001b[0m \u001b[38;5;28;01mexcept\u001b[39;00m SocketError \u001b[38;5;28;01mas\u001b[39;00m e:\n",
      "\u001b[0;31mConnectTimeoutError\u001b[0m: (<urllib3.connection.HTTPSConnection object at 0x107aef700>, 'Connection to www.python.org timed out. (connect timeout=0.001)')",
      "\nDuring handling of the above exception, another exception occurred:\n",
      "\u001b[0;31mMaxRetryError\u001b[0m                             Traceback (most recent call last)",
      "File \u001b[0;32m/opt/homebrew/lib/python3.9/site-packages/requests/adapters.py:440\u001b[0m, in \u001b[0;36mHTTPAdapter.send\u001b[0;34m(self, request, stream, timeout, verify, cert, proxies)\u001b[0m\n\u001b[1;32m    439\u001b[0m \u001b[38;5;28;01mif\u001b[39;00m \u001b[38;5;129;01mnot\u001b[39;00m chunked:\n\u001b[0;32m--> 440\u001b[0m     resp \u001b[38;5;241m=\u001b[39m \u001b[43mconn\u001b[49m\u001b[38;5;241;43m.\u001b[39;49m\u001b[43murlopen\u001b[49m\u001b[43m(\u001b[49m\n\u001b[1;32m    441\u001b[0m \u001b[43m        \u001b[49m\u001b[43mmethod\u001b[49m\u001b[38;5;241;43m=\u001b[39;49m\u001b[43mrequest\u001b[49m\u001b[38;5;241;43m.\u001b[39;49m\u001b[43mmethod\u001b[49m\u001b[43m,\u001b[49m\n\u001b[1;32m    442\u001b[0m \u001b[43m        \u001b[49m\u001b[43murl\u001b[49m\u001b[38;5;241;43m=\u001b[39;49m\u001b[43murl\u001b[49m\u001b[43m,\u001b[49m\n\u001b[1;32m    443\u001b[0m \u001b[43m        \u001b[49m\u001b[43mbody\u001b[49m\u001b[38;5;241;43m=\u001b[39;49m\u001b[43mrequest\u001b[49m\u001b[38;5;241;43m.\u001b[39;49m\u001b[43mbody\u001b[49m\u001b[43m,\u001b[49m\n\u001b[1;32m    444\u001b[0m \u001b[43m        \u001b[49m\u001b[43mheaders\u001b[49m\u001b[38;5;241;43m=\u001b[39;49m\u001b[43mrequest\u001b[49m\u001b[38;5;241;43m.\u001b[39;49m\u001b[43mheaders\u001b[49m\u001b[43m,\u001b[49m\n\u001b[1;32m    445\u001b[0m \u001b[43m        \u001b[49m\u001b[43mredirect\u001b[49m\u001b[38;5;241;43m=\u001b[39;49m\u001b[38;5;28;43;01mFalse\u001b[39;49;00m\u001b[43m,\u001b[49m\n\u001b[1;32m    446\u001b[0m \u001b[43m        \u001b[49m\u001b[43massert_same_host\u001b[49m\u001b[38;5;241;43m=\u001b[39;49m\u001b[38;5;28;43;01mFalse\u001b[39;49;00m\u001b[43m,\u001b[49m\n\u001b[1;32m    447\u001b[0m \u001b[43m        \u001b[49m\u001b[43mpreload_content\u001b[49m\u001b[38;5;241;43m=\u001b[39;49m\u001b[38;5;28;43;01mFalse\u001b[39;49;00m\u001b[43m,\u001b[49m\n\u001b[1;32m    448\u001b[0m \u001b[43m        \u001b[49m\u001b[43mdecode_content\u001b[49m\u001b[38;5;241;43m=\u001b[39;49m\u001b[38;5;28;43;01mFalse\u001b[39;49;00m\u001b[43m,\u001b[49m\n\u001b[1;32m    449\u001b[0m \u001b[43m        \u001b[49m\u001b[43mretries\u001b[49m\u001b[38;5;241;43m=\u001b[39;49m\u001b[38;5;28;43mself\u001b[39;49m\u001b[38;5;241;43m.\u001b[39;49m\u001b[43mmax_retries\u001b[49m\u001b[43m,\u001b[49m\n\u001b[1;32m    450\u001b[0m \u001b[43m        \u001b[49m\u001b[43mtimeout\u001b[49m\u001b[38;5;241;43m=\u001b[39;49m\u001b[43mtimeout\u001b[49m\n\u001b[1;32m    451\u001b[0m \u001b[43m    \u001b[49m\u001b[43m)\u001b[49m\n\u001b[1;32m    453\u001b[0m \u001b[38;5;66;03m# Send the request.\u001b[39;00m\n\u001b[1;32m    454\u001b[0m \u001b[38;5;28;01melse\u001b[39;00m:\n",
      "File \u001b[0;32m/opt/homebrew/lib/python3.9/site-packages/urllib3/connectionpool.py:785\u001b[0m, in \u001b[0;36mHTTPConnectionPool.urlopen\u001b[0;34m(self, method, url, body, headers, retries, redirect, assert_same_host, timeout, pool_timeout, release_conn, chunked, body_pos, **response_kw)\u001b[0m\n\u001b[1;32m    783\u001b[0m     e \u001b[38;5;241m=\u001b[39m ProtocolError(\u001b[38;5;124m\"\u001b[39m\u001b[38;5;124mConnection aborted.\u001b[39m\u001b[38;5;124m\"\u001b[39m, e)\n\u001b[0;32m--> 785\u001b[0m retries \u001b[38;5;241m=\u001b[39m \u001b[43mretries\u001b[49m\u001b[38;5;241;43m.\u001b[39;49m\u001b[43mincrement\u001b[49m\u001b[43m(\u001b[49m\n\u001b[1;32m    786\u001b[0m \u001b[43m    \u001b[49m\u001b[43mmethod\u001b[49m\u001b[43m,\u001b[49m\u001b[43m \u001b[49m\u001b[43murl\u001b[49m\u001b[43m,\u001b[49m\u001b[43m \u001b[49m\u001b[43merror\u001b[49m\u001b[38;5;241;43m=\u001b[39;49m\u001b[43me\u001b[49m\u001b[43m,\u001b[49m\u001b[43m \u001b[49m\u001b[43m_pool\u001b[49m\u001b[38;5;241;43m=\u001b[39;49m\u001b[38;5;28;43mself\u001b[39;49m\u001b[43m,\u001b[49m\u001b[43m \u001b[49m\u001b[43m_stacktrace\u001b[49m\u001b[38;5;241;43m=\u001b[39;49m\u001b[43msys\u001b[49m\u001b[38;5;241;43m.\u001b[39;49m\u001b[43mexc_info\u001b[49m\u001b[43m(\u001b[49m\u001b[43m)\u001b[49m\u001b[43m[\u001b[49m\u001b[38;5;241;43m2\u001b[39;49m\u001b[43m]\u001b[49m\n\u001b[1;32m    787\u001b[0m \u001b[43m\u001b[49m\u001b[43m)\u001b[49m\n\u001b[1;32m    788\u001b[0m retries\u001b[38;5;241m.\u001b[39msleep()\n",
      "File \u001b[0;32m/opt/homebrew/lib/python3.9/site-packages/urllib3/util/retry.py:592\u001b[0m, in \u001b[0;36mRetry.increment\u001b[0;34m(self, method, url, response, error, _pool, _stacktrace)\u001b[0m\n\u001b[1;32m    591\u001b[0m \u001b[38;5;28;01mif\u001b[39;00m new_retry\u001b[38;5;241m.\u001b[39mis_exhausted():\n\u001b[0;32m--> 592\u001b[0m     \u001b[38;5;28;01mraise\u001b[39;00m MaxRetryError(_pool, url, error \u001b[38;5;129;01mor\u001b[39;00m ResponseError(cause))\n\u001b[1;32m    594\u001b[0m log\u001b[38;5;241m.\u001b[39mdebug(\u001b[38;5;124m\"\u001b[39m\u001b[38;5;124mIncremented Retry for (url=\u001b[39m\u001b[38;5;124m'\u001b[39m\u001b[38;5;132;01m%s\u001b[39;00m\u001b[38;5;124m'\u001b[39m\u001b[38;5;124m): \u001b[39m\u001b[38;5;132;01m%r\u001b[39;00m\u001b[38;5;124m\"\u001b[39m, url, new_retry)\n",
      "\u001b[0;31mMaxRetryError\u001b[0m: HTTPSConnectionPool(host='www.python.org', port=443): Max retries exceeded with url: / (Caused by ConnectTimeoutError(<urllib3.connection.HTTPSConnection object at 0x107aef700>, 'Connection to www.python.org timed out. (connect timeout=0.001)'))",
      "\nDuring handling of the above exception, another exception occurred:\n",
      "\u001b[0;31mConnectTimeout\u001b[0m                            Traceback (most recent call last)",
      "Input \u001b[0;32mIn [17]\u001b[0m, in \u001b[0;36m<module>\u001b[0;34m\u001b[0m\n\u001b[0;32m----> 1\u001b[0m res \u001b[38;5;241m=\u001b[39m \u001b[43mrequests\u001b[49m\u001b[38;5;241;43m.\u001b[39;49m\u001b[43mget\u001b[49m\u001b[43m(\u001b[49m\u001b[38;5;124;43m'\u001b[39;49m\u001b[38;5;124;43mhttps://www.python.org/\u001b[39;49m\u001b[38;5;124;43m'\u001b[39;49m\u001b[43m,\u001b[49m\u001b[43m \u001b[49m\u001b[43mtimeout\u001b[49m\u001b[43m \u001b[49m\u001b[38;5;241;43m=\u001b[39;49m\u001b[43m \u001b[49m\u001b[38;5;241;43m0.001\u001b[39;49m\u001b[43m)\u001b[49m\n\u001b[1;32m      2\u001b[0m res\u001b[38;5;241m.\u001b[39mok\n",
      "File \u001b[0;32m/opt/homebrew/lib/python3.9/site-packages/requests/api.py:75\u001b[0m, in \u001b[0;36mget\u001b[0;34m(url, params, **kwargs)\u001b[0m\n\u001b[1;32m     64\u001b[0m \u001b[38;5;28;01mdef\u001b[39;00m \u001b[38;5;21mget\u001b[39m(url, params\u001b[38;5;241m=\u001b[39m\u001b[38;5;28;01mNone\u001b[39;00m, \u001b[38;5;241m*\u001b[39m\u001b[38;5;241m*\u001b[39mkwargs):\n\u001b[1;32m     65\u001b[0m     \u001b[38;5;124mr\u001b[39m\u001b[38;5;124;03m\"\"\"Sends a GET request.\u001b[39;00m\n\u001b[1;32m     66\u001b[0m \n\u001b[1;32m     67\u001b[0m \u001b[38;5;124;03m    :param url: URL for the new :class:`Request` object.\u001b[39;00m\n\u001b[0;32m   (...)\u001b[0m\n\u001b[1;32m     72\u001b[0m \u001b[38;5;124;03m    :rtype: requests.Response\u001b[39;00m\n\u001b[1;32m     73\u001b[0m \u001b[38;5;124;03m    \"\"\"\u001b[39;00m\n\u001b[0;32m---> 75\u001b[0m     \u001b[38;5;28;01mreturn\u001b[39;00m \u001b[43mrequest\u001b[49m\u001b[43m(\u001b[49m\u001b[38;5;124;43m'\u001b[39;49m\u001b[38;5;124;43mget\u001b[39;49m\u001b[38;5;124;43m'\u001b[39;49m\u001b[43m,\u001b[49m\u001b[43m \u001b[49m\u001b[43murl\u001b[49m\u001b[43m,\u001b[49m\u001b[43m \u001b[49m\u001b[43mparams\u001b[49m\u001b[38;5;241;43m=\u001b[39;49m\u001b[43mparams\u001b[49m\u001b[43m,\u001b[49m\u001b[43m \u001b[49m\u001b[38;5;241;43m*\u001b[39;49m\u001b[38;5;241;43m*\u001b[39;49m\u001b[43mkwargs\u001b[49m\u001b[43m)\u001b[49m\n",
      "File \u001b[0;32m/opt/homebrew/lib/python3.9/site-packages/requests/api.py:61\u001b[0m, in \u001b[0;36mrequest\u001b[0;34m(method, url, **kwargs)\u001b[0m\n\u001b[1;32m     57\u001b[0m \u001b[38;5;66;03m# By using the 'with' statement we are sure the session is closed, thus we\u001b[39;00m\n\u001b[1;32m     58\u001b[0m \u001b[38;5;66;03m# avoid leaving sockets open which can trigger a ResourceWarning in some\u001b[39;00m\n\u001b[1;32m     59\u001b[0m \u001b[38;5;66;03m# cases, and look like a memory leak in others.\u001b[39;00m\n\u001b[1;32m     60\u001b[0m \u001b[38;5;28;01mwith\u001b[39;00m sessions\u001b[38;5;241m.\u001b[39mSession() \u001b[38;5;28;01mas\u001b[39;00m session:\n\u001b[0;32m---> 61\u001b[0m     \u001b[38;5;28;01mreturn\u001b[39;00m \u001b[43msession\u001b[49m\u001b[38;5;241;43m.\u001b[39;49m\u001b[43mrequest\u001b[49m\u001b[43m(\u001b[49m\u001b[43mmethod\u001b[49m\u001b[38;5;241;43m=\u001b[39;49m\u001b[43mmethod\u001b[49m\u001b[43m,\u001b[49m\u001b[43m \u001b[49m\u001b[43murl\u001b[49m\u001b[38;5;241;43m=\u001b[39;49m\u001b[43murl\u001b[49m\u001b[43m,\u001b[49m\u001b[43m \u001b[49m\u001b[38;5;241;43m*\u001b[39;49m\u001b[38;5;241;43m*\u001b[39;49m\u001b[43mkwargs\u001b[49m\u001b[43m)\u001b[49m\n",
      "File \u001b[0;32m/opt/homebrew/lib/python3.9/site-packages/requests/sessions.py:529\u001b[0m, in \u001b[0;36mSession.request\u001b[0;34m(self, method, url, params, data, headers, cookies, files, auth, timeout, allow_redirects, proxies, hooks, stream, verify, cert, json)\u001b[0m\n\u001b[1;32m    524\u001b[0m send_kwargs \u001b[38;5;241m=\u001b[39m {\n\u001b[1;32m    525\u001b[0m     \u001b[38;5;124m'\u001b[39m\u001b[38;5;124mtimeout\u001b[39m\u001b[38;5;124m'\u001b[39m: timeout,\n\u001b[1;32m    526\u001b[0m     \u001b[38;5;124m'\u001b[39m\u001b[38;5;124mallow_redirects\u001b[39m\u001b[38;5;124m'\u001b[39m: allow_redirects,\n\u001b[1;32m    527\u001b[0m }\n\u001b[1;32m    528\u001b[0m send_kwargs\u001b[38;5;241m.\u001b[39mupdate(settings)\n\u001b[0;32m--> 529\u001b[0m resp \u001b[38;5;241m=\u001b[39m \u001b[38;5;28;43mself\u001b[39;49m\u001b[38;5;241;43m.\u001b[39;49m\u001b[43msend\u001b[49m\u001b[43m(\u001b[49m\u001b[43mprep\u001b[49m\u001b[43m,\u001b[49m\u001b[43m \u001b[49m\u001b[38;5;241;43m*\u001b[39;49m\u001b[38;5;241;43m*\u001b[39;49m\u001b[43msend_kwargs\u001b[49m\u001b[43m)\u001b[49m\n\u001b[1;32m    531\u001b[0m \u001b[38;5;28;01mreturn\u001b[39;00m resp\n",
      "File \u001b[0;32m/opt/homebrew/lib/python3.9/site-packages/requests/sessions.py:645\u001b[0m, in \u001b[0;36mSession.send\u001b[0;34m(self, request, **kwargs)\u001b[0m\n\u001b[1;32m    642\u001b[0m start \u001b[38;5;241m=\u001b[39m preferred_clock()\n\u001b[1;32m    644\u001b[0m \u001b[38;5;66;03m# Send the request\u001b[39;00m\n\u001b[0;32m--> 645\u001b[0m r \u001b[38;5;241m=\u001b[39m \u001b[43madapter\u001b[49m\u001b[38;5;241;43m.\u001b[39;49m\u001b[43msend\u001b[49m\u001b[43m(\u001b[49m\u001b[43mrequest\u001b[49m\u001b[43m,\u001b[49m\u001b[43m \u001b[49m\u001b[38;5;241;43m*\u001b[39;49m\u001b[38;5;241;43m*\u001b[39;49m\u001b[43mkwargs\u001b[49m\u001b[43m)\u001b[49m\n\u001b[1;32m    647\u001b[0m \u001b[38;5;66;03m# Total elapsed time of the request (approximately)\u001b[39;00m\n\u001b[1;32m    648\u001b[0m elapsed \u001b[38;5;241m=\u001b[39m preferred_clock() \u001b[38;5;241m-\u001b[39m start\n",
      "File \u001b[0;32m/opt/homebrew/lib/python3.9/site-packages/requests/adapters.py:507\u001b[0m, in \u001b[0;36mHTTPAdapter.send\u001b[0;34m(self, request, stream, timeout, verify, cert, proxies)\u001b[0m\n\u001b[1;32m    504\u001b[0m \u001b[38;5;28;01mif\u001b[39;00m \u001b[38;5;28misinstance\u001b[39m(e\u001b[38;5;241m.\u001b[39mreason, ConnectTimeoutError):\n\u001b[1;32m    505\u001b[0m     \u001b[38;5;66;03m# TODO: Remove this in 3.0.0: see #2811\u001b[39;00m\n\u001b[1;32m    506\u001b[0m     \u001b[38;5;28;01mif\u001b[39;00m \u001b[38;5;129;01mnot\u001b[39;00m \u001b[38;5;28misinstance\u001b[39m(e\u001b[38;5;241m.\u001b[39mreason, NewConnectionError):\n\u001b[0;32m--> 507\u001b[0m         \u001b[38;5;28;01mraise\u001b[39;00m ConnectTimeout(e, request\u001b[38;5;241m=\u001b[39mrequest)\n\u001b[1;32m    509\u001b[0m \u001b[38;5;28;01mif\u001b[39;00m \u001b[38;5;28misinstance\u001b[39m(e\u001b[38;5;241m.\u001b[39mreason, ResponseError):\n\u001b[1;32m    510\u001b[0m     \u001b[38;5;28;01mraise\u001b[39;00m RetryError(e, request\u001b[38;5;241m=\u001b[39mrequest)\n",
      "\u001b[0;31mConnectTimeout\u001b[0m: HTTPSConnectionPool(host='www.python.org', port=443): Max retries exceeded with url: / (Caused by ConnectTimeoutError(<urllib3.connection.HTTPSConnection object at 0x107aef700>, 'Connection to www.python.org timed out. (connect timeout=0.001)'))"
     ]
    }
   ],
   "source": [
    "res = requests.get('https://www.python.org/', timeout = 0.001)\n",
    "res.ok"
   ]
  },
  {
   "cell_type": "code",
   "execution_count": 18,
   "id": "26f26270",
   "metadata": {},
   "outputs": [
    {
     "data": {
      "text/plain": [
       "True"
      ]
     },
     "execution_count": 18,
     "metadata": {},
     "output_type": "execute_result"
    }
   ],
   "source": [
    "res = requests.get('https://www.python.org/', timeout = 1)\n",
    "res.ok"
   ]
  },
  {
   "cell_type": "code",
   "execution_count": 19,
   "id": "9a3cb121",
   "metadata": {},
   "outputs": [
    {
     "data": {
      "text/plain": [
       "200"
      ]
     },
     "execution_count": 19,
     "metadata": {},
     "output_type": "execute_result"
    }
   ],
   "source": [
    "res.status_code"
   ]
  },
  {
   "cell_type": "code",
   "execution_count": 20,
   "id": "ed99e924",
   "metadata": {},
   "outputs": [
    {
     "data": {
      "text/plain": [
       "'utf-8'"
      ]
     },
     "execution_count": 20,
     "metadata": {},
     "output_type": "execute_result"
    }
   ],
   "source": [
    "res.encoding"
   ]
  },
  {
   "cell_type": "code",
   "execution_count": 21,
   "id": "6cf4067a",
   "metadata": {},
   "outputs": [
    {
     "data": {
      "text/plain": [
       "<PreparedRequest [GET]>"
      ]
     },
     "execution_count": 21,
     "metadata": {},
     "output_type": "execute_result"
    }
   ],
   "source": [
    "res.request"
   ]
  },
  {
   "cell_type": "markdown",
   "id": "84683091",
   "metadata": {},
   "source": [
    "## BeautifulSoup 기초"
   ]
  },
  {
   "cell_type": "code",
   "execution_count": 22,
   "id": "e29c40ff",
   "metadata": {},
   "outputs": [],
   "source": [
    "from bs4 import BeautifulSoup"
   ]
  },
  {
   "cell_type": "code",
   "execution_count": 23,
   "id": "337e482e",
   "metadata": {},
   "outputs": [],
   "source": [
    "text = \"\"\"\n",
    "<html>\n",
    "<head>\n",
    "<title>Ma:deri</title>\n",
    "</head>\n",
    "<body>\n",
    "<h1> maderi h1 </h1>\n",
    "<h2> maderi h2 </h2>\n",
    "<p class=\"title\"><b>BeautifulSoup</b></p>\n",
    "<p class=\"content\">contents\n",
    "<a href=\"http://www.maderi.co.kr/\" class=\"m_main\" id=\"maderi\">Maderi</a>\n",
    "<a href=\"http://datamarketing.co.kr/\" class=\"d_main\" id=\"dmk\" val=\"home\">DMK</a>\n",
    "</p>\n",
    "<p class=\"call\">call me...</p>\n",
    "<div>\n",
    "    <table>\n",
    "        <thead></thead>\n",
    "        <tbody>\n",
    "            <tr>\n",
    "                <td>철수</td>\n",
    "                <td>24</td>\n",
    "            </tr>\n",
    "            <tr>\n",
    "                <td>영희</td>\n",
    "                <td>31</td>\n",
    "            </tr>\n",
    "        </tbody>\n",
    "    </table>\n",
    "</div>\n",
    "</body>\n",
    "</html>\n",
    "\"\"\""
   ]
  },
  {
   "cell_type": "code",
   "execution_count": 24,
   "id": "b8ea3914",
   "metadata": {},
   "outputs": [],
   "source": [
    "soup = BeautifulSoup(text, 'html.parser')"
   ]
  },
  {
   "cell_type": "code",
   "execution_count": 25,
   "id": "c796895e",
   "metadata": {},
   "outputs": [
    {
     "data": {
      "text/plain": [
       "\n",
       "<html>\n",
       "<head>\n",
       "<title>Ma:deri</title>\n",
       "</head>\n",
       "<body>\n",
       "<h1> maderi h1 </h1>\n",
       "<h2> maderi h2 </h2>\n",
       "<p class=\"title\"><b>BeautifulSoup</b></p>\n",
       "<p class=\"content\">contents\n",
       "<a class=\"m_main\" href=\"http://www.maderi.co.kr/\" id=\"maderi\">Maderi</a>\n",
       "<a class=\"d_main\" href=\"http://datamarketing.co.kr/\" id=\"dmk\" val=\"home\">DMK</a>\n",
       "</p>\n",
       "<p class=\"call\">call me...</p>\n",
       "<div>\n",
       "<table>\n",
       "<thead></thead>\n",
       "<tbody>\n",
       "<tr>\n",
       "<td>철수</td>\n",
       "<td>24</td>\n",
       "</tr>\n",
       "<tr>\n",
       "<td>영희</td>\n",
       "<td>31</td>\n",
       "</tr>\n",
       "</tbody>\n",
       "</table>\n",
       "</div>\n",
       "</body>\n",
       "</html>"
      ]
     },
     "execution_count": 25,
     "metadata": {},
     "output_type": "execute_result"
    }
   ],
   "source": [
    "soup"
   ]
  },
  {
   "cell_type": "code",
   "execution_count": 27,
   "id": "aaf99f2b",
   "metadata": {},
   "outputs": [
    {
     "name": "stdout",
     "output_type": "stream",
     "text": [
      "<html>\n",
      " <head>\n",
      "  <title>\n",
      "   Ma:deri\n",
      "  </title>\n",
      " </head>\n",
      " <body>\n",
      "  <h1>\n",
      "   maderi h1\n",
      "  </h1>\n",
      "  <h2>\n",
      "   maderi h2\n",
      "  </h2>\n",
      "  <p class=\"title\">\n",
      "   <b>\n",
      "    BeautifulSoup\n",
      "   </b>\n",
      "  </p>\n",
      "  <p class=\"content\">\n",
      "   contents\n",
      "   <a class=\"m_main\" href=\"http://www.maderi.co.kr/\" id=\"maderi\">\n",
      "    Maderi\n",
      "   </a>\n",
      "   <a class=\"d_main\" href=\"http://datamarketing.co.kr/\" id=\"dmk\" val=\"home\">\n",
      "    DMK\n",
      "   </a>\n",
      "  </p>\n",
      "  <p class=\"call\">\n",
      "   call me...\n",
      "  </p>\n",
      "  <div>\n",
      "   <table>\n",
      "    <thead>\n",
      "    </thead>\n",
      "    <tbody>\n",
      "     <tr>\n",
      "      <td>\n",
      "       철수\n",
      "      </td>\n",
      "      <td>\n",
      "       24\n",
      "      </td>\n",
      "     </tr>\n",
      "     <tr>\n",
      "      <td>\n",
      "       영희\n",
      "      </td>\n",
      "      <td>\n",
      "       31\n",
      "      </td>\n",
      "     </tr>\n",
      "    </tbody>\n",
      "   </table>\n",
      "  </div>\n",
      " </body>\n",
      "</html>\n",
      "\n"
     ]
    }
   ],
   "source": [
    "print(soup.prettify())"
   ]
  },
  {
   "cell_type": "markdown",
   "id": "c30fdc25",
   "metadata": {},
   "source": [
    "### body, head 접근"
   ]
  },
  {
   "cell_type": "code",
   "execution_count": 28,
   "id": "c1c057ef",
   "metadata": {},
   "outputs": [],
   "source": [
    "h1 = soup.html.body.h1\n",
    "h2 = soup.html.body.h2.text"
   ]
  },
  {
   "cell_type": "code",
   "execution_count": 29,
   "id": "ec4cb6a2",
   "metadata": {},
   "outputs": [
    {
     "name": "stdout",
     "output_type": "stream",
     "text": [
      "<h1> maderi h1 </h1>\n",
      " maderi h2 \n"
     ]
    }
   ],
   "source": [
    "print(h1)\n",
    "print(h2)"
   ]
  },
  {
   "cell_type": "code",
   "execution_count": 31,
   "id": "85c95053",
   "metadata": {},
   "outputs": [
    {
     "name": "stdout",
     "output_type": "stream",
     "text": [
      "<p class=\"title\"><b>BeautifulSoup</b></p>\n",
      "\n",
      "<p class=\"content\">contents\n",
      "<a class=\"m_main\" href=\"http://www.maderi.co.kr/\" id=\"maderi\">Maderi</a>\n",
      "<a class=\"d_main\" href=\"http://datamarketing.co.kr/\" id=\"dmk\" val=\"home\">DMK</a>\n",
      "</p>\n",
      "<generator object PageElement.next_elements at 0x120c58f20>\n"
     ]
    }
   ],
   "source": [
    "p = soup.html.body.p\n",
    "print(p)\n",
    "print()\n",
    "p2 = p.next_sibling.next_sibling\n",
    "print(p2)\n",
    "print(p2.next_elements)"
   ]
  },
  {
   "cell_type": "code",
   "execution_count": 32,
   "id": "ea7652ed",
   "metadata": {},
   "outputs": [
    {
     "data": {
      "text/plain": [
       "<p class=\"title\"><b>BeautifulSoup</b></p>"
      ]
     },
     "execution_count": 32,
     "metadata": {},
     "output_type": "execute_result"
    }
   ],
   "source": [
    "p"
   ]
  },
  {
   "cell_type": "code",
   "execution_count": 33,
   "id": "9f974119",
   "metadata": {},
   "outputs": [
    {
     "data": {
      "text/plain": [
       "<p class=\"content\">contents\n",
       "<a class=\"m_main\" href=\"http://www.maderi.co.kr/\" id=\"maderi\">Maderi</a>\n",
       "<a class=\"d_main\" href=\"http://datamarketing.co.kr/\" id=\"dmk\" val=\"home\">DMK</a>\n",
       "</p>"
      ]
     },
     "execution_count": 33,
     "metadata": {},
     "output_type": "execute_result"
    }
   ],
   "source": [
    "p2"
   ]
  },
  {
   "cell_type": "code",
   "execution_count": 34,
   "id": "b267da8a",
   "metadata": {},
   "outputs": [
    {
     "name": "stdout",
     "output_type": "stream",
     "text": [
      "['contents\\n', <a class=\"m_main\" href=\"http://www.maderi.co.kr/\" id=\"maderi\">Maderi</a>, 'Maderi', '\\n', <a class=\"d_main\" href=\"http://datamarketing.co.kr/\" id=\"dmk\" val=\"home\">DMK</a>, 'DMK', '\\n', '\\n', <p class=\"call\">call me...</p>, 'call me...', '\\n', <div>\n",
      "<table>\n",
      "<thead></thead>\n",
      "<tbody>\n",
      "<tr>\n",
      "<td>철수</td>\n",
      "<td>24</td>\n",
      "</tr>\n",
      "<tr>\n",
      "<td>영희</td>\n",
      "<td>31</td>\n",
      "</tr>\n",
      "</tbody>\n",
      "</table>\n",
      "</div>, '\\n', <table>\n",
      "<thead></thead>\n",
      "<tbody>\n",
      "<tr>\n",
      "<td>철수</td>\n",
      "<td>24</td>\n",
      "</tr>\n",
      "<tr>\n",
      "<td>영희</td>\n",
      "<td>31</td>\n",
      "</tr>\n",
      "</tbody>\n",
      "</table>, '\\n', <thead></thead>, '\\n', <tbody>\n",
      "<tr>\n",
      "<td>철수</td>\n",
      "<td>24</td>\n",
      "</tr>\n",
      "<tr>\n",
      "<td>영희</td>\n",
      "<td>31</td>\n",
      "</tr>\n",
      "</tbody>, '\\n', <tr>\n",
      "<td>철수</td>\n",
      "<td>24</td>\n",
      "</tr>, '\\n', <td>철수</td>, '철수', '\\n', <td>24</td>, '24', '\\n', '\\n', <tr>\n",
      "<td>영희</td>\n",
      "<td>31</td>\n",
      "</tr>, '\\n', <td>영희</td>, '영희', '\\n', <td>31</td>, '31', '\\n', '\\n', '\\n', '\\n', '\\n', '\\n', '\\n']\n"
     ]
    }
   ],
   "source": [
    "print(list(p2.next_elements))"
   ]
  },
  {
   "cell_type": "code",
   "execution_count": 35,
   "id": "99eb53e8",
   "metadata": {},
   "outputs": [],
   "source": [
    "from pprint import pprint"
   ]
  },
  {
   "cell_type": "code",
   "execution_count": 36,
   "id": "cef7384e",
   "metadata": {},
   "outputs": [
    {
     "name": "stdout",
     "output_type": "stream",
     "text": [
      "['contents\\n',\n",
      " <a class=\"m_main\" href=\"http://www.maderi.co.kr/\" id=\"maderi\">Maderi</a>,\n",
      " 'Maderi',\n",
      " '\\n',\n",
      " <a class=\"d_main\" href=\"http://datamarketing.co.kr/\" id=\"dmk\" val=\"home\">DMK</a>,\n",
      " 'DMK',\n",
      " '\\n',\n",
      " '\\n',\n",
      " <p class=\"call\">call me...</p>,\n",
      " 'call me...',\n",
      " '\\n',\n",
      " <div>\n",
      "<table>\n",
      "<thead></thead>\n",
      "<tbody>\n",
      "<tr>\n",
      "<td>철수</td>\n",
      "<td>24</td>\n",
      "</tr>\n",
      "<tr>\n",
      "<td>영희</td>\n",
      "<td>31</td>\n",
      "</tr>\n",
      "</tbody>\n",
      "</table>\n",
      "</div>,\n",
      " '\\n',\n",
      " <table>\n",
      "<thead></thead>\n",
      "<tbody>\n",
      "<tr>\n",
      "<td>철수</td>\n",
      "<td>24</td>\n",
      "</tr>\n",
      "<tr>\n",
      "<td>영희</td>\n",
      "<td>31</td>\n",
      "</tr>\n",
      "</tbody>\n",
      "</table>,\n",
      " '\\n',\n",
      " <thead></thead>,\n",
      " '\\n',\n",
      " <tbody>\n",
      "<tr>\n",
      "<td>철수</td>\n",
      "<td>24</td>\n",
      "</tr>\n",
      "<tr>\n",
      "<td>영희</td>\n",
      "<td>31</td>\n",
      "</tr>\n",
      "</tbody>,\n",
      " '\\n',\n",
      " <tr>\n",
      "<td>철수</td>\n",
      "<td>24</td>\n",
      "</tr>,\n",
      " '\\n',\n",
      " <td>철수</td>,\n",
      " '철수',\n",
      " '\\n',\n",
      " <td>24</td>,\n",
      " '24',\n",
      " '\\n',\n",
      " '\\n',\n",
      " <tr>\n",
      "<td>영희</td>\n",
      "<td>31</td>\n",
      "</tr>,\n",
      " '\\n',\n",
      " <td>영희</td>,\n",
      " '영희',\n",
      " '\\n',\n",
      " <td>31</td>,\n",
      " '31',\n",
      " '\\n',\n",
      " '\\n',\n",
      " '\\n',\n",
      " '\\n',\n",
      " '\\n',\n",
      " '\\n',\n",
      " '\\n']\n"
     ]
    }
   ],
   "source": [
    "pprint(list(p2.next_elements))"
   ]
  },
  {
   "cell_type": "markdown",
   "id": "89a98732",
   "metadata": {},
   "source": [
    "### BeautifulSoup find"
   ]
  },
  {
   "cell_type": "code",
   "execution_count": 38,
   "id": "d3fc7e50",
   "metadata": {},
   "outputs": [
    {
     "data": {
      "text/plain": [
       "\n",
       "<html>\n",
       "<head>\n",
       "<title>Ma:deri</title>\n",
       "</head>\n",
       "<body>\n",
       "<h1> maderi h1 </h1>\n",
       "<h2> maderi h2 </h2>\n",
       "<p class=\"title\"><b>BeautifulSoup</b></p>\n",
       "<p class=\"content\">contents\n",
       "<a class=\"m_main\" href=\"http://www.maderi.co.kr/\" id=\"maderi\">Maderi</a>\n",
       "<a class=\"d_main\" href=\"http://datamarketing.co.kr/\" id=\"dmk\" val=\"home\">DMK</a>\n",
       "</p>\n",
       "<p class=\"call\">call me...</p>\n",
       "<div>\n",
       "<table>\n",
       "<thead></thead>\n",
       "<tbody>\n",
       "<tr>\n",
       "<td>철수</td>\n",
       "<td>24</td>\n",
       "</tr>\n",
       "<tr>\n",
       "<td>영희</td>\n",
       "<td>31</td>\n",
       "</tr>\n",
       "</tbody>\n",
       "</table>\n",
       "</div>\n",
       "</body>\n",
       "</html>"
      ]
     },
     "execution_count": 38,
     "metadata": {},
     "output_type": "execute_result"
    }
   ],
   "source": [
    "soup"
   ]
  },
  {
   "cell_type": "code",
   "execution_count": 39,
   "id": "8758ca5b",
   "metadata": {},
   "outputs": [
    {
     "name": "stdout",
     "output_type": "stream",
     "text": [
      "<a class=\"m_main\" href=\"http://www.maderi.co.kr/\" id=\"maderi\">Maderi</a>\n"
     ]
    }
   ],
   "source": [
    "a = soup.find(\"a\")\n",
    "pprint(a)"
   ]
  },
  {
   "cell_type": "code",
   "execution_count": 40,
   "id": "eea47bb7",
   "metadata": {},
   "outputs": [
    {
     "name": "stdout",
     "output_type": "stream",
     "text": [
      "Maderi\n"
     ]
    }
   ],
   "source": [
    "a = soup.find(\"a\")\n",
    "print(a.text)"
   ]
  },
  {
   "cell_type": "code",
   "execution_count": 42,
   "id": "d40ba6b3",
   "metadata": {},
   "outputs": [
    {
     "name": "stdout",
     "output_type": "stream",
     "text": [
      "http://www.maderi.co.kr/\n"
     ]
    }
   ],
   "source": [
    "print(a.get('href'))"
   ]
  },
  {
   "cell_type": "code",
   "execution_count": 43,
   "id": "b561b7ea",
   "metadata": {},
   "outputs": [],
   "source": [
    "a = soup.find_all(\"a\")"
   ]
  },
  {
   "cell_type": "code",
   "execution_count": 44,
   "id": "6e1d5ae3",
   "metadata": {},
   "outputs": [
    {
     "data": {
      "text/plain": [
       "[<a class=\"m_main\" href=\"http://www.maderi.co.kr/\" id=\"maderi\">Maderi</a>,\n",
       " <a class=\"d_main\" href=\"http://datamarketing.co.kr/\" id=\"dmk\" val=\"home\">DMK</a>]"
      ]
     },
     "execution_count": 44,
     "metadata": {},
     "output_type": "execute_result"
    }
   ],
   "source": [
    "a"
   ]
  },
  {
   "cell_type": "code",
   "execution_count": 45,
   "id": "f6505648",
   "metadata": {},
   "outputs": [
    {
     "name": "stdout",
     "output_type": "stream",
     "text": [
      "http://www.maderi.co.kr/\n"
     ]
    }
   ],
   "source": [
    "print(a[0].get('href'))"
   ]
  },
  {
   "cell_type": "code",
   "execution_count": 46,
   "id": "f7991806",
   "metadata": {},
   "outputs": [
    {
     "name": "stdout",
     "output_type": "stream",
     "text": [
      "http://datamarketing.co.kr/\n"
     ]
    }
   ],
   "source": [
    "print(a[1].get('href'))"
   ]
  },
  {
   "cell_type": "code",
   "execution_count": 47,
   "id": "7ea5611c",
   "metadata": {},
   "outputs": [
    {
     "data": {
      "text/plain": [
       "[<a class=\"m_main\" href=\"http://www.maderi.co.kr/\" id=\"maderi\">Maderi</a>]"
      ]
     },
     "execution_count": 47,
     "metadata": {},
     "output_type": "execute_result"
    }
   ],
   "source": [
    "a2 = soup.find_all(\"a\", class_ = 'm_main')\n",
    "a2"
   ]
  },
  {
   "cell_type": "code",
   "execution_count": 48,
   "id": "28728830",
   "metadata": {},
   "outputs": [
    {
     "name": "stdout",
     "output_type": "stream",
     "text": [
      "Maderi\n",
      "http://www.maderi.co.kr/\n"
     ]
    }
   ],
   "source": [
    "a = soup.find(\"a\")\n",
    "print(a.text)\n",
    "print(a.get('href'))"
   ]
  },
  {
   "cell_type": "code",
   "execution_count": 49,
   "id": "511e30c1",
   "metadata": {},
   "outputs": [
    {
     "data": {
      "text/plain": [
       "<a class=\"d_main\" href=\"http://datamarketing.co.kr/\" id=\"dmk\" val=\"home\">DMK</a>"
      ]
     },
     "execution_count": 49,
     "metadata": {},
     "output_type": "execute_result"
    }
   ],
   "source": [
    "a2 = soup.find('a', {'class' : 'd_main', 'val' : 'home'})\n",
    "a2"
   ]
  },
  {
   "cell_type": "markdown",
   "id": "0e7da8ca",
   "metadata": {},
   "source": [
    "### BeautifulSoup select"
   ]
  },
  {
   "cell_type": "code",
   "execution_count": 50,
   "id": "78ec77b6",
   "metadata": {},
   "outputs": [
    {
     "data": {
      "text/plain": [
       "\n",
       "<html>\n",
       "<head>\n",
       "<title>Ma:deri</title>\n",
       "</head>\n",
       "<body>\n",
       "<h1> maderi h1 </h1>\n",
       "<h2> maderi h2 </h2>\n",
       "<p class=\"title\"><b>BeautifulSoup</b></p>\n",
       "<p class=\"content\">contents\n",
       "<a class=\"m_main\" href=\"http://www.maderi.co.kr/\" id=\"maderi\">Maderi</a>\n",
       "<a class=\"d_main\" href=\"http://datamarketing.co.kr/\" id=\"dmk\" val=\"home\">DMK</a>\n",
       "</p>\n",
       "<p class=\"call\">call me...</p>\n",
       "<div>\n",
       "<table>\n",
       "<thead></thead>\n",
       "<tbody>\n",
       "<tr>\n",
       "<td>철수</td>\n",
       "<td>24</td>\n",
       "</tr>\n",
       "<tr>\n",
       "<td>영희</td>\n",
       "<td>31</td>\n",
       "</tr>\n",
       "</tbody>\n",
       "</table>\n",
       "</div>\n",
       "</body>\n",
       "</html>"
      ]
     },
     "execution_count": 50,
     "metadata": {},
     "output_type": "execute_result"
    }
   ],
   "source": [
    "soup"
   ]
  },
  {
   "cell_type": "code",
   "execution_count": 51,
   "id": "7add065f",
   "metadata": {},
   "outputs": [
    {
     "data": {
      "text/plain": [
       "<p class=\"title\"><b>BeautifulSoup</b></p>"
      ]
     },
     "execution_count": 51,
     "metadata": {},
     "output_type": "execute_result"
    }
   ],
   "source": [
    "soup.find('p')"
   ]
  },
  {
   "cell_type": "code",
   "execution_count": 54,
   "id": "d0680055",
   "metadata": {},
   "outputs": [
    {
     "data": {
      "text/plain": [
       "<b>BeautifulSoup</b>"
      ]
     },
     "execution_count": 54,
     "metadata": {},
     "output_type": "execute_result"
    }
   ],
   "source": [
    "soup.select_one('p.title > b') # . ==> class"
   ]
  },
  {
   "cell_type": "code",
   "execution_count": 55,
   "id": "d456cfed",
   "metadata": {},
   "outputs": [
    {
     "data": {
      "text/plain": [
       "[<a class=\"d_main\" href=\"http://datamarketing.co.kr/\" id=\"dmk\" val=\"home\">DMK</a>]"
      ]
     },
     "execution_count": 55,
     "metadata": {},
     "output_type": "execute_result"
    }
   ],
   "source": [
    "soup.select('#dmk') # # ==> id"
   ]
  },
  {
   "cell_type": "code",
   "execution_count": 56,
   "id": "a91bcc1f",
   "metadata": {},
   "outputs": [
    {
     "data": {
      "text/plain": [
       "[<a class=\"d_main\" href=\"http://datamarketing.co.kr/\" id=\"dmk\" val=\"home\">DMK</a>]"
      ]
     },
     "execution_count": 56,
     "metadata": {},
     "output_type": "execute_result"
    }
   ],
   "source": [
    "soup.select(\"a[val = 'home']\")"
   ]
  },
  {
   "cell_type": "code",
   "execution_count": 57,
   "id": "638f837e",
   "metadata": {},
   "outputs": [
    {
     "data": {
      "text/plain": [
       "[<a class=\"m_main\" href=\"http://www.maderi.co.kr/\" id=\"maderi\">Maderi</a>,\n",
       " <a class=\"d_main\" href=\"http://datamarketing.co.kr/\" id=\"dmk\" val=\"home\">DMK</a>]"
      ]
     },
     "execution_count": 57,
     "metadata": {},
     "output_type": "execute_result"
    }
   ],
   "source": [
    "url = soup.select('p.content > a')\n",
    "url"
   ]
  },
  {
   "cell_type": "code",
   "execution_count": 68,
   "id": "82cdbb11",
   "metadata": {},
   "outputs": [
    {
     "data": {
      "text/plain": [
       "<a class=\"d_main\" href=\"http://datamarketing.co.kr/\" id=\"dmk\" val=\"home\">DMK</a>"
      ]
     },
     "execution_count": 68,
     "metadata": {},
     "output_type": "execute_result"
    }
   ],
   "source": [
    "url2 = soup.select('p.content > a:nth-of-type(2)')[0]\n",
    "url2"
   ]
  },
  {
   "cell_type": "code",
   "execution_count": 69,
   "id": "06e050ca",
   "metadata": {},
   "outputs": [
    {
     "data": {
      "text/plain": [
       "'http://datamarketing.co.kr/'"
      ]
     },
     "execution_count": 69,
     "metadata": {},
     "output_type": "execute_result"
    }
   ],
   "source": [
    "url2.get('href')"
   ]
  },
  {
   "cell_type": "code",
   "execution_count": 71,
   "id": "93193870",
   "metadata": {},
   "outputs": [
    {
     "data": {
      "text/plain": [
       "'call me...'"
      ]
     },
     "execution_count": 71,
     "metadata": {},
     "output_type": "execute_result"
    }
   ],
   "source": [
    "soup.select('p.call')[0].text"
   ]
  },
  {
   "cell_type": "markdown",
   "id": "6901cffc",
   "metadata": {},
   "source": [
    "## Requests and BeautifulSoup 실습"
   ]
  },
  {
   "cell_type": "code",
   "execution_count": 126,
   "id": "0dbdc6ca",
   "metadata": {},
   "outputs": [],
   "source": [
    "import requests \n",
    "from bs4 import BeautifulSoup"
   ]
  },
  {
   "cell_type": "code",
   "execution_count": 127,
   "id": "701ae5b1",
   "metadata": {},
   "outputs": [],
   "source": [
    "url = \"https://www.smu.ac.kr/lounge/qna/faq.do\""
   ]
  },
  {
   "cell_type": "code",
   "execution_count": 128,
   "id": "027cf7d5",
   "metadata": {},
   "outputs": [
    {
     "data": {
      "text/plain": [
       "True"
      ]
     },
     "execution_count": 128,
     "metadata": {},
     "output_type": "execute_result"
    }
   ],
   "source": [
    "res = requests.get(url)\n",
    "res.ok"
   ]
  },
  {
   "cell_type": "code",
   "execution_count": 77,
   "id": "68bd37a1",
   "metadata": {},
   "outputs": [
    {
     "data": {
      "text/plain": [
       "'\\r\\n\\r\\n\\r\\n<!doctype html>\\n<html lang=\"ko\" class=\"no-js\">\\n<head>\\n\\t\\n<!-- Global site tag (gtag.js) - Google Analytics -->\\n<script async src=\"https://www.googletagmanager.com/gtag/js?id=UA-129351146-1\"></script>\\n<script>\\n  window.dataLayer = window.dataLayer || [];\\n  function gtag(){dataLayer.push(arguments);}\\n  gtag(\\'js\\', new Date());\\n\\n  gtag(\\'config\\', \\'UA-129351146-1\\');\\n</script>\\n\\n\\t\\n<title>상명라운지 | 상명 Q&amp;A | 자주하는 질문 게시판목록 | 상명라운지</title>\\n<meta http-equiv=\"Content-Type\" content=\"text/html; charset=utf-8\" />\\n<meta http-equiv=\"X-UA-Compatible\" content=\"IE=edge\" />\\n<meta name=\"viewport\" content=\"width=device-width,initial-scale=1.0,minimum-scale=1.0,maximum-scale=1.0,user-scalable=no\">\\n<link rel=\"canonical\" href=\"https://www.smu.ac.kr:443/lounge/qna/faq.do\" />\\n<link href=\"https://fonts.googleapis.com/css?family=Cardo\" rel=\"stylesheet\">\\n<link rel=\"stylesheet\" type=\"text/css\" href=\"/_common/cms.css\" />\\n<link rel=\"stylesheet\" type=\"text/css\" href=\"/_res/lounge/_css/layout.css\" />\\n<!--[if IE 8]>\\n\\t<link rel=\"stylesheet\" type=\"text/css\" href=\"/_common/ie8.css\" />\\n<![endif]-->\\n<link rel=\"stylesheet\" type=\"text/css\" href=\"/_res/lounge/_css/new-css.css\" />\\n<link rel=\"stylesheet\" type=\"text/css\" href=\"/_custom/smu/resource/css/board.etc.css\" />\\n<link rel=\"stylesheet\" type=\"text/css\" href=\"/_res/board/_css/user.css\" />\\n<link rel=\"stylesheet\" type=\"text/css\" href=\"/_res/board/_css/attach.css\" />\\n<link rel=\"stylesheet\" type=\"text/css\" href=\"/_common/css/toastr.css\" />\\n<link rel=\"stylesheet\" type=\"text/css\" href=\"/_common/css/ui.datepicker.css\" />\\n<link rel=\"stylesheet\" type=\"text/css\" href=\"/_custom/smu/resource/css/datetimepicker.css\" />\\n<link rel=\"stylesheet\" type=\"text/css\" href=\"/_common/css/jquery.ui-selectBox.css\" />\\n\\n<link rel=\"stylesheet\" type=\"text/css\" href=\"/_res/lounge/_css/owl.css\" />\\n<link rel=\"stylesheet\" type=\"text/css\" href=\"/_res/lounge/_css/import.css\" />\\n<link rel=\"stylesheet\" type=\"text/css\" href=\"/_res/lounge/_css/fullcalendar.css\" />\\n<link rel=\"stylesheet\" type=\"text/css\" href=\"/_res/lounge/_css/user.css\" />\\n\\n<script type=\"text/javascript\" src=\"/_res/lounge/_js/user/moment.min.js\"></script>\\n<script type=\"text/javascript\" src=\"/_common/js/jquery/jquery-1.9.1.js\"></script>\\n<script type=\"text/javascript\" src=\"/_common/js/jquery/jquery-ui-1.11.4.min.js\"></script>\\n<script type=\"text/javascript\">\\n//<![CDATA[\\n\\tvar _thisHost = location.protocol+\\'//\\'+location.host, _thisUrl = document.location.href,_so_ = false,_cur_menu_cd = \\'7384\\',_edit_content = false,front_page_edit = true,zooInOutMode = \\'font\\',_reouscePath = \\'/_res/lounge/\\',editorVendor = \\'froala\\',sslYN = \\'N\\',sslPort = \\'8443\\',servicePort = \\'\\',developMode = false,device=\\'pc\\',isMobile=false,_cfgUseDevMode = false,_siteId = \\'lounge\\',printSelector = \\'#jwxe_main_content\\',ctx = \\'\\',rootPath = \\'\\',locale= \\'ko\\',localeScriptPath=\\'/_custom/smu/resource/js/\\';\\n//]]>\\n</script>\\n<script type=\"text/javascript\" src=\"/_common/cms.js\"></script>\\n<script type=\"text/javascript\" src=\"/_res/lounge/_js/user/new-js.js\"></script>\\n<script type=\"text/javascript\" src=\"/_res/board/_js/user/common.js\"></script>\\n<script type=\"text/javascript\" src=\"/_common/js/toastr.js\" ></script>\\n<script type=\"text/javascript\" src=\"/_common/js/jquery-plugin/selectBox.min.js\" ></script>\\n<script type=\"text/javascript\" src=\"/_custom/smu/resource/js/board.common.js\" ></script>\\n<script type=\"text/javascript\" src=\"/_common/js/datepicker/ui.datepicker.all.js\" ></script>\\n<script type=\"text/javascript\" src=\"/_custom/smu/resource/js/datetimepicker.js\" ></script>\\n\\n<script type=\"text/javascript\" src=\"/_res/lounge/_js/user/owl.js\"></script>\\n<script type=\"text/javascript\" src=\"/_res/lounge/_js/user/fullcalendar.min.js\"></script>\\n<script type=\"text/javascript\" src=\"/_res/lounge/_js/user/m_mn.js\"></script>\\n<script type=\"text/javascript\" src=\"/_res/lounge/_js/user/jquery.rwdImageMaps.min.js\"></script>\\n<script type=\"text/javascript\" src=\"/_res/lounge/_js/user/foot_lnk.js\"></script>\\n<script type=\"text/javascript\" src=\"/_res/lounge/_js/user.js\"></script>\\n</head>\\n<body id=\"item_body\" class=\"pc\">\\n<ul id=\"go_main\">\\n\\t<li><a href=\"#jwxe_main_menu\" >주메뉴 바로가기</a></li>\\n\\t<li><a href=\"#jwxe_main_content\" >본문 바로가기</a></li>\\n\\t<li><a href=\"#jwxe_footer\" >하단 바로가기</a></li>\\n</ul>\\r\\n\\r\\n<div id=\"wrap\">\\n\\t<header>\\r\\n<div class=\"header-new-wrap\">\\n\\t<!-- 상단 header -->\\n\\t<div class=\"top-header-new-wrap\">\\n\\t\\t<div class=\"top-header-new-box\">\\n\\t\\t\\t<div class=\"top-logo\">\\n\\t\\t\\t\\t<a href=\"/ko/index.do\" title=\"상명대학교 바로가기\"><img class=\"logo-ico\" src=\"/_res/ko/img/common/logo01.png\" alt=\"상명대학교\"><img src=\"/_res/ko/img/main/logo-kr.png\" alt=\"상명대학교\"/></a></div>\\n\\t\\t\\t<!--<img class=\"logo-ico\" src=\"/_res/ko/img/common/logo01_w.png\" alt=\"상명대학교\" style=\"height:26px\"/>-->\\n\\t\\t\\t<ul class=\"util-box-first\">\\n\\t\\t\\t\\t<li>\\n\\t\\t\\t\\t\\t<a href=\"/ko/service/sangmyung-people.do\" title=\"상명인 바로가기\">상명인</a></li>\\n\\t\\t\\t\\t<li>\\n\\t\\t\\t\\t\\t<a href=\"/ko/service/examinee.do\" title=\"입학생 바로가기\">입학생</a></li>\\n\\t\\t\\t\\t<li>\\n\\t\\t\\t\\t\\t<a href=\"/ko/service/staff.do\" title=\"교직원 바로가기\">교직원</a></li>\\n\\t\\t\\t\\t<li class=\"last\">\\n\\t\\t\\t\\t\\t<a href=\"/ko/service/graduate.do\" title=\"졸업생 바로가기\">졸업생</a></li>\\n\\n\\t\\t\\t\\n\\t\\t\\t</ul>            \\n\\t\\t\\t<ul class=\"util-box-middle\">\\n\\t\\t\\t\\t<li>\\n\\t\\t\\t\\t\\t<a href=\"http://admission.smu.ac.kr/\" title=\"입학 바로가기\">입학</a></li>\\n\\t\\t\\t\\t<li class=\"last\">\\n\\t\\t\\t\\t\\t<a href=\"https://sugang.smu.ac.kr\" title=\"2022학년도 하계특별학기 수강신청 바로가기\" target=\"_blank\">하계특별학기 수강신청</a></li>\\n\\t\\t\\t</ul>\\n\\t\\t\\t<!--<ul class=\"util-box-middle2\">\\n\\t\\t\\t\\t\\t<li>\\n\\t\\t\\t\\t\\t<a href=\"http://admission.smu.ac.kr/\" title=\"입학 바로가기\">입학</a></li>\\n\\t\\t\\t\\t<li>\\n\\t\\t\\t\\t\\t<a href=\"https://jobfair.smu.ac.kr\" title=\"2021 직무박람회 바로가기\" target=\"_blank\">2021 직무박람회</a></li>\\n\\t\\t\\t</ul>-->\\n\\t\\t\\t\\n\\t\\t\\t<ul class=\"util-box-last\">\\n\\t\\t\\t\\t\\n\\t\\t\\t\\t<li class=\"last\">\\n\\t\\t\\t\\t\\t<a href=\"https://www.smu.ac.kr/lounge/notice/notice.do?mode=list&srCategoryId1=220&srCampus=&srSearchKey=&srSearchVal=\" title=\"코로나19 공지사항 바로가기\" target=\"_blank\">코로나19</a></li>\\n\\t\\t\\t</ul>\\n\\t\\t\\t\\n\\t\\t\\t<div class=\"top-btn-new-wrap\">\\n\\t\\t\\t\\t<ul class=\"util-box-second\">\\n\\t\\t\\t\\t\\t<li>\\n\\t\\t\\t\\t\\t\\t\\n\\t\\t\\t\\t\\t\\t<a href=\"javascript:loginPopupOpen();\" class=\"login\">Login</a>\\n\\t\\t\\t\\t\\t\\t  \\n\\t\\t\\t\\t\\t<li>\\n\\t\\t\\t\\t\\t\\t<a class=\"btn-language\" href=\"#a\">KOR</a>\\n\\t\\t\\t\\t\\t\\t<div class=\"language-box\">\\n\\t\\t\\t\\t\\t\\t\\t<ul>\\n\\t\\t\\t\\t\\t\\t\\t\\t<li><a href=\"/eng1/\" target=\"_blank\" title=\"상명대학교 영문 바로가기\">ENG</a></li>\\n\\t\\t\\t\\t\\t\\t\\t\\t<li><a href=\"/ch/\" target=\"_blank\" title=\"상명대학교 중문 바로가기\">CHN</a></li>                    \\n\\t\\t\\t\\t\\t\\t\\t\\t<li><a href=\"/tien/\" target=\"_blank\" title=\"상명대학교 베트남 바로가기\">VNM</a></li>               \\n\\t\\t\\t\\t\\t\\t\\t</ul>\\n\\t\\t\\t\\t\\t\\t</div>\\n\\t\\t\\t\\t\\t</li>\\n\\t\\t\\t\\t\\t<li><a class=\"btn-sitemap-new\" href=\"#n\">Sitemap</a></li>\\n\\t\\t\\t\\t</ul>\\n\\t\\t\\t\\t<a href=\"#a\" title=\"calendar\" class=\"btn-main-cal btn-cal\">Calendar</a>\\n\\t\\t\\t\\t<a href=\"#a\" title=\"Search\" class=\"btn-main-srch\">Search</a>\\n\\t\\t\\t\\t<a href=\"#a\" title=\"menu\" class=\"btn-menu\"><img alt=\"menu\" src=\"/_res/ko/img/common/btn-m-mn.png\"></a>\\n\\t\\t\\t</div>\\n\\t\\t</div>\\n\\t</div> \\n\\t<!-- 검색영역 -->\\n\\t<div class=\"main-srch-new-wrap\">\\n\\t\\t<div id=\"site-search\">\\n\\t\\t\\t<form action=\"/search/search.do\" method=\"get\" id=\"search-form\" accept-charset=\"UTF-8\">   \\n\\t\\t\\t\\t<div id=\"search-type\">\\n\\t\\t\\t\\t\\t<h2>Search sangmyung :</h2>\\n\\t\\t\\t\\t\\t<input name=\"menu\" type=\"radio\" value=\"통합검색\" checked=\"checked\" id=\"search-web\" class=\"radio-search\">\\n\\t\\t\\t\\t\\t<label for=\"search-web\">웹</label>\\n\\t\\t\\t\\t\\t<input name=\"menu\" type=\"radio\" value=\"교수검색\" id=\"search-people\" class=\"radio-search\">\\n\\t\\t\\t\\t\\t<label for=\"search-people\">교수</label>\\n\\t\\t\\t\\t</div>\\n\\t\\t\\t\\t<label class=\"sr-only-text hide\" for=\"search-field\">Search term</label>\\n\\t\\t\\t\\t<input type=\"text\" id=\"search-field\" name=\"qt\" title=\"Search string\" class=\"input-medium\" placeholder=\"검색어를 입력해 주세요...\" value=\"\" size=\"15\" maxlength=\"128\">\\n\\t\\t\\t\\t<button id=\"search-btn\" type=\"submit\" aria-label=\"Search\" formmethod=\"get\">검색</button>\\n\\t\\t\\t</form>\\n\\t\\t\\t<p>\\n\\t\\t\\t\\t<span>기타검색방법 : </span>\\n\\t\\t\\t\\t<a href=\"/ko/intro/map_all.do\" title=\"캠퍼스 맵 바로가기\">캠퍼스 맵</a>\\n\\t\\t\\t\\t<a href=\"/ko/intro/equipmentTable.do\" title=\"기구표 바로가기\">기구표</a>\\n\\t\\t\\t\\t<a href=\"/ko/edu/Profile.do\" title=\"프로필 바로가기\">프로필</a>\\n\\t\\t\\t</p>\\n\\t\\t</div>\\n\\t</div>\\n\\t<!-- 검색영역 -->\\n\\t<!-- 캘린더 -->\\n\\t<script type=\"text/javascript\" src=\"/_custom/smu/resource/js/main.header.calendar.js\"></script>\\n\\t<div class=\"pop-wrap pop-calendar\" style=\"display:none\">\\n\\t\\t<article>\\n\\t\\t\\t<h2 class=\"hide\">Calendar</h2>\\n\\t\\t\\t<div class=\"pop-contents\">\\n\\t\\t\\t\\t<!-- 월별 클래스명: 1월:jan, 2월:feb, 3월:mar, 4월:apr, 5월:may, 6월:jul, 7월:jun, 8월:aug, 9월:sep, 10월:oct, 11월:nov, 12월: dec -->\\n\\t\\t\\t\\t<div id=\"cal-img-box\" class=\"\"></div>\\n\\t\\t\\t\\t<div class=\"cal-box\">\\n\\t\\t\\t\\t\\t<ul class=\"chk-list\">\\n\\t\\t\\t\\t\\t\\t<li><input type=\"checkbox\" name=\"schedule\" id=\"chk1\" checked=\"checked\"/><label for=\"chk1\">학사일정</label></li>\\n\\t\\t\\t\\t\\t\\t<li><input type=\"checkbox\" name=\"schedule\" id=\"chk2\" checked=\"checked\"/><label for=\"chk2\">행사일정</label></li>\\n\\t\\t\\t\\t\\t</ul>\\n\\t\\t\\t\\t\\t<!-- .main_uni: 학사일정, .main_uni2: 행사일정 -->\\n\\t\\t\\t\\t\\t<!-- 캘린더 영역 -->\\n\\t\\t\\t\\t\\t<div id=\"header_calendar\" class=\"calendar2\"></div>\\n\\t\\t\\t\\t\\t<!-- //캘린더 영역 -->\\n\\n\\t\\t\\t\\t\\t<!-- 캘린더 세부내용 팝업 -->\\n\\t\\t\\t\\t\\t<div id=\"dim-cal\"></div>\\n\\t\\t\\t\\t\\t<div class=\"pop-cal fc-detail-box\" style=\"display: none;\">\\n\\t\\t\\t\\t\\t\\t<article>\\n\\t\\t\\t\\t\\t\\t\\t<h1 class=\"tit-date\"></h1>\\n\\t\\t\\t\\t\\t\\t\\t<table cellpadding=\"0\" cellspacing=\"0\" class=\"smu-table\">\\n\\t\\t\\t\\t\\t\\t\\t\\t<caption>클릭한날짜 행사 일정</caption>--><!-- caption 값도 같이 바꿔주셔야합니다. >> -->\\n\\t\\t\\t\\t\\t\\t\\t\\t<colgroup>\\n\\t\\t\\t\\t\\t\\t\\t\\t\\t<col width=\"120px\">\\n\\t\\t\\t\\t\\t\\t\\t\\t\\t<col width=\"*\">\\n\\t\\t\\t\\t\\t\\t\\t\\t</colgroup>\\n\\t\\t\\t\\t\\t\\t\\t\\t<thead>\\n\\t\\t\\t\\t\\t\\t\\t\\t\\t<tr>\\n\\t\\t\\t\\t\\t\\t\\t\\t\\t\\t<th scope=\"col\">일자</th>\\n\\t\\t\\t\\t\\t\\t\\t\\t\\t\\t<th scope=\"col\" class=\"no-right\">내용</th>\\n\\t\\t\\t\\t\\t\\t\\t\\t\\t</tr>\\n\\t\\t\\t\\t\\t\\t\\t\\t</thead>\\n\\t\\t\\t\\t\\t\\t\\t\\t<tbody>\\n\\t\\t\\t\\t\\t\\t\\t\\t\\t\\n<tr><td scope=\"row\">2018.10.18 ~ 2018.10.31</td><td class=\"no-right\"><a href=\"?mode=view&amp;articleNo=287738&amp;boardNo=85\">중간강의평가</a></td></tr>\\n<tr><td scope=\"row\">2018.10.20 ~ 2018.10.26</td><td class=\"no-right\"><a href=\"?mode=view&amp;articleNo=287739&amp;boardNo=85\">중간고사</a></td></tr>\\n\\n\\t\\t\\t\\t\\t\\t\\t\\t</tbody>\\n\\t\\t\\t\\t\\t\\t\\t</table>\\n\\t\\t\\t\\t\\t\\t\\t<a href=\"#n\" class=\"close\"><img src=\"/_custom/smu/resource/img/pop-close.png\" alt=\"팝업 닫기\"></a>\\n\\t\\t\\t\\t\\t\\t</article>\\n\\t\\t\\t\\t\\t</div>\\n\\t\\t\\t\\t\\t<!-- //캘린더 세부내용 팝업 -->\\n\\t\\t\\t\\t</div>\\n\\t\\t\\t</div>\\n\\t\\t\\t<a href=\"#n\" class=\"btn-pop-close\"><img src=\"/_res/lounge/img/common/ic-close.png\" alt=\"캘린더 팝업 닫기\" /></a>\\n\\t\\t</article>\\n\\t</div>\\n\\t<!-- 캘린더-->\\n\\n\\t<!-- //상단 header -->\\n\\t<div class=\"sitemap-new-wrap\" style=\"display: none;\">\\t\\t\\n\\n\\t\\t<div class=\"sitemap-new-box\">\\n\\t\\t\\t<div>\\n\\t\\t\\t\\t<h1 class=\"map-tit01\">\\n\\t\\t\\t\\t\\t사이트 맵</h1>\\n\\t\\t\\t\\t<ul>\\n\\t\\t\\t\\t\\t\\n\\t\\t\\t\\t\\t\\t\\n\\t\\t\\t\\t\\t\\t\\n\\t\\t\\t\\t\\t\\r\\n\\r\\n   \\r\\n   \\t\\r\\n\\t<li>\\r\\n\\t\\t\\r\\n\\t\\t<a href=\"/ko/intro/presidentOffice.do\" title=\"상명소개\"  >상명소개</a>\\r\\n\\t\\t\\r\\n\\t\\t\\t<ul>\\r\\n\\t\\t\\t\\t\\r\\n\\t\\t\\t\\t\\t\\r\\n\\t\\t\\t\\t\\t<li>\\r\\n\\t\\t\\t\\t\\t\\t\\r\\n\\t\\t\\t\\t\\t\\t<a href=\"/ko/intro/presidentOffice.do\" title=\"열린 총장실\"  >열린 총장실</a>\\r\\n\\r\\n\\t\\t\\t\\t\\t\\t\\r\\n\\t\\t\\t\\t\\t\\t\\t<ul>\\r\\n\\t\\t\\t\\t\\t\\t\\t\\t\\r\\n\\t\\t\\t\\t\\t\\t\\t\\t\\t\\r\\n\\t\\t\\t\\t\\t\\t\\t\\t\\t<li>\\r\\n\\t\\t\\t\\t\\t\\t\\t\\t\\t\\t\\r\\n\\t\\t\\t\\t\\t\\t\\t\\t\\t\\t<a href=\"/ko/intro/presidentOffice.do\" title=\"총장인사말/프로필\"  >총장인사말/프로필</a>\\r\\n\\t\\t\\t\\t\\t\\t\\t\\t\\t</li>\\r\\n\\t\\t\\t\\t\\t\\t\\t\\t\\t\\r\\n\\t\\t\\t\\t\\t\\t\\t\\t\\r\\n\\t\\t\\t\\t\\t\\t\\t\\t\\t\\r\\n\\t\\t\\t\\t\\t\\t\\t\\t\\t<li>\\r\\n\\t\\t\\t\\t\\t\\t\\t\\t\\t\\t\\r\\n\\t\\t\\t\\t\\t\\t\\t\\t\\t\\t<a href=\"/ko/intro/sympathyList.do\" title=\"총장동정\"  >총장동정</a>\\r\\n\\t\\t\\t\\t\\t\\t\\t\\t\\t</li>\\r\\n\\t\\t\\t\\t\\t\\t\\t\\t\\t\\r\\n\\t\\t\\t\\t\\t\\t\\t\\t\\r\\n\\t\\t\\t\\t\\t\\t\\t</ul>\\r\\n\\t\\t\\t\\t\\t\\t\\r\\n\\t\\t\\t\\t\\t</li>\\r\\n\\t\\t\\t\\t\\t\\r\\n\\t\\t\\t\\t\\r\\n\\t\\t\\t\\t\\t\\r\\n\\t\\t\\t\\t\\t<li>\\r\\n\\t\\t\\t\\t\\t\\t\\r\\n\\t\\t\\t\\t\\t\\t<a href=\"/ko/intro/visionStrategy.do\" title=\"발전계획\"  >발전계획</a>\\r\\n\\r\\n\\t\\t\\t\\t\\t\\t\\r\\n\\t\\t\\t\\t\\t\\t\\t<ul>\\r\\n\\t\\t\\t\\t\\t\\t\\t\\t\\r\\n\\t\\t\\t\\t\\t\\t\\t\\t\\t\\r\\n\\t\\t\\t\\t\\t\\t\\t\\t\\t<li>\\r\\n\\t\\t\\t\\t\\t\\t\\t\\t\\t\\t\\r\\n\\t\\t\\t\\t\\t\\t\\t\\t\\t\\t<a href=\"/ko/intro/visionStrategy.do\" title=\"상명 2027\"  >상명 2027</a>\\r\\n\\t\\t\\t\\t\\t\\t\\t\\t\\t</li>\\r\\n\\t\\t\\t\\t\\t\\t\\t\\t\\t\\r\\n\\t\\t\\t\\t\\t\\t\\t\\t\\r\\n\\t\\t\\t\\t\\t\\t\\t</ul>\\r\\n\\t\\t\\t\\t\\t\\t\\r\\n\\t\\t\\t\\t\\t</li>\\r\\n\\t\\t\\t\\t\\t\\r\\n\\t\\t\\t\\t\\r\\n\\t\\t\\t\\t\\t\\r\\n\\t\\t\\t\\t\\t<li>\\r\\n\\t\\t\\t\\t\\t\\t\\r\\n\\t\\t\\t\\t\\t\\t<a href=\"/ko/intro/history2022.do\" title=\"역사/상징\"  >역사/상징</a>\\r\\n\\r\\n\\t\\t\\t\\t\\t\\t\\r\\n\\t\\t\\t\\t\\t\\t\\t<ul>\\r\\n\\t\\t\\t\\t\\t\\t\\t\\t\\r\\n\\t\\t\\t\\t\\t\\t\\t\\t\\t\\r\\n\\t\\t\\t\\t\\t\\t\\t\\t\\t<li>\\r\\n\\t\\t\\t\\t\\t\\t\\t\\t\\t\\t\\r\\n\\t\\t\\t\\t\\t\\t\\t\\t\\t\\t<a href=\"/ko/intro/history2022.do\" title=\"연혁\"  >연혁</a>\\r\\n\\t\\t\\t\\t\\t\\t\\t\\t\\t</li>\\r\\n\\t\\t\\t\\t\\t\\t\\t\\t\\t\\r\\n\\t\\t\\t\\t\\t\\t\\t\\t\\r\\n\\t\\t\\t\\t\\t\\t\\t\\t\\t\\r\\n\\t\\t\\t\\t\\t\\t\\t\\t\\t<li>\\r\\n\\t\\t\\t\\t\\t\\t\\t\\t\\t\\t\\r\\n\\t\\t\\t\\t\\t\\t\\t\\t\\t\\t<a href=\"/ko/intro/eduIdeology.do\" title=\"교육이념\"  >교육이념</a>\\r\\n\\t\\t\\t\\t\\t\\t\\t\\t\\t</li>\\r\\n\\t\\t\\t\\t\\t\\t\\t\\t\\t\\r\\n\\t\\t\\t\\t\\t\\t\\t\\t\\r\\n\\t\\t\\t\\t\\t\\t\\t\\t\\t\\r\\n\\t\\t\\t\\t\\t\\t\\t\\t\\t<li>\\r\\n\\t\\t\\t\\t\\t\\t\\t\\t\\t\\t\\r\\n\\t\\t\\t\\t\\t\\t\\t\\t\\t\\t<a href=\"/ko/intro/talent.do\" title=\"인재상\"  >인재상</a>\\r\\n\\t\\t\\t\\t\\t\\t\\t\\t\\t</li>\\r\\n\\t\\t\\t\\t\\t\\t\\t\\t\\t\\r\\n\\t\\t\\t\\t\\t\\t\\t\\t\\r\\n\\t\\t\\t\\t\\t\\t\\t\\t\\t\\r\\n\\t\\t\\t\\t\\t\\t\\t\\t\\t<li>\\r\\n\\t\\t\\t\\t\\t\\t\\t\\t\\t\\t\\r\\n\\t\\t\\t\\t\\t\\t\\t\\t\\t\\t<a href=\"/ko/intro/symbol1.do\" title=\"상명상징\"  >상명상징</a>\\r\\n\\t\\t\\t\\t\\t\\t\\t\\t\\t</li>\\r\\n\\t\\t\\t\\t\\t\\t\\t\\t\\t\\r\\n\\t\\t\\t\\t\\t\\t\\t\\t\\r\\n\\t\\t\\t\\t\\t\\t\\t\\t\\t\\r\\n\\t\\t\\t\\t\\t\\t\\t\\t\\t<li>\\r\\n\\t\\t\\t\\t\\t\\t\\t\\t\\t\\t\\r\\n\\t\\t\\t\\t\\t\\t\\t\\t\\t\\t<a href=\"/ko/intro/uiLogo.do\" title=\"UI디자인\"  >UI디자인</a>\\r\\n\\t\\t\\t\\t\\t\\t\\t\\t\\t</li>\\r\\n\\t\\t\\t\\t\\t\\t\\t\\t\\t\\r\\n\\t\\t\\t\\t\\t\\t\\t\\t\\r\\n\\t\\t\\t\\t\\t\\t\\t\\t\\t\\r\\n\\t\\t\\t\\t\\t\\t\\t\\t\\t<li>\\r\\n\\t\\t\\t\\t\\t\\t\\t\\t\\t\\t\\r\\n\\t\\t\\t\\t\\t\\t\\t\\t\\t\\t<a href=\"/ko/intro/schoolSong1.do\" title=\"교가 및 학원가\"  >교가 및 학원가</a>\\r\\n\\t\\t\\t\\t\\t\\t\\t\\t\\t</li>\\r\\n\\t\\t\\t\\t\\t\\t\\t\\t\\t\\r\\n\\t\\t\\t\\t\\t\\t\\t\\t\\r\\n\\t\\t\\t\\t\\t\\t\\t\\t\\t\\r\\n\\t\\t\\t\\t\\t\\t\\t\\t\\t<li>\\r\\n\\t\\t\\t\\t\\t\\t\\t\\t\\t\\t\\r\\n\\t\\t\\t\\t\\t\\t\\t\\t\\t\\t<a href=\"/ko/intro/media2.do\" title=\"홍보영상\"  >홍보영상</a>\\r\\n\\t\\t\\t\\t\\t\\t\\t\\t\\t</li>\\r\\n\\t\\t\\t\\t\\t\\t\\t\\t\\t\\r\\n\\t\\t\\t\\t\\t\\t\\t\\t\\r\\n\\t\\t\\t\\t\\t\\t\\t</ul>\\r\\n\\t\\t\\t\\t\\t\\t\\r\\n\\t\\t\\t\\t\\t</li>\\r\\n\\t\\t\\t\\t\\t\\r\\n\\t\\t\\t\\t\\r\\n\\t\\t\\t\\t\\t\\r\\n\\t\\t\\t\\t\\t<li>\\r\\n\\t\\t\\t\\t\\t\\t\\r\\n\\t\\t\\t\\t\\t\\t<a href=\"/ko/intro/sangmyungInTheWorld.do\" title=\"세계 속 상명\"  >세계 속 상명</a>\\r\\n\\r\\n\\t\\t\\t\\t\\t\\t\\r\\n\\t\\t\\t\\t\\t</li>\\r\\n\\t\\t\\t\\t\\t\\r\\n\\t\\t\\t\\t\\r\\n\\t\\t\\t\\t\\t\\r\\n\\t\\t\\t\\t\\t<li>\\r\\n\\t\\t\\t\\t\\t\\t\\r\\n\\t\\t\\t\\t\\t\\t<a href=\"/ko/intro/collegeStatus.do\" title=\"대학현황\"  >대학현황</a>\\r\\n\\r\\n\\t\\t\\t\\t\\t\\t\\r\\n\\t\\t\\t\\t\\t\\t\\t<ul>\\r\\n\\t\\t\\t\\t\\t\\t\\t\\t\\r\\n\\t\\t\\t\\t\\t\\t\\t\\t\\t\\r\\n\\t\\t\\t\\t\\t\\t\\t\\t\\t<li>\\r\\n\\t\\t\\t\\t\\t\\t\\t\\t\\t\\t\\r\\n\\t\\t\\t\\t\\t\\t\\t\\t\\t\\t<a href=\"/ko/intro/collegeStatus.do\" title=\"일반현황 및 주요지표\"  >일반현황 및 주요지표</a>\\r\\n\\t\\t\\t\\t\\t\\t\\t\\t\\t</li>\\r\\n\\t\\t\\t\\t\\t\\t\\t\\t\\t\\r\\n\\t\\t\\t\\t\\t\\t\\t\\t\\r\\n\\t\\t\\t\\t\\t\\t\\t\\t\\t\\r\\n\\t\\t\\t\\t\\t\\t\\t\\t\\t<li>\\r\\n\\t\\t\\t\\t\\t\\t\\t\\t\\t\\t\\r\\n\\t\\t\\t\\t\\t\\t\\t\\t\\t\\t<a href=\"/ko/intro/equipmentTable.do\" title=\"기구표\"  >기구표</a>\\r\\n\\t\\t\\t\\t\\t\\t\\t\\t\\t</li>\\r\\n\\t\\t\\t\\t\\t\\t\\t\\t\\t\\r\\n\\t\\t\\t\\t\\t\\t\\t\\t\\r\\n\\t\\t\\t\\t\\t\\t\\t\\t\\t\\r\\n\\t\\t\\t\\t\\t\\t\\t\\t\\t<li>\\r\\n\\t\\t\\t\\t\\t\\t\\t\\t\\t\\t\\r\\n\\t\\t\\t\\t\\t\\t\\t\\t\\t\\t<a href=\"/ko/intro/settlement.do\" title=\"예결산공고\"  >예결산공고</a>\\r\\n\\t\\t\\t\\t\\t\\t\\t\\t\\t</li>\\r\\n\\t\\t\\t\\t\\t\\t\\t\\t\\t\\r\\n\\t\\t\\t\\t\\t\\t\\t\\t\\r\\n\\t\\t\\t\\t\\t\\t\\t\\t\\t\\r\\n\\t\\t\\t\\t\\t\\t\\t\\t\\t<li>\\r\\n\\t\\t\\t\\t\\t\\t\\t\\t\\t\\t\\r\\n\\t\\t\\t\\t\\t\\t\\t\\t\\t\\t<a href=\"/ko/intro/universitySelfAssessment.do\" title=\"대학자체평가\"  >대학자체평가</a>\\r\\n\\t\\t\\t\\t\\t\\t\\t\\t\\t</li>\\r\\n\\t\\t\\t\\t\\t\\t\\t\\t\\t\\r\\n\\t\\t\\t\\t\\t\\t\\t\\t\\r\\n\\t\\t\\t\\t\\t\\t\\t\\t\\t\\r\\n\\t\\t\\t\\t\\t\\t\\t\\t\\t<li>\\r\\n\\t\\t\\t\\t\\t\\t\\t\\t\\t\\t\\r\\n\\t\\t\\t\\t\\t\\t\\t\\t\\t\\t<a href=\"/ko/intro/committee_intro.do\" title=\"등록금심의위원회\"  >등록금심의위원회</a>\\r\\n\\t\\t\\t\\t\\t\\t\\t\\t\\t</li>\\r\\n\\t\\t\\t\\t\\t\\t\\t\\t\\t\\r\\n\\t\\t\\t\\t\\t\\t\\t\\t\\r\\n\\t\\t\\t\\t\\t\\t\\t\\t\\t\\r\\n\\t\\t\\t\\t\\t\\t\\t\\t\\t<li>\\r\\n\\t\\t\\t\\t\\t\\t\\t\\t\\t\\t\\r\\n\\t\\t\\t\\t\\t\\t\\t\\t\\t\\t<a href=\"/ko/intro/assembly_intro.do\" title=\"대학평의원회\"  >대학평의원회</a>\\r\\n\\t\\t\\t\\t\\t\\t\\t\\t\\t</li>\\r\\n\\t\\t\\t\\t\\t\\t\\t\\t\\t\\r\\n\\t\\t\\t\\t\\t\\t\\t\\t\\r\\n\\t\\t\\t\\t\\t\\t\\t\\t\\t\\r\\n\\t\\t\\t\\t\\t\\t\\t\\t\\t<li>\\r\\n\\t\\t\\t\\t\\t\\t\\t\\t\\t\\t\\r\\n\\t\\t\\t\\t\\t\\t\\t\\t\\t\\t<a href=\"/ko/intro/business.do\" title=\"업무추진비 사용내역\"  >업무추진비 사용내역</a>\\r\\n\\t\\t\\t\\t\\t\\t\\t\\t\\t</li>\\r\\n\\t\\t\\t\\t\\t\\t\\t\\t\\t\\r\\n\\t\\t\\t\\t\\t\\t\\t\\t\\r\\n\\t\\t\\t\\t\\t\\t\\t\\t\\t\\r\\n\\t\\t\\t\\t\\t\\t\\t\\t\\t<li>\\r\\n\\t\\t\\t\\t\\t\\t\\t\\t\\t\\t\\r\\n\\t\\t\\t\\t\\t\\t\\t\\t\\t\\t<a href=\"/ko/intro/safetySe.do\" title=\"안전관리계획\"  >안전관리계획</a>\\r\\n\\t\\t\\t\\t\\t\\t\\t\\t\\t</li>\\r\\n\\t\\t\\t\\t\\t\\t\\t\\t\\t\\r\\n\\t\\t\\t\\t\\t\\t\\t\\t\\r\\n\\t\\t\\t\\t\\t\\t\\t\\t\\t\\r\\n\\t\\t\\t\\t\\t\\t\\t\\t\\t<li>\\r\\n\\t\\t\\t\\t\\t\\t\\t\\t\\t\\t\\r\\n\\t\\t\\t\\t\\t\\t\\t\\t\\t\\t<a href=\"/ko/intro/rule.do\" title=\"새창열림\"  target=\"_blank\" >학교규정</a>\\r\\n\\t\\t\\t\\t\\t\\t\\t\\t\\t</li>\\r\\n\\t\\t\\t\\t\\t\\t\\t\\t\\t\\r\\n\\t\\t\\t\\t\\t\\t\\t\\t\\r\\n\\t\\t\\t\\t\\t\\t\\t\\t\\t\\r\\n\\t\\t\\t\\t\\t\\t\\t\\t\\t<li>\\r\\n\\t\\t\\t\\t\\t\\t\\t\\t\\t\\t\\r\\n\\t\\t\\t\\t\\t\\t\\t\\t\\t\\t<a href=\"/ko/intro/corporation.do\" title=\"학교법인\"  >학교법인</a>\\r\\n\\t\\t\\t\\t\\t\\t\\t\\t\\t</li>\\r\\n\\t\\t\\t\\t\\t\\t\\t\\t\\t\\r\\n\\t\\t\\t\\t\\t\\t\\t\\t\\r\\n\\t\\t\\t\\t\\t\\t\\t\\t\\t\\r\\n\\t\\t\\t\\t\\t\\t\\t\\t\\t<li>\\r\\n\\t\\t\\t\\t\\t\\t\\t\\t\\t\\t\\r\\n\\t\\t\\t\\t\\t\\t\\t\\t\\t\\t<a href=\"/ko/intro/contributions.do\" title=\"기부금모금액 및 활용실적\"  >기부금모금액 및 활용실적</a>\\r\\n\\t\\t\\t\\t\\t\\t\\t\\t\\t</li>\\r\\n\\t\\t\\t\\t\\t\\t\\t\\t\\t\\r\\n\\t\\t\\t\\t\\t\\t\\t\\t\\r\\n\\t\\t\\t\\t\\t\\t\\t\\t\\t\\r\\n\\t\\t\\t\\t\\t\\t\\t\\t\\t<li>\\r\\n\\t\\t\\t\\t\\t\\t\\t\\t\\t\\t\\r\\n\\t\\t\\t\\t\\t\\t\\t\\t\\t\\t<a href=\"/ko/intro/cradle.do\" title=\"상명요람\"  >상명요람</a>\\r\\n\\t\\t\\t\\t\\t\\t\\t\\t\\t</li>\\r\\n\\t\\t\\t\\t\\t\\t\\t\\t\\t\\r\\n\\t\\t\\t\\t\\t\\t\\t\\t\\r\\n\\t\\t\\t\\t\\t\\t\\t</ul>\\r\\n\\t\\t\\t\\t\\t\\t\\r\\n\\t\\t\\t\\t\\t</li>\\r\\n\\t\\t\\t\\t\\t\\r\\n\\t\\t\\t\\t\\r\\n\\t\\t\\t\\t\\t\\r\\n\\t\\t\\t\\t\\t<li>\\r\\n\\t\\t\\t\\t\\t\\t\\r\\n\\t\\t\\t\\t\\t\\t<a href=\"/ko/intro/gallery.do\" title=\"캠퍼스 안내\"  >캠퍼스 안내</a>\\r\\n\\r\\n\\t\\t\\t\\t\\t\\t\\r\\n\\t\\t\\t\\t\\t\\t\\t<ul>\\r\\n\\t\\t\\t\\t\\t\\t\\t\\t\\r\\n\\t\\t\\t\\t\\t\\t\\t\\t\\t\\r\\n\\t\\t\\t\\t\\t\\t\\t\\t\\t<li>\\r\\n\\t\\t\\t\\t\\t\\t\\t\\t\\t\\t\\r\\n\\t\\t\\t\\t\\t\\t\\t\\t\\t\\t<a href=\"/ko/intro/gallery.do\" title=\"상명 갤러리\"  >상명 갤러리</a>\\r\\n\\t\\t\\t\\t\\t\\t\\t\\t\\t</li>\\r\\n\\t\\t\\t\\t\\t\\t\\t\\t\\t\\r\\n\\t\\t\\t\\t\\t\\t\\t\\t\\r\\n\\t\\t\\t\\t\\t\\t\\t\\t\\t\\r\\n\\t\\t\\t\\t\\t\\t\\t\\t\\t<li>\\r\\n\\t\\t\\t\\t\\t\\t\\t\\t\\t\\t\\r\\n\\t\\t\\t\\t\\t\\t\\t\\t\\t\\t<a href=\"/ko/intro/road.do\" title=\"찾아오시는 길\"  >찾아오시는 길</a>\\r\\n\\t\\t\\t\\t\\t\\t\\t\\t\\t</li>\\r\\n\\t\\t\\t\\t\\t\\t\\t\\t\\t\\r\\n\\t\\t\\t\\t\\t\\t\\t\\t\\r\\n\\t\\t\\t\\t\\t\\t\\t\\t\\t\\r\\n\\t\\t\\t\\t\\t\\t\\t\\t\\t<li>\\r\\n\\t\\t\\t\\t\\t\\t\\t\\t\\t\\t\\r\\n\\t\\t\\t\\t\\t\\t\\t\\t\\t\\t<a href=\"/ko/intro/map_all.do?campusCd=CMN001.0001\" title=\"새창열림\"  target=\"_blank\" >캠퍼스 맵</a>\\r\\n\\t\\t\\t\\t\\t\\t\\t\\t\\t</li>\\r\\n\\t\\t\\t\\t\\t\\t\\t\\t\\t\\r\\n\\t\\t\\t\\t\\t\\t\\t\\t\\r\\n\\t\\t\\t\\t\\t\\t\\t\\t\\t\\r\\n\\t\\t\\t\\t\\t\\t\\t\\t\\t<li>\\r\\n\\t\\t\\t\\t\\t\\t\\t\\t\\t\\t\\r\\n\\t\\t\\t\\t\\t\\t\\t\\t\\t\\t<a href=\"/ko/campustour.do\" title=\"캠퍼스투어 신청\"  >캠퍼스투어 신청</a>\\r\\n\\t\\t\\t\\t\\t\\t\\t\\t\\t</li>\\r\\n\\t\\t\\t\\t\\t\\t\\t\\t\\t\\r\\n\\t\\t\\t\\t\\t\\t\\t\\t\\r\\n\\t\\t\\t\\t\\t\\t\\t\\t\\t\\r\\n\\t\\t\\t\\t\\t\\t\\t\\t\\t<li>\\r\\n\\t\\t\\t\\t\\t\\t\\t\\t\\t\\t\\r\\n\\t\\t\\t\\t\\t\\t\\t\\t\\t\\t<a href=\"/ko/intro/vrtour.do\" title=\"캠퍼스 VR TOUR\"  >캠퍼스 VR TOUR</a>\\r\\n\\t\\t\\t\\t\\t\\t\\t\\t\\t</li>\\r\\n\\t\\t\\t\\t\\t\\t\\t\\t\\t\\r\\n\\t\\t\\t\\t\\t\\t\\t\\t\\r\\n\\t\\t\\t\\t\\t\\t\\t\\t\\t\\r\\n\\t\\t\\t\\t\\t\\t\\t\\t\\t<li>\\r\\n\\t\\t\\t\\t\\t\\t\\t\\t\\t\\t\\r\\n\\t\\t\\t\\t\\t\\t\\t\\t\\t\\t<a href=\"/ko/intro/searchTel.do\" title=\"교내 전화번호 검색\"  >교내 전화번호 검색</a>\\r\\n\\t\\t\\t\\t\\t\\t\\t\\t\\t</li>\\r\\n\\t\\t\\t\\t\\t\\t\\t\\t\\t\\r\\n\\t\\t\\t\\t\\t\\t\\t\\t\\r\\n\\t\\t\\t\\t\\t\\t\\t</ul>\\r\\n\\t\\t\\t\\t\\t\\t\\r\\n\\t\\t\\t\\t\\t</li>\\r\\n\\t\\t\\t\\t\\t\\r\\n\\t\\t\\t\\t\\r\\n\\t\\t\\t\\t\\t\\r\\n\\t\\t\\t\\t\\t<li>\\r\\n\\t\\t\\t\\t\\t\\t\\r\\n\\t\\t\\t\\t\\t\\t<a href=\"/ko/intro/Information1.do\" title=\"정보공개\"  >정보공개</a>\\r\\n\\r\\n\\t\\t\\t\\t\\t\\t\\r\\n\\t\\t\\t\\t\\t\\t\\t<ul>\\r\\n\\t\\t\\t\\t\\t\\t\\t\\t\\r\\n\\t\\t\\t\\t\\t\\t\\t\\t\\t\\r\\n\\t\\t\\t\\t\\t\\t\\t\\t\\t<li>\\r\\n\\t\\t\\t\\t\\t\\t\\t\\t\\t\\t\\r\\n\\t\\t\\t\\t\\t\\t\\t\\t\\t\\t<a href=\"/ko/intro/Information1.do\" title=\"정보공개제도 안내\"  >정보공개제도 안내</a>\\r\\n\\t\\t\\t\\t\\t\\t\\t\\t\\t</li>\\r\\n\\t\\t\\t\\t\\t\\t\\t\\t\\t\\r\\n\\t\\t\\t\\t\\t\\t\\t\\t\\r\\n\\t\\t\\t\\t\\t\\t\\t\\t\\t\\r\\n\\t\\t\\t\\t\\t\\t\\t\\t\\t<li>\\r\\n\\t\\t\\t\\t\\t\\t\\t\\t\\t\\t\\r\\n\\t\\t\\t\\t\\t\\t\\t\\t\\t\\t<a href=\"/ko/intro/Information2.do\" title=\"사전공개\"  >사전공개</a>\\r\\n\\t\\t\\t\\t\\t\\t\\t\\t\\t</li>\\r\\n\\t\\t\\t\\t\\t\\t\\t\\t\\t\\r\\n\\t\\t\\t\\t\\t\\t\\t\\t\\r\\n\\t\\t\\t\\t\\t\\t\\t\\t\\t\\r\\n\\t\\t\\t\\t\\t\\t\\t\\t\\t<li>\\r\\n\\t\\t\\t\\t\\t\\t\\t\\t\\t\\t\\r\\n\\t\\t\\t\\t\\t\\t\\t\\t\\t\\t<a href=\"/ko/intro/Information3.do\" title=\"정보공개청구\"  >정보공개청구</a>\\r\\n\\t\\t\\t\\t\\t\\t\\t\\t\\t</li>\\r\\n\\t\\t\\t\\t\\t\\t\\t\\t\\t\\r\\n\\t\\t\\t\\t\\t\\t\\t\\t\\r\\n\\t\\t\\t\\t\\t\\t\\t</ul>\\r\\n\\t\\t\\t\\t\\t\\t\\r\\n\\t\\t\\t\\t\\t</li>\\r\\n\\t\\t\\t\\t\\t\\r\\n\\t\\t\\t\\t\\r\\n\\t\\t\\t\\t\\t\\r\\n\\t\\t\\t\\t\\t<li>\\r\\n\\t\\t\\t\\t\\t\\t\\r\\n\\t\\t\\t\\t\\t\\t<a href=\"/ko/intro/privacyPolicy.do\" title=\"개인정보처리방침\"  >개인정보처리방침</a>\\r\\n\\r\\n\\t\\t\\t\\t\\t\\t\\r\\n\\t\\t\\t\\t\\t\\t\\t<ul>\\r\\n\\t\\t\\t\\t\\t\\t\\t\\t\\r\\n\\t\\t\\t\\t\\t\\t\\t\\t\\t\\r\\n\\t\\t\\t\\t\\t\\t\\t\\t\\t<li>\\r\\n\\t\\t\\t\\t\\t\\t\\t\\t\\t\\t\\r\\n\\t\\t\\t\\t\\t\\t\\t\\t\\t\\t<a href=\"/ko/intro/privacyPolicy.do\" title=\"개인정보처리방침\"  >개인정보처리방침</a>\\r\\n\\t\\t\\t\\t\\t\\t\\t\\t\\t</li>\\r\\n\\t\\t\\t\\t\\t\\t\\t\\t\\t\\r\\n\\t\\t\\t\\t\\t\\t\\t\\t\\r\\n\\t\\t\\t\\t\\t\\t\\t\\t\\t\\r\\n\\t\\t\\t\\t\\t\\t\\t\\t\\t<li>\\r\\n\\t\\t\\t\\t\\t\\t\\t\\t\\t\\t\\r\\n\\t\\t\\t\\t\\t\\t\\t\\t\\t\\t<a href=\"/ko/intro/privacyPolicy2.do\" title=\"개인정보위탁현황\"  >개인정보위탁현황</a>\\r\\n\\t\\t\\t\\t\\t\\t\\t\\t\\t</li>\\r\\n\\t\\t\\t\\t\\t\\t\\t\\t\\t\\r\\n\\t\\t\\t\\t\\t\\t\\t\\t\\r\\n\\t\\t\\t\\t\\t\\t\\t\\t\\t\\r\\n\\t\\t\\t\\t\\t\\t\\t\\t\\t<li>\\r\\n\\t\\t\\t\\t\\t\\t\\t\\t\\t\\t\\r\\n\\t\\t\\t\\t\\t\\t\\t\\t\\t\\t<a href=\"/ko/intro/privacyPolicy3.do\" title=\"개인정보제3자제공현황\"  >개인정보제3자제공현황</a>\\r\\n\\t\\t\\t\\t\\t\\t\\t\\t\\t</li>\\r\\n\\t\\t\\t\\t\\t\\t\\t\\t\\t\\r\\n\\t\\t\\t\\t\\t\\t\\t\\t\\r\\n\\t\\t\\t\\t\\t\\t\\t</ul>\\r\\n\\t\\t\\t\\t\\t\\t\\r\\n\\t\\t\\t\\t\\t</li>\\r\\n\\t\\t\\t\\t\\t\\r\\n\\t\\t\\t\\t\\r\\n\\t\\t\\t\\t\\t\\r\\n\\t\\t\\t\\t\\t<li>\\r\\n\\t\\t\\t\\t\\t\\t\\r\\n\\t\\t\\t\\t\\t\\t<a href=\"/ko/intro/Information4.do\" title=\"입찰 · 채용\"  >입찰 · 채용</a>\\r\\n\\r\\n\\t\\t\\t\\t\\t\\t\\r\\n\\t\\t\\t\\t\\t\\t\\t<ul>\\r\\n\\t\\t\\t\\t\\t\\t\\t\\t\\r\\n\\t\\t\\t\\t\\t\\t\\t\\t\\t\\r\\n\\t\\t\\t\\t\\t\\t\\t\\t\\t<li>\\r\\n\\t\\t\\t\\t\\t\\t\\t\\t\\t\\t\\r\\n\\t\\t\\t\\t\\t\\t\\t\\t\\t\\t<a href=\"/ko/intro/Information4.do\" title=\"입찰\"  >입찰</a>\\r\\n\\t\\t\\t\\t\\t\\t\\t\\t\\t</li>\\r\\n\\t\\t\\t\\t\\t\\t\\t\\t\\t\\r\\n\\t\\t\\t\\t\\t\\t\\t\\t\\r\\n\\t\\t\\t\\t\\t\\t\\t\\t\\t\\r\\n\\t\\t\\t\\t\\t\\t\\t\\t\\t<li>\\r\\n\\t\\t\\t\\t\\t\\t\\t\\t\\t\\t\\r\\n\\t\\t\\t\\t\\t\\t\\t\\t\\t\\t<a href=\"/ko/intro/recruitment.do\" title=\"채용\"  >채용</a>\\r\\n\\t\\t\\t\\t\\t\\t\\t\\t\\t</li>\\r\\n\\t\\t\\t\\t\\t\\t\\t\\t\\t\\r\\n\\t\\t\\t\\t\\t\\t\\t\\t\\r\\n\\t\\t\\t\\t\\t\\t\\t</ul>\\r\\n\\t\\t\\t\\t\\t\\t\\r\\n\\t\\t\\t\\t\\t</li>\\r\\n\\t\\t\\t\\t\\t\\r\\n\\t\\t\\t\\t\\r\\n\\t\\t\\t\\t\\t\\r\\n\\t\\t\\t\\t\\t<li>\\r\\n\\t\\t\\t\\t\\t\\t\\r\\n\\t\\t\\t\\t\\t\\t<a href=\"/ko/employment.do\" title=\"강사초빙\"  >강사초빙</a>\\r\\n\\r\\n\\t\\t\\t\\t\\t\\t\\r\\n\\t\\t\\t\\t\\t\\t\\t<ul>\\r\\n\\t\\t\\t\\t\\t\\t\\t\\t\\r\\n\\t\\t\\t\\t\\t\\t\\t\\t\\t\\r\\n\\t\\t\\t\\t\\t\\t\\t\\t\\t<li>\\r\\n\\t\\t\\t\\t\\t\\t\\t\\t\\t\\t\\r\\n\\t\\t\\t\\t\\t\\t\\t\\t\\t\\t<a href=\"/ko/employment.do\" title=\"강사 초빙 공고\"  >강사 초빙 공고</a>\\r\\n\\t\\t\\t\\t\\t\\t\\t\\t\\t</li>\\r\\n\\t\\t\\t\\t\\t\\t\\t\\t\\t\\r\\n\\t\\t\\t\\t\\t\\t\\t\\t\\r\\n\\t\\t\\t\\t\\t\\t\\t</ul>\\r\\n\\t\\t\\t\\t\\t\\t\\r\\n\\t\\t\\t\\t\\t</li>\\r\\n\\t\\t\\t\\t\\t\\r\\n\\t\\t\\t\\t\\r\\n\\t\\t\\t</ul>\\r\\n\\t\\t\\r\\n\\t</li>\\r\\n\\t\\r\\n\\r\\n   \\t\\r\\n\\t<li>\\r\\n\\t\\t\\r\\n\\t\\t<a href=\"/ko/intro/whySangmyung.do\" title=\"입학 · 교육\"  >입학 · 교육</a>\\r\\n\\t\\t\\r\\n\\t\\t\\t<ul>\\r\\n\\t\\t\\t\\t\\r\\n\\t\\t\\t\\t\\t\\r\\n\\t\\t\\t\\t\\t<li>\\r\\n\\t\\t\\t\\t\\t\\t\\r\\n\\t\\t\\t\\t\\t\\t<a href=\"/ko/intro/whySangmyung.do\" title=\"WHY 상명\"  >WHY 상명</a>\\r\\n\\r\\n\\t\\t\\t\\t\\t\\t\\r\\n\\t\\t\\t\\t\\t</li>\\r\\n\\t\\t\\t\\t\\t\\r\\n\\t\\t\\t\\t\\r\\n\\t\\t\\t\\t\\t\\r\\n\\t\\t\\t\\t\\t<li>\\r\\n\\t\\t\\t\\t\\t\\t\\r\\n\\t\\t\\t\\t\\t\\t<a href=\"http://admission.smu.ac.kr/\" title=\"새창열림\"  target=\"_blank\" >입학</a>\\r\\n\\r\\n\\t\\t\\t\\t\\t\\t\\r\\n\\t\\t\\t\\t\\t</li>\\r\\n\\t\\t\\t\\t\\t\\r\\n\\t\\t\\t\\t\\r\\n\\t\\t\\t\\t\\t\\r\\n\\t\\t\\t\\t\\t<li>\\r\\n\\t\\t\\t\\t\\t\\t\\r\\n\\t\\t\\t\\t\\t\\t<a href=\"/ko/edu/international.do\" title=\"International Student\"  >International Student</a>\\r\\n\\r\\n\\t\\t\\t\\t\\t\\t\\r\\n\\t\\t\\t\\t\\t\\t\\t<ul>\\r\\n\\t\\t\\t\\t\\t\\t\\t\\t\\r\\n\\t\\t\\t\\t\\t\\t\\t\\t\\t\\r\\n\\t\\t\\t\\t\\t\\t\\t\\t\\t<li>\\r\\n\\t\\t\\t\\t\\t\\t\\t\\t\\t\\t\\r\\n\\t\\t\\t\\t\\t\\t\\t\\t\\t\\t<a href=\"/ko/edu/international.do\" title=\"학부 입학\"  >학부 입학</a>\\r\\n\\t\\t\\t\\t\\t\\t\\t\\t\\t</li>\\r\\n\\t\\t\\t\\t\\t\\t\\t\\t\\t\\r\\n\\t\\t\\t\\t\\t\\t\\t\\t\\r\\n\\t\\t\\t\\t\\t\\t\\t\\t\\t\\r\\n\\t\\t\\t\\t\\t\\t\\t\\t\\t<li>\\r\\n\\t\\t\\t\\t\\t\\t\\t\\t\\t\\t\\r\\n\\t\\t\\t\\t\\t\\t\\t\\t\\t\\t<a href=\"/ko/edu/entrance.do\" title=\"대학원 입학\"  >대학원 입학</a>\\r\\n\\t\\t\\t\\t\\t\\t\\t\\t\\t</li>\\r\\n\\t\\t\\t\\t\\t\\t\\t\\t\\t\\r\\n\\t\\t\\t\\t\\t\\t\\t\\t\\r\\n\\t\\t\\t\\t\\t\\t\\t\\t\\t\\r\\n\\t\\t\\t\\t\\t\\t\\t\\t\\t<li>\\r\\n\\t\\t\\t\\t\\t\\t\\t\\t\\t\\t\\r\\n\\t\\t\\t\\t\\t\\t\\t\\t\\t\\t<a href=\"/ko/edu/practice.do\" title=\"한국어 연수\"  >한국어 연수</a>\\r\\n\\t\\t\\t\\t\\t\\t\\t\\t\\t</li>\\r\\n\\t\\t\\t\\t\\t\\t\\t\\t\\t\\r\\n\\t\\t\\t\\t\\t\\t\\t\\t\\r\\n\\t\\t\\t\\t\\t\\t\\t</ul>\\r\\n\\t\\t\\t\\t\\t\\t\\r\\n\\t\\t\\t\\t\\t</li>\\r\\n\\t\\t\\t\\t\\t\\r\\n\\t\\t\\t\\t\\r\\n\\t\\t\\t\\t\\t\\r\\n\\t\\t\\t\\t\\t<li>\\r\\n\\t\\t\\t\\t\\t\\t\\r\\n\\t\\t\\t\\t\\t\\t<a href=\"/ko/edu/seoul001.do\" title=\"대학\"  >대학</a>\\r\\n\\r\\n\\t\\t\\t\\t\\t\\t\\r\\n\\t\\t\\t\\t\\t\\t\\t<ul>\\r\\n\\t\\t\\t\\t\\t\\t\\t\\t\\r\\n\\t\\t\\t\\t\\t\\t\\t\\t\\t\\r\\n\\t\\t\\t\\t\\t\\t\\t\\t\\t<li>\\r\\n\\t\\t\\t\\t\\t\\t\\t\\t\\t\\t\\r\\n\\t\\t\\t\\t\\t\\t\\t\\t\\t\\t<a href=\"/ko/edu/seoul001.do\" title=\"서울캠퍼스\"  >서울캠퍼스</a>\\r\\n\\t\\t\\t\\t\\t\\t\\t\\t\\t</li>\\r\\n\\t\\t\\t\\t\\t\\t\\t\\t\\t\\r\\n\\t\\t\\t\\t\\t\\t\\t\\t\\r\\n\\t\\t\\t\\t\\t\\t\\t\\t\\t\\r\\n\\t\\t\\t\\t\\t\\t\\t\\t\\t<li>\\r\\n\\t\\t\\t\\t\\t\\t\\t\\t\\t\\t\\r\\n\\t\\t\\t\\t\\t\\t\\t\\t\\t\\t<a href=\"/ko/edu/cheonan01.do\" title=\"천안캠퍼스\"  >천안캠퍼스</a>\\r\\n\\t\\t\\t\\t\\t\\t\\t\\t\\t</li>\\r\\n\\t\\t\\t\\t\\t\\t\\t\\t\\t\\r\\n\\t\\t\\t\\t\\t\\t\\t\\t\\r\\n\\t\\t\\t\\t\\t\\t\\t</ul>\\r\\n\\t\\t\\t\\t\\t\\t\\r\\n\\t\\t\\t\\t\\t</li>\\r\\n\\t\\t\\t\\t\\t\\r\\n\\t\\t\\t\\t\\r\\n\\t\\t\\t\\t\\t\\r\\n\\t\\t\\t\\t\\t<li>\\r\\n\\t\\t\\t\\t\\t\\t\\r\\n\\t\\t\\t\\t\\t\\t<a href=\"/ko/edu/seoul02.do\" title=\"대학원\"  >대학원</a>\\r\\n\\r\\n\\t\\t\\t\\t\\t\\t\\r\\n\\t\\t\\t\\t\\t</li>\\r\\n\\t\\t\\t\\t\\t\\r\\n\\t\\t\\t\\t\\r\\n\\t\\t\\t\\t\\t\\r\\n\\t\\t\\t\\t\\t<li>\\r\\n\\t\\t\\t\\t\\t\\t\\r\\n\\t\\t\\t\\t\\t\\t<a href=\"/lifelong/\" title=\"새창열림\"  target=\"_blank\" >평생교육</a>\\r\\n\\r\\n\\t\\t\\t\\t\\t\\t\\r\\n\\t\\t\\t\\t\\t</li>\\r\\n\\t\\t\\t\\t\\t\\r\\n\\t\\t\\t\\t\\r\\n\\t\\t\\t\\t\\t\\r\\n\\t\\t\\t\\t\\t<li>\\r\\n\\t\\t\\t\\t\\t\\t\\r\\n\\t\\t\\t\\t\\t\\t<a href=\"/ko/edu/Profile.do\" title=\"교수프로필\"  >교수프로필</a>\\r\\n\\r\\n\\t\\t\\t\\t\\t\\t\\r\\n\\t\\t\\t\\t\\t</li>\\r\\n\\t\\t\\t\\t\\t\\r\\n\\t\\t\\t\\t\\r\\n\\t\\t\\t</ul>\\r\\n\\t\\t\\r\\n\\t</li>\\r\\n\\t\\r\\n\\r\\n   \\t\\r\\n\\t<li>\\r\\n\\t\\t\\r\\n\\t\\t<a href=\"/ko/research/status.do\" title=\"연구 · 산학\"  >연구 · 산학</a>\\r\\n\\t\\t\\r\\n\\t\\t\\t<ul>\\r\\n\\t\\t\\t\\t\\r\\n\\t\\t\\t\\t\\t\\r\\n\\t\\t\\t\\t\\t<li>\\r\\n\\t\\t\\t\\t\\t\\t\\r\\n\\t\\t\\t\\t\\t\\t<a href=\"/ko/research/status.do\" title=\"연구 현황 및 활동\"  >연구 현황 및 활동</a>\\r\\n\\r\\n\\t\\t\\t\\t\\t\\t\\r\\n\\t\\t\\t\\t\\t\\t\\t<ul>\\r\\n\\t\\t\\t\\t\\t\\t\\t\\t\\r\\n\\t\\t\\t\\t\\t\\t\\t\\t\\t\\r\\n\\t\\t\\t\\t\\t\\t\\t\\t\\t<li>\\r\\n\\t\\t\\t\\t\\t\\t\\t\\t\\t\\t\\r\\n\\t\\t\\t\\t\\t\\t\\t\\t\\t\\t<a href=\"/ko/research/status.do\" title=\"연구현황\"  >연구현황</a>\\r\\n\\t\\t\\t\\t\\t\\t\\t\\t\\t</li>\\r\\n\\t\\t\\t\\t\\t\\t\\t\\t\\t\\r\\n\\t\\t\\t\\t\\t\\t\\t\\t\\r\\n\\t\\t\\t\\t\\t\\t\\t\\t\\t\\r\\n\\t\\t\\t\\t\\t\\t\\t\\t\\t<li>\\r\\n\\t\\t\\t\\t\\t\\t\\t\\t\\t\\t\\r\\n\\t\\t\\t\\t\\t\\t\\t\\t\\t\\t<a href=\"/ko/research/result.do\" title=\"연구활동\"  >연구활동</a>\\r\\n\\t\\t\\t\\t\\t\\t\\t\\t\\t</li>\\r\\n\\t\\t\\t\\t\\t\\t\\t\\t\\t\\r\\n\\t\\t\\t\\t\\t\\t\\t\\t\\r\\n\\t\\t\\t\\t\\t\\t\\t</ul>\\r\\n\\t\\t\\t\\t\\t\\t\\r\\n\\t\\t\\t\\t\\t</li>\\r\\n\\t\\t\\t\\t\\t\\r\\n\\t\\t\\t\\t\\r\\n\\t\\t\\t\\t\\t\\r\\n\\t\\t\\t\\t\\t<li>\\r\\n\\t\\t\\t\\t\\t\\t\\r\\n\\t\\t\\t\\t\\t\\t<a href=\"/ko/research/status2.do\" title=\"산학협력 우수 사업 및 연구자\"  >산학협력 우수 사업 및 연구자</a>\\r\\n\\r\\n\\t\\t\\t\\t\\t\\t\\r\\n\\t\\t\\t\\t\\t\\t\\t<ul>\\r\\n\\t\\t\\t\\t\\t\\t\\t\\t\\r\\n\\t\\t\\t\\t\\t\\t\\t\\t\\t\\r\\n\\t\\t\\t\\t\\t\\t\\t\\t\\t<li>\\r\\n\\t\\t\\t\\t\\t\\t\\t\\t\\t\\t\\r\\n\\t\\t\\t\\t\\t\\t\\t\\t\\t\\t<a href=\"/ko/research/status2.do\" title=\"산학협력단 수주 우수 사업\"  >산학협력단 수주 우수 사업</a>\\r\\n\\t\\t\\t\\t\\t\\t\\t\\t\\t</li>\\r\\n\\t\\t\\t\\t\\t\\t\\t\\t\\t\\r\\n\\t\\t\\t\\t\\t\\t\\t\\t\\r\\n\\t\\t\\t\\t\\t\\t\\t\\t\\t\\r\\n\\t\\t\\t\\t\\t\\t\\t\\t\\t<li>\\r\\n\\t\\t\\t\\t\\t\\t\\t\\t\\t\\t\\r\\n\\t\\t\\t\\t\\t\\t\\t\\t\\t\\t<a href=\"/ko/research/result2.do\" title=\"우수 연구자\"  >우수 연구자</a>\\r\\n\\t\\t\\t\\t\\t\\t\\t\\t\\t</li>\\r\\n\\t\\t\\t\\t\\t\\t\\t\\t\\t\\r\\n\\t\\t\\t\\t\\t\\t\\t\\t\\r\\n\\t\\t\\t\\t\\t\\t\\t</ul>\\r\\n\\t\\t\\t\\t\\t\\t\\r\\n\\t\\t\\t\\t\\t</li>\\r\\n\\t\\t\\t\\t\\t\\r\\n\\t\\t\\t\\t\\r\\n\\t\\t\\t\\t\\t\\r\\n\\t\\t\\t\\t\\t<li>\\r\\n\\t\\t\\t\\t\\t\\t\\r\\n\\t\\t\\t\\t\\t\\t<a href=\"/ko/research/industrialScience.do\" title=\"산학협력단\"  >산학협력단</a>\\r\\n\\r\\n\\t\\t\\t\\t\\t\\t\\r\\n\\t\\t\\t\\t\\t</li>\\r\\n\\t\\t\\t\\t\\t\\r\\n\\t\\t\\t\\t\\r\\n\\t\\t\\t\\t\\t\\r\\n\\t\\t\\t\\t\\t<li>\\r\\n\\t\\t\\t\\t\\t\\t\\r\\n\\t\\t\\t\\t\\t\\t<a href=\"/ko/research/affiliateLab01.do\" title=\"부설연구기관\"  >부설연구기관</a>\\r\\n\\r\\n\\t\\t\\t\\t\\t\\t\\r\\n\\t\\t\\t\\t\\t\\t\\t<ul>\\r\\n\\t\\t\\t\\t\\t\\t\\t\\t\\r\\n\\t\\t\\t\\t\\t\\t\\t\\t\\t\\r\\n\\t\\t\\t\\t\\t\\t\\t\\t\\t<li>\\r\\n\\t\\t\\t\\t\\t\\t\\t\\t\\t\\t\\r\\n\\t\\t\\t\\t\\t\\t\\t\\t\\t\\t<a href=\"/ko/research/affiliateLab01.do\" title=\"서울캠퍼스\"  >서울캠퍼스</a>\\r\\n\\t\\t\\t\\t\\t\\t\\t\\t\\t</li>\\r\\n\\t\\t\\t\\t\\t\\t\\t\\t\\t\\r\\n\\t\\t\\t\\t\\t\\t\\t\\t\\r\\n\\t\\t\\t\\t\\t\\t\\t\\t\\t\\r\\n\\t\\t\\t\\t\\t\\t\\t\\t\\t<li>\\r\\n\\t\\t\\t\\t\\t\\t\\t\\t\\t\\t\\r\\n\\t\\t\\t\\t\\t\\t\\t\\t\\t\\t<a href=\"/ko/research/affiliateLab02.do\" title=\"천안캠퍼스\"  >천안캠퍼스</a>\\r\\n\\t\\t\\t\\t\\t\\t\\t\\t\\t</li>\\r\\n\\t\\t\\t\\t\\t\\t\\t\\t\\t\\r\\n\\t\\t\\t\\t\\t\\t\\t\\t\\r\\n\\t\\t\\t\\t\\t\\t\\t</ul>\\r\\n\\t\\t\\t\\t\\t\\t\\r\\n\\t\\t\\t\\t\\t</li>\\r\\n\\t\\t\\t\\t\\t\\r\\n\\t\\t\\t\\t\\r\\n\\t\\t\\t</ul>\\r\\n\\t\\t\\r\\n\\t</li>\\r\\n\\t\\r\\n\\r\\n   \\t\\r\\n\\t<li>\\r\\n\\t\\t\\r\\n\\t\\t<a href=\"/ko/life/2021_graduation.do\" title=\"대학생활\"  >대학생활</a>\\r\\n\\t\\t\\r\\n\\t\\t\\t<ul>\\r\\n\\t\\t\\t\\t\\r\\n\\t\\t\\t\\t\\t\\r\\n\\t\\t\\t\\t\\t<li>\\r\\n\\t\\t\\t\\t\\t\\t\\r\\n\\t\\t\\t\\t\\t\\t<a href=\"/ko/life/2021_graduation.do\" title=\"2021학년도학위수여식\"  >2021학년도학위수여식</a>\\r\\n\\r\\n\\t\\t\\t\\t\\t\\t\\r\\n\\t\\t\\t\\t\\t</li>\\r\\n\\t\\t\\t\\t\\t\\r\\n\\t\\t\\t\\t\\r\\n\\t\\t\\t\\t\\t\\r\\n\\t\\t\\t\\t\\t<li>\\r\\n\\t\\t\\t\\t\\t\\t\\r\\n\\t\\t\\t\\t\\t\\t<a href=\"/ko/life/2022_entrance.do\" title=\"2022학년도입학식\"  >2022학년도입학식</a>\\r\\n\\r\\n\\t\\t\\t\\t\\t\\t\\r\\n\\t\\t\\t\\t\\t</li>\\r\\n\\t\\t\\t\\t\\t\\r\\n\\t\\t\\t\\t\\r\\n\\t\\t\\t\\t\\t\\r\\n\\t\\t\\t\\t\\t<li>\\r\\n\\t\\t\\t\\t\\t\\t\\r\\n\\t\\t\\t\\t\\t\\t<a href=\"/ko/life/freshorientation.do\" title=\"신입생 오리엔테이션\"  >신입생 오리엔테이션</a>\\r\\n\\r\\n\\t\\t\\t\\t\\t\\t\\r\\n\\t\\t\\t\\t\\t\\t\\t<ul>\\r\\n\\t\\t\\t\\t\\t\\t\\t\\t\\r\\n\\t\\t\\t\\t\\t\\t\\t\\t\\t\\r\\n\\t\\t\\t\\t\\t\\t\\t\\t\\t<li>\\r\\n\\t\\t\\t\\t\\t\\t\\t\\t\\t\\t\\r\\n\\t\\t\\t\\t\\t\\t\\t\\t\\t\\t<a href=\"/ko/life/freshorientation.do\" title=\"서울캠퍼스\"  >서울캠퍼스</a>\\r\\n\\t\\t\\t\\t\\t\\t\\t\\t\\t</li>\\r\\n\\t\\t\\t\\t\\t\\t\\t\\t\\t\\r\\n\\t\\t\\t\\t\\t\\t\\t\\t\\r\\n\\t\\t\\t\\t\\t\\t\\t\\t\\t\\r\\n\\t\\t\\t\\t\\t\\t\\t\\t\\t<li>\\r\\n\\t\\t\\t\\t\\t\\t\\t\\t\\t\\t\\r\\n\\t\\t\\t\\t\\t\\t\\t\\t\\t\\t<a href=\"/ko/life/cfreshorientation.do\" title=\"천안캠퍼스\"  >천안캠퍼스</a>\\r\\n\\t\\t\\t\\t\\t\\t\\t\\t\\t</li>\\r\\n\\t\\t\\t\\t\\t\\t\\t\\t\\t\\r\\n\\t\\t\\t\\t\\t\\t\\t\\t\\r\\n\\t\\t\\t\\t\\t\\t\\t</ul>\\r\\n\\t\\t\\t\\t\\t\\t\\r\\n\\t\\t\\t\\t\\t</li>\\r\\n\\t\\t\\t\\t\\t\\r\\n\\t\\t\\t\\t\\r\\n\\t\\t\\t\\t\\t\\r\\n\\t\\t\\t\\t\\t<li>\\r\\n\\t\\t\\t\\t\\t\\t\\r\\n\\t\\t\\t\\t\\t\\t<a href=\"/ko/life/academicCalendar.do\" title=\"학사일정\"  >학사일정</a>\\r\\n\\r\\n\\t\\t\\t\\t\\t\\t\\r\\n\\t\\t\\t\\t\\t</li>\\r\\n\\t\\t\\t\\t\\t\\r\\n\\t\\t\\t\\t\\r\\n\\t\\t\\t\\t\\t\\r\\n\\t\\t\\t\\t\\t<li>\\r\\n\\t\\t\\t\\t\\t\\t\\r\\n\\t\\t\\t\\t\\t\\t<a href=\"/ko/life/CourseRegistration.do\" title=\"학사정보\"  >학사정보</a>\\r\\n\\r\\n\\t\\t\\t\\t\\t\\t\\r\\n\\t\\t\\t\\t\\t\\t\\t<ul>\\r\\n\\t\\t\\t\\t\\t\\t\\t\\t\\r\\n\\t\\t\\t\\t\\t\\t\\t\\t\\t\\r\\n\\t\\t\\t\\t\\t\\t\\t\\t\\t<li>\\r\\n\\t\\t\\t\\t\\t\\t\\t\\t\\t\\t\\r\\n\\t\\t\\t\\t\\t\\t\\t\\t\\t\\t<a href=\"/ko/life/CourseRegistration.do\" title=\"서울캠퍼스\"  >서울캠퍼스</a>\\r\\n\\t\\t\\t\\t\\t\\t\\t\\t\\t</li>\\r\\n\\t\\t\\t\\t\\t\\t\\t\\t\\t\\r\\n\\t\\t\\t\\t\\t\\t\\t\\t\\r\\n\\t\\t\\t\\t\\t\\t\\t\\t\\t\\r\\n\\t\\t\\t\\t\\t\\t\\t\\t\\t<li>\\r\\n\\t\\t\\t\\t\\t\\t\\t\\t\\t\\t\\r\\n\\t\\t\\t\\t\\t\\t\\t\\t\\t\\t<a href=\"/ko/life/CourseRegistration2.do\" title=\"천안캠퍼스\"  >천안캠퍼스</a>\\r\\n\\t\\t\\t\\t\\t\\t\\t\\t\\t</li>\\r\\n\\t\\t\\t\\t\\t\\t\\t\\t\\t\\r\\n\\t\\t\\t\\t\\t\\t\\t\\t\\r\\n\\t\\t\\t\\t\\t\\t\\t</ul>\\r\\n\\t\\t\\t\\t\\t\\t\\r\\n\\t\\t\\t\\t\\t</li>\\r\\n\\t\\t\\t\\t\\t\\r\\n\\t\\t\\t\\t\\r\\n\\t\\t\\t\\t\\t\\r\\n\\t\\t\\t\\t\\t<li>\\r\\n\\t\\t\\t\\t\\t\\t\\r\\n\\t\\t\\t\\t\\t\\t<a href=\"/ko/life/administration.do\" title=\"행정서식\"  >행정서식</a>\\r\\n\\r\\n\\t\\t\\t\\t\\t\\t\\r\\n\\t\\t\\t\\t\\t</li>\\r\\n\\t\\t\\t\\t\\t\\r\\n\\t\\t\\t\\t\\r\\n\\t\\t\\t\\t\\t\\r\\n\\t\\t\\t\\t\\t<li>\\r\\n\\t\\t\\t\\t\\t\\t\\r\\n\\t\\t\\t\\t\\t\\t<a href=\"/ko/life/payment.do\" title=\"학생지원\"  >학생지원</a>\\r\\n\\r\\n\\t\\t\\t\\t\\t\\t\\r\\n\\t\\t\\t\\t\\t\\t\\t<ul>\\r\\n\\t\\t\\t\\t\\t\\t\\t\\t\\r\\n\\t\\t\\t\\t\\t\\t\\t\\t\\t\\r\\n\\t\\t\\t\\t\\t\\t\\t\\t\\t<li>\\r\\n\\t\\t\\t\\t\\t\\t\\t\\t\\t\\t\\r\\n\\t\\t\\t\\t\\t\\t\\t\\t\\t\\t<a href=\"/ko/life/payment.do\" title=\"장학제도\"  >장학제도</a>\\r\\n\\t\\t\\t\\t\\t\\t\\t\\t\\t</li>\\r\\n\\t\\t\\t\\t\\t\\t\\t\\t\\t\\r\\n\\t\\t\\t\\t\\t\\t\\t\\t\\r\\n\\t\\t\\t\\t\\t\\t\\t\\t\\t\\r\\n\\t\\t\\t\\t\\t\\t\\t\\t\\t<li>\\r\\n\\t\\t\\t\\t\\t\\t\\t\\t\\t\\t\\r\\n\\t\\t\\t\\t\\t\\t\\t\\t\\t\\t<a href=\"/ko/life/army.do\" title=\"병무행정\"  >병무행정</a>\\r\\n\\t\\t\\t\\t\\t\\t\\t\\t\\t</li>\\r\\n\\t\\t\\t\\t\\t\\t\\t\\t\\t\\r\\n\\t\\t\\t\\t\\t\\t\\t\\t\\r\\n\\t\\t\\t\\t\\t\\t\\t\\t\\t\\r\\n\\t\\t\\t\\t\\t\\t\\t\\t\\t<li>\\r\\n\\t\\t\\t\\t\\t\\t\\t\\t\\t\\t\\r\\n\\t\\t\\t\\t\\t\\t\\t\\t\\t\\t<a href=\"/ko/life/restaurant.do\" title=\"식당메뉴\"  >식당메뉴</a>\\r\\n\\t\\t\\t\\t\\t\\t\\t\\t\\t</li>\\r\\n\\t\\t\\t\\t\\t\\t\\t\\t\\t\\r\\n\\t\\t\\t\\t\\t\\t\\t\\t\\r\\n\\t\\t\\t\\t\\t\\t\\t\\t\\t\\r\\n\\t\\t\\t\\t\\t\\t\\t\\t\\t<li>\\r\\n\\t\\t\\t\\t\\t\\t\\t\\t\\t\\t\\r\\n\\t\\t\\t\\t\\t\\t\\t\\t\\t\\t<a href=\"/ko/life/ShuttleBus.do\" title=\"버스안내\"  >버스안내</a>\\r\\n\\t\\t\\t\\t\\t\\t\\t\\t\\t</li>\\r\\n\\t\\t\\t\\t\\t\\t\\t\\t\\t\\r\\n\\t\\t\\t\\t\\t\\t\\t\\t\\r\\n\\t\\t\\t\\t\\t\\t\\t\\t\\t\\r\\n\\t\\t\\t\\t\\t\\t\\t\\t\\t<li>\\r\\n\\t\\t\\t\\t\\t\\t\\t\\t\\t\\t\\r\\n\\t\\t\\t\\t\\t\\t\\t\\t\\t\\t<a href=\"/ko/life/studentIdCard.do\" title=\"학생증발급\"  >학생증발급</a>\\r\\n\\t\\t\\t\\t\\t\\t\\t\\t\\t</li>\\r\\n\\t\\t\\t\\t\\t\\t\\t\\t\\t\\r\\n\\t\\t\\t\\t\\t\\t\\t\\t\\r\\n\\t\\t\\t\\t\\t\\t\\t</ul>\\r\\n\\t\\t\\t\\t\\t\\t\\r\\n\\t\\t\\t\\t\\t</li>\\r\\n\\t\\t\\t\\t\\t\\r\\n\\t\\t\\t\\t\\r\\n\\t\\t\\t\\t\\t\\r\\n\\t\\t\\t\\t\\t<li>\\r\\n\\t\\t\\t\\t\\t\\t\\r\\n\\t\\t\\t\\t\\t\\t<a href=\"/ko/life/autonomousOrganization.do\" title=\"학생활동\"  >학생활동</a>\\r\\n\\r\\n\\t\\t\\t\\t\\t\\t\\r\\n\\t\\t\\t\\t\\t\\t\\t<ul>\\r\\n\\t\\t\\t\\t\\t\\t\\t\\t\\r\\n\\t\\t\\t\\t\\t\\t\\t\\t\\t\\r\\n\\t\\t\\t\\t\\t\\t\\t\\t\\t<li>\\r\\n\\t\\t\\t\\t\\t\\t\\t\\t\\t\\t\\r\\n\\t\\t\\t\\t\\t\\t\\t\\t\\t\\t<a href=\"/ko/life/autonomousOrganization.do\" title=\"학생자치기구\"  >학생자치기구</a>\\r\\n\\t\\t\\t\\t\\t\\t\\t\\t\\t</li>\\r\\n\\t\\t\\t\\t\\t\\t\\t\\t\\t\\r\\n\\t\\t\\t\\t\\t\\t\\t\\t\\r\\n\\t\\t\\t\\t\\t\\t\\t\\t\\t\\r\\n\\t\\t\\t\\t\\t\\t\\t\\t\\t<li>\\r\\n\\t\\t\\t\\t\\t\\t\\t\\t\\t\\t\\r\\n\\t\\t\\t\\t\\t\\t\\t\\t\\t\\t<a href=\"/ko/life/circles.do\" title=\"동아리정보\"  >동아리정보</a>\\r\\n\\t\\t\\t\\t\\t\\t\\t\\t\\t</li>\\r\\n\\t\\t\\t\\t\\t\\t\\t\\t\\t\\r\\n\\t\\t\\t\\t\\t\\t\\t\\t\\r\\n\\t\\t\\t\\t\\t\\t\\t\\t\\t\\r\\n\\t\\t\\t\\t\\t\\t\\t\\t\\t<li>\\r\\n\\t\\t\\t\\t\\t\\t\\t\\t\\t\\t\\r\\n\\t\\t\\t\\t\\t\\t\\t\\t\\t\\t<a href=\"/ko/life/life.do\" title=\"교내생활\"  >교내생활</a>\\r\\n\\t\\t\\t\\t\\t\\t\\t\\t\\t</li>\\r\\n\\t\\t\\t\\t\\t\\t\\t\\t\\t\\r\\n\\t\\t\\t\\t\\t\\t\\t\\t\\r\\n\\t\\t\\t\\t\\t\\t\\t\\t\\t\\r\\n\\t\\t\\t\\t\\t\\t\\t\\t\\t<li>\\r\\n\\t\\t\\t\\t\\t\\t\\t\\t\\t\\t\\r\\n\\t\\t\\t\\t\\t\\t\\t\\t\\t\\t<a href=\"/ko/life/socialService2.do\" title=\"사회봉사\"  >사회봉사</a>\\r\\n\\t\\t\\t\\t\\t\\t\\t\\t\\t</li>\\r\\n\\t\\t\\t\\t\\t\\t\\t\\t\\t\\r\\n\\t\\t\\t\\t\\t\\t\\t\\t\\r\\n\\t\\t\\t\\t\\t\\t\\t\\t\\t\\r\\n\\t\\t\\t\\t\\t\\t\\t\\t\\t<li>\\r\\n\\t\\t\\t\\t\\t\\t\\t\\t\\t\\t\\r\\n\\t\\t\\t\\t\\t\\t\\t\\t\\t\\t<a href=\"/ko/life/basketball.do\" title=\"농구단\"  >농구단</a>\\r\\n\\t\\t\\t\\t\\t\\t\\t\\t\\t</li>\\r\\n\\t\\t\\t\\t\\t\\t\\t\\t\\t\\r\\n\\t\\t\\t\\t\\t\\t\\t\\t\\r\\n\\t\\t\\t\\t\\t\\t\\t\\t\\t\\r\\n\\t\\t\\t\\t\\t\\t\\t\\t\\t<li>\\r\\n\\t\\t\\t\\t\\t\\t\\t\\t\\t\\t\\r\\n\\t\\t\\t\\t\\t\\t\\t\\t\\t\\t<a href=\"/ko/life/taekwondo.do\" title=\"태권도부\"  >태권도부</a>\\r\\n\\t\\t\\t\\t\\t\\t\\t\\t\\t</li>\\r\\n\\t\\t\\t\\t\\t\\t\\t\\t\\t\\r\\n\\t\\t\\t\\t\\t\\t\\t\\t\\r\\n\\t\\t\\t\\t\\t\\t\\t</ul>\\r\\n\\t\\t\\t\\t\\t\\t\\r\\n\\t\\t\\t\\t\\t</li>\\r\\n\\t\\t\\t\\t\\t\\r\\n\\t\\t\\t\\t\\r\\n\\t\\t\\t\\t\\t\\r\\n\\t\\t\\t\\t\\t<li>\\r\\n\\t\\t\\t\\t\\t\\t\\r\\n\\t\\t\\t\\t\\t\\t<a href=\"/ko/life/smartAttendance.do\" title=\"IT 서비스\"  >IT 서비스</a>\\r\\n\\r\\n\\t\\t\\t\\t\\t\\t\\r\\n\\t\\t\\t\\t\\t\\t\\t<ul>\\r\\n\\t\\t\\t\\t\\t\\t\\t\\t\\r\\n\\t\\t\\t\\t\\t\\t\\t\\t\\t\\r\\n\\t\\t\\t\\t\\t\\t\\t\\t\\t<li>\\r\\n\\t\\t\\t\\t\\t\\t\\t\\t\\t\\t\\r\\n\\t\\t\\t\\t\\t\\t\\t\\t\\t\\t<a href=\"/ko/life/smartAttendance.do\" title=\"모바일 서비스 안내\"  >모바일 서비스 안내</a>\\r\\n\\t\\t\\t\\t\\t\\t\\t\\t\\t</li>\\r\\n\\t\\t\\t\\t\\t\\t\\t\\t\\t\\r\\n\\t\\t\\t\\t\\t\\t\\t\\t\\r\\n\\t\\t\\t\\t\\t\\t\\t\\t\\t\\r\\n\\t\\t\\t\\t\\t\\t\\t\\t\\t<li>\\r\\n\\t\\t\\t\\t\\t\\t\\t\\t\\t\\t\\r\\n\\t\\t\\t\\t\\t\\t\\t\\t\\t\\t<a href=\"/ko/life/Lan_Guide_Seoul.do\" title=\"무선랜 이용안내\"  >무선랜 이용안내</a>\\r\\n\\t\\t\\t\\t\\t\\t\\t\\t\\t</li>\\r\\n\\t\\t\\t\\t\\t\\t\\t\\t\\t\\r\\n\\t\\t\\t\\t\\t\\t\\t\\t\\r\\n\\t\\t\\t\\t\\t\\t\\t\\t\\t\\r\\n\\t\\t\\t\\t\\t\\t\\t\\t\\t<li>\\r\\n\\t\\t\\t\\t\\t\\t\\t\\t\\t\\t\\r\\n\\t\\t\\t\\t\\t\\t\\t\\t\\t\\t<a href=\"/ko/life/vaccine.do\" title=\"백신 이용안내\"  >백신 이용안내</a>\\r\\n\\t\\t\\t\\t\\t\\t\\t\\t\\t</li>\\r\\n\\t\\t\\t\\t\\t\\t\\t\\t\\t\\r\\n\\t\\t\\t\\t\\t\\t\\t\\t\\r\\n\\t\\t\\t\\t\\t\\t\\t\\t\\t\\r\\n\\t\\t\\t\\t\\t\\t\\t\\t\\t<li>\\r\\n\\t\\t\\t\\t\\t\\t\\t\\t\\t\\t\\r\\n\\t\\t\\t\\t\\t\\t\\t\\t\\t\\t<a href=\"/ko/life/cloudmail.do\" title=\"클라우드메일 이용안내\"  >클라우드메일 이용안내</a>\\r\\n\\t\\t\\t\\t\\t\\t\\t\\t\\t</li>\\r\\n\\t\\t\\t\\t\\t\\t\\t\\t\\t\\r\\n\\t\\t\\t\\t\\t\\t\\t\\t\\r\\n\\t\\t\\t\\t\\t\\t\\t\\t\\t\\r\\n\\t\\t\\t\\t\\t\\t\\t\\t\\t<li>\\r\\n\\t\\t\\t\\t\\t\\t\\t\\t\\t\\t\\r\\n\\t\\t\\t\\t\\t\\t\\t\\t\\t\\t<a href=\"/ko/life/itmanual.do\" title=\"이용안내게시판\"  >이용안내게시판</a>\\r\\n\\t\\t\\t\\t\\t\\t\\t\\t\\t</li>\\r\\n\\t\\t\\t\\t\\t\\t\\t\\t\\t\\r\\n\\t\\t\\t\\t\\t\\t\\t\\t\\r\\n\\t\\t\\t\\t\\t\\t\\t\\t\\t\\r\\n\\t\\t\\t\\t\\t\\t\\t\\t\\t<li>\\r\\n\\t\\t\\t\\t\\t\\t\\t\\t\\t\\t\\r\\n\\t\\t\\t\\t\\t\\t\\t\\t\\t\\t<a href=\"/ko/life/iterrorreg.do\" title=\"무선인터넷장애신고센터\"  >무선인터넷장애신고센터</a>\\r\\n\\t\\t\\t\\t\\t\\t\\t\\t\\t</li>\\r\\n\\t\\t\\t\\t\\t\\t\\t\\t\\t\\r\\n\\t\\t\\t\\t\\t\\t\\t\\t\\r\\n\\t\\t\\t\\t\\t\\t\\t</ul>\\r\\n\\t\\t\\t\\t\\t\\t\\r\\n\\t\\t\\t\\t\\t</li>\\r\\n\\t\\t\\t\\t\\t\\r\\n\\t\\t\\t\\t\\r\\n\\t\\t\\t\\t\\t\\r\\n\\t\\t\\t\\t\\t<li>\\r\\n\\t\\t\\t\\t\\t\\t\\r\\n\\t\\t\\t\\t\\t\\t<a href=\"/ko/life/globalPrograms.do\" title=\"글로벌 프로그램\"  >글로벌 프로그램</a>\\r\\n\\r\\n\\t\\t\\t\\t\\t\\t\\r\\n\\t\\t\\t\\t\\t\\t\\t<ul>\\r\\n\\t\\t\\t\\t\\t\\t\\t\\t\\r\\n\\t\\t\\t\\t\\t\\t\\t\\t\\t\\r\\n\\t\\t\\t\\t\\t\\t\\t\\t\\t<li>\\r\\n\\t\\t\\t\\t\\t\\t\\t\\t\\t\\t\\r\\n\\t\\t\\t\\t\\t\\t\\t\\t\\t\\t<a href=\"/ko/life/globalPrograms.do\" title=\"글로벌 프로그램\"  >글로벌 프로그램</a>\\r\\n\\t\\t\\t\\t\\t\\t\\t\\t\\t</li>\\r\\n\\t\\t\\t\\t\\t\\t\\t\\t\\t\\r\\n\\t\\t\\t\\t\\t\\t\\t\\t\\r\\n\\t\\t\\t\\t\\t\\t\\t\\t\\t\\r\\n\\t\\t\\t\\t\\t\\t\\t\\t\\t<li>\\r\\n\\t\\t\\t\\t\\t\\t\\t\\t\\t\\t\\r\\n\\t\\t\\t\\t\\t\\t\\t\\t\\t\\t<a href=\"/ko/life/globalCommunity.do\" title=\"글로벌 커뮤니티\"  >글로벌 커뮤니티</a>\\r\\n\\t\\t\\t\\t\\t\\t\\t\\t\\t</li>\\r\\n\\t\\t\\t\\t\\t\\t\\t\\t\\t\\r\\n\\t\\t\\t\\t\\t\\t\\t\\t\\r\\n\\t\\t\\t\\t\\t\\t\\t\\t\\t\\r\\n\\t\\t\\t\\t\\t\\t\\t\\t\\t<li>\\r\\n\\t\\t\\t\\t\\t\\t\\t\\t\\t\\t\\r\\n\\t\\t\\t\\t\\t\\t\\t\\t\\t\\t<a href=\"/ko/life/internationalExchangePrograms.do\" title=\"국제교류 프로그램\"  >국제교류 프로그램</a>\\r\\n\\t\\t\\t\\t\\t\\t\\t\\t\\t</li>\\r\\n\\t\\t\\t\\t\\t\\t\\t\\t\\t\\r\\n\\t\\t\\t\\t\\t\\t\\t\\t\\r\\n\\t\\t\\t\\t\\t\\t\\t</ul>\\r\\n\\t\\t\\t\\t\\t\\t\\r\\n\\t\\t\\t\\t\\t</li>\\r\\n\\t\\t\\t\\t\\t\\r\\n\\t\\t\\t\\t\\r\\n\\t\\t\\t\\t\\t\\r\\n\\t\\t\\t\\t\\t<li>\\r\\n\\t\\t\\t\\t\\t\\t\\r\\n\\t\\t\\t\\t\\t\\t<a href=\"/ko/life/job-service.do\" title=\"온라인 취업 서비스\"  >온라인 취업 서비스</a>\\r\\n\\r\\n\\t\\t\\t\\t\\t\\t\\r\\n\\t\\t\\t\\t\\t</li>\\r\\n\\t\\t\\t\\t\\t\\r\\n\\t\\t\\t\\t\\r\\n\\t\\t\\t</ul>\\r\\n\\t\\t\\r\\n\\t</li>\\r\\n\\t\\r\\n\\r\\n   \\t\\r\\n\\t<li>\\r\\n\\t\\t\\r\\n\\t\\t<a href=\"/webzine/index.do\" title=\"새창열림\"  target=\"_blank\" >SM Webzine</a>\\r\\n\\t\\t\\r\\n\\t</li>\\r\\n\\t\\r\\n\\r\\n\\r\\n\\n\\n\\t\\t\\t\\t\\t<li>\\n\\t\\t\\t\\t\\t\\t<a href=\"/lounge\" title=\"새창열림\" target=\"_blank\">SM Lounge</a>\\n\\n\\t\\t\\t\\t\\t\\t\\n\\t\\t\\t\\t\\t\\t\\t\\n\\t\\t\\t\\t\\t\\t\\t\\n\\t\\t\\t\\t\\t\\t\\n\\n<ul>\\n\\n   \\t\\n\\t<li>\\n\\t\\t\\n\\t\\t<a href=\"/lounge/index.do\" title=\"SM Lounge\"  >SM Lounge</a>\\n\\t\\t\\n\\t</li>\\n\\t\\n\\n   \\t\\n\\t<li>\\n\\t\\t\\n\\t\\t<a href=\"/lounge/notice/notice.do\" title=\"통합공지\"  >통합공지</a>\\n\\t\\t\\n\\t</li>\\n\\t\\n\\n   \\t\\n\\t<li>\\n\\t\\t\\n\\t\\t<a href=\"/lounge/campus/event.do\" title=\"상명행사\"  >상명행사</a>\\n\\t\\t\\n\\t</li>\\n\\t\\n\\n   \\t\\n\\t<li>\\n\\t\\t\\n\\t\\t<a href=\"/lounge/campus/s_student.do\" title=\"광장\"  >광장</a>\\n\\t\\t\\n\\t\\t\\t<ul>\\n\\t\\t\\t\\t\\n\\t\\t\\t\\t\\t\\n\\t\\t\\t\\t\\t<li>\\n\\t\\t\\t\\t\\t\\t\\n\\t\\t\\t\\t\\t\\t<a href=\"/lounge/campus/s_student.do\" title=\"학생회소식\"  >학생회소식</a>\\n\\n\\t\\t\\t\\t\\t\\t\\n\\t\\t\\t\\t\\t</li>\\n\\t\\t\\t\\t\\t\\n\\t\\t\\t\\t\\n\\t\\t\\t\\t\\t\\n\\t\\t\\t\\t\\t<li>\\n\\t\\t\\t\\t\\t\\t\\n\\t\\t\\t\\t\\t\\t<a href=\"/lounge/campus/s_club.do\" title=\"동아리소식\"  >동아리소식</a>\\n\\n\\t\\t\\t\\t\\t\\t\\n\\t\\t\\t\\t\\t</li>\\n\\t\\t\\t\\t\\t\\n\\t\\t\\t\\t\\n\\t\\t\\t\\t\\t\\n\\t\\t\\t\\t\\t<li>\\n\\t\\t\\t\\t\\t\\t\\n\\t\\t\\t\\t\\t\\t<a href=\"/lounge/campus/alumni.do\" title=\"동문소식\"  >동문소식</a>\\n\\n\\t\\t\\t\\t\\t\\t\\n\\t\\t\\t\\t\\t</li>\\n\\t\\t\\t\\t\\t\\n\\t\\t\\t\\t\\n\\t\\t\\t\\t\\t\\n\\t\\t\\t\\t\\t<li>\\n\\t\\t\\t\\t\\t\\t\\n\\t\\t\\t\\t\\t\\t<a href=\"/lounge/campus/s_free.do\" title=\"자유게시판\"  >자유게시판</a>\\n\\n\\t\\t\\t\\t\\t\\t\\n\\t\\t\\t\\t\\t</li>\\n\\t\\t\\t\\t\\t\\n\\t\\t\\t\\t\\n\\t\\t\\t\\t\\t\\n\\t\\t\\t\\t\\t<li>\\n\\t\\t\\t\\t\\t\\t\\n\\t\\t\\t\\t\\t\\t<a href=\"/lounge/campus/global.do\" title=\"채용정보\"  >채용정보</a>\\n\\n\\t\\t\\t\\t\\t\\t\\n\\t\\t\\t\\t\\t</li>\\n\\t\\t\\t\\t\\t\\n\\t\\t\\t\\t\\n\\t\\t\\t\\t\\t\\n\\t\\t\\t\\t\\t<li>\\n\\t\\t\\t\\t\\t\\t\\n\\t\\t\\t\\t\\t\\t<a href=\"/lounge/campus/suggestion.do\" title=\"학칙개정 사전공고 및 공포\"  >학칙개정 사전공고 및 공포</a>\\n\\n\\t\\t\\t\\t\\t\\t\\n\\t\\t\\t\\t\\t</li>\\n\\t\\t\\t\\t\\t\\n\\t\\t\\t\\t\\n\\t\\t\\t</ul>\\n\\t\\t\\n\\t</li>\\n\\t\\n\\n   \\t\\n\\t<li>\\n\\t\\t\\n\\t\\t<a href=\"/lounge/qna/faq.do\" title=\"상명 Q&amp;A\"  class=\"active\" >상명 Q&amp;A</a>\\n\\t\\t\\n\\t\\t\\t<ul>\\n\\t\\t\\t\\t\\n\\t\\t\\t\\t\\t\\n\\t\\t\\t\\t\\t<li>\\n\\t\\t\\t\\t\\t\\t\\n\\t\\t\\t\\t\\t\\t<a href=\"/lounge/qna/faq.do\" title=\"자주하는 질문\"  class=\"active\" >자주하는 질문</a>\\n\\n\\t\\t\\t\\t\\t\\t\\n\\t\\t\\t\\t\\t</li>\\n\\t\\t\\t\\t\\t\\n\\t\\t\\t\\t\\n\\t\\t\\t\\t\\t\\n\\t\\t\\t\\t\\t<li>\\n\\t\\t\\t\\t\\t\\t\\n\\t\\t\\t\\t\\t\\t<a href=\"/lounge/qna/qna.do\" title=\"질문/답변\"  >질문/답변</a>\\n\\n\\t\\t\\t\\t\\t\\t\\n\\t\\t\\t\\t\\t</li>\\n\\t\\t\\t\\t\\t\\n\\t\\t\\t\\t\\n\\t\\t\\t</ul>\\n\\t\\t\\n\\t</li>\\n\\t\\n\\n   \\t\\n\\t<li>\\n\\t\\t\\n\\t\\t<a href=\"/lounge/photo/s_photo.do\" title=\"포토갤러리\"  >포토갤러리</a>\\n\\t\\t\\n\\t\\t\\t<ul>\\n\\t\\t\\t\\t\\n\\t\\t\\t\\t\\t\\n\\t\\t\\t\\t\\t<li>\\n\\t\\t\\t\\t\\t\\t\\n\\t\\t\\t\\t\\t\\t<a href=\"/lounge/photo/s_photo.do\" title=\"서울캠퍼스\"  >서울캠퍼스</a>\\n\\n\\t\\t\\t\\t\\t\\t\\n\\t\\t\\t\\t\\t</li>\\n\\t\\t\\t\\t\\t\\n\\t\\t\\t\\t\\n\\t\\t\\t\\t\\t\\n\\t\\t\\t\\t\\t<li>\\n\\t\\t\\t\\t\\t\\t\\n\\t\\t\\t\\t\\t\\t<a href=\"/lounge/photo/c_photo.do\" title=\"천안캠퍼스\"  >천안캠퍼스</a>\\n\\n\\t\\t\\t\\t\\t\\t\\n\\t\\t\\t\\t\\t</li>\\n\\t\\t\\t\\t\\t\\n\\t\\t\\t\\t\\n\\t\\t\\t</ul>\\n\\t\\t\\n\\t</li>\\n\\t\\n\\n   \\t\\n\\t<li>\\n\\t\\t\\n\\t\\t<a href=\"/lounge/sns.do\" title=\"상명 SNS\"  >상명 SNS</a>\\n\\t\\t\\n\\t</li>\\n\\t\\n\\n</ul>\\n\\n\\t\\t\\t\\t\\t</li>\\n\\t\\t\\t\\t</ul>\\n\\t\\t\\t\\t<a class=\"sitemap-new-close\" href=\"#\" title=\"닫기\"><img alt=\"닫기\" src=\"/_res/ko/img/common/ico_sitemap_close.png\" /></a></div>\\n\\t\\t</div>\\n\\n\\t</div>\\n\\n\\t<div class=\"quick-outer\">\\n\\t\\t<div class=\"quick-menu-wrap\" style=\"display: none;\">\\n\\t\\t\\t<div class=\"quick-open\">\\n\\t\\t\\t\\t<ul>\\n\\t\\t\\t\\t\\t\\t<li><a href=\"https://robo.smu.ac.kr/\"  target=\"_blank\" title=\"SM-CDR 챗봇 새창열림\">로보어드바이저</a></li><!--onclick=\"windowPopUp2(this, 500, 600); return false;\"-->\\n\\t\\t\\t\\t\\t<li><a href=\"http://lib.smu.ac.kr/\" target=\"_blank\" title=\"학술정보관 바로가기\">학술정보관</a></li>\\n\\t\\t\\t\\t\\t<li><a href=\"/webzine/index.do\" target=\"_blank\" title=\"웹진 바로가기\">웹진</a></li>\\n\\t\\t\\t\\t\\t<li><a href=\"/ko/life/administration.do\" title=\"서식자료 바로가기\">서식자료</a></li>\\n\\t\\t\\t\\t\\t<li><a href=\"/ko/life/iterrorreg.do\" title=\"장애신고센터 바로가기\">무선인터넷장애신고센터</a></li>\\n\\t\\t\\t\\t\\t<li><a href=\"https://portal.smu.ac.kr/\" target=\"_blank\" title=\"샘물포털 새창열림\">샘물포털</a></li>\\n\\t\\t\\t\\t</ul>\\n\\t\\t\\t\\t<ul>\\t\\t\\t\\t\\t\\n\\t\\t\\t\\t\\t<li><a class=\"btn-pop\" href=\"#aa\" title=\"SM 팝업 보기\">SM 팝업</a><span class=\"pop-total\"></span></li>\\t\\t\\t\\t\\t\\n\\t\\t\\t\\t</ul>\\n\\t\\t\\t</div>\\t\\n\\t\\t</div>\\n\\t\\t<div class=\"mm-quick-menu-wrap\">\\n\\t\\t\\t<div class=\"quick-close\">\\n\\t\\t\\t\\t<p><a class=\"btn-quick01\" href=\"#a\" title=\"퀵메뉴 열기\"><img src=\"/_res/ko/img/main/img-quick-btn.gif\" alt=\"퀵메뉴\"></a></p>\\t\\t\\n\\t\\t\\t\\t<a class=\"btn-quick01\" href=\"#a\" title=\"퀵메뉴 열기\"><img src=\"/_res/ko/img/main/btn-quick-arr.png\" alt=\"퀵메뉴 열기\"></a>\\n\\t\\t\\t\\t<ul>\\t\\t\\t\\t\\t\\n\\t\\t\\t\\t\\t<li><a class=\"btn-pop\" href=\"#a\" title=\"SM 팝업 보기\">SM<br />팝업<br /><span class=\"pop-total\"></span></a></li>\\t\\t\\t\\t\\t\\t\\t\\t\\n\\t\\t\\t\\t</ul>\\n\\t\\t\\t</div>\\t\\t\\t\\n\\t\\t</div>\\n\\t\\t<!-- 모바일 sm팝업 버튼 -->\\n\\t\\t<div class=\"m-btn-pop-wrap\">\\n\\t\\t\\t<a href=\"#a\" class=\"m-btn-pop\" title=\"sm 팝업 보기\">\\n\\t\\t\\t\\tSM<br />팝업<br /><span class=\"m-pop-total\"></span>\\n\\t\\t\\t</a>\\n\\t\\t</div>\\n\\t\\t<!-- //모바일 sm팝업 버튼 -->\\n\\t</div>\\n\\n\\t<!-- 하단 header -->\\n\\t<div class=\"bottom-header-new-wrap\">\\n\\t\\t<div class=\"bottom-header-new-box\">\\n\\t\\t\\t<!-- pc menu -->\\n\\t\\t\\t  \\n\\t\\t\\t\\t\\n\\t\\t\\t\\r\\n\\r\\n\\r\\n<ul class=\"gnb-new-ul\">\\r\\n\\t\\r\\n\\t\\t<li class=\"last ico-lounge\">\\r\\n\\t\\t\\t\\r\\n\\t\\t\\t\\t\\r\\n\\t\\t\\t\\t\\r\\n\\t\\t\\t\\t\\t\\r\\n\\t\\t\\t\\t\\t<a href=\"/lounge/index.do\" title=\"SM Lounge 바로가기\"  >SM Lounge</a>\\r\\n\\t\\t\\t\\t\\r\\n\\t\\t\\t\\r\\n\\t\\t</li>\\r\\n\\t\\r\\n\\t\\t<li class=\"\">\\r\\n\\t\\t\\t\\r\\n\\t\\t\\t\\t\\r\\n\\t\\t\\t\\t\\r\\n\\t\\t\\t\\t\\t\\r\\n\\t\\t\\t\\t\\t<a href=\"/lounge/notice/notice.do\" title=\"통합공지 바로가기\"  >통합공지</a>\\r\\n\\t\\t\\t\\t\\r\\n\\t\\t\\t\\r\\n\\t\\t</li>\\r\\n\\t\\r\\n\\t\\t<li class=\"\">\\r\\n\\t\\t\\t\\r\\n\\t\\t\\t\\t\\r\\n\\t\\t\\t\\t\\r\\n\\t\\t\\t\\t\\t\\r\\n\\t\\t\\t\\t\\t<a href=\"/lounge/campus/event.do\" title=\"상명행사 바로가기\"  >상명행사</a>\\r\\n\\t\\t\\t\\t\\r\\n\\t\\t\\t\\r\\n\\t\\t</li>\\r\\n\\t\\r\\n\\t\\t<li class=\"\">\\r\\n\\t\\t\\t\\r\\n\\t\\t\\t\\t\\r\\n\\t\\t\\t\\t\\r\\n\\t\\t\\t\\t\\t\\r\\n\\t\\t\\t\\t\\t<a href=\"/lounge/campus/s_student.do\" title=\"광장 바로가기\"  >광장</a>\\r\\n\\t\\t\\t\\t\\r\\n\\t\\t\\t\\r\\n\\t\\t</li>\\r\\n\\t\\r\\n\\t\\t<li class=\"\">\\r\\n\\t\\t\\t\\r\\n\\t\\t\\t\\t\\r\\n\\t\\t\\t\\t\\r\\n\\t\\t\\t\\t\\t\\r\\n\\t\\t\\t\\t\\t<a href=\"/lounge/qna/faq.do\" title=\"상명 Q&amp;A 바로가기\"  class=\"active\" >상명 Q&amp;A</a>\\r\\n\\t\\t\\t\\t\\r\\n\\t\\t\\t\\r\\n\\t\\t</li>\\r\\n\\t\\r\\n\\t\\t<li class=\"\">\\r\\n\\t\\t\\t\\r\\n\\t\\t\\t\\t\\r\\n\\t\\t\\t\\t\\r\\n\\t\\t\\t\\t\\t\\r\\n\\t\\t\\t\\t\\t<a href=\"/lounge/photo/s_photo.do\" title=\"포토갤러리 바로가기\"  >포토갤러리</a>\\r\\n\\t\\t\\t\\t\\r\\n\\t\\t\\t\\r\\n\\t\\t</li>\\r\\n\\t\\r\\n\\t\\t<li class=\"\">\\r\\n\\t\\t\\t\\r\\n\\t\\t\\t\\t\\r\\n\\t\\t\\t\\t\\r\\n\\t\\t\\t\\t\\t\\r\\n\\t\\t\\t\\t\\t<a href=\"/lounge/sns.do\" title=\"상명 SNS 바로가기\"  >상명 SNS</a>\\r\\n\\t\\t\\t\\t\\r\\n\\t\\t\\t\\r\\n\\t\\t</li>\\r\\n\\t\\r\\n</ul>\\r\\n\\r\\n\\r\\n\\r\\n\\n\\t\\t\\t\\n\\t\\t\\t<!-- //pc menu -->\\n\\t\\t\\t<!-- mobile menu -->\\n\\t\\t\\t<!-- 모바일 -->\\n\\t\\t\\t<nav class=\"slideMenu\">\\n\\t\\t\\t\\t<ul>\\n\\t\\t\\t\\t\\t<!-- 메뉴 -->\\n\\t\\t\\t\\t\\t<li class=\"active\">\\n\\t\\t\\t\\t\\t\\t<a href=\"#a\">전체메뉴</a>\\n\\t\\t\\t\\t\\t\\t<div class=\"m-gnb\">\\n\\t\\t\\t\\t\\t\\t\\t  \\n\\t\\t\\t\\t\\t\\t\\t\\t\\n\\t\\t\\t\\t\\t\\t\\t\\n\\n<ul class=\"dep1\">\\n\\t\\n\\t\\t\\n\\t\\t<li>\\n\\t\\t\\t<a href=\"/lounge/index.do\" title=\"SM Lounge\"  >SM Lounge</a>\\n\\t\\t\\t\\n\\t\\t</li>\\n\\t\\t\\n\\t\\n\\t\\t\\n\\t\\t<li>\\n\\t\\t\\t<a href=\"/lounge/notice/notice.do\" title=\"통합공지\"  >통합공지</a>\\n\\t\\t\\t\\n\\t\\t</li>\\n\\t\\t\\n\\t\\n\\t\\t\\n\\t\\t<li>\\n\\t\\t\\t<a href=\"/lounge/campus/event.do\" title=\"상명행사\"  >상명행사</a>\\n\\t\\t\\t\\n\\t\\t</li>\\n\\t\\t\\n\\t\\n\\t\\t\\n\\t\\t<li>\\n\\t\\t\\t<a href=\"/lounge/campus/s_student.do\" title=\"광장\"  >광장</a>\\n\\t\\t\\t\\n\\t\\t\\t\\t<ul class=\"dep2\">\\n\\t\\t\\t\\t\\t\\n\\t\\t\\t\\t\\t\\t\\n\\t\\t\\t\\t\\t\\t<li>\\n\\t\\t\\t\\t\\t\\t\\t<a href=\"/lounge/campus/s_student.do\" title=\"학생회소식\"  >학생회소식</a>\\n\\t\\t\\t\\t\\t\\t\\t\\n\\t\\t\\t\\t\\t\\t\\t\\t<ul class=\"dep3 aaaa\">\\n\\t\\t\\t\\t\\t\\t\\t\\t\\t\\n\\t\\t\\t\\t\\t\\t\\t\\t\\t\\t\\n\\t\\t\\t\\t\\t\\t\\t\\t\\t\\t<li>\\n\\t\\t\\t\\t\\t\\t\\t\\t\\t\\t\\t<a href=\"/lounge/campus/s_student.do\" title=\"서울캠퍼스\"  >서울캠퍼스</a>\\n\\t\\t\\t\\t\\t\\t\\t\\t\\t\\t\\t\\n\\t\\t\\t\\t\\t\\t\\t\\t\\t\\t\\t\\n\\t\\t\\t\\t\\t\\t\\t\\t\\t\\t</li>\\n\\t\\t\\t\\t\\t\\t\\t\\t\\t\\t\\n\\t\\t\\t\\t\\t\\t\\t\\t\\t\\n\\t\\t\\t\\t\\t\\t\\t\\t\\t\\t\\n\\t\\t\\t\\t\\t\\t\\t\\t\\t\\t<li>\\n\\t\\t\\t\\t\\t\\t\\t\\t\\t\\t\\t<a href=\"/lounge/campus/c_student.do\" title=\"천안캠퍼스\"  >천안캠퍼스</a>\\n\\t\\t\\t\\t\\t\\t\\t\\t\\t\\t\\t\\n\\t\\t\\t\\t\\t\\t\\t\\t\\t\\t\\t\\n\\t\\t\\t\\t\\t\\t\\t\\t\\t\\t</li>\\n\\t\\t\\t\\t\\t\\t\\t\\t\\t\\t\\n\\t\\t\\t\\t\\t\\t\\t\\t\\t\\n\\t\\t\\t\\t\\t\\t\\t\\t</ul>\\n\\t\\t\\t\\t\\t\\t\\t\\n\\t\\t\\t\\t\\t\\t</li>\\n\\t\\t\\t\\t\\t\\t\\n\\t\\t\\t\\t\\t\\n\\t\\t\\t\\t\\t\\t\\n\\t\\t\\t\\t\\t\\t<li>\\n\\t\\t\\t\\t\\t\\t\\t<a href=\"/lounge/campus/s_club.do\" title=\"동아리소식\"  >동아리소식</a>\\n\\t\\t\\t\\t\\t\\t\\t\\n\\t\\t\\t\\t\\t\\t\\t\\t<ul class=\"dep3 aaaa\">\\n\\t\\t\\t\\t\\t\\t\\t\\t\\t\\n\\t\\t\\t\\t\\t\\t\\t\\t\\t\\t\\n\\t\\t\\t\\t\\t\\t\\t\\t\\t\\t<li>\\n\\t\\t\\t\\t\\t\\t\\t\\t\\t\\t\\t<a href=\"/lounge/campus/s_club.do\" title=\"서울캠퍼스\"  >서울캠퍼스</a>\\n\\t\\t\\t\\t\\t\\t\\t\\t\\t\\t\\t\\n\\t\\t\\t\\t\\t\\t\\t\\t\\t\\t\\t\\n\\t\\t\\t\\t\\t\\t\\t\\t\\t\\t</li>\\n\\t\\t\\t\\t\\t\\t\\t\\t\\t\\t\\n\\t\\t\\t\\t\\t\\t\\t\\t\\t\\n\\t\\t\\t\\t\\t\\t\\t\\t\\t\\t\\n\\t\\t\\t\\t\\t\\t\\t\\t\\t\\t<li>\\n\\t\\t\\t\\t\\t\\t\\t\\t\\t\\t\\t<a href=\"/lounge/campus/c_club.do\" title=\"천안캠퍼스\"  >천안캠퍼스</a>\\n\\t\\t\\t\\t\\t\\t\\t\\t\\t\\t\\t\\n\\t\\t\\t\\t\\t\\t\\t\\t\\t\\t\\t\\n\\t\\t\\t\\t\\t\\t\\t\\t\\t\\t</li>\\n\\t\\t\\t\\t\\t\\t\\t\\t\\t\\t\\n\\t\\t\\t\\t\\t\\t\\t\\t\\t\\n\\t\\t\\t\\t\\t\\t\\t\\t</ul>\\n\\t\\t\\t\\t\\t\\t\\t\\n\\t\\t\\t\\t\\t\\t</li>\\n\\t\\t\\t\\t\\t\\t\\n\\t\\t\\t\\t\\t\\n\\t\\t\\t\\t\\t\\t\\n\\t\\t\\t\\t\\t\\t<li>\\n\\t\\t\\t\\t\\t\\t\\t<a href=\"/lounge/campus/alumni.do\" title=\"동문소식\"  >동문소식</a>\\n\\t\\t\\t\\t\\t\\t\\t\\n\\t\\t\\t\\t\\t\\t</li>\\n\\t\\t\\t\\t\\t\\t\\n\\t\\t\\t\\t\\t\\n\\t\\t\\t\\t\\t\\t\\n\\t\\t\\t\\t\\t\\t<li>\\n\\t\\t\\t\\t\\t\\t\\t<a href=\"/lounge/campus/s_free.do\" title=\"자유게시판\"  >자유게시판</a>\\n\\t\\t\\t\\t\\t\\t\\t\\n\\t\\t\\t\\t\\t\\t\\t\\t<ul class=\"dep3 aaaa\">\\n\\t\\t\\t\\t\\t\\t\\t\\t\\t\\n\\t\\t\\t\\t\\t\\t\\t\\t\\t\\t\\n\\t\\t\\t\\t\\t\\t\\t\\t\\t\\t<li>\\n\\t\\t\\t\\t\\t\\t\\t\\t\\t\\t\\t<a href=\"/lounge/campus/s_free.do\" title=\"서울캠퍼스\"  >서울캠퍼스</a>\\n\\t\\t\\t\\t\\t\\t\\t\\t\\t\\t\\t\\n\\t\\t\\t\\t\\t\\t\\t\\t\\t\\t\\t\\n\\t\\t\\t\\t\\t\\t\\t\\t\\t\\t</li>\\n\\t\\t\\t\\t\\t\\t\\t\\t\\t\\t\\n\\t\\t\\t\\t\\t\\t\\t\\t\\t\\n\\t\\t\\t\\t\\t\\t\\t\\t\\t\\t\\n\\t\\t\\t\\t\\t\\t\\t\\t\\t\\t<li>\\n\\t\\t\\t\\t\\t\\t\\t\\t\\t\\t\\t<a href=\"/lounge/campus/c_free.do\" title=\"천안캠퍼스\"  >천안캠퍼스</a>\\n\\t\\t\\t\\t\\t\\t\\t\\t\\t\\t\\t\\n\\t\\t\\t\\t\\t\\t\\t\\t\\t\\t\\t\\n\\t\\t\\t\\t\\t\\t\\t\\t\\t\\t</li>\\n\\t\\t\\t\\t\\t\\t\\t\\t\\t\\t\\n\\t\\t\\t\\t\\t\\t\\t\\t\\t\\n\\t\\t\\t\\t\\t\\t\\t\\t</ul>\\n\\t\\t\\t\\t\\t\\t\\t\\n\\t\\t\\t\\t\\t\\t</li>\\n\\t\\t\\t\\t\\t\\t\\n\\t\\t\\t\\t\\t\\n\\t\\t\\t\\t\\t\\t\\n\\t\\t\\t\\t\\t\\t<li>\\n\\t\\t\\t\\t\\t\\t\\t<a href=\"/lounge/campus/global.do\" title=\"채용정보\"  >채용정보</a>\\n\\t\\t\\t\\t\\t\\t\\t\\n\\t\\t\\t\\t\\t\\t</li>\\n\\t\\t\\t\\t\\t\\t\\n\\t\\t\\t\\t\\t\\n\\t\\t\\t\\t\\t\\t\\n\\t\\t\\t\\t\\t\\t<li>\\n\\t\\t\\t\\t\\t\\t\\t<a href=\"/lounge/campus/suggestion.do\" title=\"학칙개정 사전공고 및 공포\"  >학칙개정 사전공고 및 공포</a>\\n\\t\\t\\t\\t\\t\\t\\t\\n\\t\\t\\t\\t\\t\\t</li>\\n\\t\\t\\t\\t\\t\\t\\n\\t\\t\\t\\t\\t\\n\\t\\t\\t\\t</ul>\\n\\t\\t\\t\\n\\t\\t</li>\\n\\t\\t\\n\\t\\n\\t\\t\\n\\t\\t<li>\\n\\t\\t\\t<a href=\"/lounge/qna/faq.do\" title=\"상명 Q&amp;A\"  class=\"active\" >상명 Q&amp;A</a>\\n\\t\\t\\t\\n\\t\\t\\t\\t<ul class=\"dep2\">\\n\\t\\t\\t\\t\\t\\n\\t\\t\\t\\t\\t\\t\\n\\t\\t\\t\\t\\t\\t<li>\\n\\t\\t\\t\\t\\t\\t\\t<a href=\"/lounge/qna/faq.do\" title=\"자주하는 질문\"  class=\"active\" >자주하는 질문</a>\\n\\t\\t\\t\\t\\t\\t\\t\\n\\t\\t\\t\\t\\t\\t</li>\\n\\t\\t\\t\\t\\t\\t\\n\\t\\t\\t\\t\\t\\n\\t\\t\\t\\t\\t\\t\\n\\t\\t\\t\\t\\t\\t<li>\\n\\t\\t\\t\\t\\t\\t\\t<a href=\"/lounge/qna/qna.do\" title=\"질문/답변\"  >질문/답변</a>\\n\\t\\t\\t\\t\\t\\t\\t\\n\\t\\t\\t\\t\\t\\t</li>\\n\\t\\t\\t\\t\\t\\t\\n\\t\\t\\t\\t\\t\\n\\t\\t\\t\\t</ul>\\n\\t\\t\\t\\n\\t\\t</li>\\n\\t\\t\\n\\t\\n\\t\\t\\n\\t\\t<li>\\n\\t\\t\\t<a href=\"/lounge/photo/s_photo.do\" title=\"포토갤러리\"  >포토갤러리</a>\\n\\t\\t\\t\\n\\t\\t\\t\\t<ul class=\"dep2\">\\n\\t\\t\\t\\t\\t\\n\\t\\t\\t\\t\\t\\t\\n\\t\\t\\t\\t\\t\\t<li>\\n\\t\\t\\t\\t\\t\\t\\t<a href=\"/lounge/photo/s_photo.do\" title=\"서울캠퍼스\"  >서울캠퍼스</a>\\n\\t\\t\\t\\t\\t\\t\\t\\n\\t\\t\\t\\t\\t\\t</li>\\n\\t\\t\\t\\t\\t\\t\\n\\t\\t\\t\\t\\t\\n\\t\\t\\t\\t\\t\\t\\n\\t\\t\\t\\t\\t\\t<li>\\n\\t\\t\\t\\t\\t\\t\\t<a href=\"/lounge/photo/c_photo.do\" title=\"천안캠퍼스\"  >천안캠퍼스</a>\\n\\t\\t\\t\\t\\t\\t\\t\\n\\t\\t\\t\\t\\t\\t</li>\\n\\t\\t\\t\\t\\t\\t\\n\\t\\t\\t\\t\\t\\n\\t\\t\\t\\t</ul>\\n\\t\\t\\t\\n\\t\\t</li>\\n\\t\\t\\n\\t\\n\\t\\t\\n\\t\\t<li>\\n\\t\\t\\t<a href=\"/lounge/sns.do\" title=\"상명 SNS\"  >상명 SNS</a>\\n\\t\\t\\t\\n\\t\\t</li>\\n\\t\\t\\n\\t\\n</ul>\\n\\n\\n\\n\\n\\t\\t\\t\\t\\t\\t</div>\\n\\t\\t\\t\\t\\t</li>\\n\\t\\t\\t\\t\\t<!-- /메뉴 -->\\t\\t\\t\\t\\n\\t\\t\\t\\t\\t<!-- 유틸 -->\\n\\t\\t\\t\\t\\t<li>\\n\\t\\t\\t\\t\\t\\t<a href=\"#a\">유틸메뉴</a>\\n\\t\\t\\t\\t\\t\\t<div class=\"m-gnb m-util\">\\n\\t\\t\\t\\t\\t\\t\\t<ul class=\"dep1\">\\n\\t\\t\\t\\t\\t\\t\\t\\t<li>\\n\\t\\t\\t\\t\\t\\t\\t\\t\\t<a href=\"/ko/service/sangmyung-people.do\" title=\"상명인 바로가기\" class=\"selected\">상명인</a></li>\\n\\t\\t\\t\\t\\t\\t\\t\\t<li>\\n\\t\\t\\t\\t\\t\\t\\t\\t\\t<a href=\"/ko/service/examinee.do\" title=\"수험생 바로가기\">수험생</a></li>\\n\\t\\t\\t\\t\\t\\t\\t\\t<li>\\n\\t\\t\\t\\t\\t\\t\\t\\t\\t<a href=\"/ko/service/staff.do\" title=\"교직원 바로가기\">교직원</a></li>\\n\\t\\t\\t\\t\\t\\t\\t\\t<li>\\n\\t\\t\\t\\t\\t\\t\\t\\t\\t<a href=\"/ko/service/graduate.do\" title=\"졸업생 바로가기\">졸업생</a></li>\\n\\t\\t\\t\\t\\t\\t\\t\\t<li>\\n\\t\\t\\t\\t\\t\\t\\t\\t\\t<a href=\"/ko/service/graduation.do\" title=\"입학 바로가기\">입학</a></li>\\n\\t\\t\\t\\t\\t\\t\\t</ul>\\n\\n\\t\\t\\t\\t\\t\\t\\t<span class=\"m-login\">\\n\\t\\t\\t\\t\\t\\t\\t\\t<a href=\"/ko/index.do\">Home</a>\\n\\t\\t\\t\\t\\t\\t\\t\\t\\n\\t\\t\\t\\t\\t\\t\\t\\t<a href=\"javascript:loginPopupOpen();\" class=\"login\">Login</a>\\n\\t\\t\\t\\t\\t\\t\\t\\t\\n\\t\\t\\t\\t\\t\\t\\t</span>\\n\\t\\t\\t\\t\\t\\t\\t<span class=\"m-lang\">\\n\\t\\t\\t\\t\\t\\t\\t\\t<a href=\"/ch/index.do\" target=\"_blank\">中文</a>\\n\\t\\t\\t\\t\\t\\t\\t\\t<a href=\"/tien/index.do\" target=\"_blank\">tiếng Việt</a>\\n\\t\\t\\t\\t\\t\\t\\t\\t<a href=\"/eng1/index.do\" target=\"_blank\">eng</a>\\n\\t\\t\\t\\t\\t\\t\\t</span>\\n\\t\\t\\t\\t\\t\\t</div>\\t\\t\\t\\t\\t\\t\\n\\t\\t\\t\\t\\t</li>\\n\\t\\t\\t\\t\\t<!-- /유틸 -->\\n\\t\\t\\t\\t\\t<li>\\n\\t\\t\\t\\t\\t\\t<a href=\"#a\">퀵메뉴</a>\\n\\t\\t\\t\\t\\t\\t<div class=\"m-gnb m-quick\">\\n\\t\\t\\t\\t\\t\\t\\t<ul>\\n\\t\\t\\t\\t\\t\\t\\t\\t\\t<li><a href=\"https://robo.smu.ac.kr/\"  target=\"_blank\" title=\"SM-CDR 챗봇 새창열림\">로보어드바이저</a></li><!--onclick=\"windowPopUp2(this, 500, 600); return false;\"-->\\n\\t\\t\\t\\t\\t\\t\\t\\t<li><a href=\"http://lib.smu.ac.kr/\" target=\"_blank\" title=\"학술정보관 바로가기\">학술정보관</a></li>\\n\\t\\t\\t\\t\\t\\t\\t\\t<li><a href=\"/webzine/\" target=\"_blank\" title=\"웹진 바로가기\">웹진</a></li>\\n\\t\\t\\t\\t\\t\\t\\t\\t<li><a href=\"/ko/life/administration.do\" title=\"서식자료 바로가기\">서식자료</a></li>\\n\\t\\t\\t\\t\\t\\t\\t\\t<li><a href=\"/ko/life/iterrorreg.do\" title=\"장애신고센터 바로가기\">무선인터넷장애신고센터</a></li>\\n\\t\\t\\t\\t\\t\\t\\t\\t<li><a href=\"https://portal.smu.ac.kr/\" target=\"_blank\" title=\"샘물포털 새창열림\">샘물포털</a></li>\\n\\t\\t\\t\\t\\t\\t\\t\\t<li></li>\\n\\t\\t\\t\\t\\t\\t\\t</ul>\\n\\t\\t\\t\\t\\t\\t</div>\\n\\t\\t\\t\\t\\t</li>\\n\\t\\t\\t\\t\\t<!-- /유틸 -->\\n\\t\\t\\t\\t</ul>\\n\\t\\t\\t\\t<a class=\"slide-close\" href=\"#a\" title=\"닫기\"><span class=\"hide\">닫기</span></a>\\n\\t\\t\\t</nav>\\n\\t\\t\\t<div class=\"m-gnb-bg\"></div>\\n\\t\\t\\t<!-- //mobile-menu -->\\n\\t\\t</div>\\t\\t\\n\\t\\t<!-- <div class=\"gnb-bg\">&nbsp;</div> -->\\n\\t</div>\\n</div>\\n<!-- //하단 header -->\\n\\n\\n<!-- 인트로 -->\\n<div class=\"main-intro-new-wrap\">\\n\\t<div class=\"main-intro-img-new-box\">\\n\\t\\t<img src=\"/_res/ko/img/main/main-intro-visual.png\" alt=\"\" />\\n\\t</div>\\n\\t<div class=\"main-intro-new-box\">\\n\\t\\t<p>SANGMYUNG UNIVERSITY</p>\\n\\t\\t<p><a href=\"#a\" class=\"main-intro-new-btn\">Scroll Down</a></p>\\n\\t</div>\\n</div>\\n<!-- //인트로 -->\\n<!-- 가상 컨텐츠 영역 -->\\n<div class=\"intro-new-spacer\">&nbsp;</div>\\n<!-- //가상 컨텐츠 영역 -->\\n<!-- search bg -->\\n<div class=\"srch-bg\">&nbsp;</div>\\n<!-- //search bg -->\\n\\n<!-- SM팝업 -->\\n<div class=\"main-pop-bg\">&nbsp;</div>\\n<div class=\"main-pop-outer\">\\n\\t<div class=\"main-pop-wrap\">\\n\\t\\t<div class=\"main-pop-cnt-box\"></div>\\n\\t\\t<div class=\"main-pop-box carousel-wrap\" id=\"main-pop\">\\n\\t\\t\\t<div class=\"owl-carousel owl-theme\">           \\n\\t\\t\\t\\t\\n\\t\\t\\t\\t\\t\\n\\t\\t\\t\\t\\t\\n\\t\\t\\t\\t\\t\\n\\t\\t\\t\\t\\t\\n\\t\\t\\t\\t\\t\\n\\t\\t\\t\\t\\t\\n\\t\\t\\t\\t\\r\\n\\r\\n\\r\\n\\r\\n\\r\\n\\r\\n\\r\\n\\r\\n\\r\\n\\n\\n\\n\\n\\n\\n\\n\\n\\t\\n\\t\\n\\t\\t\\n\\t\\t\\t\\n\\t\\t\\t\\n\\t\\t\\t\\n\\t\\t\\t\\t\\t\\n\\t\\t\\t\\t\\t\\n\\t\\t\\t\\t\\t\\n\\t\\t\\t\\t\\t\\n\\t\\t\\n\\t\\t\\t\\n\\t\\t\\t\\n\\t\\t\\t\\n\\t\\t\\t\\t\\t\\n\\t\\t\\t\\t\\t\\n\\t\\t\\t\\t\\t\\n\\t\\t\\t\\t\\t\\n\\t\\t\\n\\t\\t\\t\\n\\t\\t\\t\\n\\t\\t\\t\\n\\t\\t\\t\\t\\t\\n\\t\\t\\t\\t\\t\\n\\t\\t\\t\\t\\t\\n\\t\\t\\t\\t\\t\\n\\t\\t\\n\\t\\t\\t\\n\\t\\t\\t\\n\\t\\t\\t\\n\\t\\t\\t\\t\\t\\n\\t\\t\\t\\t\\t\\n\\t\\t\\t\\t\\t\\n\\t\\t\\t\\t\\t\\n\\t\\t\\n\\t\\t\\t\\n\\t\\t\\t\\n\\t\\t\\t\\n\\t\\t\\t\\t\\t\\n\\t\\t\\t\\t\\t\\n\\t\\t\\t\\t\\t\\n\\t\\t\\t\\t\\t\\n\\t\\t\\n\\t\\t\\t\\n\\t\\t\\t\\n\\t\\t\\t\\n\\t\\t\\t\\t\\t\\n\\t\\t\\t\\t\\t\\n\\t\\t\\t\\t\\t\\n\\t\\t\\t\\t\\t\\n\\t\\t\\n\\t\\t\\t\\n\\t\\t\\t\\n\\t\\t\\t\\n\\t\\t\\t\\t\\t\\n\\t\\t\\t\\t\\t\\n\\t\\t\\t\\t\\t\\n\\t\\t\\t\\t\\t\\n\\t\\t\\n\\t\\t\\t\\n\\t\\t\\t\\n\\t\\t\\t\\n\\t\\t\\t\\t\\t\\n\\t\\t\\t\\t\\t\\n\\t\\t\\t\\t\\t\\n\\t\\t\\t\\t\\t\\n\\t\\t\\n\\t\\t\\t\\n\\t\\t\\t\\n\\t\\t\\t\\n\\t\\t\\t\\t\\t\\n\\t\\t\\t\\t\\t\\n\\t\\t\\t\\t\\t\\n\\t\\t\\t\\t\\t\\n\\t\\t\\n\\t\\t\\t\\n\\t\\t\\t\\n\\t\\t\\t\\n\\t\\t\\t\\t\\t\\n\\t\\t\\t\\t\\t\\n\\t\\t\\t\\t\\t\\n\\t\\t\\t\\t\\t\\n\\t\\t\\n\\t\\t\\t\\n\\t\\t\\t\\n\\t\\t\\t\\n\\t\\t\\t\\t\\t\\n\\t\\t\\t\\t\\t\\n\\t\\t\\t\\t\\t\\n\\t\\t\\t\\t\\t\\n\\t\\t\\n\\t\\t\\t\\n\\t\\t\\t\\n\\t\\t\\t\\n\\t\\t\\t\\t\\t\\n\\t\\t\\t\\t\\t\\n\\t\\t\\t\\t\\t\\n\\t\\t\\t\\t\\t\\n\\t\\t\\n\\t\\t\\t\\n\\t\\t\\t\\n\\t\\t\\t\\n\\t\\t\\t\\t\\t\\n\\t\\t\\t\\t\\t\\n\\t\\t\\t\\t\\t\\n\\t\\t\\t\\t\\t\\n\\t\\t\\n\\t\\t\\t\\n\\t\\t\\t\\n\\t\\t\\t\\n\\t\\t\\t\\t\\t\\n\\t\\t\\t\\t\\t\\n\\t\\t\\t\\t\\t\\n\\t\\t\\t\\t\\t\\n\\t\\t\\n\\t\\t\\t\\n\\t\\t\\t\\n\\t\\t\\t\\n\\t\\t\\t\\t\\t\\n\\t\\t\\t\\t\\t\\n\\t\\t\\t\\t\\t\\n\\t\\t\\t\\t\\t\\n\\t\\t\\n\\t\\t\\t\\n\\t\\t\\t\\n\\t\\t\\t\\n\\t\\t\\t\\t\\t\\n\\t\\t\\t\\t\\t\\n\\t\\t\\t\\t\\t\\n\\t\\t\\t\\t\\t\\n\\t\\t\\n\\t\\t\\t\\n\\t\\t\\t\\n\\t\\t\\t\\n\\t\\t\\t\\t\\t\\n\\t\\t\\t\\t\\t\\n\\t\\t\\t\\t\\t\\n\\t\\t\\t\\t\\t\\n\\t\\t\\n\\t\\t\\t\\n\\t\\t\\t\\n\\t\\t\\t\\n\\t\\t\\t\\t\\t\\n\\t\\t\\t\\t\\t\\n\\t\\t\\t\\t\\t\\n\\t\\t\\t\\t\\t\\n\\t\\t\\n\\t\\t\\t\\n\\t\\t\\t\\n\\t\\t\\t\\n\\t\\t\\t\\t\\t\\n\\t\\t\\t\\t\\t\\n\\t\\t\\t\\t\\t\\n\\t\\t\\t\\t\\t\\n\\t\\t\\n\\t\\t\\t\\n\\t\\t\\t\\n\\t\\t\\t\\n\\t\\t\\t\\t\\t\\n\\t\\t\\t\\t\\t\\n\\t\\t\\t\\t\\t\\n\\t\\t\\t\\t\\t\\n\\t\\t\\n\\t\\t\\n\\t\\t\\t<div class=\"item noneCnt\">\\n\\t\\t\\t\\t\\t<a href=\"#\">등록된 글이 없습니다.</a>\\n\\t\\t\\t\\t</div>\\n\\t\\t\\n\\t\\n\\n\\n\\n\\n\\n\\r\\n\\n\\t\\t\\t\\t\\n\\t\\t\\t</div>\\n\\t\\t\\t<div class=\"control-wrap\">\\n\\t\\t\\t\\t<a class=\"prev\" href=\"#\" title=\"이전\"><span class=\"hide\">이전</span></a>\\n\\t\\t\\t\\t<a class=\"next\" href=\"#\" title=\"다음\"><span class=\"hide\">다음</span></a>\\n\\t\\t\\t</div>\\n\\t\\t</div>   \\n\\t\\t<a href=\"#a\" class=\"main-pop-close\"><img src=\"/_res/ko/img/common/ic-close.png\" alt=\"닫기\" /></a>\\n\\t</div>\\n</div>\\n<!-- SM팝업 -->\\n</header>\\n\\t<div class=\"sub-container\">\\n\\t\\t<section class=\"content-wrap\">\\n\\t\\t\\t<div class=\"path-wrap\">\\r\\n<div class=\"path-group\">\\t\\n    \\n \\t\\t \\n\\t\\n\\n<div class=\"path-box\">\\n  <div class=\"path\">\\n    <a href=\"/lounge/index.do\" class=\"path-home\" title=\"상명대학교 홈페이지 바로가기\"><span class=\"mobile-hide hide\">처음으로</span></a>\\n    <div class=\"path-depth-wrap\">\\n\\t\\t\\n\\t\\t<ul>\\n\\t\\t\\t\\n\\t\\t\\t\\t<li>\\n\\t\\t   \\t\\t\\t<a href=\"/lounge/qna/faq.do\" title=\"상명 Q&amp;A 바로가기\"  class=\"active\" >상명 Q&amp;A</a>\\n\\t\\t   \\t\\t</li>\\n\\t\\t   \\t\\n\\t\\t\\t\\t<li>\\n\\t\\t   \\t\\t\\t<a href=\"/lounge/qna/faq.do\" title=\"자주하는 질문 바로가기\"  class=\"active\" >자주하는 질문</a>\\n\\t\\t   \\t\\t</li>\\n\\t\\t   \\t\\n\\t\\t</ul>\\n\\t\\t\\n\\t</div>\\n\\t</div>\\n</div>\\n\\n\\n\\n\\n\\n\\n\\n\\n\\n\\n\\n\\n\\n\\n    <div class=\"tool-box\">\\n\\t\\t<ul>\\n\\t\\t\\t<li><a class=\"jwxe_a_zoom_out jw-relative\" id=\"jwxe_zoomOut\" title=\"\" href=\"#zoom-out\" ></a></li>\\n\\t\\t\\t<li><a class=\"jwxe_a_fixed jw-relative\" id=\"jwxe_fixed\" title=\"\" href=\"#fixed\" ></a></li>\\n\\t\\t\\t<li><a class=\"jwxe_a_zoom_in jw-relative\" id=\"jwxe_zoomIn\" title=\"\" href=\"#zoom-in\" ></a></li>\\n\\t\\t</ul>\\n\\t\\t<a href=\"#n\" title=\"프린트\" class=\"bnt-print\" id=\"jwxe_print\"></a>\\n    </div>\\n</div>\\n</div>\\n\\t\\t\\t<div class=\"title-wrap\">\\r\\n<h3>\\n\\n\\n\\n\\n\\n\\n\\n상명 Q&A\\n\\n\\n\\t\\n</h3>\\n\\n</div>\\n\\t\\t\\t<div class=\"tab-outer\">\\r\\n<!-- PC tab -->\\n<div class=\"tab-box01 mobile-hide\">\\n\\t    \\n\\t\\t\\n\\t\\t\\n\\t\\t   \\n\\t\\n\\n\\n\\n\\n\\n\\n\\n\\t<!-- PC tab -->\\n\\t<ul class=\"tab-ul row02\">\\n\\t\\t\\n\\t\\t\\n\\t\\t\\t\\n\\t\\t\\t\\n\\t\\t\\t<li class=\"active first\">\\n\\t\\t\\t\\t<a href=\"/lounge/qna/faq.do#tab7384\" title=\"자주하는 질문 바로가기\" id=\"tab7384\">\\n\\t \\t\\t\\t\\t자주하는 질문\\n\\t\\t\\t\\t</a>\\n\\t\\t\\t</li>\\n\\t\\t\\t\\t\\n\\t\\t\\t\\n\\t\\t\\n\\t\\t\\t\\n\\t\\t\\t\\n\\t\\t\\t<li class=\" last\">\\n\\t\\t\\t\\t<a href=\"/lounge/qna/qna.do#tab7385\" title=\"질문/답변 바로가기\" id=\"tab7385\">\\n\\t \\t\\t\\t\\t질문/답변\\n\\t\\t\\t\\t</a>\\n\\t\\t\\t</li>\\n\\t\\t\\t\\t\\n\\t\\t\\t\\n\\t\\t\\n\\t</ul>\\n\\t<!-- // PC tab -->\\n\\n\\n</div>\\n<!-- PC tab -->\\n<!-- Mobile tab -->\\n<div class=\"m-tab-box pc-hide\">\\n\\t    \\n\\t\\t\\n\\t\\t\\n\\t\\t   \\n\\t\\n\\n\\n\\n\\n\\n\\n\\n\\n\\t<!-- mobile tab -->\\n\\t<label for=\"tab_select\">Tab</label>\\n\\t<select class=\"tab-sel\" id=\"tab_select\">\\n\\t\\t\\n\\t\\t\\t\\n\\t\\t\\t\\n\\t\\t\\t\\n\\t\\t\\t\\t<option selected=selected value=\"/lounge/qna/faq.do\">\\n\\t\\t\\t\\t\\t자주하는 질문\\n\\t\\t\\t\\t</option>\\n\\n\\t\\t\\t\\n\\t\\t\\t\\n\\t\\t\\n\\t\\t\\t\\n\\t\\t\\t\\n\\t\\t\\t\\n\\t\\t\\t\\t<option  value=\"/lounge/qna/qna.do\">\\n\\t\\t\\t\\t\\t질문/답변\\n\\t\\t\\t\\t</option>\\n\\n\\t\\t\\t\\n\\t\\t\\t\\n\\t\\t\\n\\t</select>\\n\\t<!-- // mobile tab -->\\n\\t\\n\\n\\n\\n\\n</div>\\n<!-- //Mobile tab -->\\n</div>\\n\\t\\t\\t<div class=\"content\" id=\"jwxe_main_content\">\\n\\t\\t\\t\\t<div class=\"content1\">\\r\\n\\r\\n\\r\\n\\n\\n\\n\\n\\n\\n\\n\\n\\n<script type=\"text/javascript\">\\n//<![CDATA[\\n  var resPath = \\'/_custom/smu/resource/\\', isEditorImageUpload = \\'true\\' == \\'false\\'? false: true, clientId = \\'smu\\', boardTy = \\'common\\', boardNo = \\'680\\', siteId = \\'lounge\\';\\n//]]>\\n</script>\\n<div class=\"ko \">\\n\\n\\t<input type=\"hidden\" name=\"boardMode\" value=\"list\">\\n\\t\\n\\t\\t\\r\\n\\r\\n\\r\\n\\r\\n\\r\\n\\r\\n\\r\\n\\r\\n\\r\\n\\r\\n<div class=\"common-board  common\" id=\"ko\">\\r\\n\\t\\n\\n<input type=\"hidden\" name=\"boardNo\"  value=\"680\"/>\\n\\n \\n\\n\\n\\n\\n \\n\\n\\n\\n\\t<form id=\"srForm\" method=\"get\" action=\"?\" >\\n\\t\\t<fieldset class=\"content-search-wrap\">\\n\\t\\t<legend class=\"hide\">게시글 검색</legend>\\n\\t\\t\\t<input type=\"hidden\" name=\"mode\" value=\"list\" />\\n\\t\\t\\t\\n\\t\\t\\t\\n\\t\\t\\t\\t\\n\\t\\t\\t\\t\\t\\n\\t\\t\\t\\n\\t\\t\\t\\n\\t\\t\\t\\n\\t\\n\\t\\t\\t\\t\\n\\t\\t\\t\\t\\n\\t\\n\\t\\t\\t\\t<div class=\"board-selectbox\">\\n\\t\\t\\t\\t<label for=\"search_key\" class=\"hide\">검색분류선택</label>\\n\\t\\t\\t\\t<a href=\"#search\" class=\"board-selectbox-title\">\\n\\t\\t\\t\\t\\t\\n\\t\\t\\t\\t\\t\\n\\t\\t\\t\\t\\t\\t\\n\\t\\t\\t\\t\\t\\n\\t\\t\\t\\t\\t\\t\\n\\t\\t\\t\\t\\t\\n\\t\\t\\t\\t\\t\\t\\n\\t\\t\\t\\t\\t\\n\\t\\t\\t\\t\\t\\t\\n\\t\\t\\t\\t\\t\\n\\t\\t\\t\\t\\t\\n\\t\\t\\t\\t\\t\\t전체\\n\\t\\t\\t\\t\\t\\n\\t\\t\\t\\t</a>\\n\\t\\t\\t\\t\\t\\n\\t\\t\\t\\t<input type=\"hidden\" name=\"srSearchKey\" id=\"search_key\"  value=\"\"/>\\n\\t\\t\\t\\t<ul>\\n\\t\\t\\t\\t\\t\\n                    \\t<li><a href=\"#search\" class=\"searchOption\" title=\"작성자\" data-value=\"writer_nm\" >작성자</a></li>\\n                    \\n                    \\t<li><a href=\"#search\" class=\"searchOption\" title=\"제목\" data-value=\"article_title\" >제목</a></li>\\n                    \\n                    \\t<li><a href=\"#search\" class=\"searchOption\" title=\"내용\" data-value=\"article_text\" >내용</a></li>\\n                    \\n                    \\t<li><a href=\"#search\" class=\"searchOption\" title=\"제목 + 내용\" data-value=\"\" >제목 + 내용</a></li>\\n                    \\n                </ul>\\n               </div>\\n\\t\\t\\t\\t\\n\\t\\t\\t\\n\\t\\t\\t<label for=\"search_val\" class=\"hide\">검색어</label>\\n\\t\\t\\t<input type=\"text\" class=\"board-search-input\" id=\"search_val\" name=\"srSearchVal\" value=\"\" placeholder=\"검색어를 입력해 주세요\" />\\n\\n\\t\\t\\t\\n\\t\\t\\t<button class=\"board-search-btn\" type=\"submit\"><span class=\"hide\">검색</span></button>\\n\\t\\t</fieldset>\\n\\t</form>\\n    \\n    \\n    <div class=\"total_wrap\">\\n\\t\\tTotal <span>7</span>,  \\n\\t\\t<span>1</span> / 1\\n\\t</div>\\n\\t    \\n\\n\\n\\r\\n\\t\\n\\n\\n\\n\\n\\n\\n\\n\\n<div class=\"board-name-thumb board-wrap\">\\n\\t<ul class=\"board-thumb-wrap\">\\n\\n\\t\\n\\t\\n\\t\\t\\n\\t\\t\\n\\t\\n\\t\\t\\n\\t\\t\\n\\n\\t\\t\\n\\t\\t\\n\\n\\t\\t\\n\\t\\t\\n\\n\\t\\t\\n\\t\\t\\n\\n\\n\\t\\t\\n\\t\\t\\n\\n\\n\\t\\t<li class=\"\">\\n\\t\\t\\t\\n\\t\\t\\t\\n\\t\\t\\t\\t\\n\\t\\t\\t\\n\\n\\t\\t\\t<dl class=\"board-thumb-content-wrap board-thumb-content-wrap-v01 \">\\n\\t\\t\\t\\t<dt class=\"board-thumb-content-title  \">\\n\\t\\t\\t\\t\\t<a href=\"?mode=view&amp;articleNo=698890&amp;article.offset=0&amp;articleLimit=10\" target=\"\" style=\"  \"  title=\"Office365(학생메일) 사용법 자세히 보기\">\\n\\t\\t\\t\\t\\t\\tOffice365(학생메일) 사용법\\n\\t\\t\\t\\t\\t\\t\\t\\n\\t\\t\\t\\t\\t\\t\\t</a>\\n\\t\\t\\t\\t\\t\\t\\n\\t\\t\\t\\t\\t\\n\\t\\t\\t\\t</dt>\\n\\n\\t\\t\\t\\t<dd class=\"board-thumb-content-info\">\\n\\t\\t\\t\\t\\t<ul>\\n\\t\\t\\t\\t\\t\\t\\n\\t\\t\\t\\t\\t\\t<li class=\"board-thumb-content-writer\">\\n\\t\\t\\t\\t\\t\\t\\t<span class=\"hide\">작성자</span>\\n\\t\\t\\t\\t\\t\\t\\t통합 관리자\\n\\t\\t\\t\\t\\t\\t</li>\\n\\t\\t\\t\\t\\t\\t<li class=\"board-thumb-content-date\">\\n\\t\\t\\t\\t\\t\\t\\t<span class=\"hide\">작성일</span>\\n\\t\\t\\t\\t\\t\\t\\t2019-04-03\\n\\t\\t\\t\\t\\t\\t</li>\\n\\t\\t\\t\\t\\t\\t<li class=\"board-thumb-content-views\">\\n\\t\\t\\t\\t\\t\\t\\t<span class=\"hide\">조회수</span>\\n\\t\\t\\t\\t\\t\\t\\t67081\\n\\t\\t\\t\\t\\t\\t</li>\\n\\t\\t\\t\\t\\t</ul>\\n\\n\\t\\t\\t\\t</dd>\\n\\t\\t\\t</dl>\\n\\t\\t\\t\\n\\n\\t\\t\\t\\n\\t\\t\\t\\n\\t\\t\\t\\n\\t\\t\\t\\t<div class=\"list-file\"></div>\\n\\t\\t\\t\\n\\n\\t\\t</li>\\n\\t\\n\\t\\n\\t\\t\\n\\t\\t\\n\\t\\n\\t\\t\\n\\t\\t\\n\\n\\t\\t\\n\\t\\t\\n\\n\\t\\t\\n\\t\\t\\n\\n\\t\\t\\n\\t\\t\\n\\n\\n\\t\\t\\n\\t\\t\\n\\n\\n\\t\\t<li class=\"\">\\n\\t\\t\\t\\n\\t\\t\\t\\n\\t\\t\\t\\t\\n\\t\\t\\t\\n\\n\\t\\t\\t<dl class=\"board-thumb-content-wrap board-thumb-content-wrap-v01 \">\\n\\t\\t\\t\\t<dt class=\"board-thumb-content-title  \">\\n\\t\\t\\t\\t\\t<a href=\"?mode=view&amp;articleNo=684733&amp;article.offset=0&amp;articleLimit=10\" target=\"\" style=\"  \"  title=\"학사)복학 신청을 꼭 해야하나요? 복학은 어떻게 신청하나요? 자세히 보기\">\\n\\t\\t\\t\\t\\t\\t학사)복학 신청을 꼭 해야하나요? 복학은 어떻게 신청하나요?\\n\\t\\t\\t\\t\\t\\t\\t\\n\\t\\t\\t\\t\\t\\t\\t</a>\\n\\t\\t\\t\\t\\t\\t\\n\\t\\t\\t\\t\\t\\n\\t\\t\\t\\t</dt>\\n\\n\\t\\t\\t\\t<dd class=\"board-thumb-content-info\">\\n\\t\\t\\t\\t\\t<ul>\\n\\t\\t\\t\\t\\t\\t\\n\\t\\t\\t\\t\\t\\t<li class=\"board-thumb-content-writer\">\\n\\t\\t\\t\\t\\t\\t\\t<span class=\"hide\">작성자</span>\\n\\t\\t\\t\\t\\t\\t\\t통합관리자\\n\\t\\t\\t\\t\\t\\t</li>\\n\\t\\t\\t\\t\\t\\t<li class=\"board-thumb-content-date\">\\n\\t\\t\\t\\t\\t\\t\\t<span class=\"hide\">작성일</span>\\n\\t\\t\\t\\t\\t\\t\\t2019-01-08\\n\\t\\t\\t\\t\\t\\t</li>\\n\\t\\t\\t\\t\\t\\t<li class=\"board-thumb-content-views\">\\n\\t\\t\\t\\t\\t\\t\\t<span class=\"hide\">조회수</span>\\n\\t\\t\\t\\t\\t\\t\\t22444\\n\\t\\t\\t\\t\\t\\t</li>\\n\\t\\t\\t\\t\\t</ul>\\n\\n\\t\\t\\t\\t</dd>\\n\\t\\t\\t</dl>\\n\\t\\t\\t\\n\\n\\t\\t\\t\\n\\t\\t\\t\\n\\t\\t\\t\\n\\t\\t\\t\\t<div class=\"list-file\"></div>\\n\\t\\t\\t\\n\\n\\t\\t</li>\\n\\t\\n\\t\\n\\t\\t\\n\\t\\t\\n\\t\\n\\t\\t\\n\\t\\t\\n\\n\\t\\t\\n\\t\\t\\n\\n\\t\\t\\n\\t\\t\\n\\n\\t\\t\\n\\t\\t\\n\\n\\n\\t\\t\\n\\t\\t\\n\\n\\n\\t\\t<li class=\"\">\\n\\t\\t\\t\\n\\t\\t\\t\\n\\t\\t\\t\\t\\n\\t\\t\\t\\n\\n\\t\\t\\t<dl class=\"board-thumb-content-wrap board-thumb-content-wrap-v01 \">\\n\\t\\t\\t\\t<dt class=\"board-thumb-content-title  \">\\n\\t\\t\\t\\t\\t<a href=\"?mode=view&amp;articleNo=684732&amp;article.offset=0&amp;articleLimit=10\" target=\"\" style=\"  \"  title=\"학사)휴학은 어떻게 신청하나요? 자세히 보기\">\\n\\t\\t\\t\\t\\t\\t학사)휴학은 어떻게 신청하나요?\\n\\t\\t\\t\\t\\t\\t\\t\\n\\t\\t\\t\\t\\t\\t\\t</a>\\n\\t\\t\\t\\t\\t\\t\\n\\t\\t\\t\\t\\t\\n\\t\\t\\t\\t</dt>\\n\\n\\t\\t\\t\\t<dd class=\"board-thumb-content-info\">\\n\\t\\t\\t\\t\\t<ul>\\n\\t\\t\\t\\t\\t\\t\\n\\t\\t\\t\\t\\t\\t<li class=\"board-thumb-content-writer\">\\n\\t\\t\\t\\t\\t\\t\\t<span class=\"hide\">작성자</span>\\n\\t\\t\\t\\t\\t\\t\\t통합관리자\\n\\t\\t\\t\\t\\t\\t</li>\\n\\t\\t\\t\\t\\t\\t<li class=\"board-thumb-content-date\">\\n\\t\\t\\t\\t\\t\\t\\t<span class=\"hide\">작성일</span>\\n\\t\\t\\t\\t\\t\\t\\t2019-01-08\\n\\t\\t\\t\\t\\t\\t</li>\\n\\t\\t\\t\\t\\t\\t<li class=\"board-thumb-content-views\">\\n\\t\\t\\t\\t\\t\\t\\t<span class=\"hide\">조회수</span>\\n\\t\\t\\t\\t\\t\\t\\t24990\\n\\t\\t\\t\\t\\t\\t</li>\\n\\t\\t\\t\\t\\t</ul>\\n\\n\\t\\t\\t\\t</dd>\\n\\t\\t\\t</dl>\\n\\t\\t\\t\\n\\n\\t\\t\\t\\n\\t\\t\\t\\n\\t\\t\\t\\n\\t\\t\\t\\t<div class=\"list-file\"></div>\\n\\t\\t\\t\\n\\n\\t\\t</li>\\n\\t\\n\\t\\n\\t\\t\\n\\t\\t\\n\\t\\n\\t\\t\\n\\t\\t\\n\\n\\t\\t\\n\\t\\t\\n\\n\\t\\t\\n\\t\\t\\n\\n\\t\\t\\n\\t\\t\\n\\n\\n\\t\\t\\n\\t\\t\\n\\n\\n\\t\\t<li class=\"\">\\n\\t\\t\\t\\n\\t\\t\\t\\n\\t\\t\\t\\t\\n\\t\\t\\t\\n\\n\\t\\t\\t<dl class=\"board-thumb-content-wrap board-thumb-content-wrap-v01 \">\\n\\t\\t\\t\\t<dt class=\"board-thumb-content-title  \">\\n\\t\\t\\t\\t\\t<a href=\"?mode=view&amp;articleNo=264776&amp;article.offset=0&amp;articleLimit=10\" target=\"\" style=\"  \"  title=\"일반)교내 무선인터넷은 어떻게 사용 하나요? 자세히 보기\">\\n\\t\\t\\t\\t\\t\\t일반)교내 무선인터넷은 어떻게 사용 하나요?\\n\\t\\t\\t\\t\\t\\t\\t\\n\\t\\t\\t\\t\\t\\t\\t</a>\\n\\t\\t\\t\\t\\t\\t\\n\\t\\t\\t\\t\\t\\n\\t\\t\\t\\t</dt>\\n\\n\\t\\t\\t\\t<dd class=\"board-thumb-content-info\">\\n\\t\\t\\t\\t\\t<ul>\\n\\t\\t\\t\\t\\t\\t\\n\\t\\t\\t\\t\\t\\t<li class=\"board-thumb-content-writer\">\\n\\t\\t\\t\\t\\t\\t\\t<span class=\"hide\">작성자</span>\\n\\t\\t\\t\\t\\t\\t\\t통합 관리자\\n\\t\\t\\t\\t\\t\\t</li>\\n\\t\\t\\t\\t\\t\\t<li class=\"board-thumb-content-date\">\\n\\t\\t\\t\\t\\t\\t\\t<span class=\"hide\">작성일</span>\\n\\t\\t\\t\\t\\t\\t\\t2018-10-26\\n\\t\\t\\t\\t\\t\\t</li>\\n\\t\\t\\t\\t\\t\\t<li class=\"board-thumb-content-views\">\\n\\t\\t\\t\\t\\t\\t\\t<span class=\"hide\">조회수</span>\\n\\t\\t\\t\\t\\t\\t\\t12621\\n\\t\\t\\t\\t\\t\\t</li>\\n\\t\\t\\t\\t\\t</ul>\\n\\n\\t\\t\\t\\t</dd>\\n\\t\\t\\t</dl>\\n\\t\\t\\t\\n\\n\\t\\t\\t\\n\\t\\t\\t\\n\\t\\t\\t\\n\\t\\t\\t\\t<div class=\"list-file\"></div>\\n\\t\\t\\t\\n\\n\\t\\t</li>\\n\\t\\n\\t\\n\\t\\t\\n\\t\\t\\n\\t\\n\\t\\t\\n\\t\\t\\n\\n\\t\\t\\n\\t\\t\\n\\n\\t\\t\\n\\t\\t\\n\\n\\t\\t\\n\\t\\t\\n\\n\\n\\t\\t\\n\\t\\t\\n\\n\\n\\t\\t<li class=\"\">\\n\\t\\t\\t\\n\\t\\t\\t\\n\\t\\t\\t\\t\\n\\t\\t\\t\\n\\n\\t\\t\\t<dl class=\"board-thumb-content-wrap board-thumb-content-wrap-v01 \">\\n\\t\\t\\t\\t<dt class=\"board-thumb-content-title  \">\\n\\t\\t\\t\\t\\t<a href=\"?mode=view&amp;articleNo=264774&amp;article.offset=0&amp;articleLimit=10\" target=\"\" style=\"  \"  title=\"재무)교육비납입증명서는 어디서 발급받나요? 자세히 보기\">\\n\\t\\t\\t\\t\\t\\t재무)교육비납입증명서는 어디서 발급받나요?\\n\\t\\t\\t\\t\\t\\t\\t\\n\\t\\t\\t\\t\\t\\t\\t</a>\\n\\t\\t\\t\\t\\t\\t\\n\\t\\t\\t\\t\\t\\n\\t\\t\\t\\t</dt>\\n\\n\\t\\t\\t\\t<dd class=\"board-thumb-content-info\">\\n\\t\\t\\t\\t\\t<ul>\\n\\t\\t\\t\\t\\t\\t\\n\\t\\t\\t\\t\\t\\t<li class=\"board-thumb-content-writer\">\\n\\t\\t\\t\\t\\t\\t\\t<span class=\"hide\">작성자</span>\\n\\t\\t\\t\\t\\t\\t\\t통합 관리자\\n\\t\\t\\t\\t\\t\\t</li>\\n\\t\\t\\t\\t\\t\\t<li class=\"board-thumb-content-date\">\\n\\t\\t\\t\\t\\t\\t\\t<span class=\"hide\">작성일</span>\\n\\t\\t\\t\\t\\t\\t\\t2018-10-26\\n\\t\\t\\t\\t\\t\\t</li>\\n\\t\\t\\t\\t\\t\\t<li class=\"board-thumb-content-views\">\\n\\t\\t\\t\\t\\t\\t\\t<span class=\"hide\">조회수</span>\\n\\t\\t\\t\\t\\t\\t\\t11282\\n\\t\\t\\t\\t\\t\\t</li>\\n\\t\\t\\t\\t\\t</ul>\\n\\n\\t\\t\\t\\t</dd>\\n\\t\\t\\t</dl>\\n\\t\\t\\t\\n\\n\\t\\t\\t\\n\\t\\t\\t\\n\\t\\t\\t\\n\\t\\t\\t\\t<div class=\"list-file\"></div>\\n\\t\\t\\t\\n\\n\\t\\t</li>\\n\\t\\n\\t\\n\\t\\t\\n\\t\\t\\n\\t\\n\\t\\t\\n\\t\\t\\n\\n\\t\\t\\n\\t\\t\\n\\n\\t\\t\\n\\t\\t\\n\\n\\t\\t\\n\\t\\t\\n\\n\\n\\t\\t\\n\\t\\t\\n\\n\\n\\t\\t<li class=\"\">\\n\\t\\t\\t\\n\\t\\t\\t\\n\\t\\t\\t\\t\\n\\t\\t\\t\\n\\n\\t\\t\\t<dl class=\"board-thumb-content-wrap board-thumb-content-wrap-v01 \">\\n\\t\\t\\t\\t<dt class=\"board-thumb-content-title  \">\\n\\t\\t\\t\\t\\t<a href=\"?mode=view&amp;articleNo=264773&amp;article.offset=0&amp;articleLimit=10\" target=\"\" style=\"  \"  title=\"학사)신규제청강사 계좌등록 방법은? 자세히 보기\">\\n\\t\\t\\t\\t\\t\\t학사)신규제청강사 계좌등록 방법은?\\n\\t\\t\\t\\t\\t\\t\\t\\n\\t\\t\\t\\t\\t\\t\\t</a>\\n\\t\\t\\t\\t\\t\\t\\n\\t\\t\\t\\t\\t\\n\\t\\t\\t\\t</dt>\\n\\n\\t\\t\\t\\t<dd class=\"board-thumb-content-info\">\\n\\t\\t\\t\\t\\t<ul>\\n\\t\\t\\t\\t\\t\\t\\n\\t\\t\\t\\t\\t\\t<li class=\"board-thumb-content-writer\">\\n\\t\\t\\t\\t\\t\\t\\t<span class=\"hide\">작성자</span>\\n\\t\\t\\t\\t\\t\\t\\t통합 관리자\\n\\t\\t\\t\\t\\t\\t</li>\\n\\t\\t\\t\\t\\t\\t<li class=\"board-thumb-content-date\">\\n\\t\\t\\t\\t\\t\\t\\t<span class=\"hide\">작성일</span>\\n\\t\\t\\t\\t\\t\\t\\t2018-10-26\\n\\t\\t\\t\\t\\t\\t</li>\\n\\t\\t\\t\\t\\t\\t<li class=\"board-thumb-content-views\">\\n\\t\\t\\t\\t\\t\\t\\t<span class=\"hide\">조회수</span>\\n\\t\\t\\t\\t\\t\\t\\t9326\\n\\t\\t\\t\\t\\t\\t</li>\\n\\t\\t\\t\\t\\t</ul>\\n\\n\\t\\t\\t\\t</dd>\\n\\t\\t\\t</dl>\\n\\t\\t\\t\\n\\n\\t\\t\\t\\n\\t\\t\\t\\n\\t\\t\\t\\n\\t\\t\\t\\t<div class=\"list-file\"></div>\\n\\t\\t\\t\\n\\n\\t\\t</li>\\n\\t\\n\\t\\n\\t\\t\\n\\t\\t\\n\\t\\n\\t\\t\\n\\t\\t\\n\\n\\t\\t\\n\\t\\t\\n\\n\\t\\t\\n\\t\\t\\n\\n\\t\\t\\n\\t\\t\\n\\n\\n\\t\\t\\n\\t\\t\\n\\n\\n\\t\\t<li class=\"\">\\n\\t\\t\\t\\n\\t\\t\\t\\n\\t\\t\\t\\t\\n\\t\\t\\t\\n\\n\\t\\t\\t<dl class=\"board-thumb-content-wrap board-thumb-content-wrap-v01 \">\\n\\t\\t\\t\\t<dt class=\"board-thumb-content-title  \">\\n\\t\\t\\t\\t\\t<a href=\"?mode=view&amp;articleNo=264772&amp;article.offset=0&amp;articleLimit=10\" target=\"\" style=\"  \"  title=\"일반)비밀번호 찾기는 어떻게 진행하나요? 자세히 보기\">\\n\\t\\t\\t\\t\\t\\t일반)비밀번호 찾기는 어떻게 진행하나요?\\n\\t\\t\\t\\t\\t\\t\\t\\n\\t\\t\\t\\t\\t\\t\\t</a>\\n\\t\\t\\t\\t\\t\\t\\n\\t\\t\\t\\t\\t\\n\\t\\t\\t\\t</dt>\\n\\n\\t\\t\\t\\t<dd class=\"board-thumb-content-info\">\\n\\t\\t\\t\\t\\t<ul>\\n\\t\\t\\t\\t\\t\\t\\n\\t\\t\\t\\t\\t\\t<li class=\"board-thumb-content-writer\">\\n\\t\\t\\t\\t\\t\\t\\t<span class=\"hide\">작성자</span>\\n\\t\\t\\t\\t\\t\\t\\t통합 관리자\\n\\t\\t\\t\\t\\t\\t</li>\\n\\t\\t\\t\\t\\t\\t<li class=\"board-thumb-content-date\">\\n\\t\\t\\t\\t\\t\\t\\t<span class=\"hide\">작성일</span>\\n\\t\\t\\t\\t\\t\\t\\t2018-10-26\\n\\t\\t\\t\\t\\t\\t</li>\\n\\t\\t\\t\\t\\t\\t<li class=\"board-thumb-content-views\">\\n\\t\\t\\t\\t\\t\\t\\t<span class=\"hide\">조회수</span>\\n\\t\\t\\t\\t\\t\\t\\t12141\\n\\t\\t\\t\\t\\t\\t</li>\\n\\t\\t\\t\\t\\t</ul>\\n\\n\\t\\t\\t\\t</dd>\\n\\t\\t\\t</dl>\\n\\t\\t\\t\\n\\n\\t\\t\\t\\n\\t\\t\\t\\n\\t\\t\\t\\n\\t\\t\\t\\t<div class=\"list-file\"></div>\\n\\t\\t\\t\\n\\n\\t\\t</li>\\n\\t\\n\\n\\t\\n\\n\\t</ul>\\n</div>\\n\\n\\r\\n\\t\\r\\n\\r\\n\\r\\n\\r\\n\\r\\n\\r\\n\\r\\n\\r\\n\\t<ul class=\"paging-wrap\">\\r\\n\\t\\t\\r\\n\\t\\r\\n\\t\\t\\t\\t\\r\\n\\t\\r\\n\\t\\t\\t\\t\\r\\n\\t\\r\\n\\t\\t\\t\\t\\r\\n\\t\\r\\n\\t\\t\\t\\t\\r\\n\\t\\r\\n\\t\\t\\t\\t\\r\\n\\t\\t\\t\\t\\t\\r\\n\\t\\t\\t\\t\\t\\t<li>\\r\\n\\t\\t\\t\\t\\t\\t\\t<a class=\"active\" href=\"#curPage\">1</a>\\r\\n\\t\\t\\t\\t\\t\\t</li>\\r\\n\\t\\t\\t\\t\\t\\r\\n\\t\\t\\t\\t\\t\\r\\n\\t\\t\\t\\t\\r\\n\\t\\r\\n\\t\\t\\t\\t\\r\\n\\t\\r\\n\\t\\t\\t\\t\\r\\n\\t\\t\\r\\n\\r\\n\\t</ul>\\r\\n\\r\\n\\r\\n\\r\\n\\r\\n\\r\\n\\r\\n\\r\\n\\r\\n\\r\\n\\t\\r\\n\\r\\n<ul class=\"btn-wrap text-right\">\\r\\n\\t\\r\\n\\t\\r\\n\\t\\r\\n\\t\\r\\n\\t\\r\\n\\t\\r\\n\\r\\n\\t\\r\\n\\t\\r\\n\\t\\t\\r\\n\\t\\r\\n\\t\\r\\n</ul>\\r\\n\\r\\n\\r\\n<form name=\"admin-form\" method=\"post\" action=\"?article.offset=0&amp;articleLimit=10\">\\r\\n\\t<input type=\"hidden\" name=\"mode\" />\\r\\n\\t<input type=\"hidden\" name=\"articles\" />\\r\\n\\t<input type=\"hidden\" name=\"confirmMode\" />\\r\\n</form>\\r\\n</div>\\r\\n\\n\\t\\n\\t\\n</div>\\n\\t\\n\\t\\n\\n\\n\\n\\n\\r\\n</div>\\n\\t\\t\\t\\t<div class=\"content2\"></div>\\n\\t\\t\\t</div>\\n\\t\\t</section>\\n\\t</div>\\n\\t<footer id=\"jwxe_footer\">\\r\\n\\n<div class=\"foot-wrap\">\\n\\t<div class=\"foot-lnk-wrap\">\\t\\n\\t\\t<div class=\"foot-lnk-box\">\\n\\t\\t\\t<ul class=\"foot-ul\">\\n\\t\\t\\t  <li><a href=\"http://www.academyinfo.go.kr/popup/pubinfo1690/list.do?schlId=0000117\" target=\"_blank\" title=\"대학정보공시 새창열림\">대학정보공시</a></li>\\n\\t\\t\\t  <li><a href=\"/ko/intro/settlement.do\" title=\"예결산공고 바로가기\">예결산공고</a></li>\\n\\t\\t\\t  <li><a href=\"/ko/intro/Information1.do\" title=\"정보공개 바로가기\">정보공개</a></li>\\n\\t\\t\\t   <li><a href=\"/ko/intro/privacyPolicy.do\" target=\"_blank\" title=\"개인정보처리방침\" class=\"c-ligntgreen\">개인정보처리방침</a></li>\\n\\t\\t\\t  <li><a href=\"/board/policy/email.do\" onClick=\"windowPopUp(this); return false;\" target=\"_blank\" title=\"이메일주소무단수집거부 새창열림\">이메일주소<br class=\"pc-hide\" />무단수집거부</a></li>\\n\\t\\t\\t  <li><a href=\"/board/policy/cctv.do\" onClick=\"windowPopUp(this); return false;\" target=\"_blank\" title=\"영상정보처리기기 운영관리방침 새창열림\">영상정보처리기기 <br class=\"pc-hide\" />운영관리방침</a></li>\\n\\t\\t\\t  <li><a href=\"/board/policy/rule.do\" onClick=\"windowPopUp(this); return false;\" target=\"_blank\" title=\"취업규칙 새창열림\">취업규칙</a></li>\\n\\t\\t\\t</ul>\\n\\t\\t</div>\\n\\t</div>\\n   <div class=\"foot-box\">\\n\\t\\t<div class=\"foot-util\">\\n\\t\\t\\t<div>\\n\\t\\t\\t\\t<div class=\"foot-sel-box\" tabindex=\"1\">\\n\\t\\t\\t\\t\\t<a href=\"#n\" class=\"sel1\" title=\"단과대학/대학원 목록 보기\"><span>단과대학/대학원</span></a>\\n\\t\\t\\t\\t\\t<ul>\\n\\t\\t\\t\\t\\t\\t<li class=\"sel-tit\">-서울캠퍼스-</li>\\n\\t\\t\\t\\t\\t\\t<li><a href=\"/ko/edu/seoul001.do#lnk01\" title=\"인문사회과학대학 바로가기\">인문사회과학대학</a></li>\\n\\t\\t\\t\\t\\t\\t<li><a href=\"/ko/edu/seoul001.do#lnk02\" title=\"사범대학 바로가기\">사범대학</a></li>\\n\\t\\t\\t\\t\\t\\t<li><a href=\"/ko/edu/seoul001.do#lnk03\" title=\"경영경제대학 바로가기\">경영경제대학</a></li>\\n\\t\\t\\t\\t\\t\\t<li><a href=\"/ko/edu/seoul001.do#lnk04\" title=\"융합공과대학 바로가기\">융합공과대학</a></li>\\n\\t\\t\\t\\t\\t\\t<li><a href=\"/ko/edu/seoul001.do#lnk05\" title=\"문화예술대학 바로가기\">문화예술대학</a></li>\\t\\t\\t\\t\\t\\t\\n\\t\\t\\t\\t\\t\\t<li class=\"sel-tit\">-천안캠퍼스-</li>\\n\\t\\t\\t\\t\\t\\t<li><a href=\"/ko/edu/cheonan01.do#lnk01\" title=\"글로벌인문학부대학 바로가기\">글로벌인문학부대학</a></li>\\n\\t\\t\\t\\t\\t\\t<li><a href=\"/ko/edu/cheonan01.do#lnk02\" title=\"디자인대학 바로가기\">디자인대학</a></li>\\n\\t\\t\\t\\t\\t\\t<li><a href=\"/ko/edu/cheonan01.do#lnk03\" title=\"예술대학 바로가기\">예술대학</a></li>\\n\\t\\t\\t\\t\\t\\t<li><a href=\"/ko/edu/cheonan01.do#lnk04\" title=\"융합기술대학 바로가기\">융합기술대학</a></li>\\n\\t\\t\\t\\t\\t\\t<li><a href=\"/ko/edu/cheonan01.do#lnk05\" title=\"공과대학 바로가기\">공과대학</a></li>\\n\\t\\t\\t\\t\\t\\t<!--li class=\"sel-tit\">-대학원-</li>\\n\\t\\t\\t\\t\\t\\t<li><a href=\"/grad/index.do\" target=\"_blank\" title=\"일반대학원 바로가기\">일반대학원</a></li>\\n\\t\\t\\t\\t\\t\\t<li><a href=\"/edu/index.do\" target=\"_blank\" title=\"교육대학원 바로가기\">교육대학원</a></li>\\n\\t\\t\\t\\t\\t\\t<li><a href=\"/wac/index.do\" target=\"_blank\" title=\"복지상담대학원 바로가기\">복지상담대학원</a></li>\\n\\t\\t\\t\\t\\t\\t<li><a href=\"/mft/index.do\" target=\"_blank\" title=\"경영대학원 바로가기\">경영대학원</a></li>\\n\\t\\t\\t\\t\\t\\t<li><a href=\"/gsct/index.do\" target=\"_blank\" title=\"문화기술대학원 바로가기\">문화기술대학원</a></li>\\n\\t\\t\\t\\t\\t\\t<li><a href=\"/cart/index.do\" target=\"_blank\" title=\"예술디자인대학원 바로가기\">예술디자인대학원</a></li-->\\n\\t\\t\\t\\t\\t\\t\\n\\t\\t\\t\\t\\t\\t<li class=\"sel-tit\">-대학원-</li>\\n\\t\\t\\t\\t\\t\\t<li><a href=\"/grad\" target=\"_blank\" title=\"일반대학원 새창열림\">일반대학원</a></li>\\n\\t\\t\\t\\t\\t\\t<li><a href=\"/edu\" target=\"_blank\" title=\"교육대학원 새창열림\">교육대학원</a></li>\\n\\t\\t\\t\\t\\t\\t<li><a href=\"/wac\" target=\"_blank\" title=\"복지상담대학원 새창열림\">상담대학원</a></li>\\n\\t\\t\\t\\t\\t\\t<li><a href=\"/mft\" target=\"_blank\" title=\"경영대학원 새창열림\">경영대학원</a></li>\\n\\t\\t\\t\\t\\t\\t<li><a href=\"/gsct\" target=\"_blank\" title=\"문화기술대학원 새창열림\">문화기술대학원</a></li>\\n\\t\\t\\t\\t\\t\\t\\n\\t\\t\\t\\t\\t</ul>\\n\\t\\t\\t\\t</div>\\n\\t\\t\\t\\t<div class=\"foot-sel-box\">\\n\\t\\t\\t\\t\\t<a href=\"#n\" class=\"sel2\" title=\"주요서비스 목록 보기\"><span>주요서비스</span></a>\\n\\t\\t\\t\\t\\t<ul>\\n\\t\\t\\t\\t\\t\\n\\t\\t\\t\\t\\t\\t<li><a href=\"https://sugang.smu.ac.kr/exsignon/sso/sso_index.jsp\" target=\"_blank\" title=\"수강신청 새창열림\">수강신청</a></li>\\n\\t\\t\\t\\t\\t\\t<li><a href=\"http://mypc.smu.ac.kr/\" target=\"_blank\" title=\"내pc지킴이 새창열림\">내pc지킴이</a></li>\\n\\t\\t\\t\\t\\t\\t<li><a href=\"http://vaccine.smu.ac.kr/\" target=\"_blank\" title=\"백신설치 새창열림\">백신설치</a></li>\\n\\t\\t\\t\\t\\t\\t<li><a href=\"http://rc.smu.ac.kr/\" target=\"_blank\" title=\"원격지원서비스 새창열림\">원격지원서비스</a></li>\\n\\t\\t\\t\\t\\t\\t<li><a href=\"https://office.sangmyung.kr/adfs/ls/?cbcxt=&vv=&username=&mkt=&lc=1042&wa=wsignin1.0&wtrealm=urn:federation:MicrosoftOnline&wctx=MEST%3D0%26LoginOptions%3D2%26wa%3Dwsignin1.0%26rpsnv%3D2%26ct%3D1355945139%26rver%3D6.1.6206.0%26wp%3DMCMBI%26wreply%3Dhttps:%252F%252Fportal.microsoftonline.com%252Flanding.aspx%253Ftarget%253D%25252fdefault.aspx%26lc%3D1042%26id%3D271346%26bk%3D1355945139\" target=\"_blank\" title=\"Office365 새창열림\">Office365</a></li>\\n\\t\\t\\t\\t\\t\\t<li><a href=\"http://pv.smu.ac.kr/\" target=\"_blank\" title=\"Privacy-i 새창열림\">Privacy-i</a></li>\\n\\t\\t\\t\\t\\t\\t<li>\\n\\t\\t\\t\\t\\t\\t\\t<a href=\"/grad/copykiller.jsp\" target=\"_self\"  title=\"카피킬러 바로가기\">카피킬러</a>\\n\\t\\t\\t\\t\\t\\t</li>\\n\\t\\t\\t\\t\\t</ul>\\n\\t\\t\\t\\t</div>\\n\\t\\t\\t\\t<div class=\"foot-sel-box\">\\n\\t\\t\\t\\t\\t<a href=\"#n\" class=\"sel3\" title=\"주요사이트 목록 보기\"><span>주요사이트</span></a>\\n\\t\\t\\t\\t\\t<!--ul>\\n\\t\\t\\t\\t\\t\\t<li class=\"sel-tit\">-서울캠퍼스-</li>\\n\\t\\t\\t\\t\\t\\t<li><a href=\"/smgs/index.do\" target=\"_blank\">계당교양교육원</a></li>\\n\\t\\t\\t\\t\\t\\t<li><a href=\"/smuni/index.do\" target=\"_blank\">계약학과</a></li>\\n\\t\\t\\t\\t\\t\\t<li><a href=\"/icee/index.do\" target=\"_blank\">공학교육혁신센터</a></li>\\n\\t\\t\\t\\t\\t\\t<li><a href=\"/ctl/index.do\" target=\"_blank\">교수학습개발센터</a></li>\\n\\t\\t\\t\\t\\t\\t<li><a href=\"/crai/index.do\" target=\"_blank\">교육혁신연구평가센터</a></li>\\n\\t\\t\\t\\t\\t\\t<li><a href=\"/edunet/index.do\" target=\"_blank\">교직지원센터</a></li>\\n\\t\\t\\t\\t\\t\\t<li><a href=\"/international/index.do\" target=\"_blank\">국제언어문화교육원</a></li>\\n\\t\\t\\t\\t\\t\\t<li><a href=\"/oia/index.do\" target=\"_blank\">대외협력처</a></li>\\n\\t\\t\\t\\t\\t\\t<li><a href=\"/inno/index.do\" target=\"_blank\">대학교육혁신원</a></li>\\n\\t\\t\\t\\t\\t\\t<li><a href=\"/museum/index.do\" target=\"_blank\">박물관</a></li>\\n\\t\\t\\t\\t\\t\\t<li><a href=\"/fund/index.do\" target=\"_blank\">발전기금팀</a></li>\\n\\t\\t\\t\\t\\t\\t<li><a href=\"/extracur/index.do\" target=\"_blank\">비교과통합지원센터</a></li>\\n\\t\\t\\t\\t\\t\\t<li><a href=\"/iacf/index.do\" target=\"_blank\">산학협력단</a></li>\\n\\t\\t\\t\\t\\t\\t<li><a href=\"/pum/index.do\" target=\"_blank\">상명가족아동상담교육센터</a></li>\\n\\t\\t\\t\\t\\t\\t<li><a href=\"/smarts/index.do\" target=\"_blank\">상명아트센터</a></li>\\n\\t\\t\\t\\t\\t\\t<li><a href=\"/smkids/index.do\" target=\"_blank\">상명행복어린이집</a></li>\\n\\t\\t\\t\\t\\t\\t<li><a href=\"/stcenter/index.do\" target=\"_blank\">의사소통능력개발센터</a></li>\\n\\t\\t\\t\\t\\t\\t<li><a href=\"/changup/index.do\" target=\"_blank\">창업지원단</a></li>\\n\\t\\t\\t\\t\\t\\t<li><a href=\"/lifelong/index.do\" target=\"_blank\">평생교육원</a></li>\\n\\t\\t\\t\\t\\t\\t<li><a href=\"/musiccon/index.do\" target=\"_blank\">평생교육원 학점은행제</a></li>\\n\\t\\t\\t\\t\\t\\t<li><a href=\"/202/index.do\" target=\"_blank\">학생군사교육단</a></li>\\n\\t\\t\\t\\t\\t\\t<li><a href=\"/center/index.do\" target=\"_blank\">학생상담센터, 양성평등센터</a></li>\\n\\t\\t\\t\\t\\t\\t<li><a href=\"/dormi/index.do\" target=\"_blank\">학생생활관</a></li>\\n\\t\\t\\t\\t\\t\\t<li><a href=\"http://open.smu.ac.kr/\" target=\"_blank\">openSMU</a></li>\\n\\t\\t\\t\\t\\t\\t<li class=\"sel-tit\">-2캠퍼스(천안)-</li>\\n\\t\\t\\t\\t\\t\\t<li><a href=\"/ctl/index.do\" target=\"_blank\">교수학습개발센터</a></li>\\n\\t\\t\\t\\t\\t\\t<li><a href=\"/international/index.do\" target=\"_blank\">국제언어문화교육원</a></li>\\n\\t\\t\\t\\t\\t\\t<li><a href=\"/uni/index.do\" target=\"_blank\">대외협력처</a></li>\\n\\t\\t\\t\\t\\t\\t<li><a href=\"/dc_new/index.do\" target=\"_blank\">상명수련원</a></li>\\n\\t\\t\\t\\t\\t\\t<li><a href=\"/rotc2021/index.do\" target=\"_blank\">학생군사교육단</a></li>\\n\\t\\t\\t\\t\\t\\t<li><a href=\"/scc/index.do\" target=\"_blank\">학생상담센터, 양성평등센터</a></li>\\n\\t\\t\\t\\t\\t\\t<li><a href=\"/dormi2/index.do\" target=\"_blank\">학생생활관</a></li>\\n\\t\\t\\t\\t\\t</ul-->\\n\\t\\t\\t\\t\\t<ul>\\n\\t\\t\\t\\t\\t\\t<li class=\"sel-tit\">-서울캠퍼스-</li>\\n\\t\\t\\t\\t\\t\\t<li><a href=\"/smgs\" target=\"_blank\" title=\"계당교양교육원 새창열림\">계당교양교육원</a></li>\\n\\t\\t\\t\\t\\t\\t<li><a href=\"/smuni\" target=\"_blank\" title=\"계약학과 새창열림\">계약학과</a></li>\\n\\t\\t\\t\\t\\t\\t<li><a href=\"/icee\" target=\"_blank\" title=\"공학교육혁신센터 새창열림\">공학교육혁신센터</a></li>\\n\\t\\t\\t\\t\\t\\t<li><a href=\"/ctl\" target=\"_blank\" title=\"교수학습개발센터 새창열림\">교수학습개발센터</a></li>\\n\\t\\t\\t\\t\\t\\t<li><a href=\"/crai\" target=\"_blank\" title=\"교육혁신연구평가센터 새창열림\">교육혁신연구평가센터</a></li>\\n\\t\\t\\t\\t\\t\\t<li><a href=\"/edunet\" target=\"_blank\" title=\"교직지원센터 새창열림\">교직지원센터</a></li>\\n\\t\\t\\t\\t\\t\\t<li><a href=\"/international\" target=\"_blank\" title=\"국제언어문화교육원 새창열림\">국제언어문화교육원</a></li>\\n\\t\\t\\t\\t\\t\\t<li><a href=\"/oia\" target=\"_blank\" title=\"대외협력처 새창열림\">대외협력처</a></li>\\n\\t\\t\\t\\t\\t\\t<li><a href=\"/inno\" target=\"_blank\" title=\"대학교육혁신원 새창열림\">대학교육혁신원</a></li>\\n\\t\\t\\t\\t\\t\\t<li><a href=\"/museum\" target=\"_blank\" title=\"박물관 새창열림\">박물관</a></li>\\n\\t\\t\\t\\t\\t\\t<li><a href=\"/fund\" target=\"_blank\" title=\"발전기금팀 새창열림\">발전기금팀</a></li>\\n\\t\\t\\t\\t\\t\\t<li><a href=\"/extracur\" target=\"_blank\" title=\"비교과통합지원센터 새창열림\">비교과통합지원센터</a></li>\\n\\t\\t\\t\\t\\t\\t<li><a href=\"/pum\" target=\"_blank\" title=\"상명가족아동상담교육센터 새창열림\">상명가족아동상담교육센터</a></li>\\n\\t\\t\\t\\t\\t\\t<li><a href=\"/smarts\" target=\"_blank\" title=\"상명아트센터 새창열림\">상명아트센터</a></li>\\n\\t\\t\\t\\t\\t\\t<li><a href=\"/smkids\" target=\"_blank\" title=\"상명행복어린이집 새창열림\">상명행복어린이집</a></li>\\n\\t\\t\\t\\t\\t\\t<li><a href=\"/press\" target=\"_blank\" title=\"신문방송국 새창열림\">신문방송국</a></li>\\n\\t\\t\\t\\t\\t\\t<li><a href=\"/stcenter\" target=\"_blank\" title=\"의사소통능력개발센터 새창열림\">의사소통능력개발센터</a></li>\\n\\t\\t\\t\\t\\t\\t<li><a href=\"/changup\" target=\"_blank\" title=\"창업지원단 새창열림\">창업지원단</a></li>\\n\\t\\t\\t\\t\\t\\t<li><a href=\"/lifelong\" target=\"_blank\" title=\"평생교육원 새창열림\">평생교육원</a></li>\\n\\t\\t\\t\\t\\t\\t<li><a href=\"/musiccon\" target=\"_blank\" title=\"평생교육원 학점은행제 새창열림\">평생교육원 학점은행제</a></li>\\n\\t\\t\\t\\t\\t\\t<li><a href=\"/202\" target=\"_blank\" title=\"학생군사교육단 새창열림\">학생군사교육단</a></li>\\n\\t\\t\\t\\t\\t\\t<li><a href=\"/center\" target=\"_blank\" title=\"학생상담센터, 양성평등센터 새창열림\">학생상담센터, 양성평등센터</a></li>\\n\\t\\t\\t\\t\\t\\t<li><a href=\"/dormi\" target=\"_blank\" title=\"학생생활관 새창열림\">학생생활관</a></li>\\n\\t\\t\\t\\t\\t\\t<li><a href=\"http://open.smu.ac.kr/\" target=\"_blank\" title=\"openSMU 새창열림\">openSMU</a></li>\\n\\t\\t\\t\\t\\t\\t<li><a href=\"http://swai.smu.ac.kr/\" target=\"_blank\" title=\"SW중심대학사업단 새창열림\">SW중심대학사업단</a></li>\\n\\t\\t\\t\\t\\t\\t<li class=\"sel-tit\">-천안캠퍼스-</li>\\n\\t\\t\\t\\t\\t\\t<li><a href=\"/ctlc\" target=\"_blank\" title=\"교수학습개발센터 새창열림\">교수학습개발센터</a></li>\\n\\t\\t\\t\\t\\t\\t<li><a href=\"/cilcec\" target=\"_blank\" title=\"국제언어문화교육원 새창열림\">국제언어문화교육원</a></li>\\n\\t\\t\\t\\t\\t\\t<li><a href=\"/uni\" target=\"_blank\" title=\"대외협력처 새창열림\">대외협력처</a></li>\\n\\t\\t\\t\\t\\t\\t<li><a href=\"/dc\" target=\"_blank\" title=\"상명수련원 새창열림\">상명수련원</a></li>\\n\\t\\t\\t\\t\\t\\t<li><a href=\"/iacf\" target=\"_blank\" title=\"산학협력단 새창열림\">산학협력단</a></li>\\n\\t\\t\\t\\t\\t\\t<li><a href=\"/rotc2021\" target=\"_blank\" title=\"학생군사교육단 새창열림\">학생군사교육단</a></li>\\n\\t\\t\\t\\t\\t\\t<li><a href=\"/scc\" target=\"_blank\" title=\"학생상담센터, 양성평등센터 새창열림\">학생상담센터, 양성평등센터</a></li>\\n\\t\\t\\t\\t\\t\\t<li><a href=\"/dormi2\" target=\"_blank\" title=\"학생생활관 새창열림\">학생생활관</a></li>\\n\\t\\t\\t\\t\\t</ul>\\n\\t\\t\\t\\t</div>\\n\\t\\t\\t</div>\\n\\t\\t\\t<div>\\n\\t\\t\\t\\t<!--<span class=\"foot-lang\">\\n\\t\\t\\t\\t\\t<a href=\"#n\">국문</a>\\n\\t\\t\\t\\t\\t<a href=\"#n\">中文</a>\\n\\t\\t\\t\\t\\t<a href=\"#n\">tiếng Việt</a>\\n\\t\\t\\t\\t\\t<a href=\"#n\">ENG</a>\\n\\t\\t\\t\\t</span>-->\\n\\t\\t\\t\\t<span class=\"foot-sns\">\\n\\t\\t\\t\\t\\t<a href=\"https://www.facebook.com/sangmyung37\" target=\"_blank\" title=\"상명대학교 페이스북 새창열림\"><img src=\"/_res/lounge/img/common/ic-sns-facebook.png\" alt=\"페이스북\" /></a>\\n\\t\\t\\t\\t\\t<a href=\"https://twitter.com/sangmyungpr\" target=\"_blank\" title=\"상명대학교 트위터 새창열림\"><img src=\"/_res/lounge/img/common/ic-sns-twit.png\" alt=\"트위터\" /></a>\\n\\t\\t\\t\\t\\t<a href=\"https://www.instagram.com/gift_smu\" target=\"_blank\" title=\"상명대학교 인스타그램 새창열림\"><img src=\"/_res/lounge/img/common/ic-sns-insta.png\" alt=\"인스타그램\" /></a>\\n\\t\\t\\t\\t\\t<a href=\"https://www.youtube.com/channel/UCh_BQbTg1TAx-GA9SFGZwBA\" target=\"_blank\" title=\"상명대학교 유튜브 새창열림\"><img src=\"/_res/lounge/img/common/ic-sns-utube.png\" alt=\"유튜브\" /></a>\\n\\t\\t\\t\\t</span>\\n\\t\\t\\t</div>\\n\\t\\t</div>\\n        <address>            \\n            <ul class=\"footer-contact\">\\n                <li>\\n                    서울캠퍼스 : <a href=\"tel:02-2287-5114\" title=\"전화걸기\">02-2287-5114</a> (우 03016) 서울시 종로구 홍지문 2길 20 상명대학교</li>\\n\\t\\t\\t\\t<li>\\n                    천안캠퍼스 : <a href=\"tel:041-550-5114\" title=\"전화걸기\">041-550-5114</a> (우 31066) 충청남도 천안시 동남구 상명대길 31 상명대학교</li>\\n                <li>\\n                    COPYRIGHT BY SANGMYUNG UNIVERSITY. ALL RIGHTS RESERVED.</li>\\n            </ul>\\t\\t\\t\\n        </address>\\t\\t\\n    </div>\\n    <a href=\"#\" title=\"상단 이동\" class=\"scroll-top-btn\"><img src=\"/_res/lounge/img/common/btn_scroll_top.png\" alt=\"top\" /></a> \\n</div>\\n</footer>\\n</div>\\n<noscript><p>이 사이트는 자바스크립트를 지원하지 않으면 정상적으로 보이지 않을수 있습니다.</p></noscript>\\r\\n</body>\\r\\n</html>'"
      ]
     },
     "execution_count": 77,
     "metadata": {},
     "output_type": "execute_result"
    }
   ],
   "source": [
    "res.text"
   ]
  },
  {
   "cell_type": "code",
   "execution_count": 129,
   "id": "5330bc88",
   "metadata": {},
   "outputs": [],
   "source": [
    "soup = BeautifulSoup(res.text, 'html.parser')"
   ]
  },
  {
   "cell_type": "code",
   "execution_count": 80,
   "id": "2b0460dd",
   "metadata": {},
   "outputs": [],
   "source": [
    "table = soup.select('.board-thumb-wrap > li')"
   ]
  },
  {
   "cell_type": "code",
   "execution_count": 82,
   "id": "0e7f8338",
   "metadata": {},
   "outputs": [
    {
     "data": {
      "text/plain": [
       "7"
      ]
     },
     "execution_count": 82,
     "metadata": {},
     "output_type": "execute_result"
    }
   ],
   "source": [
    "len(table)"
   ]
  },
  {
   "cell_type": "code",
   "execution_count": 83,
   "id": "5746cc1b",
   "metadata": {},
   "outputs": [
    {
     "data": {
      "text/plain": [
       "<li class=\"\">\n",
       "<dl class=\"board-thumb-content-wrap board-thumb-content-wrap-v01\">\n",
       "<dt class=\"board-thumb-content-title\">\n",
       "<a href=\"?mode=view&amp;articleNo=698890&amp;article.offset=0&amp;articleLimit=10\" style=\"  \" target=\"\" title=\"Office365(학생메일) 사용법 자세히 보기\">\n",
       "\t\t\t\t\t\tOffice365(학생메일) 사용법\n",
       "\t\t\t\t\t\t\t\n",
       "\t\t\t\t\t\t\t</a>\n",
       "</dt>\n",
       "<dd class=\"board-thumb-content-info\">\n",
       "<ul>\n",
       "<li class=\"board-thumb-content-writer\">\n",
       "<span class=\"hide\">작성자</span>\n",
       "\t\t\t\t\t\t\t통합 관리자\n",
       "\t\t\t\t\t\t</li>\n",
       "<li class=\"board-thumb-content-date\">\n",
       "<span class=\"hide\">작성일</span>\n",
       "\t\t\t\t\t\t\t2019-04-03\n",
       "\t\t\t\t\t\t</li>\n",
       "<li class=\"board-thumb-content-views\">\n",
       "<span class=\"hide\">조회수</span>\n",
       "\t\t\t\t\t\t\t67081\n",
       "\t\t\t\t\t\t</li>\n",
       "</ul>\n",
       "</dd>\n",
       "</dl>\n",
       "<div class=\"list-file\"></div>\n",
       "</li>"
      ]
     },
     "execution_count": 83,
     "metadata": {},
     "output_type": "execute_result"
    }
   ],
   "source": [
    "table[0]"
   ]
  },
  {
   "cell_type": "code",
   "execution_count": 86,
   "id": "c7279ebb",
   "metadata": {},
   "outputs": [
    {
     "data": {
      "text/plain": [
       "'Office365(학생메일) 사용법'"
      ]
     },
     "execution_count": 86,
     "metadata": {},
     "output_type": "execute_result"
    }
   ],
   "source": [
    "title = table[0].select_one('a').text.replace('\\n','').replace('\\t','')\n",
    "title"
   ]
  },
  {
   "cell_type": "code",
   "execution_count": 88,
   "id": "b2f3addf",
   "metadata": {},
   "outputs": [
    {
     "data": {
      "text/plain": [
       "'작성자통합 관리자'"
      ]
     },
     "execution_count": 88,
     "metadata": {},
     "output_type": "execute_result"
    }
   ],
   "source": [
    "author = table[0].select_one('.board-thumb-content-writer').text.replace('\\r','').replace('\\t','').replace('\\n','')\n",
    "author"
   ]
  },
  {
   "cell_type": "code",
   "execution_count": 89,
   "id": "b8081a10",
   "metadata": {},
   "outputs": [
    {
     "data": {
      "text/plain": [
       "'?mode=view&articleNo=698890&article.offset=0&articleLimit=10'"
      ]
     },
     "execution_count": 89,
     "metadata": {},
     "output_type": "execute_result"
    }
   ],
   "source": [
    "param = table[0].select_one('a').get('href')\n",
    "param"
   ]
  },
  {
   "cell_type": "markdown",
   "id": "7df7b5e2",
   "metadata": {},
   "source": [
    "### 세부 게시물 크롤링"
   ]
  },
  {
   "cell_type": "code",
   "execution_count": 116,
   "id": "01884b17",
   "metadata": {},
   "outputs": [],
   "source": [
    "url = \"https://www.smu.ac.kr/lounge/qna/faq.do?mode=view&articleNo=698890&article.offset=0&articleLimit=10\""
   ]
  },
  {
   "cell_type": "code",
   "execution_count": 117,
   "id": "4ac8cd72",
   "metadata": {},
   "outputs": [
    {
     "data": {
      "text/plain": [
       "<Response [200]>"
      ]
     },
     "execution_count": 117,
     "metadata": {},
     "output_type": "execute_result"
    }
   ],
   "source": [
    "res = requests.get(url)\n",
    "res"
   ]
  },
  {
   "cell_type": "code",
   "execution_count": 118,
   "id": "9d6584a2",
   "metadata": {},
   "outputs": [],
   "source": [
    "soup = BeautifulSoup(res.text, 'html.parser')"
   ]
  },
  {
   "cell_type": "code",
   "execution_count": 94,
   "id": "90c84c4d",
   "metadata": {},
   "outputs": [
    {
     "data": {
      "text/plain": [
       "\n",
       "<!DOCTYPE html>\n",
       "\n",
       "<html class=\"no-js\" lang=\"ko\">\n",
       "<head>\n",
       "<!-- Global site tag (gtag.js) - Google Analytics -->\n",
       "<script async=\"\" src=\"https://www.googletagmanager.com/gtag/js?id=UA-129351146-1\"></script>\n",
       "<script>\n",
       "  window.dataLayer = window.dataLayer || [];\n",
       "  function gtag(){dataLayer.push(arguments);}\n",
       "  gtag('js', new Date());\n",
       "\n",
       "  gtag('config', 'UA-129351146-1');\n",
       "</script>\n",
       "<title>상명라운지 | 상명 Q&amp;A | 자주하는 질문 게시판읽기(Office365(학생메일) 사용법) | 상명라운지</title>\n",
       "<meta content=\"text/html; charset=utf-8\" http-equiv=\"Content-Type\"/>\n",
       "<meta content=\"IE=edge\" http-equiv=\"X-UA-Compatible\"/>\n",
       "<meta content=\"width=device-width,initial-scale=1.0,minimum-scale=1.0,maximum-scale=1.0,user-scalable=no\" name=\"viewport\"/>\n",
       "<link href=\"https://www.smu.ac.kr:443/lounge/qna/faq.do\" rel=\"canonical\"/>\n",
       "<link href=\"https://fonts.googleapis.com/css?family=Cardo\" rel=\"stylesheet\"/>\n",
       "<link href=\"/_common/cms.css\" rel=\"stylesheet\" type=\"text/css\">\n",
       "<link href=\"/_res/lounge/_css/layout.css\" rel=\"stylesheet\" type=\"text/css\"/>\n",
       "<!--[if IE 8]>\n",
       "\t<link rel=\"stylesheet\" type=\"text/css\" href=\"/_common/ie8.css\" />\n",
       "<![endif]-->\n",
       "<link href=\"/_res/lounge/_css/new-css.css\" rel=\"stylesheet\" type=\"text/css\"/>\n",
       "<link href=\"/_custom/smu/resource/css/board.etc.css\" rel=\"stylesheet\" type=\"text/css\"/>\n",
       "<link href=\"/_res/board/_css/user.css\" rel=\"stylesheet\" type=\"text/css\"/>\n",
       "<link href=\"/_res/board/_css/attach.css\" rel=\"stylesheet\" type=\"text/css\"/>\n",
       "<link href=\"/_common/css/toastr.css\" rel=\"stylesheet\" type=\"text/css\"/>\n",
       "<link href=\"/_common/css/ui.datepicker.css\" rel=\"stylesheet\" type=\"text/css\"/>\n",
       "<link href=\"/_custom/smu/resource/css/datetimepicker.css\" rel=\"stylesheet\" type=\"text/css\"/>\n",
       "<link href=\"/_common/css/jquery.ui-selectBox.css\" rel=\"stylesheet\" type=\"text/css\"/>\n",
       "<link href=\"/_res/lounge/_css/owl.css\" rel=\"stylesheet\" type=\"text/css\"/>\n",
       "<link href=\"/_res/lounge/_css/import.css\" rel=\"stylesheet\" type=\"text/css\"/>\n",
       "<link href=\"/_res/lounge/_css/fullcalendar.css\" rel=\"stylesheet\" type=\"text/css\"/>\n",
       "<link href=\"/_res/lounge/_css/user.css\" rel=\"stylesheet\" type=\"text/css\"/>\n",
       "<script src=\"/_res/lounge/_js/user/moment.min.js\" type=\"text/javascript\"></script>\n",
       "<script src=\"/_common/js/jquery/jquery-1.9.1.js\" type=\"text/javascript\"></script>\n",
       "<script src=\"/_common/js/jquery/jquery-ui-1.11.4.min.js\" type=\"text/javascript\"></script>\n",
       "<script type=\"text/javascript\">\n",
       "//<![CDATA[\n",
       "\tvar _thisHost = location.protocol+'//'+location.host, _thisUrl = document.location.href,_so_ = false,_cur_menu_cd = '7384',_edit_content = false,front_page_edit = true,zooInOutMode = 'font',_reouscePath = '/_res/lounge/',editorVendor = 'froala',sslYN = 'N',sslPort = '8443',servicePort = '',developMode = false,device='pc',isMobile=false,_cfgUseDevMode = false,_siteId = 'lounge',printSelector = '#jwxe_main_content',ctx = '',rootPath = '',locale= 'ko',localeScriptPath='/_custom/smu/resource/js/';\n",
       "//]]>\n",
       "</script>\n",
       "<script src=\"/_common/cms.js\" type=\"text/javascript\"></script>\n",
       "<script src=\"/_res/lounge/_js/user/new-js.js\" type=\"text/javascript\"></script>\n",
       "<script src=\"/_res/board/_js/user/common.js\" type=\"text/javascript\"></script>\n",
       "<script src=\"/_common/js/toastr.js\" type=\"text/javascript\"></script>\n",
       "<script src=\"/_common/js/jquery-plugin/selectBox.min.js\" type=\"text/javascript\"></script>\n",
       "<script src=\"/_custom/smu/resource/js/board.common.js\" type=\"text/javascript\"></script>\n",
       "<script src=\"/_common/js/datepicker/ui.datepicker.all.js\" type=\"text/javascript\"></script>\n",
       "<script src=\"/_custom/smu/resource/js/datetimepicker.js\" type=\"text/javascript\"></script>\n",
       "<script src=\"/_custom/smu/resource/js/board.article.sns.share.js\" type=\"text/javascript\"></script>\n",
       "<script src=\"/_common/js/iframe/iframeResizer.min.js\" type=\"text/javascript\"></script>\n",
       "<script src=\"/_res/lounge/_js/user/owl.js\" type=\"text/javascript\"></script>\n",
       "<script src=\"/_res/lounge/_js/user/fullcalendar.min.js\" type=\"text/javascript\"></script>\n",
       "<script src=\"/_res/lounge/_js/user/m_mn.js\" type=\"text/javascript\"></script>\n",
       "<script src=\"/_res/lounge/_js/user/jquery.rwdImageMaps.min.js\" type=\"text/javascript\"></script>\n",
       "<script src=\"/_res/lounge/_js/user/foot_lnk.js\" type=\"text/javascript\"></script>\n",
       "<script src=\"/_res/lounge/_js/user.js\" type=\"text/javascript\"></script>\n",
       "</link></head>\n",
       "<body class=\"pc\" id=\"item_body\">\n",
       "<ul id=\"go_main\">\n",
       "<li><a href=\"#jwxe_main_menu\">주메뉴 바로가기</a></li>\n",
       "<li><a href=\"#jwxe_main_content\">본문 바로가기</a></li>\n",
       "<li><a href=\"#jwxe_footer\">하단 바로가기</a></li>\n",
       "</ul>\n",
       "<div id=\"wrap\">\n",
       "<header>\n",
       "<div class=\"header-new-wrap\">\n",
       "<!-- 상단 header -->\n",
       "<div class=\"top-header-new-wrap\">\n",
       "<div class=\"top-header-new-box\">\n",
       "<div class=\"top-logo\">\n",
       "<a href=\"/ko/index.do\" title=\"상명대학교 바로가기\"><img alt=\"상명대학교\" class=\"logo-ico\" src=\"/_res/ko/img/common/logo01.png\"/><img alt=\"상명대학교\" src=\"/_res/ko/img/main/logo-kr.png\"/></a></div>\n",
       "<!--<img class=\"logo-ico\" src=\"/_res/ko/img/common/logo01_w.png\" alt=\"상명대학교\" style=\"height:26px\"/>-->\n",
       "<ul class=\"util-box-first\">\n",
       "<li>\n",
       "<a href=\"/ko/service/sangmyung-people.do\" title=\"상명인 바로가기\">상명인</a></li>\n",
       "<li>\n",
       "<a href=\"/ko/service/examinee.do\" title=\"입학생 바로가기\">입학생</a></li>\n",
       "<li>\n",
       "<a href=\"/ko/service/staff.do\" title=\"교직원 바로가기\">교직원</a></li>\n",
       "<li class=\"last\">\n",
       "<a href=\"/ko/service/graduate.do\" title=\"졸업생 바로가기\">졸업생</a></li>\n",
       "</ul>\n",
       "<ul class=\"util-box-middle\">\n",
       "<li>\n",
       "<a href=\"http://admission.smu.ac.kr/\" title=\"입학 바로가기\">입학</a></li>\n",
       "<li class=\"last\">\n",
       "<a href=\"https://sugang.smu.ac.kr\" target=\"_blank\" title=\"2022학년도 하계특별학기 수강신청 바로가기\">하계특별학기 수강신청</a></li>\n",
       "</ul>\n",
       "<!--<ul class=\"util-box-middle2\">\n",
       "\t\t\t\t\t<li>\n",
       "\t\t\t\t\t<a href=\"http://admission.smu.ac.kr/\" title=\"입학 바로가기\">입학</a></li>\n",
       "\t\t\t\t<li>\n",
       "\t\t\t\t\t<a href=\"https://jobfair.smu.ac.kr\" title=\"2021 직무박람회 바로가기\" target=\"_blank\">2021 직무박람회</a></li>\n",
       "\t\t\t</ul>-->\n",
       "<ul class=\"util-box-last\">\n",
       "<li class=\"last\">\n",
       "<a href=\"https://www.smu.ac.kr/lounge/notice/notice.do?mode=list&amp;srCategoryId1=220&amp;srCampus=&amp;srSearchKey=&amp;srSearchVal=\" target=\"_blank\" title=\"코로나19 공지사항 바로가기\">코로나19</a></li>\n",
       "</ul>\n",
       "<div class=\"top-btn-new-wrap\">\n",
       "<ul class=\"util-box-second\">\n",
       "<li>\n",
       "<a class=\"login\" href=\"javascript:loginPopupOpen();\">Login</a>\n",
       "<li>\n",
       "<a class=\"btn-language\" href=\"#a\">KOR</a>\n",
       "<div class=\"language-box\">\n",
       "<ul>\n",
       "<li><a href=\"/eng1/\" target=\"_blank\" title=\"상명대학교 영문 바로가기\">ENG</a></li>\n",
       "<li><a href=\"/ch/\" target=\"_blank\" title=\"상명대학교 중문 바로가기\">CHN</a></li>\n",
       "<li><a href=\"/tien/\" target=\"_blank\" title=\"상명대학교 베트남 바로가기\">VNM</a></li>\n",
       "</ul>\n",
       "</div>\n",
       "</li>\n",
       "<li><a class=\"btn-sitemap-new\" href=\"#n\">Sitemap</a></li>\n",
       "</li></ul>\n",
       "<a class=\"btn-main-cal btn-cal\" href=\"#a\" title=\"calendar\">Calendar</a>\n",
       "<a class=\"btn-main-srch\" href=\"#a\" title=\"Search\">Search</a>\n",
       "<a class=\"btn-menu\" href=\"#a\" title=\"menu\"><img alt=\"menu\" src=\"/_res/ko/img/common/btn-m-mn.png\"/></a>\n",
       "</div>\n",
       "</div>\n",
       "</div>\n",
       "<!-- 검색영역 -->\n",
       "<div class=\"main-srch-new-wrap\">\n",
       "<div id=\"site-search\">\n",
       "<form accept-charset=\"UTF-8\" action=\"/search/search.do\" id=\"search-form\" method=\"get\">\n",
       "<div id=\"search-type\">\n",
       "<h2>Search sangmyung :</h2>\n",
       "<input checked=\"checked\" class=\"radio-search\" id=\"search-web\" name=\"menu\" type=\"radio\" value=\"통합검색\"/>\n",
       "<label for=\"search-web\">웹</label>\n",
       "<input class=\"radio-search\" id=\"search-people\" name=\"menu\" type=\"radio\" value=\"교수검색\"/>\n",
       "<label for=\"search-people\">교수</label>\n",
       "</div>\n",
       "<label class=\"sr-only-text hide\" for=\"search-field\">Search term</label>\n",
       "<input class=\"input-medium\" id=\"search-field\" maxlength=\"128\" name=\"qt\" placeholder=\"검색어를 입력해 주세요...\" size=\"15\" title=\"Search string\" type=\"text\" value=\"\"/>\n",
       "<button aria-label=\"Search\" formmethod=\"get\" id=\"search-btn\" type=\"submit\">검색</button>\n",
       "</form>\n",
       "<p>\n",
       "<span>기타검색방법 : </span>\n",
       "<a href=\"/ko/intro/map_all.do\" title=\"캠퍼스 맵 바로가기\">캠퍼스 맵</a>\n",
       "<a href=\"/ko/intro/equipmentTable.do\" title=\"기구표 바로가기\">기구표</a>\n",
       "<a href=\"/ko/edu/Profile.do\" title=\"프로필 바로가기\">프로필</a>\n",
       "</p>\n",
       "</div>\n",
       "</div>\n",
       "<!-- 검색영역 -->\n",
       "<!-- 캘린더 -->\n",
       "<script src=\"/_custom/smu/resource/js/main.header.calendar.js\" type=\"text/javascript\"></script>\n",
       "<div class=\"pop-wrap pop-calendar\" style=\"display:none\">\n",
       "<article>\n",
       "<h2 class=\"hide\">Calendar</h2>\n",
       "<div class=\"pop-contents\">\n",
       "<!-- 월별 클래스명: 1월:jan, 2월:feb, 3월:mar, 4월:apr, 5월:may, 6월:jul, 7월:jun, 8월:aug, 9월:sep, 10월:oct, 11월:nov, 12월: dec -->\n",
       "<div class=\"\" id=\"cal-img-box\"></div>\n",
       "<div class=\"cal-box\">\n",
       "<ul class=\"chk-list\">\n",
       "<li><input checked=\"checked\" id=\"chk1\" name=\"schedule\" type=\"checkbox\"><label for=\"chk1\">학사일정</label></input></li>\n",
       "<li><input checked=\"checked\" id=\"chk2\" name=\"schedule\" type=\"checkbox\"><label for=\"chk2\">행사일정</label></input></li>\n",
       "</ul>\n",
       "<!-- .main_uni: 학사일정, .main_uni2: 행사일정 -->\n",
       "<!-- 캘린더 영역 -->\n",
       "<div class=\"calendar2\" id=\"header_calendar\"></div>\n",
       "<!-- //캘린더 영역 -->\n",
       "<!-- 캘린더 세부내용 팝업 -->\n",
       "<div id=\"dim-cal\"></div>\n",
       "<div class=\"pop-cal fc-detail-box\" style=\"display: none;\">\n",
       "<article>\n",
       "<h1 class=\"tit-date\"></h1>\n",
       "<table cellpadding=\"0\" cellspacing=\"0\" class=\"smu-table\">\n",
       "<caption>클릭한날짜 행사 일정</caption>--&gt;<!-- caption 값도 같이 바꿔주셔야합니다. >> -->\n",
       "<colgroup>\n",
       "<col width=\"120px\"/>\n",
       "<col width=\"*\"/>\n",
       "</colgroup>\n",
       "<thead>\n",
       "<tr>\n",
       "<th scope=\"col\">일자</th>\n",
       "<th class=\"no-right\" scope=\"col\">내용</th>\n",
       "</tr>\n",
       "</thead>\n",
       "<tbody>\n",
       "<tr><td scope=\"row\">2018.10.18 ~ 2018.10.31</td><td class=\"no-right\"><a href=\"?mode=view&amp;articleNo=287738&amp;boardNo=85\">중간강의평가</a></td></tr>\n",
       "<tr><td scope=\"row\">2018.10.20 ~ 2018.10.26</td><td class=\"no-right\"><a href=\"?mode=view&amp;articleNo=287739&amp;boardNo=85\">중간고사</a></td></tr>\n",
       "</tbody>\n",
       "</table>\n",
       "<a class=\"close\" href=\"#n\"><img alt=\"팝업 닫기\" src=\"/_custom/smu/resource/img/pop-close.png\"/></a>\n",
       "</article>\n",
       "</div>\n",
       "<!-- //캘린더 세부내용 팝업 -->\n",
       "</div>\n",
       "</div>\n",
       "<a class=\"btn-pop-close\" href=\"#n\"><img alt=\"캘린더 팝업 닫기\" src=\"/_res/lounge/img/common/ic-close.png\"/></a>\n",
       "</article>\n",
       "</div>\n",
       "<!-- 캘린더-->\n",
       "<!-- //상단 header -->\n",
       "<div class=\"sitemap-new-wrap\" style=\"display: none;\">\n",
       "<div class=\"sitemap-new-box\">\n",
       "<div>\n",
       "<h1 class=\"map-tit01\">\n",
       "\t\t\t\t\t사이트 맵</h1>\n",
       "<ul>\n",
       "<li>\n",
       "<a href=\"/ko/intro/presidentOffice.do\" title=\"상명소개\">상명소개</a>\n",
       "<ul>\n",
       "<li>\n",
       "<a href=\"/ko/intro/presidentOffice.do\" title=\"열린 총장실\">열린 총장실</a>\n",
       "<ul>\n",
       "<li>\n",
       "<a href=\"/ko/intro/presidentOffice.do\" title=\"총장인사말/프로필\">총장인사말/프로필</a>\n",
       "</li>\n",
       "<li>\n",
       "<a href=\"/ko/intro/sympathyList.do\" title=\"총장동정\">총장동정</a>\n",
       "</li>\n",
       "</ul>\n",
       "</li>\n",
       "<li>\n",
       "<a href=\"/ko/intro/visionStrategy.do\" title=\"발전계획\">발전계획</a>\n",
       "<ul>\n",
       "<li>\n",
       "<a href=\"/ko/intro/visionStrategy.do\" title=\"상명 2027\">상명 2027</a>\n",
       "</li>\n",
       "</ul>\n",
       "</li>\n",
       "<li>\n",
       "<a href=\"/ko/intro/history2022.do\" title=\"역사/상징\">역사/상징</a>\n",
       "<ul>\n",
       "<li>\n",
       "<a href=\"/ko/intro/history2022.do\" title=\"연혁\">연혁</a>\n",
       "</li>\n",
       "<li>\n",
       "<a href=\"/ko/intro/eduIdeology.do\" title=\"교육이념\">교육이념</a>\n",
       "</li>\n",
       "<li>\n",
       "<a href=\"/ko/intro/talent.do\" title=\"인재상\">인재상</a>\n",
       "</li>\n",
       "<li>\n",
       "<a href=\"/ko/intro/symbol1.do\" title=\"상명상징\">상명상징</a>\n",
       "</li>\n",
       "<li>\n",
       "<a href=\"/ko/intro/uiLogo.do\" title=\"UI디자인\">UI디자인</a>\n",
       "</li>\n",
       "<li>\n",
       "<a href=\"/ko/intro/schoolSong1.do\" title=\"교가 및 학원가\">교가 및 학원가</a>\n",
       "</li>\n",
       "<li>\n",
       "<a href=\"/ko/intro/media2.do\" title=\"홍보영상\">홍보영상</a>\n",
       "</li>\n",
       "</ul>\n",
       "</li>\n",
       "<li>\n",
       "<a href=\"/ko/intro/sangmyungInTheWorld.do\" title=\"세계 속 상명\">세계 속 상명</a>\n",
       "</li>\n",
       "<li>\n",
       "<a href=\"/ko/intro/collegeStatus.do\" title=\"대학현황\">대학현황</a>\n",
       "<ul>\n",
       "<li>\n",
       "<a href=\"/ko/intro/collegeStatus.do\" title=\"일반현황 및 주요지표\">일반현황 및 주요지표</a>\n",
       "</li>\n",
       "<li>\n",
       "<a href=\"/ko/intro/equipmentTable.do\" title=\"기구표\">기구표</a>\n",
       "</li>\n",
       "<li>\n",
       "<a href=\"/ko/intro/settlement.do\" title=\"예결산공고\">예결산공고</a>\n",
       "</li>\n",
       "<li>\n",
       "<a href=\"/ko/intro/universitySelfAssessment.do\" title=\"대학자체평가\">대학자체평가</a>\n",
       "</li>\n",
       "<li>\n",
       "<a href=\"/ko/intro/committee_intro.do\" title=\"등록금심의위원회\">등록금심의위원회</a>\n",
       "</li>\n",
       "<li>\n",
       "<a href=\"/ko/intro/assembly_intro.do\" title=\"대학평의원회\">대학평의원회</a>\n",
       "</li>\n",
       "<li>\n",
       "<a href=\"/ko/intro/business.do\" title=\"업무추진비 사용내역\">업무추진비 사용내역</a>\n",
       "</li>\n",
       "<li>\n",
       "<a href=\"/ko/intro/safetySe.do\" title=\"안전관리계획\">안전관리계획</a>\n",
       "</li>\n",
       "<li>\n",
       "<a href=\"/ko/intro/rule.do\" target=\"_blank\" title=\"새창열림\">학교규정</a>\n",
       "</li>\n",
       "<li>\n",
       "<a href=\"/ko/intro/corporation.do\" title=\"학교법인\">학교법인</a>\n",
       "</li>\n",
       "<li>\n",
       "<a href=\"/ko/intro/contributions.do\" title=\"기부금모금액 및 활용실적\">기부금모금액 및 활용실적</a>\n",
       "</li>\n",
       "<li>\n",
       "<a href=\"/ko/intro/cradle.do\" title=\"상명요람\">상명요람</a>\n",
       "</li>\n",
       "</ul>\n",
       "</li>\n",
       "<li>\n",
       "<a href=\"/ko/intro/gallery.do\" title=\"캠퍼스 안내\">캠퍼스 안내</a>\n",
       "<ul>\n",
       "<li>\n",
       "<a href=\"/ko/intro/gallery.do\" title=\"상명 갤러리\">상명 갤러리</a>\n",
       "</li>\n",
       "<li>\n",
       "<a href=\"/ko/intro/road.do\" title=\"찾아오시는 길\">찾아오시는 길</a>\n",
       "</li>\n",
       "<li>\n",
       "<a href=\"/ko/intro/map_all.do?campusCd=CMN001.0001\" target=\"_blank\" title=\"새창열림\">캠퍼스 맵</a>\n",
       "</li>\n",
       "<li>\n",
       "<a href=\"/ko/campustour.do\" title=\"캠퍼스투어 신청\">캠퍼스투어 신청</a>\n",
       "</li>\n",
       "<li>\n",
       "<a href=\"/ko/intro/vrtour.do\" title=\"캠퍼스 VR TOUR\">캠퍼스 VR TOUR</a>\n",
       "</li>\n",
       "<li>\n",
       "<a href=\"/ko/intro/searchTel.do\" title=\"교내 전화번호 검색\">교내 전화번호 검색</a>\n",
       "</li>\n",
       "</ul>\n",
       "</li>\n",
       "<li>\n",
       "<a href=\"/ko/intro/Information1.do\" title=\"정보공개\">정보공개</a>\n",
       "<ul>\n",
       "<li>\n",
       "<a href=\"/ko/intro/Information1.do\" title=\"정보공개제도 안내\">정보공개제도 안내</a>\n",
       "</li>\n",
       "<li>\n",
       "<a href=\"/ko/intro/Information2.do\" title=\"사전공개\">사전공개</a>\n",
       "</li>\n",
       "<li>\n",
       "<a href=\"/ko/intro/Information3.do\" title=\"정보공개청구\">정보공개청구</a>\n",
       "</li>\n",
       "</ul>\n",
       "</li>\n",
       "<li>\n",
       "<a href=\"/ko/intro/privacyPolicy.do\" title=\"개인정보처리방침\">개인정보처리방침</a>\n",
       "<ul>\n",
       "<li>\n",
       "<a href=\"/ko/intro/privacyPolicy.do\" title=\"개인정보처리방침\">개인정보처리방침</a>\n",
       "</li>\n",
       "<li>\n",
       "<a href=\"/ko/intro/privacyPolicy2.do\" title=\"개인정보위탁현황\">개인정보위탁현황</a>\n",
       "</li>\n",
       "<li>\n",
       "<a href=\"/ko/intro/privacyPolicy3.do\" title=\"개인정보제3자제공현황\">개인정보제3자제공현황</a>\n",
       "</li>\n",
       "</ul>\n",
       "</li>\n",
       "<li>\n",
       "<a href=\"/ko/intro/Information4.do\" title=\"입찰 · 채용\">입찰 · 채용</a>\n",
       "<ul>\n",
       "<li>\n",
       "<a href=\"/ko/intro/Information4.do\" title=\"입찰\">입찰</a>\n",
       "</li>\n",
       "<li>\n",
       "<a href=\"/ko/intro/recruitment.do\" title=\"채용\">채용</a>\n",
       "</li>\n",
       "</ul>\n",
       "</li>\n",
       "<li>\n",
       "<a href=\"/ko/employment.do\" title=\"강사초빙\">강사초빙</a>\n",
       "<ul>\n",
       "<li>\n",
       "<a href=\"/ko/employment.do\" title=\"강사 초빙 공고\">강사 초빙 공고</a>\n",
       "</li>\n",
       "</ul>\n",
       "</li>\n",
       "</ul>\n",
       "</li>\n",
       "<li>\n",
       "<a href=\"/ko/intro/whySangmyung.do\" title=\"입학 · 교육\">입학 · 교육</a>\n",
       "<ul>\n",
       "<li>\n",
       "<a href=\"/ko/intro/whySangmyung.do\" title=\"WHY 상명\">WHY 상명</a>\n",
       "</li>\n",
       "<li>\n",
       "<a href=\"http://admission.smu.ac.kr/\" target=\"_blank\" title=\"새창열림\">입학</a>\n",
       "</li>\n",
       "<li>\n",
       "<a href=\"/ko/edu/international.do\" title=\"International Student\">International Student</a>\n",
       "<ul>\n",
       "<li>\n",
       "<a href=\"/ko/edu/international.do\" title=\"학부 입학\">학부 입학</a>\n",
       "</li>\n",
       "<li>\n",
       "<a href=\"/ko/edu/entrance.do\" title=\"대학원 입학\">대학원 입학</a>\n",
       "</li>\n",
       "<li>\n",
       "<a href=\"/ko/edu/practice.do\" title=\"한국어 연수\">한국어 연수</a>\n",
       "</li>\n",
       "</ul>\n",
       "</li>\n",
       "<li>\n",
       "<a href=\"/ko/edu/seoul001.do\" title=\"대학\">대학</a>\n",
       "<ul>\n",
       "<li>\n",
       "<a href=\"/ko/edu/seoul001.do\" title=\"서울캠퍼스\">서울캠퍼스</a>\n",
       "</li>\n",
       "<li>\n",
       "<a href=\"/ko/edu/cheonan01.do\" title=\"천안캠퍼스\">천안캠퍼스</a>\n",
       "</li>\n",
       "</ul>\n",
       "</li>\n",
       "<li>\n",
       "<a href=\"/ko/edu/seoul02.do\" title=\"대학원\">대학원</a>\n",
       "</li>\n",
       "<li>\n",
       "<a href=\"/lifelong/\" target=\"_blank\" title=\"새창열림\">평생교육</a>\n",
       "</li>\n",
       "<li>\n",
       "<a href=\"/ko/edu/Profile.do\" title=\"교수프로필\">교수프로필</a>\n",
       "</li>\n",
       "</ul>\n",
       "</li>\n",
       "<li>\n",
       "<a href=\"/ko/research/status.do\" title=\"연구 · 산학\">연구 · 산학</a>\n",
       "<ul>\n",
       "<li>\n",
       "<a href=\"/ko/research/status.do\" title=\"연구 현황 및 활동\">연구 현황 및 활동</a>\n",
       "<ul>\n",
       "<li>\n",
       "<a href=\"/ko/research/status.do\" title=\"연구현황\">연구현황</a>\n",
       "</li>\n",
       "<li>\n",
       "<a href=\"/ko/research/result.do\" title=\"연구활동\">연구활동</a>\n",
       "</li>\n",
       "</ul>\n",
       "</li>\n",
       "<li>\n",
       "<a href=\"/ko/research/status2.do\" title=\"산학협력 우수 사업 및 연구자\">산학협력 우수 사업 및 연구자</a>\n",
       "<ul>\n",
       "<li>\n",
       "<a href=\"/ko/research/status2.do\" title=\"산학협력단 수주 우수 사업\">산학협력단 수주 우수 사업</a>\n",
       "</li>\n",
       "<li>\n",
       "<a href=\"/ko/research/result2.do\" title=\"우수 연구자\">우수 연구자</a>\n",
       "</li>\n",
       "</ul>\n",
       "</li>\n",
       "<li>\n",
       "<a href=\"/ko/research/industrialScience.do\" title=\"산학협력단\">산학협력단</a>\n",
       "</li>\n",
       "<li>\n",
       "<a href=\"/ko/research/affiliateLab01.do\" title=\"부설연구기관\">부설연구기관</a>\n",
       "<ul>\n",
       "<li>\n",
       "<a href=\"/ko/research/affiliateLab01.do\" title=\"서울캠퍼스\">서울캠퍼스</a>\n",
       "</li>\n",
       "<li>\n",
       "<a href=\"/ko/research/affiliateLab02.do\" title=\"천안캠퍼스\">천안캠퍼스</a>\n",
       "</li>\n",
       "</ul>\n",
       "</li>\n",
       "</ul>\n",
       "</li>\n",
       "<li>\n",
       "<a href=\"/ko/life/2021_graduation.do\" title=\"대학생활\">대학생활</a>\n",
       "<ul>\n",
       "<li>\n",
       "<a href=\"/ko/life/2021_graduation.do\" title=\"2021학년도학위수여식\">2021학년도학위수여식</a>\n",
       "</li>\n",
       "<li>\n",
       "<a href=\"/ko/life/2022_entrance.do\" title=\"2022학년도입학식\">2022학년도입학식</a>\n",
       "</li>\n",
       "<li>\n",
       "<a href=\"/ko/life/freshorientation.do\" title=\"신입생 오리엔테이션\">신입생 오리엔테이션</a>\n",
       "<ul>\n",
       "<li>\n",
       "<a href=\"/ko/life/freshorientation.do\" title=\"서울캠퍼스\">서울캠퍼스</a>\n",
       "</li>\n",
       "<li>\n",
       "<a href=\"/ko/life/cfreshorientation.do\" title=\"천안캠퍼스\">천안캠퍼스</a>\n",
       "</li>\n",
       "</ul>\n",
       "</li>\n",
       "<li>\n",
       "<a href=\"/ko/life/academicCalendar.do\" title=\"학사일정\">학사일정</a>\n",
       "</li>\n",
       "<li>\n",
       "<a href=\"/ko/life/CourseRegistration.do\" title=\"학사정보\">학사정보</a>\n",
       "<ul>\n",
       "<li>\n",
       "<a href=\"/ko/life/CourseRegistration.do\" title=\"서울캠퍼스\">서울캠퍼스</a>\n",
       "</li>\n",
       "<li>\n",
       "<a href=\"/ko/life/CourseRegistration2.do\" title=\"천안캠퍼스\">천안캠퍼스</a>\n",
       "</li>\n",
       "</ul>\n",
       "</li>\n",
       "<li>\n",
       "<a href=\"/ko/life/administration.do\" title=\"행정서식\">행정서식</a>\n",
       "</li>\n",
       "<li>\n",
       "<a href=\"/ko/life/payment.do\" title=\"학생지원\">학생지원</a>\n",
       "<ul>\n",
       "<li>\n",
       "<a href=\"/ko/life/payment.do\" title=\"장학제도\">장학제도</a>\n",
       "</li>\n",
       "<li>\n",
       "<a href=\"/ko/life/army.do\" title=\"병무행정\">병무행정</a>\n",
       "</li>\n",
       "<li>\n",
       "<a href=\"/ko/life/restaurant.do\" title=\"식당메뉴\">식당메뉴</a>\n",
       "</li>\n",
       "<li>\n",
       "<a href=\"/ko/life/ShuttleBus.do\" title=\"버스안내\">버스안내</a>\n",
       "</li>\n",
       "<li>\n",
       "<a href=\"/ko/life/studentIdCard.do\" title=\"학생증발급\">학생증발급</a>\n",
       "</li>\n",
       "</ul>\n",
       "</li>\n",
       "<li>\n",
       "<a href=\"/ko/life/autonomousOrganization.do\" title=\"학생활동\">학생활동</a>\n",
       "<ul>\n",
       "<li>\n",
       "<a href=\"/ko/life/autonomousOrganization.do\" title=\"학생자치기구\">학생자치기구</a>\n",
       "</li>\n",
       "<li>\n",
       "<a href=\"/ko/life/circles.do\" title=\"동아리정보\">동아리정보</a>\n",
       "</li>\n",
       "<li>\n",
       "<a href=\"/ko/life/life.do\" title=\"교내생활\">교내생활</a>\n",
       "</li>\n",
       "<li>\n",
       "<a href=\"/ko/life/socialService2.do\" title=\"사회봉사\">사회봉사</a>\n",
       "</li>\n",
       "<li>\n",
       "<a href=\"/ko/life/basketball.do\" title=\"농구단\">농구단</a>\n",
       "</li>\n",
       "<li>\n",
       "<a href=\"/ko/life/taekwondo.do\" title=\"태권도부\">태권도부</a>\n",
       "</li>\n",
       "</ul>\n",
       "</li>\n",
       "<li>\n",
       "<a href=\"/ko/life/smartAttendance.do\" title=\"IT 서비스\">IT 서비스</a>\n",
       "<ul>\n",
       "<li>\n",
       "<a href=\"/ko/life/smartAttendance.do\" title=\"모바일 서비스 안내\">모바일 서비스 안내</a>\n",
       "</li>\n",
       "<li>\n",
       "<a href=\"/ko/life/Lan_Guide_Seoul.do\" title=\"무선랜 이용안내\">무선랜 이용안내</a>\n",
       "</li>\n",
       "<li>\n",
       "<a href=\"/ko/life/vaccine.do\" title=\"백신 이용안내\">백신 이용안내</a>\n",
       "</li>\n",
       "<li>\n",
       "<a href=\"/ko/life/cloudmail.do\" title=\"클라우드메일 이용안내\">클라우드메일 이용안내</a>\n",
       "</li>\n",
       "<li>\n",
       "<a href=\"/ko/life/itmanual.do\" title=\"이용안내게시판\">이용안내게시판</a>\n",
       "</li>\n",
       "<li>\n",
       "<a href=\"/ko/life/iterrorreg.do\" title=\"무선인터넷장애신고센터\">무선인터넷장애신고센터</a>\n",
       "</li>\n",
       "</ul>\n",
       "</li>\n",
       "<li>\n",
       "<a href=\"/ko/life/globalPrograms.do\" title=\"글로벌 프로그램\">글로벌 프로그램</a>\n",
       "<ul>\n",
       "<li>\n",
       "<a href=\"/ko/life/globalPrograms.do\" title=\"글로벌 프로그램\">글로벌 프로그램</a>\n",
       "</li>\n",
       "<li>\n",
       "<a href=\"/ko/life/globalCommunity.do\" title=\"글로벌 커뮤니티\">글로벌 커뮤니티</a>\n",
       "</li>\n",
       "<li>\n",
       "<a href=\"/ko/life/internationalExchangePrograms.do\" title=\"국제교류 프로그램\">국제교류 프로그램</a>\n",
       "</li>\n",
       "</ul>\n",
       "</li>\n",
       "<li>\n",
       "<a href=\"/ko/life/job-service.do\" title=\"온라인 취업 서비스\">온라인 취업 서비스</a>\n",
       "</li>\n",
       "</ul>\n",
       "</li>\n",
       "<li>\n",
       "<a href=\"/webzine/index.do\" target=\"_blank\" title=\"새창열림\">SM Webzine</a>\n",
       "</li>\n",
       "<li>\n",
       "<a href=\"/lounge\" target=\"_blank\" title=\"새창열림\">SM Lounge</a>\n",
       "<ul>\n",
       "<li>\n",
       "<a href=\"/lounge/index.do\" title=\"SM Lounge\">SM Lounge</a>\n",
       "</li>\n",
       "<li>\n",
       "<a href=\"/lounge/notice/notice.do\" title=\"통합공지\">통합공지</a>\n",
       "</li>\n",
       "<li>\n",
       "<a href=\"/lounge/campus/event.do\" title=\"상명행사\">상명행사</a>\n",
       "</li>\n",
       "<li>\n",
       "<a href=\"/lounge/campus/s_student.do\" title=\"광장\">광장</a>\n",
       "<ul>\n",
       "<li>\n",
       "<a href=\"/lounge/campus/s_student.do\" title=\"학생회소식\">학생회소식</a>\n",
       "</li>\n",
       "<li>\n",
       "<a href=\"/lounge/campus/s_club.do\" title=\"동아리소식\">동아리소식</a>\n",
       "</li>\n",
       "<li>\n",
       "<a href=\"/lounge/campus/alumni.do\" title=\"동문소식\">동문소식</a>\n",
       "</li>\n",
       "<li>\n",
       "<a href=\"/lounge/campus/s_free.do\" title=\"자유게시판\">자유게시판</a>\n",
       "</li>\n",
       "<li>\n",
       "<a href=\"/lounge/campus/global.do\" title=\"채용정보\">채용정보</a>\n",
       "</li>\n",
       "<li>\n",
       "<a href=\"/lounge/campus/suggestion.do\" title=\"학칙개정 사전공고 및 공포\">학칙개정 사전공고 및 공포</a>\n",
       "</li>\n",
       "</ul>\n",
       "</li>\n",
       "<li>\n",
       "<a class=\"active\" href=\"/lounge/qna/faq.do\" title=\"상명 Q&amp;A\">상명 Q&amp;A</a>\n",
       "<ul>\n",
       "<li>\n",
       "<a class=\"active\" href=\"/lounge/qna/faq.do\" title=\"자주하는 질문\">자주하는 질문</a>\n",
       "</li>\n",
       "<li>\n",
       "<a href=\"/lounge/qna/qna.do\" title=\"질문/답변\">질문/답변</a>\n",
       "</li>\n",
       "</ul>\n",
       "</li>\n",
       "<li>\n",
       "<a href=\"/lounge/photo/s_photo.do\" title=\"포토갤러리\">포토갤러리</a>\n",
       "<ul>\n",
       "<li>\n",
       "<a href=\"/lounge/photo/s_photo.do\" title=\"서울캠퍼스\">서울캠퍼스</a>\n",
       "</li>\n",
       "<li>\n",
       "<a href=\"/lounge/photo/c_photo.do\" title=\"천안캠퍼스\">천안캠퍼스</a>\n",
       "</li>\n",
       "</ul>\n",
       "</li>\n",
       "<li>\n",
       "<a href=\"/lounge/sns.do\" title=\"상명 SNS\">상명 SNS</a>\n",
       "</li>\n",
       "</ul>\n",
       "</li>\n",
       "</ul>\n",
       "<a class=\"sitemap-new-close\" href=\"#\" title=\"닫기\"><img alt=\"닫기\" src=\"/_res/ko/img/common/ico_sitemap_close.png\"/></a></div>\n",
       "</div>\n",
       "</div>\n",
       "<div class=\"quick-outer\">\n",
       "<div class=\"quick-menu-wrap\" style=\"display: none;\">\n",
       "<div class=\"quick-open\">\n",
       "<ul>\n",
       "<li><a href=\"https://robo.smu.ac.kr/\" target=\"_blank\" title=\"SM-CDR 챗봇 새창열림\">로보어드바이저</a></li><!--onclick=\"windowPopUp2(this, 500, 600); return false;\"-->\n",
       "<li><a href=\"http://lib.smu.ac.kr/\" target=\"_blank\" title=\"학술정보관 바로가기\">학술정보관</a></li>\n",
       "<li><a href=\"/webzine/index.do\" target=\"_blank\" title=\"웹진 바로가기\">웹진</a></li>\n",
       "<li><a href=\"/ko/life/administration.do\" title=\"서식자료 바로가기\">서식자료</a></li>\n",
       "<li><a href=\"/ko/life/iterrorreg.do\" title=\"장애신고센터 바로가기\">무선인터넷장애신고센터</a></li>\n",
       "<li><a href=\"https://portal.smu.ac.kr/\" target=\"_blank\" title=\"샘물포털 새창열림\">샘물포털</a></li>\n",
       "</ul>\n",
       "<ul>\n",
       "<li><a class=\"btn-pop\" href=\"#aa\" title=\"SM 팝업 보기\">SM 팝업</a><span class=\"pop-total\"></span></li>\n",
       "</ul>\n",
       "</div>\n",
       "</div>\n",
       "<div class=\"mm-quick-menu-wrap\">\n",
       "<div class=\"quick-close\">\n",
       "<p><a class=\"btn-quick01\" href=\"#a\" title=\"퀵메뉴 열기\"><img alt=\"퀵메뉴\" src=\"/_res/ko/img/main/img-quick-btn.gif\"/></a></p>\n",
       "<a class=\"btn-quick01\" href=\"#a\" title=\"퀵메뉴 열기\"><img alt=\"퀵메뉴 열기\" src=\"/_res/ko/img/main/btn-quick-arr.png\"/></a>\n",
       "<ul>\n",
       "<li><a class=\"btn-pop\" href=\"#a\" title=\"SM 팝업 보기\">SM<br/>팝업<br/><span class=\"pop-total\"></span></a></li>\n",
       "</ul>\n",
       "</div>\n",
       "</div>\n",
       "<!-- 모바일 sm팝업 버튼 -->\n",
       "<div class=\"m-btn-pop-wrap\">\n",
       "<a class=\"m-btn-pop\" href=\"#a\" title=\"sm 팝업 보기\">\n",
       "\t\t\t\tSM<br/>팝업<br/><span class=\"m-pop-total\"></span>\n",
       "</a>\n",
       "</div>\n",
       "<!-- //모바일 sm팝업 버튼 -->\n",
       "</div>\n",
       "<!-- 하단 header -->\n",
       "<div class=\"bottom-header-new-wrap\">\n",
       "<div class=\"bottom-header-new-box\">\n",
       "<!-- pc menu -->\n",
       "<ul class=\"gnb-new-ul\">\n",
       "<li class=\"last ico-lounge\">\n",
       "<a href=\"/lounge/index.do\" title=\"SM Lounge 바로가기\">SM Lounge</a>\n",
       "</li>\n",
       "<li class=\"\">\n",
       "<a href=\"/lounge/notice/notice.do\" title=\"통합공지 바로가기\">통합공지</a>\n",
       "</li>\n",
       "<li class=\"\">\n",
       "<a href=\"/lounge/campus/event.do\" title=\"상명행사 바로가기\">상명행사</a>\n",
       "</li>\n",
       "<li class=\"\">\n",
       "<a href=\"/lounge/campus/s_student.do\" title=\"광장 바로가기\">광장</a>\n",
       "</li>\n",
       "<li class=\"\">\n",
       "<a class=\"active\" href=\"/lounge/qna/faq.do\" title=\"상명 Q&amp;A 바로가기\">상명 Q&amp;A</a>\n",
       "</li>\n",
       "<li class=\"\">\n",
       "<a href=\"/lounge/photo/s_photo.do\" title=\"포토갤러리 바로가기\">포토갤러리</a>\n",
       "</li>\n",
       "<li class=\"\">\n",
       "<a href=\"/lounge/sns.do\" title=\"상명 SNS 바로가기\">상명 SNS</a>\n",
       "</li>\n",
       "</ul>\n",
       "<!-- //pc menu -->\n",
       "<!-- mobile menu -->\n",
       "<!-- 모바일 -->\n",
       "<nav class=\"slideMenu\">\n",
       "<ul>\n",
       "<!-- 메뉴 -->\n",
       "<li class=\"active\">\n",
       "<a href=\"#a\">전체메뉴</a>\n",
       "<div class=\"m-gnb\">\n",
       "<ul class=\"dep1\">\n",
       "<li>\n",
       "<a href=\"/lounge/index.do\" title=\"SM Lounge\">SM Lounge</a>\n",
       "</li>\n",
       "<li>\n",
       "<a href=\"/lounge/notice/notice.do\" title=\"통합공지\">통합공지</a>\n",
       "</li>\n",
       "<li>\n",
       "<a href=\"/lounge/campus/event.do\" title=\"상명행사\">상명행사</a>\n",
       "</li>\n",
       "<li>\n",
       "<a href=\"/lounge/campus/s_student.do\" title=\"광장\">광장</a>\n",
       "<ul class=\"dep2\">\n",
       "<li>\n",
       "<a href=\"/lounge/campus/s_student.do\" title=\"학생회소식\">학생회소식</a>\n",
       "<ul class=\"dep3 aaaa\">\n",
       "<li>\n",
       "<a href=\"/lounge/campus/s_student.do\" title=\"서울캠퍼스\">서울캠퍼스</a>\n",
       "</li>\n",
       "<li>\n",
       "<a href=\"/lounge/campus/c_student.do\" title=\"천안캠퍼스\">천안캠퍼스</a>\n",
       "</li>\n",
       "</ul>\n",
       "</li>\n",
       "<li>\n",
       "<a href=\"/lounge/campus/s_club.do\" title=\"동아리소식\">동아리소식</a>\n",
       "<ul class=\"dep3 aaaa\">\n",
       "<li>\n",
       "<a href=\"/lounge/campus/s_club.do\" title=\"서울캠퍼스\">서울캠퍼스</a>\n",
       "</li>\n",
       "<li>\n",
       "<a href=\"/lounge/campus/c_club.do\" title=\"천안캠퍼스\">천안캠퍼스</a>\n",
       "</li>\n",
       "</ul>\n",
       "</li>\n",
       "<li>\n",
       "<a href=\"/lounge/campus/alumni.do\" title=\"동문소식\">동문소식</a>\n",
       "</li>\n",
       "<li>\n",
       "<a href=\"/lounge/campus/s_free.do\" title=\"자유게시판\">자유게시판</a>\n",
       "<ul class=\"dep3 aaaa\">\n",
       "<li>\n",
       "<a href=\"/lounge/campus/s_free.do\" title=\"서울캠퍼스\">서울캠퍼스</a>\n",
       "</li>\n",
       "<li>\n",
       "<a href=\"/lounge/campus/c_free.do\" title=\"천안캠퍼스\">천안캠퍼스</a>\n",
       "</li>\n",
       "</ul>\n",
       "</li>\n",
       "<li>\n",
       "<a href=\"/lounge/campus/global.do\" title=\"채용정보\">채용정보</a>\n",
       "</li>\n",
       "<li>\n",
       "<a href=\"/lounge/campus/suggestion.do\" title=\"학칙개정 사전공고 및 공포\">학칙개정 사전공고 및 공포</a>\n",
       "</li>\n",
       "</ul>\n",
       "</li>\n",
       "<li>\n",
       "<a class=\"active\" href=\"/lounge/qna/faq.do\" title=\"상명 Q&amp;A\">상명 Q&amp;A</a>\n",
       "<ul class=\"dep2\">\n",
       "<li>\n",
       "<a class=\"active\" href=\"/lounge/qna/faq.do\" title=\"자주하는 질문\">자주하는 질문</a>\n",
       "</li>\n",
       "<li>\n",
       "<a href=\"/lounge/qna/qna.do\" title=\"질문/답변\">질문/답변</a>\n",
       "</li>\n",
       "</ul>\n",
       "</li>\n",
       "<li>\n",
       "<a href=\"/lounge/photo/s_photo.do\" title=\"포토갤러리\">포토갤러리</a>\n",
       "<ul class=\"dep2\">\n",
       "<li>\n",
       "<a href=\"/lounge/photo/s_photo.do\" title=\"서울캠퍼스\">서울캠퍼스</a>\n",
       "</li>\n",
       "<li>\n",
       "<a href=\"/lounge/photo/c_photo.do\" title=\"천안캠퍼스\">천안캠퍼스</a>\n",
       "</li>\n",
       "</ul>\n",
       "</li>\n",
       "<li>\n",
       "<a href=\"/lounge/sns.do\" title=\"상명 SNS\">상명 SNS</a>\n",
       "</li>\n",
       "</ul>\n",
       "</div>\n",
       "</li>\n",
       "<!-- /메뉴 -->\n",
       "<!-- 유틸 -->\n",
       "<li>\n",
       "<a href=\"#a\">유틸메뉴</a>\n",
       "<div class=\"m-gnb m-util\">\n",
       "<ul class=\"dep1\">\n",
       "<li>\n",
       "<a class=\"selected\" href=\"/ko/service/sangmyung-people.do\" title=\"상명인 바로가기\">상명인</a></li>\n",
       "<li>\n",
       "<a href=\"/ko/service/examinee.do\" title=\"수험생 바로가기\">수험생</a></li>\n",
       "<li>\n",
       "<a href=\"/ko/service/staff.do\" title=\"교직원 바로가기\">교직원</a></li>\n",
       "<li>\n",
       "<a href=\"/ko/service/graduate.do\" title=\"졸업생 바로가기\">졸업생</a></li>\n",
       "<li>\n",
       "<a href=\"/ko/service/graduation.do\" title=\"입학 바로가기\">입학</a></li>\n",
       "</ul>\n",
       "<span class=\"m-login\">\n",
       "<a href=\"/ko/index.do\">Home</a>\n",
       "<a class=\"login\" href=\"javascript:loginPopupOpen();\">Login</a>\n",
       "</span>\n",
       "<span class=\"m-lang\">\n",
       "<a href=\"/ch/index.do\" target=\"_blank\">中文</a>\n",
       "<a href=\"/tien/index.do\" target=\"_blank\">tiếng Việt</a>\n",
       "<a href=\"/eng1/index.do\" target=\"_blank\">eng</a>\n",
       "</span>\n",
       "</div>\n",
       "</li>\n",
       "<!-- /유틸 -->\n",
       "<li>\n",
       "<a href=\"#a\">퀵메뉴</a>\n",
       "<div class=\"m-gnb m-quick\">\n",
       "<ul>\n",
       "<li><a href=\"https://robo.smu.ac.kr/\" target=\"_blank\" title=\"SM-CDR 챗봇 새창열림\">로보어드바이저</a></li><!--onclick=\"windowPopUp2(this, 500, 600); return false;\"-->\n",
       "<li><a href=\"http://lib.smu.ac.kr/\" target=\"_blank\" title=\"학술정보관 바로가기\">학술정보관</a></li>\n",
       "<li><a href=\"/webzine/\" target=\"_blank\" title=\"웹진 바로가기\">웹진</a></li>\n",
       "<li><a href=\"/ko/life/administration.do\" title=\"서식자료 바로가기\">서식자료</a></li>\n",
       "<li><a href=\"/ko/life/iterrorreg.do\" title=\"장애신고센터 바로가기\">무선인터넷장애신고센터</a></li>\n",
       "<li><a href=\"https://portal.smu.ac.kr/\" target=\"_blank\" title=\"샘물포털 새창열림\">샘물포털</a></li>\n",
       "<li></li>\n",
       "</ul>\n",
       "</div>\n",
       "</li>\n",
       "<!-- /유틸 -->\n",
       "</ul>\n",
       "<a class=\"slide-close\" href=\"#a\" title=\"닫기\"><span class=\"hide\">닫기</span></a>\n",
       "</nav>\n",
       "<div class=\"m-gnb-bg\"></div>\n",
       "<!-- //mobile-menu -->\n",
       "</div>\n",
       "<!-- <div class=\"gnb-bg\">&nbsp;</div> -->\n",
       "</div>\n",
       "</div>\n",
       "<!-- //하단 header -->\n",
       "<!-- 인트로 -->\n",
       "<div class=\"main-intro-new-wrap\">\n",
       "<div class=\"main-intro-img-new-box\">\n",
       "<img alt=\"\" src=\"/_res/ko/img/main/main-intro-visual.png\">\n",
       "</img></div>\n",
       "<div class=\"main-intro-new-box\">\n",
       "<p>SANGMYUNG UNIVERSITY</p>\n",
       "<p><a class=\"main-intro-new-btn\" href=\"#a\">Scroll Down</a></p>\n",
       "</div>\n",
       "</div>\n",
       "<!-- //인트로 -->\n",
       "<!-- 가상 컨텐츠 영역 -->\n",
       "<div class=\"intro-new-spacer\"> </div>\n",
       "<!-- //가상 컨텐츠 영역 -->\n",
       "<!-- search bg -->\n",
       "<div class=\"srch-bg\"> </div>\n",
       "<!-- //search bg -->\n",
       "<!-- SM팝업 -->\n",
       "<div class=\"main-pop-bg\"> </div>\n",
       "<div class=\"main-pop-outer\">\n",
       "<div class=\"main-pop-wrap\">\n",
       "<div class=\"main-pop-cnt-box\"></div>\n",
       "<div class=\"main-pop-box carousel-wrap\" id=\"main-pop\">\n",
       "<div class=\"owl-carousel owl-theme\">\n",
       "<div class=\"item noneCnt\">\n",
       "<a href=\"#\">등록된 글이 없습니다.</a>\n",
       "</div>\n",
       "</div>\n",
       "<div class=\"control-wrap\">\n",
       "<a class=\"prev\" href=\"#\" title=\"이전\"><span class=\"hide\">이전</span></a>\n",
       "<a class=\"next\" href=\"#\" title=\"다음\"><span class=\"hide\">다음</span></a>\n",
       "</div>\n",
       "</div>\n",
       "<a class=\"main-pop-close\" href=\"#a\"><img alt=\"닫기\" src=\"/_res/ko/img/common/ic-close.png\"/></a>\n",
       "</div>\n",
       "</div>\n",
       "<!-- SM팝업 -->\n",
       "</header>\n",
       "<div class=\"sub-container\">\n",
       "<section class=\"content-wrap\">\n",
       "<div class=\"path-wrap\">\n",
       "<div class=\"path-group\">\n",
       "<div class=\"path-box\">\n",
       "<div class=\"path\">\n",
       "<a class=\"path-home\" href=\"/lounge/index.do\" title=\"상명대학교 홈페이지 바로가기\"><span class=\"mobile-hide hide\">처음으로</span></a>\n",
       "<div class=\"path-depth-wrap\">\n",
       "<ul>\n",
       "<li>\n",
       "<a class=\"active\" href=\"/lounge/qna/faq.do\" title=\"상명 Q&amp;A 바로가기\">상명 Q&amp;A</a>\n",
       "</li>\n",
       "<li>\n",
       "<a class=\"active\" href=\"/lounge/qna/faq.do\" title=\"자주하는 질문 바로가기\">자주하는 질문</a>\n",
       "</li>\n",
       "</ul>\n",
       "</div>\n",
       "</div>\n",
       "</div>\n",
       "<div class=\"tool-box\">\n",
       "<ul>\n",
       "<li><a class=\"jwxe_a_zoom_out jw-relative\" href=\"#zoom-out\" id=\"jwxe_zoomOut\" title=\"\"></a></li>\n",
       "<li><a class=\"jwxe_a_fixed jw-relative\" href=\"#fixed\" id=\"jwxe_fixed\" title=\"\"></a></li>\n",
       "<li><a class=\"jwxe_a_zoom_in jw-relative\" href=\"#zoom-in\" id=\"jwxe_zoomIn\" title=\"\"></a></li>\n",
       "</ul>\n",
       "<a class=\"bnt-print\" href=\"#n\" id=\"jwxe_print\" title=\"프린트\"></a>\n",
       "</div>\n",
       "</div>\n",
       "</div>\n",
       "<div class=\"title-wrap\">\n",
       "<h3>\n",
       "\n",
       "\n",
       "\n",
       "\n",
       "\n",
       "\n",
       "\n",
       "상명 Q&amp;A\n",
       "\n",
       "\n",
       "\t\n",
       "</h3>\n",
       "</div>\n",
       "<div class=\"tab-outer\">\n",
       "<!-- PC tab -->\n",
       "<div class=\"tab-box01 mobile-hide\">\n",
       "<!-- PC tab -->\n",
       "<ul class=\"tab-ul row02\">\n",
       "<li class=\"active first\">\n",
       "<a href=\"/lounge/qna/faq.do#tab7384\" id=\"tab7384\" title=\"자주하는 질문 바로가기\">\n",
       "\t \t\t\t\t자주하는 질문\n",
       "\t\t\t\t</a>\n",
       "</li>\n",
       "<li class=\"last\">\n",
       "<a href=\"/lounge/qna/qna.do#tab7385\" id=\"tab7385\" title=\"질문/답변 바로가기\">\n",
       "\t \t\t\t\t질문/답변\n",
       "\t\t\t\t</a>\n",
       "</li>\n",
       "</ul>\n",
       "<!-- // PC tab -->\n",
       "</div>\n",
       "<!-- PC tab -->\n",
       "<!-- Mobile tab -->\n",
       "<div class=\"m-tab-box pc-hide\">\n",
       "<!-- mobile tab -->\n",
       "<label for=\"tab_select\">Tab</label>\n",
       "<select class=\"tab-sel\" id=\"tab_select\">\n",
       "<option selected=\"selected\" value=\"/lounge/qna/faq.do\">\n",
       "\t\t\t\t\t자주하는 질문\n",
       "\t\t\t\t</option>\n",
       "<option value=\"/lounge/qna/qna.do\">\n",
       "\t\t\t\t\t질문/답변\n",
       "\t\t\t\t</option>\n",
       "</select>\n",
       "<!-- // mobile tab -->\n",
       "</div>\n",
       "<!-- //Mobile tab -->\n",
       "</div>\n",
       "<div class=\"content\" id=\"jwxe_main_content\">\n",
       "<div class=\"content1\">\n",
       "<script type=\"text/javascript\">\n",
       "//<![CDATA[\n",
       "  var resPath = '/_custom/smu/resource/', isEditorImageUpload = 'true' == 'false'? false: true, clientId = 'smu', boardTy = 'common', boardNo = '680', siteId = 'lounge';\n",
       "//]]>\n",
       "</script>\n",
       "<div class=\"ko\">\n",
       "<input name=\"boardMode\" type=\"hidden\" value=\"view\"/>\n",
       "<div class=\"board-name-gallery-view board-wrap\">\n",
       "<div class=\"board-name-view board-wrap\">\n",
       "<input name=\"articleNo\" type=\"hidden\" value=\"698890\">\n",
       "<div class=\"board-view-box\">\n",
       "<div class=\"board-view-title-wrap\">\n",
       "<h4>\n",
       "              \tOffice365(학생메일) 사용법\n",
       "              </h4>\n",
       "<ul class=\"board-etc-wrap\">\n",
       "<li class=\"board-thumb-content-writer\">\n",
       "<span class=\"hide\">작성자</span>\n",
       "\t\t\t\t\t통합 관리자\n",
       "\t\t\t\t\t\n",
       "\t\t\t\t</li>\n",
       "<li class=\"board-thumb-content-date\">\n",
       "<span class=\"hide\">작성일</span>\n",
       "\t\t\t\t\t2019-04-03\n",
       "\t\t\t\t</li>\n",
       "<li class=\"board-thumb-content-views\">\n",
       "<span class=\"hide\">조회수</span>\n",
       "\t\t\t\t\t67083\n",
       "\t\t\t\t</li>\n",
       "</ul>\n",
       "</div>\n",
       "<div class=\"board-view-content-wrap board-view-txt\">\n",
       "<div class=\"fr-view\">\n",
       "<div class=\"fr-view\"><p>Office365는 계정 비밀번호 연동 후 사용이 가능합니다.</p><p><br/></p><p style='text-decoration: none; list-style-type: none; margin: 0px; padding: 0px; color: rgb(0, 0, 0); font-family: \"Noto Sans KR\", sans-serif; font-size: 15px; font-style: normal; font-variant-ligatures: normal; font-variant-caps: normal; font-weight: 400; letter-spacing: normal; orphans: 2; text-align: start; text-indent: 0px; text-transform: none; white-space: normal; widows: 2; word-spacing: 0px; -webkit-text-stroke-width: 0px; background-color: rgb(255, 255, 255);'><strong>Office365(학생메일) 비밀번호 연동 방법</strong></p><p style='text-decoration: none; list-style-type: none; margin: 0px; padding: 0px; color: rgb(0, 0, 0); font-family: \"Noto Sans KR\", sans-serif; font-size: 15px; font-style: normal; font-variant-ligatures: normal; font-variant-caps: normal; font-weight: 400; letter-spacing: normal; orphans: 2; text-align: start; text-indent: 0px; text-transform: none; white-space: normal; widows: 2; word-spacing: 0px; -webkit-text-stroke-width: 0px; background-color: rgb(255, 255, 255);'>1. <a href=\"http://sso.smu.ac.kr:8082/\" style=\"text-decoration: none; list-style-type: none; margin: 0px; padding: 0px; color: rgb(51, 51, 51); overflow-wrap: break-word; user-select: auto;\"></a><a href=\"http://sso.smu.ac.kr:8082\">https://portal.smu.ac.kr</a></p><p style='text-decoration: none; list-style-type: none; margin: 0px; padding: 0px; color: rgb(0, 0, 0); font-family: \"Noto Sans KR\", sans-serif; font-size: 15px; font-style: normal; font-variant-ligatures: normal; font-variant-caps: normal; font-weight: 400; letter-spacing: normal; orphans: 2; text-align: start; text-indent: 0px; text-transform: none; white-space: normal; widows: 2; word-spacing: 0px; -webkit-text-stroke-width: 0px; background-color: rgb(255, 255, 255);'>샘물포털 사이트 접속 후 로그인</p><p style='text-decoration: none; list-style-type: none; margin: 0px; padding: 0px; color: rgb(0, 0, 0); font-family: \"Noto Sans KR\", sans-serif; font-size: 15px; font-style: normal; font-variant-ligatures: normal; font-variant-caps: normal; font-weight: 400; letter-spacing: normal; orphans: 2; text-align: start; text-indent: 0px; text-transform: none; white-space: normal; widows: 2; word-spacing: 0px; -webkit-text-stroke-width: 0px; background-color: rgb(255, 255, 255);'>2. Office365 버튼 클릭 <span style='color: rgb(0, 0, 0); font-family: \"Noto Sans KR\", sans-serif; font-size: 15px; font-style: normal; font-variant-ligatures: normal; font-variant-caps: normal; font-weight: 400; letter-spacing: normal; orphans: 2; text-align: start; text-indent: 0px; text-transform: none; white-space: normal; widows: 2; word-spacing: 0px; -webkit-text-stroke-width: 0px; background-color: rgb(255, 255, 255); text-decoration-thickness: initial; text-decoration-style: initial; text-decoration-color: initial; display: inline !important; float: none;'> (오른쪽 퀵메뉴에 Office365 클릭해도 접속 가능)</span></p><p style='text-decoration: none; list-style-type: none; margin: 0px; padding: 0px; color: rgb(0, 0, 0); font-family: \"Noto Sans KR\", sans-serif; font-size: 15px; font-style: normal; font-variant-ligatures: normal; font-variant-caps: normal; font-weight: 400; letter-spacing: normal; orphans: 2; text-align: start; text-indent: 0px; text-transform: none; white-space: normal; widows: 2; word-spacing: 0px; -webkit-text-stroke-width: 0px; background-color: rgb(255, 255, 255);'>3. 비밀번호 입력창이나오면 통합로그인 패스워드와 동일한 패스워드로 입력</p><p style='text-decoration: none; list-style-type: none; margin: 0px; padding: 0px; color: rgb(0, 0, 0); font-family: \"Noto Sans KR\", sans-serif; font-size: 15px; font-style: normal; font-variant-ligatures: normal; font-variant-caps: normal; font-weight: 400; letter-spacing: normal; orphans: 2; text-align: start; text-indent: 0px; text-transform: none; white-space: normal; widows: 2; word-spacing: 0px; -webkit-text-stroke-width: 0px; background-color: rgb(255, 255, 255);'>4. 패스워드 입력하면 자동으로 학번@sangmyung.kr 로 계정이 연동되며, 이 후 메일이 사용가능합니다.</p><p style='text-decoration: none; list-style-type: none; margin: 0px; padding: 0px; color: rgb(0, 0, 0); font-family: \"Noto Sans KR\", sans-serif; font-size: 15px; font-style: normal; font-variant-ligatures: normal; font-variant-caps: normal; font-weight: 400; letter-spacing: normal; orphans: 2; text-align: start; text-indent: 0px; text-transform: none; white-space: normal; widows: 2; word-spacing: 0px; -webkit-text-stroke-width: 0px; background-color: rgb(255, 255, 255);'><br style=\"text-decoration: none; list-style-type: none; margin: 0px; padding: 0px;\"/></p><p>Office 설치형 제품군(pro plus)은 <strong>재학생</strong>만 사용가능합니다.</p><p style='text-decoration: none; list-style-type: none; margin: 0px; padding: 0px; color: rgb(0, 0, 0); font-family: \"Noto Sans KR\", sans-serif; font-size: 15px; font-style: normal; font-variant-ligatures: normal; font-variant-caps: normal; font-weight: 400; letter-spacing: normal; orphans: 2; text-align: start; text-indent: 0px; text-transform: none; white-space: normal; widows: 2; word-spacing: 0px; -webkit-text-stroke-width: 0px; background-color: rgb(255, 255, 255);'>이외의 기능은 전체 학생이 사용 가능합니다.</p></div>\n",
       "</div>\n",
       "</div>\n",
       "</div>\n",
       "</input></div>\n",
       "<div class=\"b-navi-wrap\">\n",
       "<div>\n",
       "<span>다음글</span>\n",
       "<p>\n",
       "<a href=\"#\" title=\"다음글이 없습니다.\">다음글이 없습니다.</a>\n",
       "</p>\n",
       "</div>\n",
       "<div>\n",
       "<span>이전글</span>\n",
       "<p>\n",
       "<a href=\"?mode=view&amp;articleNo=684733&amp;article.offset=0&amp;articleLimit=10\">학사)복학 신청을 꼭 해야하나요? 복학은 어떻게 신청하나요?</a>\n",
       "</p>\n",
       "</div>\n",
       "</div>\n",
       "<ul class=\"btn-wrap board-text-right\">\n",
       "<li>\n",
       "<a class=\"btn btn01\" href=\"?mode=list&amp;article.offset=0&amp;articleLimit=10\">목록</a>\n",
       "</li>\n",
       "</ul>\n",
       "</div>\n",
       "</div>\n",
       "</div>\n",
       "<div class=\"content2\"></div>\n",
       "</div>\n",
       "</section>\n",
       "</div>\n",
       "<footer id=\"jwxe_footer\">\n",
       "<div class=\"foot-wrap\">\n",
       "<div class=\"foot-lnk-wrap\">\n",
       "<div class=\"foot-lnk-box\">\n",
       "<ul class=\"foot-ul\">\n",
       "<li><a href=\"http://www.academyinfo.go.kr/popup/pubinfo1690/list.do?schlId=0000117\" target=\"_blank\" title=\"대학정보공시 새창열림\">대학정보공시</a></li>\n",
       "<li><a href=\"/ko/intro/settlement.do\" title=\"예결산공고 바로가기\">예결산공고</a></li>\n",
       "<li><a href=\"/ko/intro/Information1.do\" title=\"정보공개 바로가기\">정보공개</a></li>\n",
       "<li><a class=\"c-ligntgreen\" href=\"/ko/intro/privacyPolicy.do\" target=\"_blank\" title=\"개인정보처리방침\">개인정보처리방침</a></li>\n",
       "<li><a href=\"/board/policy/email.do\" onclick=\"windowPopUp(this); return false;\" target=\"_blank\" title=\"이메일주소무단수집거부 새창열림\">이메일주소<br class=\"pc-hide\">무단수집거부</br></a></li>\n",
       "<li><a href=\"/board/policy/cctv.do\" onclick=\"windowPopUp(this); return false;\" target=\"_blank\" title=\"영상정보처리기기 운영관리방침 새창열림\">영상정보처리기기 <br class=\"pc-hide\">운영관리방침</br></a></li>\n",
       "<li><a href=\"/board/policy/rule.do\" onclick=\"windowPopUp(this); return false;\" target=\"_blank\" title=\"취업규칙 새창열림\">취업규칙</a></li>\n",
       "</ul>\n",
       "</div>\n",
       "</div>\n",
       "<div class=\"foot-box\">\n",
       "<div class=\"foot-util\">\n",
       "<div>\n",
       "<div class=\"foot-sel-box\" tabindex=\"1\">\n",
       "<a class=\"sel1\" href=\"#n\" title=\"단과대학/대학원 목록 보기\"><span>단과대학/대학원</span></a>\n",
       "<ul>\n",
       "<li class=\"sel-tit\">-서울캠퍼스-</li>\n",
       "<li><a href=\"/ko/edu/seoul001.do#lnk01\" title=\"인문사회과학대학 바로가기\">인문사회과학대학</a></li>\n",
       "<li><a href=\"/ko/edu/seoul001.do#lnk02\" title=\"사범대학 바로가기\">사범대학</a></li>\n",
       "<li><a href=\"/ko/edu/seoul001.do#lnk03\" title=\"경영경제대학 바로가기\">경영경제대학</a></li>\n",
       "<li><a href=\"/ko/edu/seoul001.do#lnk04\" title=\"융합공과대학 바로가기\">융합공과대학</a></li>\n",
       "<li><a href=\"/ko/edu/seoul001.do#lnk05\" title=\"문화예술대학 바로가기\">문화예술대학</a></li>\n",
       "<li class=\"sel-tit\">-천안캠퍼스-</li>\n",
       "<li><a href=\"/ko/edu/cheonan01.do#lnk01\" title=\"글로벌인문학부대학 바로가기\">글로벌인문학부대학</a></li>\n",
       "<li><a href=\"/ko/edu/cheonan01.do#lnk02\" title=\"디자인대학 바로가기\">디자인대학</a></li>\n",
       "<li><a href=\"/ko/edu/cheonan01.do#lnk03\" title=\"예술대학 바로가기\">예술대학</a></li>\n",
       "<li><a href=\"/ko/edu/cheonan01.do#lnk04\" title=\"융합기술대학 바로가기\">융합기술대학</a></li>\n",
       "<li><a href=\"/ko/edu/cheonan01.do#lnk05\" title=\"공과대학 바로가기\">공과대학</a></li>\n",
       "<!--li class=\"sel-tit\">-대학원-</li>\n",
       "\t\t\t\t\t\t<li><a href=\"/grad/index.do\" target=\"_blank\" title=\"일반대학원 바로가기\">일반대학원</a></li>\n",
       "\t\t\t\t\t\t<li><a href=\"/edu/index.do\" target=\"_blank\" title=\"교육대학원 바로가기\">교육대학원</a></li>\n",
       "\t\t\t\t\t\t<li><a href=\"/wac/index.do\" target=\"_blank\" title=\"복지상담대학원 바로가기\">복지상담대학원</a></li>\n",
       "\t\t\t\t\t\t<li><a href=\"/mft/index.do\" target=\"_blank\" title=\"경영대학원 바로가기\">경영대학원</a></li>\n",
       "\t\t\t\t\t\t<li><a href=\"/gsct/index.do\" target=\"_blank\" title=\"문화기술대학원 바로가기\">문화기술대학원</a></li>\n",
       "\t\t\t\t\t\t<li><a href=\"/cart/index.do\" target=\"_blank\" title=\"예술디자인대학원 바로가기\">예술디자인대학원</a></li-->\n",
       "<li class=\"sel-tit\">-대학원-</li>\n",
       "<li><a href=\"/grad\" target=\"_blank\" title=\"일반대학원 새창열림\">일반대학원</a></li>\n",
       "<li><a href=\"/edu\" target=\"_blank\" title=\"교육대학원 새창열림\">교육대학원</a></li>\n",
       "<li><a href=\"/wac\" target=\"_blank\" title=\"복지상담대학원 새창열림\">상담대학원</a></li>\n",
       "<li><a href=\"/mft\" target=\"_blank\" title=\"경영대학원 새창열림\">경영대학원</a></li>\n",
       "<li><a href=\"/gsct\" target=\"_blank\" title=\"문화기술대학원 새창열림\">문화기술대학원</a></li>\n",
       "</ul>\n",
       "</div>\n",
       "<div class=\"foot-sel-box\">\n",
       "<a class=\"sel2\" href=\"#n\" title=\"주요서비스 목록 보기\"><span>주요서비스</span></a>\n",
       "<ul>\n",
       "<li><a href=\"https://sugang.smu.ac.kr/exsignon/sso/sso_index.jsp\" target=\"_blank\" title=\"수강신청 새창열림\">수강신청</a></li>\n",
       "<li><a href=\"http://mypc.smu.ac.kr/\" target=\"_blank\" title=\"내pc지킴이 새창열림\">내pc지킴이</a></li>\n",
       "<li><a href=\"http://vaccine.smu.ac.kr/\" target=\"_blank\" title=\"백신설치 새창열림\">백신설치</a></li>\n",
       "<li><a href=\"http://rc.smu.ac.kr/\" target=\"_blank\" title=\"원격지원서비스 새창열림\">원격지원서비스</a></li>\n",
       "<li><a href=\"https://office.sangmyung.kr/adfs/ls/?cbcxt=&amp;vv=&amp;username=&amp;mkt=&amp;lc=1042&amp;wa=wsignin1.0&amp;wtrealm=urn:federation:MicrosoftOnline&amp;wctx=MEST%3D0%26LoginOptions%3D2%26wa%3Dwsignin1.0%26rpsnv%3D2%26ct%3D1355945139%26rver%3D6.1.6206.0%26wp%3DMCMBI%26wreply%3Dhttps:%252F%252Fportal.microsoftonline.com%252Flanding.aspx%253Ftarget%253D%25252fdefault.aspx%26lc%3D1042%26id%3D271346%26bk%3D1355945139\" target=\"_blank\" title=\"Office365 새창열림\">Office365</a></li>\n",
       "<li><a href=\"http://pv.smu.ac.kr/\" target=\"_blank\" title=\"Privacy-i 새창열림\">Privacy-i</a></li>\n",
       "<li>\n",
       "<a href=\"/grad/copykiller.jsp\" target=\"_self\" title=\"카피킬러 바로가기\">카피킬러</a>\n",
       "</li>\n",
       "</ul>\n",
       "</div>\n",
       "<div class=\"foot-sel-box\">\n",
       "<a class=\"sel3\" href=\"#n\" title=\"주요사이트 목록 보기\"><span>주요사이트</span></a>\n",
       "<!--ul>\n",
       "\t\t\t\t\t\t<li class=\"sel-tit\">-서울캠퍼스-</li>\n",
       "\t\t\t\t\t\t<li><a href=\"/smgs/index.do\" target=\"_blank\">계당교양교육원</a></li>\n",
       "\t\t\t\t\t\t<li><a href=\"/smuni/index.do\" target=\"_blank\">계약학과</a></li>\n",
       "\t\t\t\t\t\t<li><a href=\"/icee/index.do\" target=\"_blank\">공학교육혁신센터</a></li>\n",
       "\t\t\t\t\t\t<li><a href=\"/ctl/index.do\" target=\"_blank\">교수학습개발센터</a></li>\n",
       "\t\t\t\t\t\t<li><a href=\"/crai/index.do\" target=\"_blank\">교육혁신연구평가센터</a></li>\n",
       "\t\t\t\t\t\t<li><a href=\"/edunet/index.do\" target=\"_blank\">교직지원센터</a></li>\n",
       "\t\t\t\t\t\t<li><a href=\"/international/index.do\" target=\"_blank\">국제언어문화교육원</a></li>\n",
       "\t\t\t\t\t\t<li><a href=\"/oia/index.do\" target=\"_blank\">대외협력처</a></li>\n",
       "\t\t\t\t\t\t<li><a href=\"/inno/index.do\" target=\"_blank\">대학교육혁신원</a></li>\n",
       "\t\t\t\t\t\t<li><a href=\"/museum/index.do\" target=\"_blank\">박물관</a></li>\n",
       "\t\t\t\t\t\t<li><a href=\"/fund/index.do\" target=\"_blank\">발전기금팀</a></li>\n",
       "\t\t\t\t\t\t<li><a href=\"/extracur/index.do\" target=\"_blank\">비교과통합지원센터</a></li>\n",
       "\t\t\t\t\t\t<li><a href=\"/iacf/index.do\" target=\"_blank\">산학협력단</a></li>\n",
       "\t\t\t\t\t\t<li><a href=\"/pum/index.do\" target=\"_blank\">상명가족아동상담교육센터</a></li>\n",
       "\t\t\t\t\t\t<li><a href=\"/smarts/index.do\" target=\"_blank\">상명아트센터</a></li>\n",
       "\t\t\t\t\t\t<li><a href=\"/smkids/index.do\" target=\"_blank\">상명행복어린이집</a></li>\n",
       "\t\t\t\t\t\t<li><a href=\"/stcenter/index.do\" target=\"_blank\">의사소통능력개발센터</a></li>\n",
       "\t\t\t\t\t\t<li><a href=\"/changup/index.do\" target=\"_blank\">창업지원단</a></li>\n",
       "\t\t\t\t\t\t<li><a href=\"/lifelong/index.do\" target=\"_blank\">평생교육원</a></li>\n",
       "\t\t\t\t\t\t<li><a href=\"/musiccon/index.do\" target=\"_blank\">평생교육원 학점은행제</a></li>\n",
       "\t\t\t\t\t\t<li><a href=\"/202/index.do\" target=\"_blank\">학생군사교육단</a></li>\n",
       "\t\t\t\t\t\t<li><a href=\"/center/index.do\" target=\"_blank\">학생상담센터, 양성평등센터</a></li>\n",
       "\t\t\t\t\t\t<li><a href=\"/dormi/index.do\" target=\"_blank\">학생생활관</a></li>\n",
       "\t\t\t\t\t\t<li><a href=\"http://open.smu.ac.kr/\" target=\"_blank\">openSMU</a></li>\n",
       "\t\t\t\t\t\t<li class=\"sel-tit\">-2캠퍼스(천안)-</li>\n",
       "\t\t\t\t\t\t<li><a href=\"/ctl/index.do\" target=\"_blank\">교수학습개발센터</a></li>\n",
       "\t\t\t\t\t\t<li><a href=\"/international/index.do\" target=\"_blank\">국제언어문화교육원</a></li>\n",
       "\t\t\t\t\t\t<li><a href=\"/uni/index.do\" target=\"_blank\">대외협력처</a></li>\n",
       "\t\t\t\t\t\t<li><a href=\"/dc_new/index.do\" target=\"_blank\">상명수련원</a></li>\n",
       "\t\t\t\t\t\t<li><a href=\"/rotc2021/index.do\" target=\"_blank\">학생군사교육단</a></li>\n",
       "\t\t\t\t\t\t<li><a href=\"/scc/index.do\" target=\"_blank\">학생상담센터, 양성평등센터</a></li>\n",
       "\t\t\t\t\t\t<li><a href=\"/dormi2/index.do\" target=\"_blank\">학생생활관</a></li>\n",
       "\t\t\t\t\t</ul-->\n",
       "<ul>\n",
       "<li class=\"sel-tit\">-서울캠퍼스-</li>\n",
       "<li><a href=\"/smgs\" target=\"_blank\" title=\"계당교양교육원 새창열림\">계당교양교육원</a></li>\n",
       "<li><a href=\"/smuni\" target=\"_blank\" title=\"계약학과 새창열림\">계약학과</a></li>\n",
       "<li><a href=\"/icee\" target=\"_blank\" title=\"공학교육혁신센터 새창열림\">공학교육혁신센터</a></li>\n",
       "<li><a href=\"/ctl\" target=\"_blank\" title=\"교수학습개발센터 새창열림\">교수학습개발센터</a></li>\n",
       "<li><a href=\"/crai\" target=\"_blank\" title=\"교육혁신연구평가센터 새창열림\">교육혁신연구평가센터</a></li>\n",
       "<li><a href=\"/edunet\" target=\"_blank\" title=\"교직지원센터 새창열림\">교직지원센터</a></li>\n",
       "<li><a href=\"/international\" target=\"_blank\" title=\"국제언어문화교육원 새창열림\">국제언어문화교육원</a></li>\n",
       "<li><a href=\"/oia\" target=\"_blank\" title=\"대외협력처 새창열림\">대외협력처</a></li>\n",
       "<li><a href=\"/inno\" target=\"_blank\" title=\"대학교육혁신원 새창열림\">대학교육혁신원</a></li>\n",
       "<li><a href=\"/museum\" target=\"_blank\" title=\"박물관 새창열림\">박물관</a></li>\n",
       "<li><a href=\"/fund\" target=\"_blank\" title=\"발전기금팀 새창열림\">발전기금팀</a></li>\n",
       "<li><a href=\"/extracur\" target=\"_blank\" title=\"비교과통합지원센터 새창열림\">비교과통합지원센터</a></li>\n",
       "<li><a href=\"/pum\" target=\"_blank\" title=\"상명가족아동상담교육센터 새창열림\">상명가족아동상담교육센터</a></li>\n",
       "<li><a href=\"/smarts\" target=\"_blank\" title=\"상명아트센터 새창열림\">상명아트센터</a></li>\n",
       "<li><a href=\"/smkids\" target=\"_blank\" title=\"상명행복어린이집 새창열림\">상명행복어린이집</a></li>\n",
       "<li><a href=\"/press\" target=\"_blank\" title=\"신문방송국 새창열림\">신문방송국</a></li>\n",
       "<li><a href=\"/stcenter\" target=\"_blank\" title=\"의사소통능력개발센터 새창열림\">의사소통능력개발센터</a></li>\n",
       "<li><a href=\"/changup\" target=\"_blank\" title=\"창업지원단 새창열림\">창업지원단</a></li>\n",
       "<li><a href=\"/lifelong\" target=\"_blank\" title=\"평생교육원 새창열림\">평생교육원</a></li>\n",
       "<li><a href=\"/musiccon\" target=\"_blank\" title=\"평생교육원 학점은행제 새창열림\">평생교육원 학점은행제</a></li>\n",
       "<li><a href=\"/202\" target=\"_blank\" title=\"학생군사교육단 새창열림\">학생군사교육단</a></li>\n",
       "<li><a href=\"/center\" target=\"_blank\" title=\"학생상담센터, 양성평등센터 새창열림\">학생상담센터, 양성평등센터</a></li>\n",
       "<li><a href=\"/dormi\" target=\"_blank\" title=\"학생생활관 새창열림\">학생생활관</a></li>\n",
       "<li><a href=\"http://open.smu.ac.kr/\" target=\"_blank\" title=\"openSMU 새창열림\">openSMU</a></li>\n",
       "<li><a href=\"http://swai.smu.ac.kr/\" target=\"_blank\" title=\"SW중심대학사업단 새창열림\">SW중심대학사업단</a></li>\n",
       "<li class=\"sel-tit\">-천안캠퍼스-</li>\n",
       "<li><a href=\"/ctlc\" target=\"_blank\" title=\"교수학습개발센터 새창열림\">교수학습개발센터</a></li>\n",
       "<li><a href=\"/cilcec\" target=\"_blank\" title=\"국제언어문화교육원 새창열림\">국제언어문화교육원</a></li>\n",
       "<li><a href=\"/uni\" target=\"_blank\" title=\"대외협력처 새창열림\">대외협력처</a></li>\n",
       "<li><a href=\"/dc\" target=\"_blank\" title=\"상명수련원 새창열림\">상명수련원</a></li>\n",
       "<li><a href=\"/iacf\" target=\"_blank\" title=\"산학협력단 새창열림\">산학협력단</a></li>\n",
       "<li><a href=\"/rotc2021\" target=\"_blank\" title=\"학생군사교육단 새창열림\">학생군사교육단</a></li>\n",
       "<li><a href=\"/scc\" target=\"_blank\" title=\"학생상담센터, 양성평등센터 새창열림\">학생상담센터, 양성평등센터</a></li>\n",
       "<li><a href=\"/dormi2\" target=\"_blank\" title=\"학생생활관 새창열림\">학생생활관</a></li>\n",
       "</ul>\n",
       "</div>\n",
       "</div>\n",
       "<div>\n",
       "<!--<span class=\"foot-lang\">\n",
       "\t\t\t\t\t<a href=\"#n\">국문</a>\n",
       "\t\t\t\t\t<a href=\"#n\">中文</a>\n",
       "\t\t\t\t\t<a href=\"#n\">tiếng Việt</a>\n",
       "\t\t\t\t\t<a href=\"#n\">ENG</a>\n",
       "\t\t\t\t</span>-->\n",
       "<span class=\"foot-sns\">\n",
       "<a href=\"https://www.facebook.com/sangmyung37\" target=\"_blank\" title=\"상명대학교 페이스북 새창열림\"><img alt=\"페이스북\" src=\"/_res/lounge/img/common/ic-sns-facebook.png\"/></a>\n",
       "<a href=\"https://twitter.com/sangmyungpr\" target=\"_blank\" title=\"상명대학교 트위터 새창열림\"><img alt=\"트위터\" src=\"/_res/lounge/img/common/ic-sns-twit.png\"/></a>\n",
       "<a href=\"https://www.instagram.com/gift_smu\" target=\"_blank\" title=\"상명대학교 인스타그램 새창열림\"><img alt=\"인스타그램\" src=\"/_res/lounge/img/common/ic-sns-insta.png\"/></a>\n",
       "<a href=\"https://www.youtube.com/channel/UCh_BQbTg1TAx-GA9SFGZwBA\" target=\"_blank\" title=\"상명대학교 유튜브 새창열림\"><img alt=\"유튜브\" src=\"/_res/lounge/img/common/ic-sns-utube.png\"/></a>\n",
       "</span>\n",
       "</div>\n",
       "</div>\n",
       "<address>\n",
       "<ul class=\"footer-contact\">\n",
       "<li>\n",
       "                    서울캠퍼스 : <a href=\"tel:02-2287-5114\" title=\"전화걸기\">02-2287-5114</a> (우 03016) 서울시 종로구 홍지문 2길 20 상명대학교</li>\n",
       "<li>\n",
       "                    천안캠퍼스 : <a href=\"tel:041-550-5114\" title=\"전화걸기\">041-550-5114</a> (우 31066) 충청남도 천안시 동남구 상명대길 31 상명대학교</li>\n",
       "<li>\n",
       "                    COPYRIGHT BY SANGMYUNG UNIVERSITY. ALL RIGHTS RESERVED.</li>\n",
       "</ul>\n",
       "</address>\n",
       "</div>\n",
       "<a class=\"scroll-top-btn\" href=\"#\" title=\"상단 이동\"><img alt=\"top\" src=\"/_res/lounge/img/common/btn_scroll_top.png\"/></a>\n",
       "</div>\n",
       "</footer>\n",
       "</div>\n",
       "<noscript><p>이 사이트는 자바스크립트를 지원하지 않으면 정상적으로 보이지 않을수 있습니다.</p></noscript>\n",
       "</body>\n",
       "</html>"
      ]
     },
     "execution_count": 94,
     "metadata": {},
     "output_type": "execute_result"
    }
   ],
   "source": [
    "soup"
   ]
  },
  {
   "cell_type": "code",
   "execution_count": 97,
   "id": "9cd700a9",
   "metadata": {},
   "outputs": [
    {
     "data": {
      "text/plain": [
       "'Office365(학생메일)사용법'"
      ]
     },
     "execution_count": 97,
     "metadata": {},
     "output_type": "execute_result"
    }
   ],
   "source": [
    "soup.select_one('h4').text.replace('\\r','').replace('\\t','').replace('\\n','').replace(' ', '')"
   ]
  },
  {
   "cell_type": "code",
   "execution_count": 98,
   "id": "09fb70c3",
   "metadata": {},
   "outputs": [],
   "source": [
    "contents = \"\"\n",
    "\n",
    "for s in soup.select('.fr-view > .fr-view >p'):\n",
    "    contents += s.text"
   ]
  },
  {
   "cell_type": "code",
   "execution_count": 99,
   "id": "769da835",
   "metadata": {},
   "outputs": [
    {
     "data": {
      "text/plain": [
       "'Office365는 계정 비밀번호 연동 후 사용이 가능합니다.Office365(학생메일) 비밀번호 연동 방법1. https://portal.smu.ac.kr샘물포털 사이트 접속 후 로그인2. Office365 버튼 클릭 \\xa0(오른쪽 퀵메뉴에 Office365 클릭해도 접속 가능)3. 비밀번호 입력창이나오면 통합로그인 패스워드와 동일한 패스워드로 입력4. 패스워드 입력하면 자동으로 학번@sangmyung.kr 로 계정이 연동되며, 이 후 메일이 사용가능합니다.Office 설치형 제품군(pro plus)은 재학생만 사용가능합니다.이외의 기능은 전체 학생이 사용 가능합니다.'"
      ]
     },
     "execution_count": 99,
     "metadata": {},
     "output_type": "execute_result"
    }
   ],
   "source": [
    "contents"
   ]
  },
  {
   "cell_type": "markdown",
   "id": "f6fabe51",
   "metadata": {},
   "source": [
    "### faq 전체 가져오기"
   ]
  },
  {
   "cell_type": "code",
   "execution_count": 130,
   "id": "8a758a28",
   "metadata": {},
   "outputs": [],
   "source": [
    "table = soup.select('.board-thumb-wrap > li')"
   ]
  },
  {
   "cell_type": "code",
   "execution_count": 131,
   "id": "4a1a6ba5",
   "metadata": {},
   "outputs": [
    {
     "data": {
      "text/plain": [
       "[<li class=\"\">\n",
       " <dl class=\"board-thumb-content-wrap board-thumb-content-wrap-v01\">\n",
       " <dt class=\"board-thumb-content-title\">\n",
       " <a href=\"?mode=view&amp;articleNo=698890&amp;article.offset=0&amp;articleLimit=10\" style=\"  \" target=\"\" title=\"Office365(학생메일) 사용법 자세히 보기\">\n",
       " \t\t\t\t\t\tOffice365(학생메일) 사용법\n",
       " \t\t\t\t\t\t\t\n",
       " \t\t\t\t\t\t\t</a>\n",
       " </dt>\n",
       " <dd class=\"board-thumb-content-info\">\n",
       " <ul>\n",
       " <li class=\"board-thumb-content-writer\">\n",
       " <span class=\"hide\">작성자</span>\n",
       " \t\t\t\t\t\t\t통합 관리자\n",
       " \t\t\t\t\t\t</li>\n",
       " <li class=\"board-thumb-content-date\">\n",
       " <span class=\"hide\">작성일</span>\n",
       " \t\t\t\t\t\t\t2019-04-03\n",
       " \t\t\t\t\t\t</li>\n",
       " <li class=\"board-thumb-content-views\">\n",
       " <span class=\"hide\">조회수</span>\n",
       " \t\t\t\t\t\t\t67089\n",
       " \t\t\t\t\t\t</li>\n",
       " </ul>\n",
       " </dd>\n",
       " </dl>\n",
       " <div class=\"list-file\"></div>\n",
       " </li>,\n",
       " <li class=\"\">\n",
       " <dl class=\"board-thumb-content-wrap board-thumb-content-wrap-v01\">\n",
       " <dt class=\"board-thumb-content-title\">\n",
       " <a href=\"?mode=view&amp;articleNo=684733&amp;article.offset=0&amp;articleLimit=10\" style=\"  \" target=\"\" title=\"학사)복학 신청을 꼭 해야하나요? 복학은 어떻게 신청하나요? 자세히 보기\">\n",
       " \t\t\t\t\t\t학사)복학 신청을 꼭 해야하나요? 복학은 어떻게 신청하나요?\n",
       " \t\t\t\t\t\t\t\n",
       " \t\t\t\t\t\t\t</a>\n",
       " </dt>\n",
       " <dd class=\"board-thumb-content-info\">\n",
       " <ul>\n",
       " <li class=\"board-thumb-content-writer\">\n",
       " <span class=\"hide\">작성자</span>\n",
       " \t\t\t\t\t\t\t통합관리자\n",
       " \t\t\t\t\t\t</li>\n",
       " <li class=\"board-thumb-content-date\">\n",
       " <span class=\"hide\">작성일</span>\n",
       " \t\t\t\t\t\t\t2019-01-08\n",
       " \t\t\t\t\t\t</li>\n",
       " <li class=\"board-thumb-content-views\">\n",
       " <span class=\"hide\">조회수</span>\n",
       " \t\t\t\t\t\t\t22444\n",
       " \t\t\t\t\t\t</li>\n",
       " </ul>\n",
       " </dd>\n",
       " </dl>\n",
       " <div class=\"list-file\"></div>\n",
       " </li>,\n",
       " <li class=\"\">\n",
       " <dl class=\"board-thumb-content-wrap board-thumb-content-wrap-v01\">\n",
       " <dt class=\"board-thumb-content-title\">\n",
       " <a href=\"?mode=view&amp;articleNo=684732&amp;article.offset=0&amp;articleLimit=10\" style=\"  \" target=\"\" title=\"학사)휴학은 어떻게 신청하나요? 자세히 보기\">\n",
       " \t\t\t\t\t\t학사)휴학은 어떻게 신청하나요?\n",
       " \t\t\t\t\t\t\t\n",
       " \t\t\t\t\t\t\t</a>\n",
       " </dt>\n",
       " <dd class=\"board-thumb-content-info\">\n",
       " <ul>\n",
       " <li class=\"board-thumb-content-writer\">\n",
       " <span class=\"hide\">작성자</span>\n",
       " \t\t\t\t\t\t\t통합관리자\n",
       " \t\t\t\t\t\t</li>\n",
       " <li class=\"board-thumb-content-date\">\n",
       " <span class=\"hide\">작성일</span>\n",
       " \t\t\t\t\t\t\t2019-01-08\n",
       " \t\t\t\t\t\t</li>\n",
       " <li class=\"board-thumb-content-views\">\n",
       " <span class=\"hide\">조회수</span>\n",
       " \t\t\t\t\t\t\t24990\n",
       " \t\t\t\t\t\t</li>\n",
       " </ul>\n",
       " </dd>\n",
       " </dl>\n",
       " <div class=\"list-file\"></div>\n",
       " </li>,\n",
       " <li class=\"\">\n",
       " <dl class=\"board-thumb-content-wrap board-thumb-content-wrap-v01\">\n",
       " <dt class=\"board-thumb-content-title\">\n",
       " <a href=\"?mode=view&amp;articleNo=264776&amp;article.offset=0&amp;articleLimit=10\" style=\"  \" target=\"\" title=\"일반)교내 무선인터넷은 어떻게 사용 하나요? 자세히 보기\">\n",
       " \t\t\t\t\t\t일반)교내 무선인터넷은 어떻게 사용 하나요?\n",
       " \t\t\t\t\t\t\t\n",
       " \t\t\t\t\t\t\t</a>\n",
       " </dt>\n",
       " <dd class=\"board-thumb-content-info\">\n",
       " <ul>\n",
       " <li class=\"board-thumb-content-writer\">\n",
       " <span class=\"hide\">작성자</span>\n",
       " \t\t\t\t\t\t\t통합 관리자\n",
       " \t\t\t\t\t\t</li>\n",
       " <li class=\"board-thumb-content-date\">\n",
       " <span class=\"hide\">작성일</span>\n",
       " \t\t\t\t\t\t\t2018-10-26\n",
       " \t\t\t\t\t\t</li>\n",
       " <li class=\"board-thumb-content-views\">\n",
       " <span class=\"hide\">조회수</span>\n",
       " \t\t\t\t\t\t\t12621\n",
       " \t\t\t\t\t\t</li>\n",
       " </ul>\n",
       " </dd>\n",
       " </dl>\n",
       " <div class=\"list-file\"></div>\n",
       " </li>,\n",
       " <li class=\"\">\n",
       " <dl class=\"board-thumb-content-wrap board-thumb-content-wrap-v01\">\n",
       " <dt class=\"board-thumb-content-title\">\n",
       " <a href=\"?mode=view&amp;articleNo=264774&amp;article.offset=0&amp;articleLimit=10\" style=\"  \" target=\"\" title=\"재무)교육비납입증명서는 어디서 발급받나요? 자세히 보기\">\n",
       " \t\t\t\t\t\t재무)교육비납입증명서는 어디서 발급받나요?\n",
       " \t\t\t\t\t\t\t\n",
       " \t\t\t\t\t\t\t</a>\n",
       " </dt>\n",
       " <dd class=\"board-thumb-content-info\">\n",
       " <ul>\n",
       " <li class=\"board-thumb-content-writer\">\n",
       " <span class=\"hide\">작성자</span>\n",
       " \t\t\t\t\t\t\t통합 관리자\n",
       " \t\t\t\t\t\t</li>\n",
       " <li class=\"board-thumb-content-date\">\n",
       " <span class=\"hide\">작성일</span>\n",
       " \t\t\t\t\t\t\t2018-10-26\n",
       " \t\t\t\t\t\t</li>\n",
       " <li class=\"board-thumb-content-views\">\n",
       " <span class=\"hide\">조회수</span>\n",
       " \t\t\t\t\t\t\t11282\n",
       " \t\t\t\t\t\t</li>\n",
       " </ul>\n",
       " </dd>\n",
       " </dl>\n",
       " <div class=\"list-file\"></div>\n",
       " </li>,\n",
       " <li class=\"\">\n",
       " <dl class=\"board-thumb-content-wrap board-thumb-content-wrap-v01\">\n",
       " <dt class=\"board-thumb-content-title\">\n",
       " <a href=\"?mode=view&amp;articleNo=264773&amp;article.offset=0&amp;articleLimit=10\" style=\"  \" target=\"\" title=\"학사)신규제청강사 계좌등록 방법은? 자세히 보기\">\n",
       " \t\t\t\t\t\t학사)신규제청강사 계좌등록 방법은?\n",
       " \t\t\t\t\t\t\t\n",
       " \t\t\t\t\t\t\t</a>\n",
       " </dt>\n",
       " <dd class=\"board-thumb-content-info\">\n",
       " <ul>\n",
       " <li class=\"board-thumb-content-writer\">\n",
       " <span class=\"hide\">작성자</span>\n",
       " \t\t\t\t\t\t\t통합 관리자\n",
       " \t\t\t\t\t\t</li>\n",
       " <li class=\"board-thumb-content-date\">\n",
       " <span class=\"hide\">작성일</span>\n",
       " \t\t\t\t\t\t\t2018-10-26\n",
       " \t\t\t\t\t\t</li>\n",
       " <li class=\"board-thumb-content-views\">\n",
       " <span class=\"hide\">조회수</span>\n",
       " \t\t\t\t\t\t\t9326\n",
       " \t\t\t\t\t\t</li>\n",
       " </ul>\n",
       " </dd>\n",
       " </dl>\n",
       " <div class=\"list-file\"></div>\n",
       " </li>,\n",
       " <li class=\"\">\n",
       " <dl class=\"board-thumb-content-wrap board-thumb-content-wrap-v01\">\n",
       " <dt class=\"board-thumb-content-title\">\n",
       " <a href=\"?mode=view&amp;articleNo=264772&amp;article.offset=0&amp;articleLimit=10\" style=\"  \" target=\"\" title=\"일반)비밀번호 찾기는 어떻게 진행하나요? 자세히 보기\">\n",
       " \t\t\t\t\t\t일반)비밀번호 찾기는 어떻게 진행하나요?\n",
       " \t\t\t\t\t\t\t\n",
       " \t\t\t\t\t\t\t</a>\n",
       " </dt>\n",
       " <dd class=\"board-thumb-content-info\">\n",
       " <ul>\n",
       " <li class=\"board-thumb-content-writer\">\n",
       " <span class=\"hide\">작성자</span>\n",
       " \t\t\t\t\t\t\t통합 관리자\n",
       " \t\t\t\t\t\t</li>\n",
       " <li class=\"board-thumb-content-date\">\n",
       " <span class=\"hide\">작성일</span>\n",
       " \t\t\t\t\t\t\t2018-10-26\n",
       " \t\t\t\t\t\t</li>\n",
       " <li class=\"board-thumb-content-views\">\n",
       " <span class=\"hide\">조회수</span>\n",
       " \t\t\t\t\t\t\t12141\n",
       " \t\t\t\t\t\t</li>\n",
       " </ul>\n",
       " </dd>\n",
       " </dl>\n",
       " <div class=\"list-file\"></div>\n",
       " </li>]"
      ]
     },
     "execution_count": 131,
     "metadata": {},
     "output_type": "execute_result"
    }
   ],
   "source": [
    "table"
   ]
  },
  {
   "cell_type": "code",
   "execution_count": 134,
   "id": "274f9cc8",
   "metadata": {},
   "outputs": [
    {
     "name": "stdout",
     "output_type": "stream",
     "text": [
      "https://www.smu.ac.kr/lounge/qna/faq.do?mode=view&articleNo=698890&article.offset=0&articleLimit=10\n",
      "https://www.smu.ac.kr/lounge/qna/faq.do?mode=view&articleNo=684733&article.offset=0&articleLimit=10\n",
      "https://www.smu.ac.kr/lounge/qna/faq.do?mode=view&articleNo=684732&article.offset=0&articleLimit=10\n",
      "https://www.smu.ac.kr/lounge/qna/faq.do?mode=view&articleNo=264776&article.offset=0&articleLimit=10\n",
      "https://www.smu.ac.kr/lounge/qna/faq.do?mode=view&articleNo=264774&article.offset=0&articleLimit=10\n",
      "https://www.smu.ac.kr/lounge/qna/faq.do?mode=view&articleNo=264773&article.offset=0&articleLimit=10\n",
      "https://www.smu.ac.kr/lounge/qna/faq.do?mode=view&articleNo=264772&article.offset=0&articleLimit=10\n"
     ]
    }
   ],
   "source": [
    "result_list = []\n",
    "for t in table:\n",
    "    _dict = {}\n",
    "    param = t.select_one('a').get('href')\n",
    "    base_url = 'https://www.smu.ac.kr/lounge/qna/faq.do'\n",
    "    url = base_url + param\n",
    "    res = requests.get(url)\n",
    "    print(url)\n",
    "    soup = BeautifulSoup(res.text, 'html.parser')\n",
    "    title = soup.select_one('h4').text.replace('\\r','').replace('\\t','').replace('\\n','').replace(' ', '')\n",
    "    contents = \"\"\n",
    "    for s in soup.select('.fr-view > .fr-view >p'):\n",
    "        contents += s.text\n",
    "    _dict['title'] = title\n",
    "    _dict['content'] = contents\n",
    "    result_list.append(_dict)"
   ]
  },
  {
   "cell_type": "code",
   "execution_count": 135,
   "id": "2dbf3371",
   "metadata": {},
   "outputs": [
    {
     "data": {
      "text/plain": [
       "[{'title': 'Office365(학생메일)사용법',\n",
       "  'content': 'Office365는 계정 비밀번호 연동 후 사용이 가능합니다.Office365(학생메일) 비밀번호 연동 방법1. https://portal.smu.ac.kr샘물포털 사이트 접속 후 로그인2. Office365 버튼 클릭 \\xa0(오른쪽 퀵메뉴에 Office365 클릭해도 접속 가능)3. 비밀번호 입력창이나오면 통합로그인 패스워드와 동일한 패스워드로 입력4. 패스워드 입력하면 자동으로 학번@sangmyung.kr 로 계정이 연동되며, 이 후 메일이 사용가능합니다.Office 설치형 제품군(pro plus)은 재학생만 사용가능합니다.이외의 기능은 전체 학생이 사용 가능합니다.'},\n",
       " {'title': '학사)복학신청을꼭해야하나요?복학은어떻게신청하나요?',\n",
       "  'content': \"휴학 기간이 끝난 후 자동적으로 복학이 되지 않으며, 꼭 아래의 절차를 통해 복학 신청을 해야합니다.만약 휴학 기간이 끝난 후에도 복학을 하지 않으면, 수강신청이 불가하며 추후 미복학제적이 되니 꼭 복학신청을 하시기 바랍니다.복학을 신청하는 방법은 아래와 같습니다.1) 샘물통합정보시스템 로그인2) '학적정보' > '휴학/복학/자퇴/휴학취소신청' > 인적사항 및 복학 정보 입력 > 저장\\xa0\\xa0(군휴학 후 복학하는 경우 전역증 등의 증빙서류를 첨부하여 제출)* 복 신청 후 복학이 완료되기까지 3~4일 정도가 소요되오니, 수강신청을 위하여 꼭\\xa0학적변동 기간 내에 복학신청을 완료하여주시기 바랍니다.\"},\n",
       " {'title': '학사)휴학은어떻게신청하나요?',\n",
       "  'content': \"휴학을 신청하는 방법은 아래와 같습니다.1) 샘물통합정보시스템 로그인2) '학생정보' > 학적정보 > '휴학/복학/자퇴/휴학취소신청' > 인적사항 및 휴학 정보 입력 > 저장(군휴학 및 질병휴학의 경우 입영통지서\\xa0등의 증빙서류를 첨부하여 제출)* 휴학 신청 후 휴학이 완료되기까지 3~4일 정도가 소요됩니다.\"},\n",
       " {'title': '일반)교내무선인터넷은어떻게사용하나요?',\n",
       "  'content': \"서울캠퍼스SSID : SM-wireless2캠퍼스(천안)SSID : SANGMYUNG접속시 요구되는 ID와 Password는 각각 학번(사번) / 학사정보(통합행정) 비밀번호 입니다.\\xa0노트북 OS 중 Windows7 사용자의 경우 URL : \\xa0http://203.237.168.67:8088/cms/fileDownload.do?path=%2F_res%2Fko%2Fetc%2FAnyclick6_1746.exe을 다운받아 설치 후 접속하시면 됩니다.\\xa0( 마우스 우 클릭 후 '관리자 권한으로 실행'하시기 바랍니다. )\\xa0그외 노트북 OS의 경우( Windows8 / Mac )와 스마트폰( Android / IOS )의 경우에는 학교 홈페이지 - 대학생활 - IT서비스 - 정보서비스 - 무선랜 이용안내에\\xa0게제된 매뉴얼에 따라 설정하시면 사용가능 합니다.\\xa0URL : http://www.smuc.ac.kr/mbs/smuc/subview.jsp?id=smuc_040405020000 무선랜 설정 중국어 버젼은 공지사항에 게시되어 있습니다.\\xa0※ 무선 로그인시 개인정보유출의 피해를 막고자 ID와 Password의 자동 접속을 지양해 주시기 바랍니다.\\xa0설치 및 설정에 불편이 있으시거나 문제가 있는경우 해당 기기를 가지고 정보통신팀으로 방문해주시기 바랍니다.\\xa0정보통신팀 : 본관 3층 305호\"},\n",
       " {'title': '재무)교육비납입증명서는어디서발급받나요?',\n",
       "  'content': '[공통]교육비납입증명서 발급 장소\\xa01. 본교홈페이지 \"상명인 - 샘물포털시스템-학번/암호 인증-통합정보-학생기본-등록정보-등록증명조회-교육비납입증명서\" 발급'},\n",
       " {'title': '학사)신규제청강사계좌등록방법은?', 'content': '\\xa0 \\xa0 \\xa0 \\xa0 학사FAQ \\xa0'},\n",
       " {'title': '일반)비밀번호찾기는어떻게진행하나요?',\n",
       "  'content': '통합로그인 페이지에 접속하셔서 비밀번호 찾기를 진행하셔야 합니다.1. http://sso.smu.ac.kr:8082\\xa0접속 후 비밀번호 찾기 클릭2. 개인 신상정보 입력 후 모바일 인증을 받은 후 비밀번호 변경을 합니다.'}]"
      ]
     },
     "execution_count": 135,
     "metadata": {},
     "output_type": "execute_result"
    }
   ],
   "source": [
    "result_list"
   ]
  }
 ],
 "metadata": {
  "kernelspec": {
   "display_name": "Python 3 (ipykernel)",
   "language": "python",
   "name": "python3"
  },
  "language_info": {
   "codemirror_mode": {
    "name": "ipython",
    "version": 3
   },
   "file_extension": ".py",
   "mimetype": "text/x-python",
   "name": "python",
   "nbconvert_exporter": "python",
   "pygments_lexer": "ipython3",
   "version": "3.9.12"
  },
  "toc": {
   "base_numbering": 1,
   "nav_menu": {},
   "number_sections": true,
   "sideBar": true,
   "skip_h1_title": false,
   "title_cell": "Table of Contents",
   "title_sidebar": "Contents",
   "toc_cell": false,
   "toc_position": {},
   "toc_section_display": true,
   "toc_window_display": true
  }
 },
 "nbformat": 4,
 "nbformat_minor": 5
}
