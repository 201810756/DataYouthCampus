{
 "cells": [
  {
   "cell_type": "markdown",
   "id": "6786301d",
   "metadata": {},
   "source": [
    "# urllib으로 크롤링하기"
   ]
  },
  {
   "cell_type": "markdown",
   "id": "f38772a3",
   "metadata": {},
   "source": [
    "## urllib.request로 이미지 다운 받기"
   ]
  },
  {
   "cell_type": "code",
   "execution_count": 1,
   "id": "dab757d3",
   "metadata": {},
   "outputs": [],
   "source": [
    "import urllib.request as req"
   ]
  },
  {
   "cell_type": "code",
   "execution_count": 2,
   "id": "f9d79d2a",
   "metadata": {},
   "outputs": [],
   "source": [
    "url = \"https://search.pstatic.net/common/?src=http%3A%2F%2Fblogfiles.naver.net%2FMjAyMjA2MDlfMjQ2%2FMDAxNjU0NzU5Mjc3MDky.dPgdJBAcxqfiqINKyMrO2yfcYG318v5z-boKivEdrQIg.8gOiPyKoGCcl3rBpd_Ei7yG9RV64-YTqIEoZ76oJhIIg.JPEG.love-haru%2FIMG_1433.jpg&type=a340\"\n",
    "path = \"test1.jpg\""
   ]
  },
  {
   "cell_type": "code",
   "execution_count": 3,
   "id": "8468e704",
   "metadata": {},
   "outputs": [
    {
     "data": {
      "text/plain": [
       "'https://search.pstatic.net/common/?src=http%3A%2F%2Fblogfiles.naver.net%2FMjAyMjA2MDlfMjQ2%2FMDAxNjU0NzU5Mjc3MDky.dPgdJBAcxqfiqINKyMrO2yfcYG318v5z-boKivEdrQIg.8gOiPyKoGCcl3rBpd_Ei7yG9RV64-YTqIEoZ76oJhIIg.JPEG.love-haru%2FIMG_1433.jpg&type=a340'"
      ]
     },
     "execution_count": 3,
     "metadata": {},
     "output_type": "execute_result"
    }
   ],
   "source": [
    "url"
   ]
  },
  {
   "cell_type": "code",
   "execution_count": 4,
   "id": "efebdc80",
   "metadata": {},
   "outputs": [
    {
     "data": {
      "text/plain": [
       "'test1.jpg'"
      ]
     },
     "execution_count": 4,
     "metadata": {},
     "output_type": "execute_result"
    }
   ],
   "source": [
    "path"
   ]
  },
  {
   "cell_type": "code",
   "execution_count": 6,
   "id": "956a4323",
   "metadata": {},
   "outputs": [
    {
     "data": {
      "text/plain": [
       "'/Users/kimdaehwan/Desktop/🤪/22학년도 여름 /데이터 청년 캠퍼스/2주차'"
      ]
     },
     "execution_count": 6,
     "metadata": {},
     "output_type": "execute_result"
    }
   ],
   "source": [
    "# 현재 경로를 보여주는 라이브러리 / 메소드\n",
    "import os\n",
    "os.getcwd()"
   ]
  },
  {
   "cell_type": "code",
   "execution_count": 7,
   "id": "a7d3a455",
   "metadata": {},
   "outputs": [],
   "source": [
    "file, header = req.urlretrieve(url, path)"
   ]
  },
  {
   "cell_type": "code",
   "execution_count": 8,
   "id": "b3405e49",
   "metadata": {},
   "outputs": [
    {
     "name": "stdout",
     "output_type": "stream",
     "text": [
      "test1.jpg\n"
     ]
    }
   ],
   "source": [
    "print(file)"
   ]
  },
  {
   "cell_type": "code",
   "execution_count": 9,
   "id": "5c85f838",
   "metadata": {},
   "outputs": [
    {
     "name": "stdout",
     "output_type": "stream",
     "text": [
      "accept-ranges: bytes\n",
      "cache-control: max-age=2592000\n",
      "content-length: 39724\n",
      "content-type: image/jpeg\n",
      "expires: Tue, 12 Jul 2022 00:48:35 GMT\n",
      "last-modified: Sun, 12 Jun 2022 00:48:35 GMT\n",
      "p3p: CP=\"ALL CURa ADMa DEVa TAIa OUR BUS IND PHY ONL UNI PUR FIN COM NAV INT DEM CNT STA POL HEA PRE LOC OTC\"\n",
      "date: Sun, 12 Jun 2022 00:48:35 GMT\n",
      "age: 1915321\n",
      "server: Testa/6.1.2\n",
      "strict-transport-security: max-age=31536000\n",
      "connection: close\n",
      "\n",
      "\n"
     ]
    }
   ],
   "source": [
    "print(header)"
   ]
  },
  {
   "cell_type": "markdown",
   "id": "42f6f731",
   "metadata": {},
   "source": [
    "### html 저장"
   ]
  },
  {
   "cell_type": "code",
   "execution_count": 10,
   "id": "af322264",
   "metadata": {},
   "outputs": [],
   "source": [
    "url2 = \"https://naver.com/\"\n",
    "path2 = \"naver.html\""
   ]
  },
  {
   "cell_type": "code",
   "execution_count": 11,
   "id": "b1b17a54",
   "metadata": {},
   "outputs": [],
   "source": [
    "file2, header2 = req.urlretrieve(url2, path2)"
   ]
  },
  {
   "cell_type": "code",
   "execution_count": 12,
   "id": "eb73cd1f",
   "metadata": {},
   "outputs": [
    {
     "data": {
      "text/plain": [
       "'naver.html'"
      ]
     },
     "execution_count": 12,
     "metadata": {},
     "output_type": "execute_result"
    }
   ],
   "source": [
    "file2"
   ]
  },
  {
   "cell_type": "code",
   "execution_count": 14,
   "id": "fa65163c",
   "metadata": {},
   "outputs": [
    {
     "name": "stdout",
     "output_type": "stream",
     "text": [
      "Server: NWS\n",
      "Date: Mon, 04 Jul 2022 04:52:18 GMT\n",
      "Content-Type: text/html; charset=UTF-8\n",
      "Transfer-Encoding: chunked\n",
      "Connection: close\n",
      "Set-Cookie: PM_CK_loc=0bf59e0882e363b9063e50643e5f2835f8416af4c050cb28f291469eb9226286; Expires=Tue, 05 Jul 2022 04:52:18 GMT; Path=/; HttpOnly\n",
      "Cache-Control: no-cache, no-store, must-revalidate\n",
      "Pragma: no-cache\n",
      "P3P: CP=\"CAO DSP CURa ADMa TAIa PSAa OUR LAW STP PHY ONL UNI PUR FIN COM NAV INT DEM STA PRE\"\n",
      "X-Frame-Options: DENY\n",
      "X-XSS-Protection: 1; mode=block\n",
      "Strict-Transport-Security: max-age=63072000; includeSubdomains\n",
      "Referrer-Policy: unsafe-url\n",
      "\n",
      "\n"
     ]
    }
   ],
   "source": [
    "print(header2)"
   ]
  },
  {
   "cell_type": "markdown",
   "id": "1e04b1b5",
   "metadata": {},
   "source": [
    "## urlerror"
   ]
  },
  {
   "cell_type": "code",
   "execution_count": 16,
   "id": "2c1e8023",
   "metadata": {},
   "outputs": [],
   "source": [
    "from urllib.error import URLError, HTTPError"
   ]
  },
  {
   "cell_type": "code",
   "execution_count": 17,
   "id": "09c24f96",
   "metadata": {},
   "outputs": [],
   "source": [
    "url_list = ['http://blogfiles.naver.net/MjAyMDA0MTNfMTI2/MDAxNTg2NzYwNTAxNTU4.oERTsDgZxBIlS9nY5U2WFzGVimQ4sH00otaj6GT9lhog.E9T21GIDF7sRnKCtyXJj4EU4inEmczNwcGQLoSv7Faog.PNG.cheer506/%B8%B6%B4%EB%B8%AE_%B8%B6%C0%CE%C5%CF2.png',\n",
    "            'https://postfiles.pstatic.net/MjAyMDA0MTNfMjU3/MDAxNTg2NzY1NTAyODM5.aNpoLSWrcBjnqTSwRGXI7QEFcjC1yRruCQ3hQtKLf5Ig.g5c-wUn1QEK_IFAwh1SFgSmwhp85stkSNM9VrpeJ_5Ag.PNG.datamarketing/%EB%A7%88%EB%8C%80%EB%A6%AC_maderi_%EB%8D%B0%EC%9D%B4%ED%84%B0%EB%A7%88%EC%BC%80%ED%8C%85_1.png?type=w773']\n",
    "name_list = ['maderi1.jpg', 'maderi2.jpg']"
   ]
  },
  {
   "cell_type": "code",
   "execution_count": 18,
   "id": "a06a2f4b",
   "metadata": {},
   "outputs": [
    {
     "name": "stdout",
     "output_type": "stream",
     "text": [
      "file_name : maderi1.jpg\n",
      "Date: Mon, 04 Jul 2022 05:01:55 GMT\n",
      "Accept-Ranges: bytes\n",
      "Cache-Control: max-age=2592000\n",
      "Content-Length: 28658\n",
      "Content-Type: image/png\n",
      "Last-Modified: Mon, 04 Jul 2022 04:09:19 GMT\n",
      "p3p: CP=\"ALL CURa ADMa DEVa TAIa OUR BUS IND PHY ONL UNI PUR FIN COM NAV INT DEM CNT STA POL HEA PRE LOC OTC\"\n",
      "Age: 3156\n",
      "Expires: Wed, 03 Aug 2022 04:09:19 GMT\n",
      "Connection: close\n",
      "\n",
      "\n",
      "\n",
      "maderi1.jpg이미지 다운 완료.\n",
      "file_name : maderi2.jpg\n",
      "Date: Mon, 04 Jul 2022 05:01:54 GMT\n",
      "Accept-Ranges: bytes\n",
      "Cache-Control: max-age=2592000\n",
      "Content-Length: 150281\n",
      "Content-Type: image/png\n",
      "Last-Modified: Mon, 13 Apr 2020 08:12:28 GMT\n",
      "p3p: CP=\"ALL CURa ADMa DEVa TAIa OUR BUS IND PHY ONL UNI PUR FIN COM NAV INT DEM CNT STA POL HEA PRE LOC OTC\"\n",
      "Age: 0\n",
      "Expires: Wed, 03 Aug 2022 05:01:56 GMT\n",
      "Connection: close\n",
      "\n",
      "\n",
      "\n",
      "maderi2.jpg이미지 다운 완료.\n"
     ]
    }
   ],
   "source": [
    "for i, url in enumerate(url_list):\n",
    "    try : \n",
    "        # 웹 수신 정보 읽기\n",
    "        response = req.urlopen(url)\n",
    "        contents = response.read()\n",
    "        print(f'file_name : {name_list[i]}')\n",
    "        print(f'{response.info()}')\n",
    "        with open(name_list[i], 'wb') as c:\n",
    "            c.write(contents)\n",
    "    except HTTPError as e :\n",
    "        print('다운로드 실패')\n",
    "        print(e.code)\n",
    "    except URLError as e :\n",
    "        print('다운로드 실패')\n",
    "        print(e.code)\n",
    "    else:\n",
    "        print()\n",
    "        print(f'{name_list[i]}이미지 다운 완료.')"
   ]
  },
  {
   "cell_type": "markdown",
   "id": "f8373876",
   "metadata": {},
   "source": [
    "## urlopen/urlparse"
   ]
  },
  {
   "cell_type": "code",
   "execution_count": 19,
   "id": "e7c6743a",
   "metadata": {},
   "outputs": [],
   "source": [
    "import urllib.request as rq\n",
    "from urllib.parse import urlparse"
   ]
  },
  {
   "cell_type": "code",
   "execution_count": 20,
   "id": "92e6b585",
   "metadata": {},
   "outputs": [],
   "source": [
    "url = \"https://www.smu.ac.kr/ko/index.do?\""
   ]
  },
  {
   "cell_type": "code",
   "execution_count": 21,
   "id": "00b8bad1",
   "metadata": {},
   "outputs": [
    {
     "name": "stdout",
     "output_type": "stream",
     "text": [
      "<http.client.HTTPResponse object at 0x106965a30>\n"
     ]
    }
   ],
   "source": [
    "ele = req.urlopen(url)\n",
    "print(ele)"
   ]
  },
  {
   "cell_type": "code",
   "execution_count": 22,
   "id": "3fa11217",
   "metadata": {},
   "outputs": [
    {
     "name": "stdout",
     "output_type": "stream",
     "text": [
      "<class 'http.client.HTTPResponse'>\n"
     ]
    }
   ],
   "source": [
    "print(type(ele))"
   ]
  },
  {
   "cell_type": "code",
   "execution_count": 23,
   "id": "4220aee4",
   "metadata": {},
   "outputs": [
    {
     "name": "stdout",
     "output_type": "stream",
     "text": [
      "https://www.smu.ac.kr/ko/index.do?\n"
     ]
    }
   ],
   "source": [
    "print(ele.geturl())"
   ]
  },
  {
   "cell_type": "code",
   "execution_count": 24,
   "id": "ea27079b",
   "metadata": {},
   "outputs": [
    {
     "data": {
      "text/plain": [
       "200"
      ]
     },
     "execution_count": 24,
     "metadata": {},
     "output_type": "execute_result"
    }
   ],
   "source": [
    "ele.status"
   ]
  },
  {
   "cell_type": "code",
   "execution_count": 25,
   "id": "bd039b92",
   "metadata": {},
   "outputs": [
    {
     "data": {
      "text/plain": [
       "[('Content-Language', 'ko'),\n",
       " ('Date', 'Mon, 04 Jul 2022 05:03:49 GMT'),\n",
       " ('Expires', 'Thu, 01 Jan 1970 00:00:00 GMT'),\n",
       " ('Set-Cookie',\n",
       "  'JSESSIONID=ccG5ehEAcwa7R47edruzzgQCqlH6iUCQDX32skePxlaIX02E74lQxKErBCYufnBJ.d3d3X2RvbWFpbi9jbXM=; Path=/; HttpOnly'),\n",
       " ('Set-Cookie', 'ko_visited=Y; Expires=Mon, 04-Jul-2022 15:01:09 GMT; Path=/'),\n",
       " ('Set-Cookie',\n",
       "  'ko_visited=20220704140349223001; Expires=Mon, 04-Jul-2022 15:01:09 GMT; Path=/'),\n",
       " ('Set-Cookie', 'locale=ko; Path=/'),\n",
       " ('Connection', 'close'),\n",
       " ('Content-Type', 'text/html; charset=UTF-8'),\n",
       " ('Pragma', 'no-cache'),\n",
       " ('Cache-Control', 'no-store'),\n",
       " ('Cache-Control', 'no-cache')]"
      ]
     },
     "execution_count": 25,
     "metadata": {},
     "output_type": "execute_result"
    }
   ],
   "source": [
    "ele.getheaders()"
   ]
  },
  {
   "cell_type": "code",
   "execution_count": 26,
   "id": "662426ed",
   "metadata": {},
   "outputs": [
    {
     "data": {
      "text/plain": [
       "'param=test'"
      ]
     },
     "execution_count": 26,
     "metadata": {},
     "output_type": "execute_result"
    }
   ],
   "source": [
    "urlparse('https://www.smu.ac.kr/ko/index.do?param=test').query"
   ]
  },
  {
   "cell_type": "markdown",
   "id": "a6c27011",
   "metadata": {},
   "source": [
    "### headers에 데이터 추가하기"
   ]
  },
  {
   "cell_type": "code",
   "execution_count": 28,
   "id": "27646e88",
   "metadata": {},
   "outputs": [
    {
     "name": "stderr",
     "output_type": "stream",
     "text": [
      "Error occurred during loading data. Trying to use cache server https://fake-useragent.herokuapp.com/browsers/0.1.11\n",
      "Traceback (most recent call last):\n",
      "  File \"/opt/homebrew/lib/python3.9/site-packages/fake_useragent/utils.py\", line 154, in load\n",
      "    for item in get_browsers(verify_ssl=verify_ssl):\n",
      "  File \"/opt/homebrew/lib/python3.9/site-packages/fake_useragent/utils.py\", line 99, in get_browsers\n",
      "    html = html.split('<table class=\"w3-table-all notranslate\">')[1]\n",
      "IndexError: list index out of range\n"
     ]
    }
   ],
   "source": [
    "from fake_useragent import UserAgent\n",
    "ua = UserAgent()"
   ]
  },
  {
   "cell_type": "code",
   "execution_count": 29,
   "id": "7db603aa",
   "metadata": {},
   "outputs": [
    {
     "data": {
      "text/plain": [
       "'Mozilla/5.0 (compatible; MSIE 10.6; Windows NT 6.1; Trident/5.0; InfoPath.2; SLCC1; .NET CLR 3.0.4506.2152; .NET CLR 3.5.30729; .NET CLR 2.0.50727) 3gpp-gba UNTRUSTED/1.0'"
      ]
     },
     "execution_count": 29,
     "metadata": {},
     "output_type": "execute_result"
    }
   ],
   "source": [
    "ua.ie"
   ]
  },
  {
   "cell_type": "code",
   "execution_count": 30,
   "id": "11fa6e62",
   "metadata": {},
   "outputs": [
    {
     "data": {
      "text/plain": [
       "'Mozilla/5.0 (Macintosh; Intel Mac OS X 10_8_0) AppleWebKit/537.36 (KHTML, like Gecko) Chrome/32.0.1664.3 Safari/537.36'"
      ]
     },
     "execution_count": 30,
     "metadata": {},
     "output_type": "execute_result"
    }
   ],
   "source": [
    "ua.chrome"
   ]
  },
  {
   "cell_type": "code",
   "execution_count": 31,
   "id": "9b90386b",
   "metadata": {},
   "outputs": [
    {
     "data": {
      "text/plain": [
       "'Mozilla/5.0 (Windows NT 5.1) AppleWebKit/537.36 (KHTML, like Gecko) Chrome/36.0.1985.67 Safari/537.36'"
      ]
     },
     "execution_count": 31,
     "metadata": {},
     "output_type": "execute_result"
    }
   ],
   "source": [
    "ua.random"
   ]
  }
 ],
 "metadata": {
  "kernelspec": {
   "display_name": "Python 3 (ipykernel)",
   "language": "python",
   "name": "python3"
  },
  "language_info": {
   "codemirror_mode": {
    "name": "ipython",
    "version": 3
   },
   "file_extension": ".py",
   "mimetype": "text/x-python",
   "name": "python",
   "nbconvert_exporter": "python",
   "pygments_lexer": "ipython3",
   "version": "3.9.12"
  },
  "toc": {
   "base_numbering": 1,
   "nav_menu": {},
   "number_sections": true,
   "sideBar": true,
   "skip_h1_title": false,
   "title_cell": "Table of Contents",
   "title_sidebar": "Contents",
   "toc_cell": false,
   "toc_position": {},
   "toc_section_display": true,
   "toc_window_display": true
  }
 },
 "nbformat": 4,
 "nbformat_minor": 5
}
